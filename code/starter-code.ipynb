{
 "cells": [
  {
   "cell_type": "markdown",
   "metadata": {},
   "source": [
    "<img src=\"http://imgur.com/1ZcRyrc.png\" style=\"float: left; margin: 20px; height: 55px\">\n",
    "\n",
    "# Project 1: Standardized Test Analysis"
   ]
  },
  {
   "cell_type": "markdown",
   "metadata": {},
   "source": [
    "--- \n",
    "# Part 1\n",
    "\n",
    "Part 1 requires knowledge of basic Python.\n",
    "\n",
    "---"
   ]
  },
  {
   "cell_type": "markdown",
   "metadata": {},
   "source": [
    "## Problem Statement"
   ]
  },
  {
   "cell_type": "markdown",
   "metadata": {},
   "source": [
    "Decide on your problem statement that will guide your analysis for this project. For guidelines, sample prompts, or inspiration, check out the README.\n",
    "\n",
    "**To-Do:** *Replace this cell with your problem statement.*"
   ]
  },
  {
   "cell_type": "markdown",
   "metadata": {},
   "source": [
    "### Contents:\n",
    "- [Background](#Background)\n",
    "- [Data Import & Cleaning](#Data-Import-and-Cleaning)\n",
    "- [Exploratory Data Analysis](#Exploratory-Data-Analysis)\n",
    "- [Data Visualization](#Visualize-the-Data)\n",
    "- [Conclusions and Recommendations](#Conclusions-and-Recommendations)"
   ]
  },
  {
   "cell_type": "markdown",
   "metadata": {},
   "source": [
    "## Background"
   ]
  },
  {
   "cell_type": "markdown",
   "metadata": {},
   "source": [
    "The SAT and ACT are standardized tests that many colleges and universities in the United States require for their admissions process. This score is used along with other materials such as grade point average (GPA) and essay responses to determine whether or not a potential student will be accepted to the university.\n",
    "\n",
    "The SAT has two sections of the test: Evidence-Based Reading and Writing and Math ([*source*](https://www.princetonreview.com/college/sat-sections)). The ACT has 4 sections: English, Mathematics, Reading, and Science, with an additional optional writing section ([*source*](https://www.act.org/content/act/en/products-and-services/the-act/scores/understanding-your-scores.html)). They have different score ranges, which you can read more about on their websites or additional outside sources (a quick Google search will help you understand the scores for each test):\n",
    "* [SAT](https://collegereadiness.collegeboard.org/sat)\n",
    "* [ACT](https://www.act.org/content/act/en.html)\n",
    "\n",
    "Standardized tests have long been a controversial topic for students, administrators, and legislators. Since the 1940's, an increasing number of colleges have been using scores from sudents' performances on tests like the SAT and the ACT as a measure for college readiness and aptitude ([*source*](https://www.minotdailynews.com/news/local-news/2017/04/a-brief-history-of-the-sat-and-act/)). Supporters of these tests argue that these scores can be used as an objective measure to determine college admittance. Opponents of these tests claim that these tests are not accurate measures of students potential or ability and serve as an inequitable barrier to entry. Lately, more and more schools are opting to drop the SAT/ACT requirement for their Fall 2021 applications ([*read more about this here*](https://www.cnn.com/2020/04/14/us/coronavirus-colleges-sat-act-test-trnd/index.html))."
   ]
  },
  {
   "cell_type": "markdown",
   "metadata": {},
   "source": [
    "**To-Do:** *Fill out this cell (or edit the above cell) with any other background or information that is necessary for your problem statement.*"
   ]
  },
  {
   "cell_type": "markdown",
   "metadata": {},
   "source": [
    "### Choose your Data\n",
    "\n",
    "There are 10 datasets included in the [`data`](./data/) folder for this project. You are required to pick **at least two** of these to complete your analysis. Feel free to use more than two if you would like, or add other relevant datasets you find online.\n",
    "\n",
    "* [`act_2017.csv`](./data/act_2017.csv): 2017 ACT Scores by State\n",
    "* [`act_2018.csv`](./data/act_2018.csv): 2018 ACT Scores by State\n",
    "* [`act_2019.csv`](./data/act_2019.csv): 2019 ACT Scores by State\n",
    "* [`act_2019_ca.csv`](./data/act_2019_ca.csv): 2019 ACT Scores in California by School\n",
    "* [`sat_2017.csv`](./data/sat_2017.csv): 2017 SAT Scores by State\n",
    "* [`sat_2018.csv`](./data/sat_2018.csv): 2018 SAT Scores by State\n",
    "* [`sat_2019.csv`](./data/sat_2019.csv): 2019 SAT Scores by State\n",
    "* [`sat_2019_by_intended_college_major.csv`](./data/sat_2019_by_intended_college_major.csv): 2019 SAT Scores by Intended College Major\n",
    "* [`sat_2019_ca.csv`](./data/sat_2019_ca.csv): 2019 SAT Scores in California by School\n",
    "* [`sat_act_by_college.csv`](./data/sat_act_by_college.csv): Ranges of Accepted ACT & SAT Student Scores by Colleges"
   ]
  },
  {
   "cell_type": "markdown",
   "metadata": {},
   "source": [
    "**To-Do:** *Fill out this cell with the datasets you will use for your analysis. Write a brief description of the contents for each dataset that you choose.*"
   ]
  },
  {
   "cell_type": "markdown",
   "metadata": {},
   "source": [
    "### Outside Research"
   ]
  },
  {
   "cell_type": "markdown",
   "metadata": {},
   "source": [
    "Based on your problem statement and your chosen datasets, spend some time doing outside research on state policies or additional information that might be relevant. Summarize your findings below. If you bring in any outside tables or charts, make sure you are explicit about having borrowed them. If you quote any text, make sure that it renders as being quoted. **Make sure that you cite your sources.**"
   ]
  },
  {
   "cell_type": "markdown",
   "metadata": {},
   "source": [
    "**To-Do:** *Fill out this cell with outside research or any additional background information that will support your analysis.*"
   ]
  },
  {
   "cell_type": "markdown",
   "metadata": {},
   "source": [
    "### Coding Challenges\n",
    "\n",
    "1. Manually calculate mean:\n",
    "\n",
    "    Write a function that takes in values and returns the mean of the values. Create a list of numbers that you test on your function to check to make sure your function works!\n",
    "    \n",
    "    *Note*: Do not use any mean methods built-in to any Python libraries to do this! This should be done without importing any additional libraries."
   ]
  },
  {
   "cell_type": "code",
   "execution_count": 1,
   "metadata": {},
   "outputs": [],
   "source": [
    "# Code:\n",
    "def cal_mean(num_list):\n",
    "    return sum(num_list)/len(num_list)"
   ]
  },
  {
   "cell_type": "code",
   "execution_count": 2,
   "metadata": {},
   "outputs": [
    {
     "data": {
      "text/plain": [
       "49.5"
      ]
     },
     "execution_count": 2,
     "metadata": {},
     "output_type": "execute_result"
    }
   ],
   "source": [
    "num = [*range(100)]\n",
    "cal_mean(num)"
   ]
  },
  {
   "cell_type": "markdown",
   "metadata": {},
   "source": [
    "2. Manually calculate standard deviation:\n",
    "\n",
    "    The formula for standard deviation is below:\n",
    "\n",
    "    $$\\sigma = \\sqrt{\\frac{1}{n}\\sum_{i=1}^n(x_i - \\mu)^2}$$\n",
    "\n",
    "    Where $x_i$ represents each value in the dataset, $\\mu$ represents the mean of all values in the dataset and $n$ represents the number of values in the dataset.\n",
    "\n",
    "    Write a function that takes in values and returns the standard deviation of the values using the formula above. Hint: use the function you wrote above to calculate the mean! Use the list of numbers you created above to test on your function.\n",
    "    \n",
    "    *Note*: Do not use any standard deviation methods built-in to any Python libraries to do this! This should be done without importing any additional libraries."
   ]
  },
  {
   "cell_type": "code",
   "execution_count": 3,
   "metadata": {},
   "outputs": [],
   "source": [
    "# Code:\n",
    "def cal_std(num_list):\n",
    "    mean = cal_mean(num_list)\n",
    "    diff_sq = 0\n",
    "    for num in num_list:\n",
    "        diff_sq += (num-mean)**2\n",
    "    return (diff_sq/len(num_list))**0.5"
   ]
  },
  {
   "cell_type": "code",
   "execution_count": 4,
   "metadata": {
    "scrolled": false
   },
   "outputs": [
    {
     "data": {
      "text/plain": [
       "28.86607004772212"
      ]
     },
     "execution_count": 4,
     "metadata": {},
     "output_type": "execute_result"
    }
   ],
   "source": [
    "cal_std(num)"
   ]
  },
  {
   "cell_type": "markdown",
   "metadata": {},
   "source": [
    "3. Data cleaning function:\n",
    "    \n",
    "    Write a function that takes in a string that is a number and a percent symbol (ex. '50%', '30.5%', etc.) and converts this to a float that is the decimal approximation of the percent. For example, inputting '50%' in your function should return 0.5, '30.5%' should return 0.305, etc. Make sure to test your function to make sure it works!\n",
    "\n",
    "You will use these functions later on in the project!"
   ]
  },
  {
   "cell_type": "code",
   "execution_count": 5,
   "metadata": {},
   "outputs": [],
   "source": [
    "# Code:\n",
    "def to_pct(num_str):\n",
    "    try:\n",
    "        pct = float(num_str.strip('%'))/100\n",
    "    except:\n",
    "        pct = 0\n",
    "    return pct"
   ]
  },
  {
   "cell_type": "code",
   "execution_count": 6,
   "metadata": {},
   "outputs": [
    {
     "data": {
      "text/plain": [
       "0.305"
      ]
     },
     "execution_count": 6,
     "metadata": {},
     "output_type": "execute_result"
    }
   ],
   "source": [
    "to_pct('30.5%')"
   ]
  },
  {
   "cell_type": "markdown",
   "metadata": {},
   "source": [
    "--- \n",
    "# Part 2\n",
    "\n",
    "Part 2 requires knowledge of Pandas, EDA, data cleaning, and data visualization.\n",
    "\n",
    "---"
   ]
  },
  {
   "cell_type": "markdown",
   "metadata": {},
   "source": [
    "*All libraries used should be added here*"
   ]
  },
  {
   "cell_type": "code",
   "execution_count": 7,
   "metadata": {},
   "outputs": [],
   "source": [
    "# Imports:\n",
    "import numpy as np\n",
    "import matplotlib.pyplot as plt\n",
    "import pandas as pd\n",
    "import seaborn as sns\n",
    "%matplotlib inline"
   ]
  },
  {
   "cell_type": "markdown",
   "metadata": {},
   "source": [
    "## Data Import and Cleaning"
   ]
  },
  {
   "cell_type": "markdown",
   "metadata": {},
   "source": [
    "### Data Import & Cleaning\n",
    "\n",
    "Import the datasets that you selected for this project and go through the following steps at a minimum. You are welcome to do further cleaning as you feel necessary:\n",
    "1. Display the data: print the first 5 rows of each dataframe to your Jupyter notebook.\n",
    "2. Check for missing values.\n",
    "3. Check for any obvious issues with the observations (keep in mind the minimum & maximum possible values for each test/subtest).\n",
    "4. Fix any errors you identified in steps 2-3.\n",
    "5. Display the data types of each feature.\n",
    "6. Fix any incorrect data types found in step 5.\n",
    "    - Fix any individual values preventing other columns from being the appropriate type.\n",
    "    - If your dataset has a column of percents (ex. '50%', '30.5%', etc.), use the function you wrote in Part 1 (coding challenges, number 3) to convert this to floats! *Hint*: use `.map()` or `.apply()`.\n",
    "7. Rename Columns.\n",
    "    - Column names should be all lowercase.\n",
    "    - Column names should not contain spaces (underscores will suffice--this allows for using the `df.column_name` method to access columns in addition to `df['column_name']`).\n",
    "    - Column names should be unique and informative.\n",
    "8. Drop unnecessary rows (if needed).\n",
    "9. Merge dataframes that can be merged.\n",
    "10. Perform any additional cleaning that you feel is necessary.\n",
    "11. Save your cleaned and merged dataframes as csv files."
   ]
  },
  {
   "cell_type": "code",
   "execution_count": 8,
   "metadata": {},
   "outputs": [],
   "source": [
    "# Code:\n"
   ]
  },
  {
   "cell_type": "code",
   "execution_count": 9,
   "metadata": {},
   "outputs": [],
   "source": [
    "SAT_2017 = pd.read_csv('../data/sat_2017.csv')\n",
    "SAT_2018 = pd.read_csv('../data/sat_2018.csv')\n",
    "SAT_2019 = pd.read_csv('../data/sat_2019.csv')"
   ]
  },
  {
   "cell_type": "code",
   "execution_count": 10,
   "metadata": {},
   "outputs": [
    {
     "data": {
      "text/html": [
       "<div>\n",
       "<style scoped>\n",
       "    .dataframe tbody tr th:only-of-type {\n",
       "        vertical-align: middle;\n",
       "    }\n",
       "\n",
       "    .dataframe tbody tr th {\n",
       "        vertical-align: top;\n",
       "    }\n",
       "\n",
       "    .dataframe thead th {\n",
       "        text-align: right;\n",
       "    }\n",
       "</style>\n",
       "<table border=\"1\" class=\"dataframe\">\n",
       "  <thead>\n",
       "    <tr style=\"text-align: right;\">\n",
       "      <th></th>\n",
       "      <th>State</th>\n",
       "      <th>Participation</th>\n",
       "      <th>Evidence-Based Reading and Writing</th>\n",
       "      <th>Math</th>\n",
       "      <th>Total</th>\n",
       "    </tr>\n",
       "  </thead>\n",
       "  <tbody>\n",
       "    <tr>\n",
       "      <th>0</th>\n",
       "      <td>Alabama</td>\n",
       "      <td>5%</td>\n",
       "      <td>593</td>\n",
       "      <td>572</td>\n",
       "      <td>1165</td>\n",
       "    </tr>\n",
       "    <tr>\n",
       "      <th>1</th>\n",
       "      <td>Alaska</td>\n",
       "      <td>38%</td>\n",
       "      <td>547</td>\n",
       "      <td>533</td>\n",
       "      <td>1080</td>\n",
       "    </tr>\n",
       "    <tr>\n",
       "      <th>2</th>\n",
       "      <td>Arizona</td>\n",
       "      <td>30%</td>\n",
       "      <td>563</td>\n",
       "      <td>553</td>\n",
       "      <td>1116</td>\n",
       "    </tr>\n",
       "  </tbody>\n",
       "</table>\n",
       "</div>"
      ],
      "text/plain": [
       "     State Participation  Evidence-Based Reading and Writing  Math  Total\n",
       "0  Alabama            5%                                 593   572   1165\n",
       "1   Alaska           38%                                 547   533   1080\n",
       "2  Arizona           30%                                 563   553   1116"
      ]
     },
     "execution_count": 10,
     "metadata": {},
     "output_type": "execute_result"
    }
   ],
   "source": [
    "SAT_2017.head(3)\n"
   ]
  },
  {
   "cell_type": "code",
   "execution_count": 11,
   "metadata": {},
   "outputs": [
    {
     "data": {
      "text/html": [
       "<div>\n",
       "<style scoped>\n",
       "    .dataframe tbody tr th:only-of-type {\n",
       "        vertical-align: middle;\n",
       "    }\n",
       "\n",
       "    .dataframe tbody tr th {\n",
       "        vertical-align: top;\n",
       "    }\n",
       "\n",
       "    .dataframe thead th {\n",
       "        text-align: right;\n",
       "    }\n",
       "</style>\n",
       "<table border=\"1\" class=\"dataframe\">\n",
       "  <thead>\n",
       "    <tr style=\"text-align: right;\">\n",
       "      <th></th>\n",
       "      <th>State</th>\n",
       "      <th>Participation</th>\n",
       "      <th>Evidence-Based Reading and Writing</th>\n",
       "      <th>Math</th>\n",
       "      <th>Total</th>\n",
       "    </tr>\n",
       "  </thead>\n",
       "  <tbody>\n",
       "    <tr>\n",
       "      <th>0</th>\n",
       "      <td>Alabama</td>\n",
       "      <td>6%</td>\n",
       "      <td>595</td>\n",
       "      <td>571</td>\n",
       "      <td>1166</td>\n",
       "    </tr>\n",
       "    <tr>\n",
       "      <th>1</th>\n",
       "      <td>Alaska</td>\n",
       "      <td>43%</td>\n",
       "      <td>562</td>\n",
       "      <td>544</td>\n",
       "      <td>1106</td>\n",
       "    </tr>\n",
       "    <tr>\n",
       "      <th>2</th>\n",
       "      <td>Arizona</td>\n",
       "      <td>29%</td>\n",
       "      <td>577</td>\n",
       "      <td>572</td>\n",
       "      <td>1149</td>\n",
       "    </tr>\n",
       "  </tbody>\n",
       "</table>\n",
       "</div>"
      ],
      "text/plain": [
       "     State Participation  Evidence-Based Reading and Writing  Math  Total\n",
       "0  Alabama            6%                                 595   571   1166\n",
       "1   Alaska           43%                                 562   544   1106\n",
       "2  Arizona           29%                                 577   572   1149"
      ]
     },
     "execution_count": 11,
     "metadata": {},
     "output_type": "execute_result"
    }
   ],
   "source": [
    "SAT_2018.head(3)"
   ]
  },
  {
   "cell_type": "code",
   "execution_count": 12,
   "metadata": {},
   "outputs": [
    {
     "data": {
      "text/html": [
       "<div>\n",
       "<style scoped>\n",
       "    .dataframe tbody tr th:only-of-type {\n",
       "        vertical-align: middle;\n",
       "    }\n",
       "\n",
       "    .dataframe tbody tr th {\n",
       "        vertical-align: top;\n",
       "    }\n",
       "\n",
       "    .dataframe thead th {\n",
       "        text-align: right;\n",
       "    }\n",
       "</style>\n",
       "<table border=\"1\" class=\"dataframe\">\n",
       "  <thead>\n",
       "    <tr style=\"text-align: right;\">\n",
       "      <th></th>\n",
       "      <th>State</th>\n",
       "      <th>Participation Rate</th>\n",
       "      <th>EBRW</th>\n",
       "      <th>Math</th>\n",
       "      <th>Total</th>\n",
       "    </tr>\n",
       "  </thead>\n",
       "  <tbody>\n",
       "    <tr>\n",
       "      <th>0</th>\n",
       "      <td>Alabama</td>\n",
       "      <td>7%</td>\n",
       "      <td>583</td>\n",
       "      <td>560</td>\n",
       "      <td>1143</td>\n",
       "    </tr>\n",
       "    <tr>\n",
       "      <th>1</th>\n",
       "      <td>Alaska</td>\n",
       "      <td>41%</td>\n",
       "      <td>556</td>\n",
       "      <td>541</td>\n",
       "      <td>1097</td>\n",
       "    </tr>\n",
       "    <tr>\n",
       "      <th>2</th>\n",
       "      <td>Arizona</td>\n",
       "      <td>31%</td>\n",
       "      <td>569</td>\n",
       "      <td>565</td>\n",
       "      <td>1134</td>\n",
       "    </tr>\n",
       "  </tbody>\n",
       "</table>\n",
       "</div>"
      ],
      "text/plain": [
       "     State Participation Rate  EBRW  Math  Total\n",
       "0  Alabama                 7%   583   560   1143\n",
       "1   Alaska                41%   556   541   1097\n",
       "2  Arizona                31%   569   565   1134"
      ]
     },
     "execution_count": 12,
     "metadata": {},
     "output_type": "execute_result"
    }
   ],
   "source": [
    "SAT_2019.head(3)"
   ]
  },
  {
   "cell_type": "markdown",
   "metadata": {},
   "source": [
    "SAT_2019 dataframe has different headers which might cause an error when being concatenated. Let's make it match 2018 and 2017 headers"
   ]
  },
  {
   "cell_type": "code",
   "execution_count": 13,
   "metadata": {
    "scrolled": true
   },
   "outputs": [
    {
     "data": {
      "text/html": [
       "<div>\n",
       "<style scoped>\n",
       "    .dataframe tbody tr th:only-of-type {\n",
       "        vertical-align: middle;\n",
       "    }\n",
       "\n",
       "    .dataframe tbody tr th {\n",
       "        vertical-align: top;\n",
       "    }\n",
       "\n",
       "    .dataframe thead th {\n",
       "        text-align: right;\n",
       "    }\n",
       "</style>\n",
       "<table border=\"1\" class=\"dataframe\">\n",
       "  <thead>\n",
       "    <tr style=\"text-align: right;\">\n",
       "      <th></th>\n",
       "      <th>State</th>\n",
       "      <th>Participation</th>\n",
       "      <th>Evidence-Based Reading and Writing</th>\n",
       "      <th>Math</th>\n",
       "      <th>Total</th>\n",
       "    </tr>\n",
       "  </thead>\n",
       "  <tbody>\n",
       "    <tr>\n",
       "      <th>0</th>\n",
       "      <td>Alabama</td>\n",
       "      <td>7%</td>\n",
       "      <td>583</td>\n",
       "      <td>560</td>\n",
       "      <td>1143</td>\n",
       "    </tr>\n",
       "    <tr>\n",
       "      <th>1</th>\n",
       "      <td>Alaska</td>\n",
       "      <td>41%</td>\n",
       "      <td>556</td>\n",
       "      <td>541</td>\n",
       "      <td>1097</td>\n",
       "    </tr>\n",
       "    <tr>\n",
       "      <th>2</th>\n",
       "      <td>Arizona</td>\n",
       "      <td>31%</td>\n",
       "      <td>569</td>\n",
       "      <td>565</td>\n",
       "      <td>1134</td>\n",
       "    </tr>\n",
       "    <tr>\n",
       "      <th>3</th>\n",
       "      <td>Arkansas</td>\n",
       "      <td>6%</td>\n",
       "      <td>582</td>\n",
       "      <td>559</td>\n",
       "      <td>1141</td>\n",
       "    </tr>\n",
       "    <tr>\n",
       "      <th>4</th>\n",
       "      <td>California</td>\n",
       "      <td>63%</td>\n",
       "      <td>534</td>\n",
       "      <td>531</td>\n",
       "      <td>1065</td>\n",
       "    </tr>\n",
       "  </tbody>\n",
       "</table>\n",
       "</div>"
      ],
      "text/plain": [
       "        State Participation  Evidence-Based Reading and Writing  Math  Total\n",
       "0     Alabama            7%                                 583   560   1143\n",
       "1      Alaska           41%                                 556   541   1097\n",
       "2     Arizona           31%                                 569   565   1134\n",
       "3    Arkansas            6%                                 582   559   1141\n",
       "4  California           63%                                 534   531   1065"
      ]
     },
     "execution_count": 13,
     "metadata": {},
     "output_type": "execute_result"
    }
   ],
   "source": [
    "SAT_2019 = SAT_2019.rename(columns = {k:v for k,v in zip(SAT_2019.columns,SAT_2018.columns)})\n",
    "SAT_2019.head()"
   ]
  },
  {
   "cell_type": "code",
   "execution_count": 14,
   "metadata": {},
   "outputs": [
    {
     "data": {
      "text/html": [
       "<div>\n",
       "<style scoped>\n",
       "    .dataframe tbody tr th:only-of-type {\n",
       "        vertical-align: middle;\n",
       "    }\n",
       "\n",
       "    .dataframe tbody tr th {\n",
       "        vertical-align: top;\n",
       "    }\n",
       "\n",
       "    .dataframe thead th {\n",
       "        text-align: right;\n",
       "    }\n",
       "</style>\n",
       "<table border=\"1\" class=\"dataframe\">\n",
       "  <thead>\n",
       "    <tr style=\"text-align: right;\">\n",
       "      <th></th>\n",
       "      <th>Year</th>\n",
       "      <th>State</th>\n",
       "      <th>Participation</th>\n",
       "      <th>Evidence-Based Reading and Writing</th>\n",
       "      <th>Math</th>\n",
       "      <th>Total</th>\n",
       "    </tr>\n",
       "  </thead>\n",
       "  <tbody>\n",
       "    <tr>\n",
       "      <th>0</th>\n",
       "      <td>2017</td>\n",
       "      <td>Alabama</td>\n",
       "      <td>5%</td>\n",
       "      <td>593</td>\n",
       "      <td>572</td>\n",
       "      <td>1165</td>\n",
       "    </tr>\n",
       "    <tr>\n",
       "      <th>1</th>\n",
       "      <td>2017</td>\n",
       "      <td>Alaska</td>\n",
       "      <td>38%</td>\n",
       "      <td>547</td>\n",
       "      <td>533</td>\n",
       "      <td>1080</td>\n",
       "    </tr>\n",
       "    <tr>\n",
       "      <th>2</th>\n",
       "      <td>2017</td>\n",
       "      <td>Arizona</td>\n",
       "      <td>30%</td>\n",
       "      <td>563</td>\n",
       "      <td>553</td>\n",
       "      <td>1116</td>\n",
       "    </tr>\n",
       "    <tr>\n",
       "      <th>3</th>\n",
       "      <td>2017</td>\n",
       "      <td>Arkansas</td>\n",
       "      <td>3%</td>\n",
       "      <td>614</td>\n",
       "      <td>594</td>\n",
       "      <td>1208</td>\n",
       "    </tr>\n",
       "    <tr>\n",
       "      <th>4</th>\n",
       "      <td>2017</td>\n",
       "      <td>California</td>\n",
       "      <td>53%</td>\n",
       "      <td>531</td>\n",
       "      <td>524</td>\n",
       "      <td>1055</td>\n",
       "    </tr>\n",
       "  </tbody>\n",
       "</table>\n",
       "</div>"
      ],
      "text/plain": [
       "   Year       State Participation  Evidence-Based Reading and Writing  Math  \\\n",
       "0  2017     Alabama            5%                                 593   572   \n",
       "1  2017      Alaska           38%                                 547   533   \n",
       "2  2017     Arizona           30%                                 563   553   \n",
       "3  2017    Arkansas            3%                                 614   594   \n",
       "4  2017  California           53%                                 531   524   \n",
       "\n",
       "   Total  \n",
       "0   1165  \n",
       "1   1080  \n",
       "2   1116  \n",
       "3   1208  \n",
       "4   1055  "
      ]
     },
     "execution_count": 14,
     "metadata": {},
     "output_type": "execute_result"
    }
   ],
   "source": [
    "SAT = pd.concat([SAT_2017,SAT_2018,SAT_2019],keys=[2017,2018,2019])\n",
    "SAT = SAT.reset_index().drop(columns='level_1').rename(columns={'level_0':'Year'})\n",
    "SAT.head()"
   ]
  },
  {
   "cell_type": "markdown",
   "metadata": {},
   "source": [
    "### Data cleaning"
   ]
  },
  {
   "cell_type": "code",
   "execution_count": 15,
   "metadata": {},
   "outputs": [
    {
     "data": {
      "text/plain": [
       "Year                                  0\n",
       "State                                 0\n",
       "Participation                         0\n",
       "Evidence-Based Reading and Writing    0\n",
       "Math                                  0\n",
       "Total                                 0\n",
       "dtype: int64"
      ]
     },
     "execution_count": 15,
     "metadata": {},
     "output_type": "execute_result"
    }
   ],
   "source": [
    "SAT.isnull().sum()"
   ]
  },
  {
   "cell_type": "markdown",
   "metadata": {},
   "source": [
    "Our data were perfectly collected and cleaned. Let's have a look at each columns one by one.\n",
    "\n",
    "Note :\n",
    "- Total score: 400–1600\n",
    "- Evidence-Based Reading and Writing Section: 200–800\n",
    "- Math Section: 200–800\n"
   ]
  },
  {
   "cell_type": "code",
   "execution_count": 16,
   "metadata": {},
   "outputs": [
    {
     "name": "stdout",
     "output_type": "stream",
     "text": [
      "53\n"
     ]
    },
    {
     "data": {
      "text/plain": [
       "array(['Alabama', 'Alaska', 'Arizona', 'Arkansas', 'California',\n",
       "       'Colorado', 'Connecticut', 'Delaware', 'District of Columbia',\n",
       "       'Florida', 'Georgia', 'Hawaii', 'Idaho', 'Illinois', 'Indiana',\n",
       "       'Iowa', 'Kansas', 'Kentucky', 'Louisiana', 'Maine', 'Maryland',\n",
       "       'Massachusetts', 'Michigan', 'Minnesota', 'Mississippi',\n",
       "       'Missouri', 'Montana', 'Nebraska', 'Nevada', 'New Hampshire',\n",
       "       'New Jersey', 'New Mexico', 'New York', 'North Carolina',\n",
       "       'North Dakota', 'Ohio', 'Oklahoma', 'Oregon', 'Pennsylvania',\n",
       "       'Rhode Island', 'South Carolina', 'South Dakota', 'Tennessee',\n",
       "       'Texas', 'Utah', 'Vermont', 'Virginia', 'Washington',\n",
       "       'West Virginia', 'Wisconsin', 'Wyoming', 'Puerto Rico',\n",
       "       'Virgin Islands'], dtype=object)"
      ]
     },
     "execution_count": 16,
     "metadata": {},
     "output_type": "execute_result"
    }
   ],
   "source": [
    "#State\n",
    "print(SAT['State'].nunique())\n",
    "SAT['State'].unique()"
   ]
  },
  {
   "cell_type": "code",
   "execution_count": 17,
   "metadata": {},
   "outputs": [
    {
     "data": {
      "text/html": [
       "<div>\n",
       "<style scoped>\n",
       "    .dataframe tbody tr th:only-of-type {\n",
       "        vertical-align: middle;\n",
       "    }\n",
       "\n",
       "    .dataframe tbody tr th {\n",
       "        vertical-align: top;\n",
       "    }\n",
       "\n",
       "    .dataframe thead th {\n",
       "        text-align: right;\n",
       "    }\n",
       "</style>\n",
       "<table border=\"1\" class=\"dataframe\">\n",
       "  <thead>\n",
       "    <tr style=\"text-align: right;\">\n",
       "      <th></th>\n",
       "      <th>Year</th>\n",
       "      <th>Evidence-Based Reading and Writing</th>\n",
       "      <th>Math</th>\n",
       "      <th>Total</th>\n",
       "    </tr>\n",
       "  </thead>\n",
       "  <tbody>\n",
       "    <tr>\n",
       "      <th>count</th>\n",
       "      <td>155.000000</td>\n",
       "      <td>155.000000</td>\n",
       "      <td>155.000000</td>\n",
       "      <td>155.000000</td>\n",
       "    </tr>\n",
       "    <tr>\n",
       "      <th>mean</th>\n",
       "      <td>2018.012903</td>\n",
       "      <td>563.529032</td>\n",
       "      <td>550.748387</td>\n",
       "      <td>1117.406452</td>\n",
       "    </tr>\n",
       "    <tr>\n",
       "      <th>std</th>\n",
       "      <td>0.821679</td>\n",
       "      <td>46.842276</td>\n",
       "      <td>63.824190</td>\n",
       "      <td>95.750399</td>\n",
       "    </tr>\n",
       "    <tr>\n",
       "      <th>min</th>\n",
       "      <td>2017.000000</td>\n",
       "      <td>480.000000</td>\n",
       "      <td>52.000000</td>\n",
       "      <td>935.000000</td>\n",
       "    </tr>\n",
       "    <tr>\n",
       "      <th>25%</th>\n",
       "      <td>2017.000000</td>\n",
       "      <td>530.500000</td>\n",
       "      <td>519.500000</td>\n",
       "      <td>1052.000000</td>\n",
       "    </tr>\n",
       "    <tr>\n",
       "      <th>50%</th>\n",
       "      <td>2018.000000</td>\n",
       "      <td>552.000000</td>\n",
       "      <td>545.000000</td>\n",
       "      <td>1098.000000</td>\n",
       "    </tr>\n",
       "    <tr>\n",
       "      <th>75%</th>\n",
       "      <td>2019.000000</td>\n",
       "      <td>613.000000</td>\n",
       "      <td>595.500000</td>\n",
       "      <td>1209.000000</td>\n",
       "    </tr>\n",
       "    <tr>\n",
       "      <th>max</th>\n",
       "      <td>2019.000000</td>\n",
       "      <td>644.000000</td>\n",
       "      <td>655.000000</td>\n",
       "      <td>1298.000000</td>\n",
       "    </tr>\n",
       "  </tbody>\n",
       "</table>\n",
       "</div>"
      ],
      "text/plain": [
       "              Year  Evidence-Based Reading and Writing        Math  \\\n",
       "count   155.000000                          155.000000  155.000000   \n",
       "mean   2018.012903                          563.529032  550.748387   \n",
       "std       0.821679                           46.842276   63.824190   \n",
       "min    2017.000000                          480.000000   52.000000   \n",
       "25%    2017.000000                          530.500000  519.500000   \n",
       "50%    2018.000000                          552.000000  545.000000   \n",
       "75%    2019.000000                          613.000000  595.500000   \n",
       "max    2019.000000                          644.000000  655.000000   \n",
       "\n",
       "             Total  \n",
       "count   155.000000  \n",
       "mean   1117.406452  \n",
       "std      95.750399  \n",
       "min     935.000000  \n",
       "25%    1052.000000  \n",
       "50%    1098.000000  \n",
       "75%    1209.000000  \n",
       "max    1298.000000  "
      ]
     },
     "execution_count": 17,
     "metadata": {},
     "output_type": "execute_result"
    }
   ],
   "source": [
    "SAT.describe()"
   ]
  },
  {
   "cell_type": "markdown",
   "metadata": {},
   "source": [
    "There is no problem regarding the maximum test score (both EBRW and Math should have range of [200,800]. However, it seems that we have some trouble with minimum score of Math since it being reported at 52. Let's have a look at it"
   ]
  },
  {
   "cell_type": "code",
   "execution_count": 18,
   "metadata": {
    "scrolled": true
   },
   "outputs": [
    {
     "data": {
      "text/html": [
       "<div>\n",
       "<style scoped>\n",
       "    .dataframe tbody tr th:only-of-type {\n",
       "        vertical-align: middle;\n",
       "    }\n",
       "\n",
       "    .dataframe tbody tr th {\n",
       "        vertical-align: top;\n",
       "    }\n",
       "\n",
       "    .dataframe thead th {\n",
       "        text-align: right;\n",
       "    }\n",
       "</style>\n",
       "<table border=\"1\" class=\"dataframe\">\n",
       "  <thead>\n",
       "    <tr style=\"text-align: right;\">\n",
       "      <th></th>\n",
       "      <th>Year</th>\n",
       "      <th>State</th>\n",
       "      <th>Participation</th>\n",
       "      <th>Evidence-Based Reading and Writing</th>\n",
       "      <th>Math</th>\n",
       "      <th>Total</th>\n",
       "    </tr>\n",
       "  </thead>\n",
       "  <tbody>\n",
       "    <tr>\n",
       "      <th>20</th>\n",
       "      <td>2017</td>\n",
       "      <td>Maryland</td>\n",
       "      <td>69%</td>\n",
       "      <td>536</td>\n",
       "      <td>52</td>\n",
       "      <td>1060</td>\n",
       "    </tr>\n",
       "  </tbody>\n",
       "</table>\n",
       "</div>"
      ],
      "text/plain": [
       "    Year     State Participation  Evidence-Based Reading and Writing  Math  \\\n",
       "20  2017  Maryland           69%                                 536    52   \n",
       "\n",
       "    Total  \n",
       "20   1060  "
      ]
     },
     "execution_count": 18,
     "metadata": {},
     "output_type": "execute_result"
    }
   ],
   "source": [
    "SAT[SAT['Math']<200]"
   ]
  },
  {
   "cell_type": "code",
   "execution_count": 19,
   "metadata": {
    "scrolled": false
   },
   "outputs": [
    {
     "data": {
      "text/html": [
       "<div>\n",
       "<style scoped>\n",
       "    .dataframe tbody tr th:only-of-type {\n",
       "        vertical-align: middle;\n",
       "    }\n",
       "\n",
       "    .dataframe tbody tr th {\n",
       "        vertical-align: top;\n",
       "    }\n",
       "\n",
       "    .dataframe thead th {\n",
       "        text-align: right;\n",
       "    }\n",
       "</style>\n",
       "<table border=\"1\" class=\"dataframe\">\n",
       "  <thead>\n",
       "    <tr style=\"text-align: right;\">\n",
       "      <th></th>\n",
       "      <th>Year</th>\n",
       "      <th>State</th>\n",
       "      <th>Participation</th>\n",
       "      <th>Evidence-Based Reading and Writing</th>\n",
       "      <th>Math</th>\n",
       "      <th>Total</th>\n",
       "    </tr>\n",
       "  </thead>\n",
       "  <tbody>\n",
       "    <tr>\n",
       "      <th>20</th>\n",
       "      <td>2017</td>\n",
       "      <td>Maryland</td>\n",
       "      <td>69%</td>\n",
       "      <td>536</td>\n",
       "      <td>52</td>\n",
       "      <td>1060</td>\n",
       "    </tr>\n",
       "    <tr>\n",
       "      <th>71</th>\n",
       "      <td>2018</td>\n",
       "      <td>Maryland</td>\n",
       "      <td>76%</td>\n",
       "      <td>545</td>\n",
       "      <td>535</td>\n",
       "      <td>1080</td>\n",
       "    </tr>\n",
       "    <tr>\n",
       "      <th>122</th>\n",
       "      <td>2019</td>\n",
       "      <td>Maryland</td>\n",
       "      <td>82%</td>\n",
       "      <td>535</td>\n",
       "      <td>523</td>\n",
       "      <td>1058</td>\n",
       "    </tr>\n",
       "  </tbody>\n",
       "</table>\n",
       "</div>"
      ],
      "text/plain": [
       "     Year     State Participation  Evidence-Based Reading and Writing  Math  \\\n",
       "20   2017  Maryland           69%                                 536    52   \n",
       "71   2018  Maryland           76%                                 545   535   \n",
       "122  2019  Maryland           82%                                 535   523   \n",
       "\n",
       "     Total  \n",
       "20    1060  \n",
       "71    1080  \n",
       "122   1058  "
      ]
     },
     "execution_count": 19,
     "metadata": {},
     "output_type": "execute_result"
    }
   ],
   "source": [
    "SAT[SAT['State'] == 'Maryland']"
   ]
  },
  {
   "cell_type": "markdown",
   "metadata": {},
   "source": [
    "Seem like there is typo error for Math score of Maryland in 2017. I'll simply fixed this by reversed calculation from total score"
   ]
  },
  {
   "cell_type": "code",
   "execution_count": 20,
   "metadata": {},
   "outputs": [
    {
     "data": {
      "text/html": [
       "<div>\n",
       "<style scoped>\n",
       "    .dataframe tbody tr th:only-of-type {\n",
       "        vertical-align: middle;\n",
       "    }\n",
       "\n",
       "    .dataframe tbody tr th {\n",
       "        vertical-align: top;\n",
       "    }\n",
       "\n",
       "    .dataframe thead th {\n",
       "        text-align: right;\n",
       "    }\n",
       "</style>\n",
       "<table border=\"1\" class=\"dataframe\">\n",
       "  <thead>\n",
       "    <tr style=\"text-align: right;\">\n",
       "      <th></th>\n",
       "      <th>Year</th>\n",
       "      <th>State</th>\n",
       "      <th>Participation</th>\n",
       "      <th>Evidence-Based Reading and Writing</th>\n",
       "      <th>Math</th>\n",
       "      <th>Total</th>\n",
       "    </tr>\n",
       "  </thead>\n",
       "  <tbody>\n",
       "    <tr>\n",
       "      <th>20</th>\n",
       "      <td>2017</td>\n",
       "      <td>Maryland</td>\n",
       "      <td>69%</td>\n",
       "      <td>536</td>\n",
       "      <td>524</td>\n",
       "      <td>1060</td>\n",
       "    </tr>\n",
       "    <tr>\n",
       "      <th>71</th>\n",
       "      <td>2018</td>\n",
       "      <td>Maryland</td>\n",
       "      <td>76%</td>\n",
       "      <td>545</td>\n",
       "      <td>535</td>\n",
       "      <td>1080</td>\n",
       "    </tr>\n",
       "    <tr>\n",
       "      <th>122</th>\n",
       "      <td>2019</td>\n",
       "      <td>Maryland</td>\n",
       "      <td>82%</td>\n",
       "      <td>535</td>\n",
       "      <td>523</td>\n",
       "      <td>1058</td>\n",
       "    </tr>\n",
       "  </tbody>\n",
       "</table>\n",
       "</div>"
      ],
      "text/plain": [
       "     Year     State Participation  Evidence-Based Reading and Writing  Math  \\\n",
       "20   2017  Maryland           69%                                 536   524   \n",
       "71   2018  Maryland           76%                                 545   535   \n",
       "122  2019  Maryland           82%                                 535   523   \n",
       "\n",
       "     Total  \n",
       "20    1060  \n",
       "71    1080  \n",
       "122   1058  "
      ]
     },
     "execution_count": 20,
     "metadata": {},
     "output_type": "execute_result"
    }
   ],
   "source": [
    "SAT.loc[20,'Math'] = SAT.loc[20,'Total'] - SAT.loc[20,'Evidence-Based Reading and Writing']\n",
    "SAT[SAT['State'] == 'Maryland']"
   ]
  },
  {
   "cell_type": "markdown",
   "metadata": {},
   "source": [
    "### Type conversion"
   ]
  },
  {
   "cell_type": "code",
   "execution_count": 21,
   "metadata": {},
   "outputs": [
    {
     "name": "stdout",
     "output_type": "stream",
     "text": [
      "<class 'pandas.core.frame.DataFrame'>\n",
      "RangeIndex: 155 entries, 0 to 154\n",
      "Data columns (total 6 columns):\n",
      " #   Column                              Non-Null Count  Dtype \n",
      "---  ------                              --------------  ----- \n",
      " 0   Year                                155 non-null    int64 \n",
      " 1   State                               155 non-null    object\n",
      " 2   Participation                       155 non-null    object\n",
      " 3   Evidence-Based Reading and Writing  155 non-null    int64 \n",
      " 4   Math                                155 non-null    int64 \n",
      " 5   Total                               155 non-null    int64 \n",
      "dtypes: int64(4), object(2)\n",
      "memory usage: 7.4+ KB\n"
     ]
    }
   ],
   "source": [
    "SAT.info()"
   ]
  },
  {
   "cell_type": "markdown",
   "metadata": {},
   "source": [
    "Our participation rate should be treated as float, let's convert this."
   ]
  },
  {
   "cell_type": "code",
   "execution_count": 22,
   "metadata": {
    "scrolled": true
   },
   "outputs": [],
   "source": [
    "SAT['Participation'] = SAT['Participation'].apply(to_pct)"
   ]
  },
  {
   "cell_type": "code",
   "execution_count": 23,
   "metadata": {},
   "outputs": [
    {
     "name": "stdout",
     "output_type": "stream",
     "text": [
      "<class 'pandas.core.frame.DataFrame'>\n",
      "RangeIndex: 155 entries, 0 to 154\n",
      "Data columns (total 6 columns):\n",
      " #   Column                              Non-Null Count  Dtype  \n",
      "---  ------                              --------------  -----  \n",
      " 0   Year                                155 non-null    int64  \n",
      " 1   State                               155 non-null    object \n",
      " 2   Participation                       155 non-null    float64\n",
      " 3   Evidence-Based Reading and Writing  155 non-null    int64  \n",
      " 4   Math                                155 non-null    int64  \n",
      " 5   Total                               155 non-null    int64  \n",
      "dtypes: float64(1), int64(4), object(1)\n",
      "memory usage: 7.4+ KB\n"
     ]
    }
   ],
   "source": [
    "SAT.info()"
   ]
  },
  {
   "cell_type": "code",
   "execution_count": 24,
   "metadata": {},
   "outputs": [
    {
     "data": {
      "text/html": [
       "<div>\n",
       "<style scoped>\n",
       "    .dataframe tbody tr th:only-of-type {\n",
       "        vertical-align: middle;\n",
       "    }\n",
       "\n",
       "    .dataframe tbody tr th {\n",
       "        vertical-align: top;\n",
       "    }\n",
       "\n",
       "    .dataframe thead th {\n",
       "        text-align: right;\n",
       "    }\n",
       "</style>\n",
       "<table border=\"1\" class=\"dataframe\">\n",
       "  <thead>\n",
       "    <tr style=\"text-align: right;\">\n",
       "      <th></th>\n",
       "      <th>Year</th>\n",
       "      <th>State</th>\n",
       "      <th>Participation</th>\n",
       "      <th>Evidence-Based Reading and Writing</th>\n",
       "      <th>Math</th>\n",
       "      <th>Total</th>\n",
       "    </tr>\n",
       "  </thead>\n",
       "  <tbody>\n",
       "    <tr>\n",
       "      <th>0</th>\n",
       "      <td>2017</td>\n",
       "      <td>Alabama</td>\n",
       "      <td>0.05</td>\n",
       "      <td>593</td>\n",
       "      <td>572</td>\n",
       "      <td>1165</td>\n",
       "    </tr>\n",
       "    <tr>\n",
       "      <th>1</th>\n",
       "      <td>2017</td>\n",
       "      <td>Alaska</td>\n",
       "      <td>0.38</td>\n",
       "      <td>547</td>\n",
       "      <td>533</td>\n",
       "      <td>1080</td>\n",
       "    </tr>\n",
       "    <tr>\n",
       "      <th>2</th>\n",
       "      <td>2017</td>\n",
       "      <td>Arizona</td>\n",
       "      <td>0.30</td>\n",
       "      <td>563</td>\n",
       "      <td>553</td>\n",
       "      <td>1116</td>\n",
       "    </tr>\n",
       "    <tr>\n",
       "      <th>3</th>\n",
       "      <td>2017</td>\n",
       "      <td>Arkansas</td>\n",
       "      <td>0.03</td>\n",
       "      <td>614</td>\n",
       "      <td>594</td>\n",
       "      <td>1208</td>\n",
       "    </tr>\n",
       "    <tr>\n",
       "      <th>4</th>\n",
       "      <td>2017</td>\n",
       "      <td>California</td>\n",
       "      <td>0.53</td>\n",
       "      <td>531</td>\n",
       "      <td>524</td>\n",
       "      <td>1055</td>\n",
       "    </tr>\n",
       "  </tbody>\n",
       "</table>\n",
       "</div>"
      ],
      "text/plain": [
       "   Year       State  Participation  Evidence-Based Reading and Writing  Math  \\\n",
       "0  2017     Alabama           0.05                                 593   572   \n",
       "1  2017      Alaska           0.38                                 547   533   \n",
       "2  2017     Arizona           0.30                                 563   553   \n",
       "3  2017    Arkansas           0.03                                 614   594   \n",
       "4  2017  California           0.53                                 531   524   \n",
       "\n",
       "   Total  \n",
       "0   1165  \n",
       "1   1080  \n",
       "2   1116  \n",
       "3   1208  \n",
       "4   1055  "
      ]
     },
     "execution_count": 24,
     "metadata": {},
     "output_type": "execute_result"
    }
   ],
   "source": [
    "SAT.head()"
   ]
  },
  {
   "cell_type": "markdown",
   "metadata": {},
   "source": [
    "### Columns renaming"
   ]
  },
  {
   "cell_type": "code",
   "execution_count": 25,
   "metadata": {},
   "outputs": [
    {
     "data": {
      "text/plain": [
       "Index(['year', 'state', 'participation', 'evidence_based_reading_and_writing',\n",
       "       'math', 'total'],\n",
       "      dtype='object')"
      ]
     },
     "execution_count": 25,
     "metadata": {},
     "output_type": "execute_result"
    }
   ],
   "source": [
    "SAT.columns = SAT.columns.map(lambda x: x.lower().replace(\" \",\"_\").replace(\"-\",\"_\"))\n",
    "SAT.columns"
   ]
  },
  {
   "cell_type": "markdown",
   "metadata": {},
   "source": [
    "### Save to csv"
   ]
  },
  {
   "cell_type": "code",
   "execution_count": 26,
   "metadata": {},
   "outputs": [],
   "source": [
    "SAT.to_csv(\"SAT_3years\",)"
   ]
  },
  {
   "cell_type": "markdown",
   "metadata": {},
   "source": [
    "### Data Dictionary\n",
    "\n",
    "Now that we've fixed our data, and given it appropriate names, let's create a [data dictionary](http://library.ucmerced.edu/node/10249). \n",
    "\n",
    "A data dictionary provides a quick overview of features/variables/columns, alongside data types and descriptions. The more descriptive you can be, the more useful this document is.\n",
    "\n",
    "Example of a Fictional Data Dictionary Entry: \n",
    "\n",
    "|Feature|Type|Dataset|Description|\n",
    "|---|---|---|---|\n",
    "|**county_pop**|*integer*|2010 census|The population of the county (units in thousands, where 2.5 represents 2500 people).| \n",
    "|**per_poverty**|*float*|2010 census|The percent of the county over the age of 18 living below the 200% of official US poverty rate (units percent to two decimal places 98.10 means 98.1%)|\n",
    "\n",
    "[Here's a quick link to a short guide for formatting markdown in Jupyter notebooks](https://jupyter-notebook.readthedocs.io/en/stable/examples/Notebook/Working%20With%20Markdown%20Cells.html).\n",
    "\n",
    "Provided is the skeleton for formatting a markdown table, with columns headers that will help you create a data dictionary to quickly summarize your data, as well as some examples. **This would be a great thing to copy and paste into your custom README for this project.**\n",
    "\n",
    "*Note*: if you are unsure of what a feature is, check the source of the data! This can be found in the README."
   ]
  },
  {
   "cell_type": "markdown",
   "metadata": {},
   "source": [
    "**To-Do:** *Edit the table below to create your own data dictionary for the datasets you chose.*\n",
    "\n",
    "|Feature|Type|Dataset|Description|\n",
    "|---|---|---|---|\n",
    "|column name|int/float/object|ACT/SAT|This is an example| \n"
   ]
  },
  {
   "cell_type": "markdown",
   "metadata": {},
   "source": [
    "## Exploratory Data Analysis\n",
    "\n",
    "Complete the following steps to explore your data. You are welcome to do more EDA than the steps outlined here as you feel necessary:\n",
    "1. Summary Statistics.\n",
    "2. Use a **dictionary comprehension** to apply the standard deviation function you create in part 1 to each numeric column in the dataframe.  **No loops**.\n",
    "    - Assign the output to variable `sd` as a dictionary where: \n",
    "        - Each column name is now a key \n",
    "        - That standard deviation of the column is the value \n",
    "        - *Example Output :* `{'ACT_Math': 120, 'ACT_Reading': 120, ...}`\n",
    "3. Investigate trends in the data.\n",
    "    - Using sorting and/or masking (along with the `.head()` method to avoid printing our entire dataframe), consider questions relevant to your problem statement. Some examples are provided below (but feel free to change these questions for your specific problem):\n",
    "        - Which states have the highest and lowest participation rates for the 2017, 2019, or 2019 SAT and ACT?\n",
    "        - Which states have the highest and lowest mean total/composite scores for the 2017, 2019, or 2019 SAT and ACT?\n",
    "        - Do any states with 100% participation on a given test have a rate change year-to-year?\n",
    "        - Do any states show have >50% participation on *both* tests each year?\n",
    "        - Which colleges have the highest median SAT and ACT scores for admittance?\n",
    "        - Which California school districts have the highest and lowest mean test scores?\n",
    "    - **You should comment on your findings at each step in a markdown cell below your code block**. Make sure you include at least one example of sorting your dataframe by a column, and one example of using boolean filtering (i.e., masking) to select a subset of the dataframe."
   ]
  },
  {
   "cell_type": "code",
   "execution_count": 27,
   "metadata": {},
   "outputs": [],
   "source": [
    "#Code:"
   ]
  },
  {
   "cell_type": "code",
   "execution_count": 28,
   "metadata": {},
   "outputs": [
    {
     "data": {
      "text/html": [
       "<div>\n",
       "<style scoped>\n",
       "    .dataframe tbody tr th:only-of-type {\n",
       "        vertical-align: middle;\n",
       "    }\n",
       "\n",
       "    .dataframe tbody tr th {\n",
       "        vertical-align: top;\n",
       "    }\n",
       "\n",
       "    .dataframe thead th {\n",
       "        text-align: right;\n",
       "    }\n",
       "</style>\n",
       "<table border=\"1\" class=\"dataframe\">\n",
       "  <thead>\n",
       "    <tr style=\"text-align: right;\">\n",
       "      <th></th>\n",
       "      <th>year</th>\n",
       "      <th>participation</th>\n",
       "      <th>evidence_based_reading_and_writing</th>\n",
       "      <th>math</th>\n",
       "      <th>total</th>\n",
       "    </tr>\n",
       "  </thead>\n",
       "  <tbody>\n",
       "    <tr>\n",
       "      <th>count</th>\n",
       "      <td>155.000000</td>\n",
       "      <td>155.000000</td>\n",
       "      <td>155.000000</td>\n",
       "      <td>155.000000</td>\n",
       "      <td>155.000000</td>\n",
       "    </tr>\n",
       "    <tr>\n",
       "      <th>mean</th>\n",
       "      <td>2018.012903</td>\n",
       "      <td>0.442903</td>\n",
       "      <td>563.529032</td>\n",
       "      <td>553.793548</td>\n",
       "      <td>1117.406452</td>\n",
       "    </tr>\n",
       "    <tr>\n",
       "      <th>std</th>\n",
       "      <td>0.821679</td>\n",
       "      <td>0.372013</td>\n",
       "      <td>46.842276</td>\n",
       "      <td>49.533630</td>\n",
       "      <td>95.750399</td>\n",
       "    </tr>\n",
       "    <tr>\n",
       "      <th>min</th>\n",
       "      <td>2017.000000</td>\n",
       "      <td>0.000000</td>\n",
       "      <td>480.000000</td>\n",
       "      <td>445.000000</td>\n",
       "      <td>935.000000</td>\n",
       "    </tr>\n",
       "    <tr>\n",
       "      <th>25%</th>\n",
       "      <td>2017.000000</td>\n",
       "      <td>0.040000</td>\n",
       "      <td>530.500000</td>\n",
       "      <td>520.500000</td>\n",
       "      <td>1052.000000</td>\n",
       "    </tr>\n",
       "    <tr>\n",
       "      <th>50%</th>\n",
       "      <td>2018.000000</td>\n",
       "      <td>0.490000</td>\n",
       "      <td>552.000000</td>\n",
       "      <td>545.000000</td>\n",
       "      <td>1098.000000</td>\n",
       "    </tr>\n",
       "    <tr>\n",
       "      <th>75%</th>\n",
       "      <td>2019.000000</td>\n",
       "      <td>0.735000</td>\n",
       "      <td>613.000000</td>\n",
       "      <td>595.500000</td>\n",
       "      <td>1209.000000</td>\n",
       "    </tr>\n",
       "    <tr>\n",
       "      <th>max</th>\n",
       "      <td>2019.000000</td>\n",
       "      <td>1.000000</td>\n",
       "      <td>644.000000</td>\n",
       "      <td>655.000000</td>\n",
       "      <td>1298.000000</td>\n",
       "    </tr>\n",
       "  </tbody>\n",
       "</table>\n",
       "</div>"
      ],
      "text/plain": [
       "              year  participation  evidence_based_reading_and_writing  \\\n",
       "count   155.000000     155.000000                          155.000000   \n",
       "mean   2018.012903       0.442903                          563.529032   \n",
       "std       0.821679       0.372013                           46.842276   \n",
       "min    2017.000000       0.000000                          480.000000   \n",
       "25%    2017.000000       0.040000                          530.500000   \n",
       "50%    2018.000000       0.490000                          552.000000   \n",
       "75%    2019.000000       0.735000                          613.000000   \n",
       "max    2019.000000       1.000000                          644.000000   \n",
       "\n",
       "             math        total  \n",
       "count  155.000000   155.000000  \n",
       "mean   553.793548  1117.406452  \n",
       "std     49.533630    95.750399  \n",
       "min    445.000000   935.000000  \n",
       "25%    520.500000  1052.000000  \n",
       "50%    545.000000  1098.000000  \n",
       "75%    595.500000  1209.000000  \n",
       "max    655.000000  1298.000000  "
      ]
     },
     "execution_count": 28,
     "metadata": {},
     "output_type": "execute_result"
    }
   ],
   "source": [
    "SAT.describe()"
   ]
  },
  {
   "cell_type": "code",
   "execution_count": 29,
   "metadata": {
    "scrolled": true
   },
   "outputs": [
    {
     "data": {
      "text/plain": [
       "{'evidence_based_reading_and_writing': 46.6909,\n",
       " 'math': 49.3736,\n",
       " 'total': 95.441}"
      ]
     },
     "execution_count": 29,
     "metadata": {},
     "output_type": "execute_result"
    }
   ],
   "source": [
    "sd = {k:round(cal_std(SAT[k]),4) for k in SAT.columns[3:6] }\n",
    "sd"
   ]
  },
  {
   "cell_type": "markdown",
   "metadata": {},
   "source": [
    "### Top 10 participating state"
   ]
  },
  {
   "cell_type": "code",
   "execution_count": 30,
   "metadata": {
    "scrolled": true
   },
   "outputs": [
    {
     "data": {
      "text/html": [
       "<div>\n",
       "<style scoped>\n",
       "    .dataframe tbody tr th:only-of-type {\n",
       "        vertical-align: middle;\n",
       "    }\n",
       "\n",
       "    .dataframe tbody tr th {\n",
       "        vertical-align: top;\n",
       "    }\n",
       "\n",
       "    .dataframe thead th {\n",
       "        text-align: right;\n",
       "    }\n",
       "</style>\n",
       "<table border=\"1\" class=\"dataframe\">\n",
       "  <thead>\n",
       "    <tr style=\"text-align: right;\">\n",
       "      <th></th>\n",
       "      <th>participation</th>\n",
       "    </tr>\n",
       "    <tr>\n",
       "      <th>state</th>\n",
       "      <th></th>\n",
       "    </tr>\n",
       "  </thead>\n",
       "  <tbody>\n",
       "    <tr>\n",
       "      <th>Connecticut</th>\n",
       "      <td>1.000000</td>\n",
       "    </tr>\n",
       "    <tr>\n",
       "      <th>Delaware</th>\n",
       "      <td>1.000000</td>\n",
       "    </tr>\n",
       "    <tr>\n",
       "      <th>Michigan</th>\n",
       "      <td>1.000000</td>\n",
       "    </tr>\n",
       "    <tr>\n",
       "      <th>Idaho</th>\n",
       "      <td>0.976667</td>\n",
       "    </tr>\n",
       "    <tr>\n",
       "      <th>Maine</th>\n",
       "      <td>0.976667</td>\n",
       "    </tr>\n",
       "    <tr>\n",
       "      <th>New Hampshire</th>\n",
       "      <td>0.956667</td>\n",
       "    </tr>\n",
       "    <tr>\n",
       "      <th>District of Columbia</th>\n",
       "      <td>0.953333</td>\n",
       "    </tr>\n",
       "    <tr>\n",
       "      <th>Rhode Island</th>\n",
       "      <td>0.893333</td>\n",
       "    </tr>\n",
       "    <tr>\n",
       "      <th>Florida</th>\n",
       "      <td>0.796667</td>\n",
       "    </tr>\n",
       "    <tr>\n",
       "      <th>Massachusetts</th>\n",
       "      <td>0.790000</td>\n",
       "    </tr>\n",
       "  </tbody>\n",
       "</table>\n",
       "</div>"
      ],
      "text/plain": [
       "                      participation\n",
       "state                              \n",
       "Connecticut                1.000000\n",
       "Delaware                   1.000000\n",
       "Michigan                   1.000000\n",
       "Idaho                      0.976667\n",
       "Maine                      0.976667\n",
       "New Hampshire              0.956667\n",
       "District of Columbia       0.953333\n",
       "Rhode Island               0.893333\n",
       "Florida                    0.796667\n",
       "Massachusetts              0.790000"
      ]
     },
     "execution_count": 30,
     "metadata": {},
     "output_type": "execute_result"
    }
   ],
   "source": [
    "pd.DataFrame(SAT.groupby('state')['participation'].mean().sort_values(ascending=False).head(10))"
   ]
  },
  {
   "cell_type": "markdown",
   "metadata": {},
   "source": []
  },
  {
   "cell_type": "markdown",
   "metadata": {},
   "source": [
    "### Last 10 participating state"
   ]
  },
  {
   "cell_type": "code",
   "execution_count": 31,
   "metadata": {
    "scrolled": true
   },
   "outputs": [
    {
     "data": {
      "text/html": [
       "<div>\n",
       "<style scoped>\n",
       "    .dataframe tbody tr th:only-of-type {\n",
       "        vertical-align: middle;\n",
       "    }\n",
       "\n",
       "    .dataframe tbody tr th {\n",
       "        vertical-align: top;\n",
       "    }\n",
       "\n",
       "    .dataframe thead th {\n",
       "        text-align: right;\n",
       "    }\n",
       "</style>\n",
       "<table border=\"1\" class=\"dataframe\">\n",
       "  <thead>\n",
       "    <tr style=\"text-align: right;\">\n",
       "      <th></th>\n",
       "      <th>participation</th>\n",
       "    </tr>\n",
       "    <tr>\n",
       "      <th>state</th>\n",
       "      <th></th>\n",
       "    </tr>\n",
       "  </thead>\n",
       "  <tbody>\n",
       "    <tr>\n",
       "      <th>Virgin Islands</th>\n",
       "      <td>0.000000</td>\n",
       "    </tr>\n",
       "    <tr>\n",
       "      <th>Puerto Rico</th>\n",
       "      <td>0.000000</td>\n",
       "    </tr>\n",
       "    <tr>\n",
       "      <th>North Dakota</th>\n",
       "      <td>0.020000</td>\n",
       "    </tr>\n",
       "    <tr>\n",
       "      <th>Mississippi</th>\n",
       "      <td>0.026667</td>\n",
       "    </tr>\n",
       "    <tr>\n",
       "      <th>Iowa</th>\n",
       "      <td>0.026667</td>\n",
       "    </tr>\n",
       "    <tr>\n",
       "      <th>Wyoming</th>\n",
       "      <td>0.030000</td>\n",
       "    </tr>\n",
       "    <tr>\n",
       "      <th>Wisconsin</th>\n",
       "      <td>0.030000</td>\n",
       "    </tr>\n",
       "    <tr>\n",
       "      <th>Nebraska</th>\n",
       "      <td>0.030000</td>\n",
       "    </tr>\n",
       "    <tr>\n",
       "      <th>South Dakota</th>\n",
       "      <td>0.030000</td>\n",
       "    </tr>\n",
       "    <tr>\n",
       "      <th>Missouri</th>\n",
       "      <td>0.036667</td>\n",
       "    </tr>\n",
       "  </tbody>\n",
       "</table>\n",
       "</div>"
      ],
      "text/plain": [
       "                participation\n",
       "state                        \n",
       "Virgin Islands       0.000000\n",
       "Puerto Rico          0.000000\n",
       "North Dakota         0.020000\n",
       "Mississippi          0.026667\n",
       "Iowa                 0.026667\n",
       "Wyoming              0.030000\n",
       "Wisconsin            0.030000\n",
       "Nebraska             0.030000\n",
       "South Dakota         0.030000\n",
       "Missouri             0.036667"
      ]
     },
     "execution_count": 31,
     "metadata": {},
     "output_type": "execute_result"
    }
   ],
   "source": [
    "pd.DataFrame(SAT.groupby('state')['participation'].mean().sort_values(ascending=True).head(10))"
   ]
  },
  {
   "cell_type": "markdown",
   "metadata": {},
   "source": []
  },
  {
   "cell_type": "markdown",
   "metadata": {},
   "source": [
    "### Significant growth states"
   ]
  },
  {
   "cell_type": "code",
   "execution_count": 32,
   "metadata": {},
   "outputs": [],
   "source": [
    "state_wise = SAT.pivot(index='state', columns='year', values='participation').reset_index()\n",
    "state_wise['pct_change'] = (state_wise[2019] - state_wise[2017])/state_wise[2017]*100"
   ]
  },
  {
   "cell_type": "code",
   "execution_count": 33,
   "metadata": {
    "scrolled": false
   },
   "outputs": [
    {
     "data": {
      "text/html": [
       "<div>\n",
       "<style scoped>\n",
       "    .dataframe tbody tr th:only-of-type {\n",
       "        vertical-align: middle;\n",
       "    }\n",
       "\n",
       "    .dataframe tbody tr th {\n",
       "        vertical-align: top;\n",
       "    }\n",
       "\n",
       "    .dataframe thead th {\n",
       "        text-align: right;\n",
       "    }\n",
       "</style>\n",
       "<table border=\"1\" class=\"dataframe\">\n",
       "  <thead>\n",
       "    <tr style=\"text-align: right;\">\n",
       "      <th>year</th>\n",
       "      <th>state</th>\n",
       "      <th>2017</th>\n",
       "      <th>2018</th>\n",
       "      <th>2019</th>\n",
       "      <th>pct_change</th>\n",
       "    </tr>\n",
       "  </thead>\n",
       "  <tbody>\n",
       "    <tr>\n",
       "      <th>13</th>\n",
       "      <td>Illinois</td>\n",
       "      <td>0.09</td>\n",
       "      <td>0.99</td>\n",
       "      <td>1.00</td>\n",
       "      <td>1011.111111</td>\n",
       "    </tr>\n",
       "    <tr>\n",
       "      <th>5</th>\n",
       "      <td>Colorado</td>\n",
       "      <td>0.11</td>\n",
       "      <td>1.00</td>\n",
       "      <td>1.00</td>\n",
       "      <td>809.090909</td>\n",
       "    </tr>\n",
       "    <tr>\n",
       "      <th>50</th>\n",
       "      <td>West Virginia</td>\n",
       "      <td>0.14</td>\n",
       "      <td>0.28</td>\n",
       "      <td>0.99</td>\n",
       "      <td>607.142857</td>\n",
       "    </tr>\n",
       "    <tr>\n",
       "      <th>36</th>\n",
       "      <td>Oklahoma</td>\n",
       "      <td>0.07</td>\n",
       "      <td>0.08</td>\n",
       "      <td>0.22</td>\n",
       "      <td>214.285714</td>\n",
       "    </tr>\n",
       "    <tr>\n",
       "      <th>3</th>\n",
       "      <td>Arkansas</td>\n",
       "      <td>0.03</td>\n",
       "      <td>0.05</td>\n",
       "      <td>0.06</td>\n",
       "      <td>100.000000</td>\n",
       "    </tr>\n",
       "    <tr>\n",
       "      <th>31</th>\n",
       "      <td>New Mexico</td>\n",
       "      <td>0.11</td>\n",
       "      <td>0.16</td>\n",
       "      <td>0.18</td>\n",
       "      <td>63.636364</td>\n",
       "    </tr>\n",
       "    <tr>\n",
       "      <th>35</th>\n",
       "      <td>Ohio</td>\n",
       "      <td>0.12</td>\n",
       "      <td>0.18</td>\n",
       "      <td>0.19</td>\n",
       "      <td>58.333333</td>\n",
       "    </tr>\n",
       "    <tr>\n",
       "      <th>15</th>\n",
       "      <td>Iowa</td>\n",
       "      <td>0.02</td>\n",
       "      <td>0.03</td>\n",
       "      <td>0.03</td>\n",
       "      <td>50.000000</td>\n",
       "    </tr>\n",
       "    <tr>\n",
       "      <th>24</th>\n",
       "      <td>Mississippi</td>\n",
       "      <td>0.02</td>\n",
       "      <td>0.03</td>\n",
       "      <td>0.03</td>\n",
       "      <td>50.000000</td>\n",
       "    </tr>\n",
       "    <tr>\n",
       "      <th>40</th>\n",
       "      <td>Rhode Island</td>\n",
       "      <td>0.71</td>\n",
       "      <td>0.97</td>\n",
       "      <td>1.00</td>\n",
       "      <td>40.845070</td>\n",
       "    </tr>\n",
       "  </tbody>\n",
       "</table>\n",
       "</div>"
      ],
      "text/plain": [
       "year          state  2017  2018  2019   pct_change\n",
       "13         Illinois  0.09  0.99  1.00  1011.111111\n",
       "5          Colorado  0.11  1.00  1.00   809.090909\n",
       "50    West Virginia  0.14  0.28  0.99   607.142857\n",
       "36         Oklahoma  0.07  0.08  0.22   214.285714\n",
       "3          Arkansas  0.03  0.05  0.06   100.000000\n",
       "31       New Mexico  0.11  0.16  0.18    63.636364\n",
       "35             Ohio  0.12  0.18  0.19    58.333333\n",
       "15             Iowa  0.02  0.03  0.03    50.000000\n",
       "24      Mississippi  0.02  0.03  0.03    50.000000\n",
       "40     Rhode Island  0.71  0.97  1.00    40.845070"
      ]
     },
     "execution_count": 33,
     "metadata": {},
     "output_type": "execute_result"
    }
   ],
   "source": [
    "state_wise.sort_values(by='pct_change',ascending=False).head(10)"
   ]
  },
  {
   "cell_type": "markdown",
   "metadata": {},
   "source": []
  },
  {
   "cell_type": "markdown",
   "metadata": {},
   "source": [
    "### Significant shrink states"
   ]
  },
  {
   "cell_type": "code",
   "execution_count": 34,
   "metadata": {
    "scrolled": true
   },
   "outputs": [
    {
     "data": {
      "text/html": [
       "<div>\n",
       "<style scoped>\n",
       "    .dataframe tbody tr th:only-of-type {\n",
       "        vertical-align: middle;\n",
       "    }\n",
       "\n",
       "    .dataframe tbody tr th {\n",
       "        vertical-align: top;\n",
       "    }\n",
       "\n",
       "    .dataframe thead th {\n",
       "        text-align: right;\n",
       "    }\n",
       "</style>\n",
       "<table border=\"1\" class=\"dataframe\">\n",
       "  <thead>\n",
       "    <tr style=\"text-align: right;\">\n",
       "      <th>year</th>\n",
       "      <th>state</th>\n",
       "      <th>2017</th>\n",
       "      <th>2018</th>\n",
       "      <th>2019</th>\n",
       "      <th>pct_change</th>\n",
       "    </tr>\n",
       "  </thead>\n",
       "  <tbody>\n",
       "    <tr>\n",
       "      <th>28</th>\n",
       "      <td>Nevada</td>\n",
       "      <td>0.26</td>\n",
       "      <td>0.23</td>\n",
       "      <td>0.20</td>\n",
       "      <td>-23.076923</td>\n",
       "    </tr>\n",
       "    <tr>\n",
       "      <th>26</th>\n",
       "      <td>Montana</td>\n",
       "      <td>0.10</td>\n",
       "      <td>0.10</td>\n",
       "      <td>0.09</td>\n",
       "      <td>-10.000000</td>\n",
       "    </tr>\n",
       "    <tr>\n",
       "      <th>8</th>\n",
       "      <td>District of Columbia</td>\n",
       "      <td>1.00</td>\n",
       "      <td>0.92</td>\n",
       "      <td>0.94</td>\n",
       "      <td>-6.000000</td>\n",
       "    </tr>\n",
       "    <tr>\n",
       "      <th>11</th>\n",
       "      <td>Hawaii</td>\n",
       "      <td>0.55</td>\n",
       "      <td>0.56</td>\n",
       "      <td>0.54</td>\n",
       "      <td>-1.818182</td>\n",
       "    </tr>\n",
       "    <tr>\n",
       "      <th>29</th>\n",
       "      <td>New Hampshire</td>\n",
       "      <td>0.96</td>\n",
       "      <td>0.96</td>\n",
       "      <td>0.95</td>\n",
       "      <td>-1.041667</td>\n",
       "    </tr>\n",
       "    <tr>\n",
       "      <th>52</th>\n",
       "      <td>Wyoming</td>\n",
       "      <td>0.03</td>\n",
       "      <td>0.03</td>\n",
       "      <td>0.03</td>\n",
       "      <td>0.000000</td>\n",
       "    </tr>\n",
       "    <tr>\n",
       "      <th>27</th>\n",
       "      <td>Nebraska</td>\n",
       "      <td>0.03</td>\n",
       "      <td>0.03</td>\n",
       "      <td>0.03</td>\n",
       "      <td>0.000000</td>\n",
       "    </tr>\n",
       "    <tr>\n",
       "      <th>51</th>\n",
       "      <td>Wisconsin</td>\n",
       "      <td>0.03</td>\n",
       "      <td>0.03</td>\n",
       "      <td>0.03</td>\n",
       "      <td>0.000000</td>\n",
       "    </tr>\n",
       "    <tr>\n",
       "      <th>42</th>\n",
       "      <td>South Dakota</td>\n",
       "      <td>0.03</td>\n",
       "      <td>0.03</td>\n",
       "      <td>0.03</td>\n",
       "      <td>0.000000</td>\n",
       "    </tr>\n",
       "    <tr>\n",
       "      <th>22</th>\n",
       "      <td>Michigan</td>\n",
       "      <td>1.00</td>\n",
       "      <td>1.00</td>\n",
       "      <td>1.00</td>\n",
       "      <td>0.000000</td>\n",
       "    </tr>\n",
       "  </tbody>\n",
       "</table>\n",
       "</div>"
      ],
      "text/plain": [
       "year                 state  2017  2018  2019  pct_change\n",
       "28                  Nevada  0.26  0.23  0.20  -23.076923\n",
       "26                 Montana  0.10  0.10  0.09  -10.000000\n",
       "8     District of Columbia  1.00  0.92  0.94   -6.000000\n",
       "11                  Hawaii  0.55  0.56  0.54   -1.818182\n",
       "29           New Hampshire  0.96  0.96  0.95   -1.041667\n",
       "52                 Wyoming  0.03  0.03  0.03    0.000000\n",
       "27                Nebraska  0.03  0.03  0.03    0.000000\n",
       "51               Wisconsin  0.03  0.03  0.03    0.000000\n",
       "42            South Dakota  0.03  0.03  0.03    0.000000\n",
       "22                Michigan  1.00  1.00  1.00    0.000000"
      ]
     },
     "execution_count": 34,
     "metadata": {},
     "output_type": "execute_result"
    }
   ],
   "source": [
    "state_wise.sort_values(by='pct_change',ascending=True).head(10)"
   ]
  },
  {
   "cell_type": "markdown",
   "metadata": {},
   "source": []
  },
  {
   "cell_type": "markdown",
   "metadata": {},
   "source": [
    "**To-Do:** *Edit this cell with your findings on trends in the data (step 3 above).*"
   ]
  },
  {
   "cell_type": "markdown",
   "metadata": {},
   "source": [
    "## Visualize the Data\n",
    "\n",
    "There's not a magic bullet recommendation for the right number of plots to understand a given dataset, but visualizing your data is *always* a good idea. Not only does it allow you to quickly convey your findings (even if you have a non-technical audience), it will often reveal trends in your data that escaped you when you were looking only at numbers. It is important to not only create visualizations, but to **interpret your visualizations** as well.\n",
    "\n",
    "**Every plot should**:\n",
    "- Have a title\n",
    "- Have axis labels\n",
    "- Have appropriate tick labels\n",
    "- Text is legible in a plot\n",
    "- Plots demonstrate meaningful and valid relationships\n",
    "- Have an interpretation to aid understanding\n",
    "\n",
    "Here is an example of what your plots should look like following the above guidelines. Note that while the content of this example is unrelated, the principles of visualization hold:\n",
    "\n",
    "![](https://snag.gy/hCBR1U.jpg)\n",
    "*Interpretation: The above image shows that as we increase our spending on advertising, our sales numbers also tend to increase. There is a positive correlation between advertising spending and sales.*\n",
    "\n",
    "---\n",
    "\n",
    "Here are some prompts to get you started with visualizations. Feel free to add additional visualizations as you see fit:\n",
    "1. Use Seaborn's heatmap with pandas `.corr()` to visualize correlations between all numeric features.\n",
    "    - Heatmaps are generally not appropriate for presentations, and should often be excluded from reports as they can be visually overwhelming. **However**, they can be extremely useful in identify relationships of potential interest (as well as identifying potential collinearity before modeling).\n",
    "    - Please take time to format your output, adding a title. Look through some of the additional arguments and options. (Axis labels aren't really necessary, as long as the title is informative).\n",
    "2. Visualize distributions using histograms. If you have a lot, consider writing a custom function and use subplots.\n",
    "    - *OPTIONAL*: Summarize the underlying distributions of your features (in words & statistics)\n",
    "         - Be thorough in your verbal description of these distributions.\n",
    "         - Be sure to back up these summaries with statistics.\n",
    "         - We generally assume that data we sample from a population will be normally distributed. Do we observe this trend? Explain your answers for each distribution and how you think this will affect estimates made from these data.\n",
    "3. Plot and interpret boxplots. \n",
    "    - Boxplots demonstrate central tendency and spread in variables. In a certain sense, these are somewhat redundant with histograms, but you may be better able to identify clear outliers or differences in IQR, etc.\n",
    "    - Multiple values can be plotted to a single boxplot as long as they are of the same relative scale (meaning they have similar min/max values).\n",
    "    - Each boxplot should:\n",
    "        - Only include variables of a similar scale\n",
    "        - Have clear labels for each variable\n",
    "        - Have appropriate titles and labels\n",
    "4. Plot and interpret scatter plots to view relationships between features. Feel free to write a custom function, and subplot if you'd like. Functions save both time and space.\n",
    "    - Your plots should have:\n",
    "        - Two clearly labeled axes\n",
    "        - A proper title\n",
    "        - Colors and symbols that are clear and unmistakable\n",
    "5. Additional plots of your choosing.\n",
    "    - Are there any additional trends or relationships you haven't explored? Was there something interesting you saw that you'd like to dive further into? It's likely that there are a few more plots you might want to generate to support your narrative and recommendations that you are building toward. **As always, make sure you're interpreting your plots as you go**."
   ]
  },
  {
   "cell_type": "code",
   "execution_count": 35,
   "metadata": {},
   "outputs": [],
   "source": [
    "# Code"
   ]
  },
  {
   "cell_type": "markdown",
   "metadata": {},
   "source": [
    "### Participation map"
   ]
  },
  {
   "cell_type": "code",
   "execution_count": 36,
   "metadata": {
    "code_folding": [
     2,
     12
    ],
    "hide_input": true,
    "scrolled": false
   },
   "outputs": [
    {
     "data": {
      "text/html": [
       "<div style=\"width:100%;\"><div style=\"position:relative;width:100%;height:0;padding-bottom:60%;\"><span style=\"color:#565656\">Make this Notebook Trusted to load map: File -> Trust Notebook</span><iframe src=\"about:blank\" style=\"position:absolute;width:100%;height:100%;left:0;top:0;border:none !important;\" data-html=%3C%21DOCTYPE%20html%3E%0A%3Chead%3E%20%20%20%20%0A%20%20%20%20%3Cmeta%20http-equiv%3D%22content-type%22%20content%3D%22text/html%3B%20charset%3DUTF-8%22%20/%3E%0A%20%20%20%20%0A%20%20%20%20%20%20%20%20%3Cscript%3E%0A%20%20%20%20%20%20%20%20%20%20%20%20L_NO_TOUCH%20%3D%20false%3B%0A%20%20%20%20%20%20%20%20%20%20%20%20L_DISABLE_3D%20%3D%20false%3B%0A%20%20%20%20%20%20%20%20%3C/script%3E%0A%20%20%20%20%0A%20%20%20%20%3Cstyle%3Ehtml%2C%20body%20%7Bwidth%3A%20100%25%3Bheight%3A%20100%25%3Bmargin%3A%200%3Bpadding%3A%200%3B%7D%3C/style%3E%0A%20%20%20%20%3Cstyle%3E%23map%20%7Bposition%3Aabsolute%3Btop%3A0%3Bbottom%3A0%3Bright%3A0%3Bleft%3A0%3B%7D%3C/style%3E%0A%20%20%20%20%3Cscript%20src%3D%22https%3A//cdn.jsdelivr.net/npm/leaflet%401.6.0/dist/leaflet.js%22%3E%3C/script%3E%0A%20%20%20%20%3Cscript%20src%3D%22https%3A//code.jquery.com/jquery-1.12.4.min.js%22%3E%3C/script%3E%0A%20%20%20%20%3Cscript%20src%3D%22https%3A//maxcdn.bootstrapcdn.com/bootstrap/3.2.0/js/bootstrap.min.js%22%3E%3C/script%3E%0A%20%20%20%20%3Cscript%20src%3D%22https%3A//cdnjs.cloudflare.com/ajax/libs/Leaflet.awesome-markers/2.0.2/leaflet.awesome-markers.js%22%3E%3C/script%3E%0A%20%20%20%20%3Clink%20rel%3D%22stylesheet%22%20href%3D%22https%3A//cdn.jsdelivr.net/npm/leaflet%401.6.0/dist/leaflet.css%22/%3E%0A%20%20%20%20%3Clink%20rel%3D%22stylesheet%22%20href%3D%22https%3A//maxcdn.bootstrapcdn.com/bootstrap/3.2.0/css/bootstrap.min.css%22/%3E%0A%20%20%20%20%3Clink%20rel%3D%22stylesheet%22%20href%3D%22https%3A//maxcdn.bootstrapcdn.com/bootstrap/3.2.0/css/bootstrap-theme.min.css%22/%3E%0A%20%20%20%20%3Clink%20rel%3D%22stylesheet%22%20href%3D%22https%3A//maxcdn.bootstrapcdn.com/font-awesome/4.6.3/css/font-awesome.min.css%22/%3E%0A%20%20%20%20%3Clink%20rel%3D%22stylesheet%22%20href%3D%22https%3A//cdnjs.cloudflare.com/ajax/libs/Leaflet.awesome-markers/2.0.2/leaflet.awesome-markers.css%22/%3E%0A%20%20%20%20%3Clink%20rel%3D%22stylesheet%22%20href%3D%22https%3A//cdn.jsdelivr.net/gh/python-visualization/folium/folium/templates/leaflet.awesome.rotate.min.css%22/%3E%0A%20%20%20%20%0A%20%20%20%20%20%20%20%20%20%20%20%20%3Cmeta%20name%3D%22viewport%22%20content%3D%22width%3Ddevice-width%2C%0A%20%20%20%20%20%20%20%20%20%20%20%20%20%20%20%20initial-scale%3D1.0%2C%20maximum-scale%3D1.0%2C%20user-scalable%3Dno%22%20/%3E%0A%20%20%20%20%20%20%20%20%20%20%20%20%3Cstyle%3E%0A%20%20%20%20%20%20%20%20%20%20%20%20%20%20%20%20%23map_ddaa3a6413124d32adae5650d9e1562e%20%7B%0A%20%20%20%20%20%20%20%20%20%20%20%20%20%20%20%20%20%20%20%20position%3A%20relative%3B%0A%20%20%20%20%20%20%20%20%20%20%20%20%20%20%20%20%20%20%20%20width%3A%20100.0%25%3B%0A%20%20%20%20%20%20%20%20%20%20%20%20%20%20%20%20%20%20%20%20height%3A%20100.0%25%3B%0A%20%20%20%20%20%20%20%20%20%20%20%20%20%20%20%20%20%20%20%20left%3A%200.0%25%3B%0A%20%20%20%20%20%20%20%20%20%20%20%20%20%20%20%20%20%20%20%20top%3A%200.0%25%3B%0A%20%20%20%20%20%20%20%20%20%20%20%20%20%20%20%20%7D%0A%20%20%20%20%20%20%20%20%20%20%20%20%3C/style%3E%0A%20%20%20%20%20%20%20%20%0A%20%20%20%20%3Cscript%20src%3D%22https%3A//cdnjs.cloudflare.com/ajax/libs/d3/3.5.5/d3.min.js%22%3E%3C/script%3E%0A%3C/head%3E%0A%3Cbody%3E%20%20%20%20%0A%20%20%20%20%0A%20%20%20%20%20%20%20%20%20%20%20%20%3Cdiv%20class%3D%22folium-map%22%20id%3D%22map_ddaa3a6413124d32adae5650d9e1562e%22%20%3E%3C/div%3E%0A%20%20%20%20%20%20%20%20%0A%3C/body%3E%0A%3Cscript%3E%20%20%20%20%0A%20%20%20%20%0A%20%20%20%20%20%20%20%20%20%20%20%20var%20map_ddaa3a6413124d32adae5650d9e1562e%20%3D%20L.map%28%0A%20%20%20%20%20%20%20%20%20%20%20%20%20%20%20%20%22map_ddaa3a6413124d32adae5650d9e1562e%22%2C%0A%20%20%20%20%20%20%20%20%20%20%20%20%20%20%20%20%7B%0A%20%20%20%20%20%20%20%20%20%20%20%20%20%20%20%20%20%20%20%20center%3A%20%5B43.0%2C%20-75.0%5D%2C%0A%20%20%20%20%20%20%20%20%20%20%20%20%20%20%20%20%20%20%20%20crs%3A%20L.CRS.EPSG3857%2C%0A%20%20%20%20%20%20%20%20%20%20%20%20%20%20%20%20%20%20%20%20zoom%3A%203%2C%0A%20%20%20%20%20%20%20%20%20%20%20%20%20%20%20%20%20%20%20%20zoomControl%3A%20true%2C%0A%20%20%20%20%20%20%20%20%20%20%20%20%20%20%20%20%20%20%20%20preferCanvas%3A%20false%2C%0A%20%20%20%20%20%20%20%20%20%20%20%20%20%20%20%20%7D%0A%20%20%20%20%20%20%20%20%20%20%20%20%29%3B%0A%0A%20%20%20%20%20%20%20%20%20%20%20%20%0A%0A%20%20%20%20%20%20%20%20%0A%20%20%20%20%0A%20%20%20%20%20%20%20%20%20%20%20%20var%20tile_layer_2351b5ab42da4efd8ac0350fdced2e4e%20%3D%20L.tileLayer%28%0A%20%20%20%20%20%20%20%20%20%20%20%20%20%20%20%20%22https%3A//%7Bs%7D.tile.openstreetmap.org/%7Bz%7D/%7Bx%7D/%7By%7D.png%22%2C%0A%20%20%20%20%20%20%20%20%20%20%20%20%20%20%20%20%7B%22attribution%22%3A%20%22Data%20by%20%5Cu0026copy%3B%20%5Cu003ca%20href%3D%5C%22http%3A//openstreetmap.org%5C%22%5Cu003eOpenStreetMap%5Cu003c/a%5Cu003e%2C%20under%20%5Cu003ca%20href%3D%5C%22http%3A//www.openstreetmap.org/copyright%5C%22%5Cu003eODbL%5Cu003c/a%5Cu003e.%22%2C%20%22detectRetina%22%3A%20false%2C%20%22maxNativeZoom%22%3A%2018%2C%20%22maxZoom%22%3A%2018%2C%20%22minZoom%22%3A%200%2C%20%22noWrap%22%3A%20false%2C%20%22opacity%22%3A%201%2C%20%22subdomains%22%3A%20%22abc%22%2C%20%22tms%22%3A%20false%7D%0A%20%20%20%20%20%20%20%20%20%20%20%20%29.addTo%28map_ddaa3a6413124d32adae5650d9e1562e%29%3B%0A%20%20%20%20%20%20%20%20%0A%20%20%20%20%0A%20%20%20%20%20%20%20%20%20%20%20%20var%20choropleth_760ae3dd7a344512ac099de8fb972d33%20%3D%20L.featureGroup%28%0A%20%20%20%20%20%20%20%20%20%20%20%20%20%20%20%20%7B%7D%0A%20%20%20%20%20%20%20%20%20%20%20%20%29.addTo%28map_ddaa3a6413124d32adae5650d9e1562e%29%3B%0A%20%20%20%20%20%20%20%20%0A%20%20%20%20%0A%20%20%20%20%20%20%20%20function%20geo_json_ee792f3b224c40d3b7fa23c2fc11e6b7_styler%28feature%29%20%7B%0A%20%20%20%20%20%20%20%20%20%20%20%20switch%28feature.id%29%20%7B%0A%20%20%20%20%20%20%20%20%20%20%20%20%20%20%20%20case%20%22AK%22%3A%20%0A%20%20%20%20%20%20%20%20%20%20%20%20%20%20%20%20%20%20%20%20return%20%7B%22color%22%3A%20%22black%22%2C%20%22fillColor%22%3A%20%22%23a1d99b%22%2C%20%22fillOpacity%22%3A%200.6%2C%20%22opacity%22%3A%200.2%2C%20%22weight%22%3A%201%7D%3B%0A%20%20%20%20%20%20%20%20%20%20%20%20%20%20%20%20case%20%22AZ%22%3A%20%0A%20%20%20%20%20%20%20%20%20%20%20%20%20%20%20%20%20%20%20%20return%20%7B%22color%22%3A%20%22black%22%2C%20%22fillColor%22%3A%20%22%23c7e9c0%22%2C%20%22fillOpacity%22%3A%200.6%2C%20%22opacity%22%3A%200.2%2C%20%22weight%22%3A%201%7D%3B%0A%20%20%20%20%20%20%20%20%20%20%20%20%20%20%20%20case%20%22CA%22%3A%20case%20%22IN%22%3A%20case%20%22VT%22%3A%20%0A%20%20%20%20%20%20%20%20%20%20%20%20%20%20%20%20%20%20%20%20return%20%7B%22color%22%3A%20%22black%22%2C%20%22fillColor%22%3A%20%22%2341ab5d%22%2C%20%22fillOpacity%22%3A%200.6%2C%20%22opacity%22%3A%200.2%2C%20%22weight%22%3A%201%7D%3B%0A%20%20%20%20%20%20%20%20%20%20%20%20%20%20%20%20case%20%22CO%22%3A%20case%20%22CT%22%3A%20case%20%22DE%22%3A%20case%20%22FL%22%3A%20case%20%22ID%22%3A%20case%20%22IL%22%3A%20case%20%22ME%22%3A%20case%20%22MI%22%3A%20case%20%22NH%22%3A%20case%20%22RI%22%3A%20case%20%22WV%22%3A%20%0A%20%20%20%20%20%20%20%20%20%20%20%20%20%20%20%20%20%20%20%20return%20%7B%22color%22%3A%20%22black%22%2C%20%22fillColor%22%3A%20%22%2300441b%22%2C%20%22fillOpacity%22%3A%200.6%2C%20%22opacity%22%3A%200.2%2C%20%22weight%22%3A%201%7D%3B%0A%20%20%20%20%20%20%20%20%20%20%20%20%20%20%20%20case%20%22GA%22%3A%20case%20%22PA%22%3A%20case%20%22SC%22%3A%20case%20%22TX%22%3A%20case%20%22VA%22%3A%20case%20%22WA%22%3A%20%0A%20%20%20%20%20%20%20%20%20%20%20%20%20%20%20%20%20%20%20%20return%20%7B%22color%22%3A%20%22black%22%2C%20%22fillColor%22%3A%20%22%23238b45%22%2C%20%22fillOpacity%22%3A%200.6%2C%20%22opacity%22%3A%200.2%2C%20%22weight%22%3A%201%7D%3B%0A%20%20%20%20%20%20%20%20%20%20%20%20%20%20%20%20case%20%22HI%22%3A%20case%20%22NC%22%3A%20case%20%22OR%22%3A%20%0A%20%20%20%20%20%20%20%20%20%20%20%20%20%20%20%20%20%20%20%20return%20%7B%22color%22%3A%20%22black%22%2C%20%22fillColor%22%3A%20%22%2374c476%22%2C%20%22fillOpacity%22%3A%200.6%2C%20%22opacity%22%3A%200.2%2C%20%22weight%22%3A%201%7D%3B%0A%20%20%20%20%20%20%20%20%20%20%20%20%20%20%20%20case%20%22MD%22%3A%20case%20%22MA%22%3A%20case%20%22NJ%22%3A%20case%20%22NY%22%3A%20%0A%20%20%20%20%20%20%20%20%20%20%20%20%20%20%20%20%20%20%20%20return%20%7B%22color%22%3A%20%22black%22%2C%20%22fillColor%22%3A%20%22%23006d2c%22%2C%20%22fillOpacity%22%3A%200.6%2C%20%22opacity%22%3A%200.2%2C%20%22weight%22%3A%201%7D%3B%0A%20%20%20%20%20%20%20%20%20%20%20%20%20%20%20%20case%20%22NV%22%3A%20case%20%22NM%22%3A%20case%20%22OH%22%3A%20case%20%22OK%22%3A%20%0A%20%20%20%20%20%20%20%20%20%20%20%20%20%20%20%20%20%20%20%20return%20%7B%22color%22%3A%20%22black%22%2C%20%22fillColor%22%3A%20%22%23e5f5e0%22%2C%20%22fillOpacity%22%3A%200.6%2C%20%22opacity%22%3A%200.2%2C%20%22weight%22%3A%201%7D%3B%0A%20%20%20%20%20%20%20%20%20%20%20%20%20%20%20%20default%3A%0A%20%20%20%20%20%20%20%20%20%20%20%20%20%20%20%20%20%20%20%20return%20%7B%22color%22%3A%20%22black%22%2C%20%22fillColor%22%3A%20%22%23f7fcf5%22%2C%20%22fillOpacity%22%3A%200.6%2C%20%22opacity%22%3A%200.2%2C%20%22weight%22%3A%201%7D%3B%0A%20%20%20%20%20%20%20%20%20%20%20%20%7D%0A%20%20%20%20%20%20%20%20%7D%0A%0A%20%20%20%20%20%20%20%20function%20geo_json_ee792f3b224c40d3b7fa23c2fc11e6b7_onEachFeature%28feature%2C%20layer%29%20%7B%0A%20%20%20%20%20%20%20%20%20%20%20%20layer.on%28%7B%0A%20%20%20%20%20%20%20%20%20%20%20%20%7D%29%3B%0A%20%20%20%20%20%20%20%20%7D%3B%0A%20%20%20%20%20%20%20%20var%20geo_json_ee792f3b224c40d3b7fa23c2fc11e6b7%20%3D%20L.geoJson%28null%2C%20%7B%0A%20%20%20%20%20%20%20%20%20%20%20%20%20%20%20%20onEachFeature%3A%20geo_json_ee792f3b224c40d3b7fa23c2fc11e6b7_onEachFeature%2C%0A%20%20%20%20%20%20%20%20%20%20%20%20%0A%20%20%20%20%20%20%20%20%20%20%20%20%20%20%20%20style%3A%20geo_json_ee792f3b224c40d3b7fa23c2fc11e6b7_styler%2C%0A%20%20%20%20%20%20%20%20%7D%29%3B%0A%0A%20%20%20%20%20%20%20%20function%20geo_json_ee792f3b224c40d3b7fa23c2fc11e6b7_add%20%28data%29%20%7B%0A%20%20%20%20%20%20%20%20%20%20%20%20geo_json_ee792f3b224c40d3b7fa23c2fc11e6b7%0A%20%20%20%20%20%20%20%20%20%20%20%20%20%20%20%20.addData%28data%29%0A%20%20%20%20%20%20%20%20%20%20%20%20%20%20%20%20.addTo%28choropleth_760ae3dd7a344512ac099de8fb972d33%29%3B%0A%20%20%20%20%20%20%20%20%7D%0A%20%20%20%20%20%20%20%20%20%20%20%20geo_json_ee792f3b224c40d3b7fa23c2fc11e6b7_add%28%7B%22features%22%3A%20%5B%7B%22geometry%22%3A%20%7B%22coordinates%22%3A%20%5B%5B%5B-87.359296%2C%2035.00118%5D%2C%20%5B-85.606675%2C%2034.984749%5D%2C%20%5B-85.431413%2C%2034.124869%5D%2C%20%5B-85.184951%2C%2032.859696%5D%2C%20%5B-85.069935%2C%2032.580372%5D%2C%20%5B-84.960397%2C%2032.421541%5D%2C%20%5B-85.004212%2C%2032.322956%5D%2C%20%5B-84.889196%2C%2032.262709%5D%2C%20%5B-85.058981%2C%2032.13674%5D%2C%20%5B-85.053504%2C%2032.01077%5D%2C%20%5B-85.141136%2C%2031.840985%5D%2C%20%5B-85.042551%2C%2031.539753%5D%2C%20%5B-85.113751%2C%2031.27686%5D%2C%20%5B-85.004212%2C%2031.003013%5D%2C%20%5B-85.497137%2C%2030.997536%5D%2C%20%5B-87.600282%2C%2030.997536%5D%2C%20%5B-87.633143%2C%2030.86609%5D%2C%20%5B-87.408589%2C%2030.674397%5D%2C%20%5B-87.446927%2C%2030.510088%5D%2C%20%5B-87.37025%2C%2030.427934%5D%2C%20%5B-87.518128%2C%2030.280057%5D%2C%20%5B-87.655051%2C%2030.247195%5D%2C%20%5B-87.90699%2C%2030.411504%5D%2C%20%5B-87.934375%2C%2030.657966%5D%2C%20%5B-88.011052%2C%2030.685351%5D%2C%20%5B-88.10416%2C%2030.499135%5D%2C%20%5B-88.137022%2C%2030.318396%5D%2C%20%5B-88.394438%2C%2030.367688%5D%2C%20%5B-88.471115%2C%2031.895754%5D%2C%20%5B-88.241084%2C%2033.796253%5D%2C%20%5B-88.098683%2C%2034.891641%5D%2C%20%5B-88.202745%2C%2034.995703%5D%2C%20%5B-87.359296%2C%2035.00118%5D%5D%5D%2C%20%22type%22%3A%20%22Polygon%22%7D%2C%20%22id%22%3A%20%22AL%22%2C%20%22properties%22%3A%20%7B%22name%22%3A%20%22Alabama%22%7D%2C%20%22type%22%3A%20%22Feature%22%7D%2C%20%7B%22geometry%22%3A%20%7B%22coordinates%22%3A%20%5B%5B%5B%5B-131.602021%2C%2055.117982%5D%2C%20%5B-131.569159%2C%2055.28229%5D%2C%20%5B-131.355558%2C%2055.183705%5D%2C%20%5B-131.38842%2C%2055.01392%5D%2C%20%5B-131.645836%2C%2055.035827%5D%2C%20%5B-131.602021%2C%2055.117982%5D%5D%5D%2C%20%5B%5B%5B-131.832052%2C%2055.42469%5D%2C%20%5B-131.645836%2C%2055.304197%5D%2C%20%5B-131.749898%2C%2055.128935%5D%2C%20%5B-131.832052%2C%2055.189182%5D%2C%20%5B-131.832052%2C%2055.42469%5D%5D%5D%2C%20%5B%5B%5B-132.976733%2C%2056.437924%5D%2C%20%5B-132.735747%2C%2056.459832%5D%2C%20%5B-132.631685%2C%2056.421493%5D%2C%20%5B-132.664547%2C%2056.273616%5D%2C%20%5B-132.878148%2C%2056.240754%5D%2C%20%5B-133.069841%2C%2056.333862%5D%2C%20%5B-132.976733%2C%2056.437924%5D%5D%5D%2C%20%5B%5B%5B-133.595627%2C%2056.350293%5D%2C%20%5B-133.162949%2C%2056.317431%5D%2C%20%5B-133.05341%2C%2056.125739%5D%2C%20%5B-132.620732%2C%2055.912138%5D%2C%20%5B-132.472854%2C%2055.780691%5D%2C%20%5B-132.4619%2C%2055.671152%5D%2C%20%5B-132.357838%2C%2055.649245%5D%2C%20%5B-132.341408%2C%2055.506844%5D%2C%20%5B-132.166146%2C%2055.364444%5D%2C%20%5B-132.144238%2C%2055.238474%5D%2C%20%5B-132.029222%2C%2055.276813%5D%2C%20%5B-131.97993%2C%2055.178228%5D%2C%20%5B-131.958022%2C%2054.789365%5D%2C%20%5B-132.029222%2C%2054.701734%5D%2C%20%5B-132.308546%2C%2054.718165%5D%2C%20%5B-132.385223%2C%2054.915335%5D%2C%20%5B-132.483808%2C%2054.898904%5D%2C%20%5B-132.686455%2C%2055.046781%5D%2C%20%5B-132.746701%2C%2054.997489%5D%2C%20%5B-132.916486%2C%2055.046781%5D%2C%20%5B-132.889102%2C%2054.898904%5D%2C%20%5B-132.73027%2C%2054.937242%5D%2C%20%5B-132.626209%2C%2054.882473%5D%2C%20%5B-132.675501%2C%2054.679826%5D%2C%20%5B-132.867194%2C%2054.701734%5D%2C%20%5B-133.157472%2C%2054.95915%5D%2C%20%5B-133.239626%2C%2055.090597%5D%2C%20%5B-133.223195%2C%2055.22752%5D%2C%20%5B-133.453227%2C%2055.216566%5D%2C%20%5B-133.453227%2C%2055.320628%5D%2C%20%5B-133.277964%2C%2055.331582%5D%2C%20%5B-133.102702%2C%2055.42469%5D%2C%20%5B-133.17938%2C%2055.588998%5D%2C%20%5B-133.387503%2C%2055.62186%5D%2C%20%5B-133.420365%2C%2055.884753%5D%2C%20%5B-133.497042%2C%2056.0162%5D%2C%20%5B-133.639442%2C%2055.923092%5D%2C%20%5B-133.694212%2C%2056.070969%5D%2C%20%5B-133.546335%2C%2056.142169%5D%2C%20%5B-133.666827%2C%2056.311955%5D%2C%20%5B-133.595627%2C%2056.350293%5D%5D%5D%2C%20%5B%5B%5B-133.738027%2C%2055.556137%5D%2C%20%5B-133.546335%2C%2055.490413%5D%2C%20%5B-133.414888%2C%2055.572568%5D%2C%20%5B-133.283441%2C%2055.534229%5D%2C%20%5B-133.420365%2C%2055.386352%5D%2C%20%5B-133.633966%2C%2055.430167%5D%2C%20%5B-133.738027%2C%2055.556137%5D%5D%5D%2C%20%5B%5B%5B-133.907813%2C%2056.930849%5D%2C%20%5B-134.050213%2C%2057.029434%5D%2C%20%5B-133.885905%2C%2057.095157%5D%2C%20%5B-133.343688%2C%2057.002049%5D%2C%20%5B-133.102702%2C%2057.007526%5D%2C%20%5B-132.932917%2C%2056.82131%5D%2C%20%5B-132.620732%2C%2056.667956%5D%2C%20%5B-132.653593%2C%2056.55294%5D%2C%20%5B-132.817901%2C%2056.492694%5D%2C%20%5B-133.042456%2C%2056.520078%5D%2C%20%5B-133.201287%2C%2056.448878%5D%2C%20%5B-133.420365%2C%2056.492694%5D%2C%20%5B-133.66135%2C%2056.448878%5D%2C%20%5B-133.710643%2C%2056.684386%5D%2C%20%5B-133.688735%2C%2056.837741%5D%2C%20%5B-133.869474%2C%2056.843218%5D%2C%20%5B-133.907813%2C%2056.930849%5D%5D%5D%2C%20%5B%5B%5B-134.115936%2C%2056.48174%5D%2C%20%5B-134.25286%2C%2056.558417%5D%2C%20%5B-134.400737%2C%2056.722725%5D%2C%20%5B-134.417168%2C%2056.848695%5D%2C%20%5B-134.296675%2C%2056.908941%5D%2C%20%5B-134.170706%2C%2056.848695%5D%2C%20%5B-134.143321%2C%2056.952757%5D%2C%20%5B-133.748981%2C%2056.772017%5D%2C%20%5B-133.710643%2C%2056.596755%5D%2C%20%5B-133.847566%2C%2056.574848%5D%2C%20%5B-133.935197%2C%2056.377678%5D%2C%20%5B-133.836612%2C%2056.322908%5D%2C%20%5B-133.957105%2C%2056.092877%5D%2C%20%5B-134.110459%2C%2056.142169%5D%2C%20%5B-134.132367%2C%2055.999769%5D%2C%20%5B-134.230952%2C%2056.070969%5D%2C%20%5B-134.291198%2C%2056.350293%5D%2C%20%5B-134.115936%2C%2056.48174%5D%5D%5D%2C%20%5B%5B%5B-134.636246%2C%2056.28457%5D%2C%20%5B-134.669107%2C%2056.169554%5D%2C%20%5B-134.806031%2C%2056.235277%5D%2C%20%5B-135.178463%2C%2056.67891%5D%2C%20%5B-135.413971%2C%2056.810356%5D%2C%20%5B-135.331817%2C%2056.914418%5D%2C%20%5B-135.424925%2C%2057.166357%5D%2C%20%5B-135.687818%2C%2057.369004%5D%2C%20%5B-135.419448%2C%2057.566174%5D%2C%20%5B-135.298955%2C%2057.48402%5D%2C%20%5B-135.063447%2C%2057.418296%5D%2C%20%5B-134.849846%2C%2057.407343%5D%2C%20%5B-134.844369%2C%2057.248511%5D%2C%20%5B-134.636246%2C%2056.728202%5D%2C%20%5B-134.636246%2C%2056.28457%5D%5D%5D%2C%20%5B%5B%5B-134.712923%2C%2058.223407%5D%2C%20%5B-134.373353%2C%2058.14673%5D%2C%20%5B-134.176183%2C%2058.157683%5D%2C%20%5B-134.187137%2C%2058.081006%5D%2C%20%5B-133.902336%2C%2057.807159%5D%2C%20%5B-134.099505%2C%2057.850975%5D%2C%20%5B-134.148798%2C%2057.757867%5D%2C%20%5B-133.935197%2C%2057.615466%5D%2C%20%5B-133.869474%2C%2057.363527%5D%2C%20%5B-134.083075%2C%2057.297804%5D%2C%20%5B-134.154275%2C%2057.210173%5D%2C%20%5B-134.499322%2C%2057.029434%5D%2C%20%5B-134.603384%2C%2057.034911%5D%2C%20%5B-134.6472%2C%2057.226604%5D%2C%20%5B-134.575999%2C%2057.341619%5D%2C%20%5B-134.608861%2C%2057.511404%5D%2C%20%5B-134.729354%2C%2057.719528%5D%2C%20%5B-134.707446%2C%2057.829067%5D%2C%20%5B-134.784123%2C%2058.097437%5D%2C%20%5B-134.91557%2C%2058.212453%5D%2C%20%5B-134.953908%2C%2058.409623%5D%2C%20%5B-134.712923%2C%2058.223407%5D%5D%5D%2C%20%5B%5B%5B-135.857603%2C%2057.330665%5D%2C%20%5B-135.715203%2C%2057.330665%5D%2C%20%5B-135.567326%2C%2057.149926%5D%2C%20%5B-135.633049%2C%2057.023957%5D%2C%20%5B-135.857603%2C%2056.996572%5D%2C%20%5B-135.824742%2C%2057.193742%5D%2C%20%5B-135.857603%2C%2057.330665%5D%5D%5D%2C%20%5B%5B%5B-136.279328%2C%2058.206976%5D%2C%20%5B-135.978096%2C%2058.201499%5D%2C%20%5B-135.780926%2C%2058.28913%5D%2C%20%5B-135.496125%2C%2058.168637%5D%2C%20%5B-135.64948%2C%2058.037191%5D%2C%20%5B-135.59471%2C%2057.987898%5D%2C%20%5B-135.45231%2C%2058.135776%5D%2C%20%5B-135.107263%2C%2058.086483%5D%2C%20%5B-134.91557%2C%2057.976944%5D%2C%20%5B-135.025108%2C%2057.779775%5D%2C%20%5B-134.937477%2C%2057.763344%5D%2C%20%5B-134.822462%2C%2057.500451%5D%2C%20%5B-135.085355%2C%2057.462112%5D%2C%20%5B-135.572802%2C%2057.675713%5D%2C%20%5B-135.556372%2C%2057.456635%5D%2C%20%5B-135.709726%2C%2057.369004%5D%2C%20%5B-135.890465%2C%2057.407343%5D%2C%20%5B-136.000004%2C%2057.544266%5D%2C%20%5B-136.208128%2C%2057.637374%5D%2C%20%5B-136.366959%2C%2057.829067%5D%2C%20%5B-136.569606%2C%2057.916698%5D%2C%20%5B-136.558652%2C%2058.075529%5D%2C%20%5B-136.421728%2C%2058.130299%5D%2C%20%5B-136.377913%2C%2058.267222%5D%2C%20%5B-136.279328%2C%2058.206976%5D%5D%5D%2C%20%5B%5B%5B-147.079854%2C%2060.200582%5D%2C%20%5B-147.501579%2C%2059.948643%5D%2C%20%5B-147.53444%2C%2059.850058%5D%2C%20%5B-147.874011%2C%2059.784335%5D%2C%20%5B-147.80281%2C%2059.937689%5D%2C%20%5B-147.435855%2C%2060.09652%5D%2C%20%5B-147.205824%2C%2060.271782%5D%2C%20%5B-147.079854%2C%2060.200582%5D%5D%5D%2C%20%5B%5B%5B-147.561825%2C%2060.578491%5D%2C%20%5B-147.616594%2C%2060.370367%5D%2C%20%5B-147.758995%2C%2060.156767%5D%2C%20%5B-147.956165%2C%2060.227967%5D%2C%20%5B-147.791856%2C%2060.474429%5D%2C%20%5B-147.561825%2C%2060.578491%5D%5D%5D%2C%20%5B%5B%5B-147.786379%2C%2070.245291%5D%2C%20%5B-147.682318%2C%2070.201475%5D%2C%20%5B-147.162008%2C%2070.15766%5D%2C%20%5B-146.888161%2C%2070.185044%5D%2C%20%5B-146.510252%2C%2070.185044%5D%2C%20%5B-146.099482%2C%2070.146706%5D%2C%20%5B-145.858496%2C%2070.168614%5D%2C%20%5B-145.622988%2C%2070.08646%5D%2C%20%5B-145.195787%2C%2069.993352%5D%2C%20%5B-144.620708%2C%2069.971444%5D%2C%20%5B-144.461877%2C%2070.026213%5D%2C%20%5B-144.078491%2C%2070.059075%5D%2C%20%5B-143.914183%2C%2070.130275%5D%2C%20%5B-143.497935%2C%2070.141229%5D%2C%20%5B-143.503412%2C%2070.091936%5D%2C%20%5B-143.25695%2C%2070.119321%5D%2C%20%5B-142.747594%2C%2070.042644%5D%2C%20%5B-142.402547%2C%2069.916674%5D%2C%20%5B-142.079408%2C%2069.856428%5D%2C%20%5B-142.008207%2C%2069.801659%5D%2C%20%5B-141.712453%2C%2069.790705%5D%2C%20%5B-141.433129%2C%2069.697597%5D%2C%20%5B-141.378359%2C%2069.63735%5D%2C%20%5B-141.208574%2C%2069.686643%5D%2C%20%5B-141.00045%2C%2069.648304%5D%2C%20%5B-141.00045%2C%2060.304644%5D%2C%20%5B-140.53491%2C%2060.22249%5D%2C%20%5B-140.474664%2C%2060.310121%5D%2C%20%5B-139.987216%2C%2060.184151%5D%2C%20%5B-139.696939%2C%2060.342983%5D%2C%20%5B-139.088998%2C%2060.359413%5D%2C%20%5B-139.198537%2C%2060.091043%5D%2C%20%5B-139.045183%2C%2059.997935%5D%2C%20%5B-138.700135%2C%2059.910304%5D%2C%20%5B-138.623458%2C%2059.767904%5D%2C%20%5B-137.604747%2C%2059.242118%5D%2C%20%5B-137.445916%2C%2058.908024%5D%2C%20%5B-137.265177%2C%2059.001132%5D%2C%20%5B-136.827022%2C%2059.159963%5D%2C%20%5B-136.580559%2C%2059.16544%5D%2C%20%5B-136.465544%2C%2059.285933%5D%2C%20%5B-136.476498%2C%2059.466672%5D%2C%20%5B-136.301236%2C%2059.466672%5D%2C%20%5B-136.25742%2C%2059.625503%5D%2C%20%5B-135.945234%2C%2059.663842%5D%2C%20%5B-135.479694%2C%2059.800766%5D%2C%20%5B-135.025108%2C%2059.565257%5D%2C%20%5B-135.068924%2C%2059.422857%5D%2C%20%5B-134.959385%2C%2059.280456%5D%2C%20%5B-134.701969%2C%2059.247595%5D%2C%20%5B-134.378829%2C%2059.033994%5D%2C%20%5B-134.400737%2C%2058.973748%5D%2C%20%5B-134.25286%2C%2058.858732%5D%2C%20%5B-133.842089%2C%2058.727285%5D%2C%20%5B-133.173903%2C%2058.152206%5D%2C%20%5B-133.075318%2C%2057.998852%5D%2C%20%5B-132.867194%2C%2057.845498%5D%2C%20%5B-132.560485%2C%2057.505928%5D%2C%20%5B-132.253777%2C%2057.21565%5D%2C%20%5B-132.368792%2C%2057.095157%5D%2C%20%5B-132.05113%2C%2057.051341%5D%2C%20%5B-132.127807%2C%2056.876079%5D%2C%20%5B-131.870391%2C%2056.804879%5D%2C%20%5B-131.837529%2C%2056.602232%5D%2C%20%5B-131.580113%2C%2056.613186%5D%2C%20%5B-131.087188%2C%2056.405062%5D%2C%20%5B-130.78048%2C%2056.366724%5D%2C%20%5B-130.621648%2C%2056.268139%5D%2C%20%5B-130.468294%2C%2056.240754%5D%2C%20%5B-130.424478%2C%2056.142169%5D%2C%20%5B-130.101339%2C%2056.114785%5D%2C%20%5B-130.002754%2C%2055.994292%5D%2C%20%5B-130.150631%2C%2055.769737%5D%2C%20%5B-130.128724%2C%2055.583521%5D%2C%20%5B-129.986323%2C%2055.276813%5D%2C%20%5B-130.095862%2C%2055.200136%5D%2C%20%5B-130.336847%2C%2054.920812%5D%2C%20%5B-130.687372%2C%2054.718165%5D%2C%20%5B-130.785957%2C%2054.822227%5D%2C%20%5B-130.917403%2C%2054.789365%5D%2C%20%5B-131.010511%2C%2054.997489%5D%2C%20%5B-130.983126%2C%2055.08512%5D%2C%20%5B-131.092665%2C%2055.189182%5D%2C%20%5B-130.862634%2C%2055.298721%5D%2C%20%5B-130.928357%2C%2055.337059%5D%2C%20%5B-131.158389%2C%2055.200136%5D%2C%20%5B-131.284358%2C%2055.287767%5D%2C%20%5B-131.426759%2C%2055.238474%5D%2C%20%5B-131.843006%2C%2055.457552%5D%2C%20%5B-131.700606%2C%2055.698537%5D%2C%20%5B-131.963499%2C%2055.616383%5D%2C%20%5B-131.974453%2C%2055.49589%5D%2C%20%5B-132.182576%2C%2055.588998%5D%2C%20%5B-132.226392%2C%2055.704014%5D%2C%20%5B-132.083991%2C%2055.829984%5D%2C%20%5B-132.127807%2C%2055.955953%5D%2C%20%5B-132.324977%2C%2055.851892%5D%2C%20%5B-132.522147%2C%2056.076446%5D%2C%20%5B-132.642639%2C%2056.032631%5D%2C%20%5B-132.719317%2C%2056.218847%5D%2C%20%5B-132.527624%2C%2056.339339%5D%2C%20%5B-132.341408%2C%2056.339339%5D%2C%20%5B-132.396177%2C%2056.487217%5D%2C%20%5B-132.297592%2C%2056.67891%5D%2C%20%5B-132.450946%2C%2056.673433%5D%2C%20%5B-132.768609%2C%2056.837741%5D%2C%20%5B-132.993164%2C%2057.034911%5D%2C%20%5B-133.51895%2C%2057.177311%5D%2C%20%5B-133.507996%2C%2057.577128%5D%2C%20%5B-133.677781%2C%2057.62642%5D%2C%20%5B-133.639442%2C%2057.790728%5D%2C%20%5B-133.814705%2C%2057.834544%5D%2C%20%5B-134.072121%2C%2058.053622%5D%2C%20%5B-134.143321%2C%2058.168637%5D%2C%20%5B-134.586953%2C%2058.206976%5D%2C%20%5B-135.074401%2C%2058.502731%5D%2C%20%5B-135.282525%2C%2059.192825%5D%2C%20%5B-135.38111%2C%2059.033994%5D%2C%20%5B-135.337294%2C%2058.891593%5D%2C%20%5B-135.140124%2C%2058.617746%5D%2C%20%5B-135.189417%2C%2058.573931%5D%2C%20%5B-135.05797%2C%2058.349376%5D%2C%20%5B-135.085355%2C%2058.201499%5D%2C%20%5B-135.277048%2C%2058.234361%5D%2C%20%5B-135.430402%2C%2058.398669%5D%2C%20%5B-135.633049%2C%2058.426053%5D%2C%20%5B-135.91785%2C%2058.382238%5D%2C%20%5B-135.912373%2C%2058.617746%5D%2C%20%5B-136.087635%2C%2058.814916%5D%2C%20%5B-136.246466%2C%2058.75467%5D%2C%20%5B-136.876314%2C%2058.962794%5D%2C%20%5B-136.931084%2C%2058.902547%5D%2C%20%5B-136.586036%2C%2058.836824%5D%2C%20%5B-136.317666%2C%2058.672516%5D%2C%20%5B-136.213604%2C%2058.667039%5D%2C%20%5B-136.180743%2C%2058.535592%5D%2C%20%5B-136.043819%2C%2058.382238%5D%2C%20%5B-136.388867%2C%2058.294607%5D%2C%20%5B-136.591513%2C%2058.349376%5D%2C%20%5B-136.59699%2C%2058.212453%5D%2C%20%5B-136.859883%2C%2058.316515%5D%2C%20%5B-136.947514%2C%2058.393192%5D%2C%20%5B-137.111823%2C%2058.393192%5D%2C%20%5B-137.566409%2C%2058.590362%5D%2C%20%5B-137.900502%2C%2058.765624%5D%2C%20%5B-137.933364%2C%2058.869686%5D%2C%20%5B-138.11958%2C%2059.02304%5D%2C%20%5B-138.634412%2C%2059.132579%5D%2C%20%5B-138.919213%2C%2059.247595%5D%2C%20%5B-139.417615%2C%2059.379041%5D%2C%20%5B-139.746231%2C%2059.505011%5D%2C%20%5B-139.718846%2C%2059.641934%5D%2C%20%5B-139.625738%2C%2059.598119%5D%2C%20%5B-139.5162%2C%2059.68575%5D%2C%20%5B-139.625738%2C%2059.88292%5D%2C%20%5B-139.488815%2C%2059.992458%5D%2C%20%5B-139.554538%2C%2060.041751%5D%2C%20%5B-139.801%2C%2059.833627%5D%2C%20%5B-140.315833%2C%2059.696704%5D%2C%20%5B-140.92925%2C%2059.745996%5D%2C%20%5B-141.444083%2C%2059.871966%5D%2C%20%5B-141.46599%2C%2059.970551%5D%2C%20%5B-141.706976%2C%2059.948643%5D%2C%20%5B-141.964392%2C%2060.019843%5D%2C%20%5B-142.539471%2C%2060.085566%5D%2C%20%5B-142.873564%2C%2060.091043%5D%2C%20%5B-143.623905%2C%2060.036274%5D%2C%20%5B-143.892275%2C%2059.997935%5D%2C%20%5B-144.231845%2C%2060.140336%5D%2C%20%5B-144.65357%2C%2060.206059%5D%2C%20%5B-144.785016%2C%2060.29369%5D%2C%20%5B-144.834309%2C%2060.441568%5D%2C%20%5B-145.124586%2C%2060.430614%5D%2C%20%5B-145.223171%2C%2060.299167%5D%2C%20%5B-145.738004%2C%2060.474429%5D%2C%20%5B-145.820158%2C%2060.551106%5D%2C%20%5B-146.351421%2C%2060.408706%5D%2C%20%5B-146.608837%2C%2060.238921%5D%2C%20%5B-146.718376%2C%2060.397752%5D%2C%20%5B-146.608837%2C%2060.485383%5D%2C%20%5B-146.455483%2C%2060.463475%5D%2C%20%5B-145.951604%2C%2060.578491%5D%2C%20%5B-146.017328%2C%2060.666122%5D%2C%20%5B-146.252836%2C%2060.622307%5D%2C%20%5B-146.345944%2C%2060.737322%5D%2C%20%5B-146.565022%2C%2060.753753%5D%2C%20%5B-146.784099%2C%2061.044031%5D%2C%20%5B-146.866253%2C%2060.972831%5D%2C%20%5B-147.172962%2C%2060.934492%5D%2C%20%5B-147.271547%2C%2060.972831%5D%2C%20%5B-147.375609%2C%2060.879723%5D%2C%20%5B-147.758995%2C%2060.912584%5D%2C%20%5B-147.775426%2C%2060.808523%5D%2C%20%5B-148.032842%2C%2060.781138%5D%2C%20%5B-148.153334%2C%2060.819476%5D%2C%20%5B-148.065703%2C%2061.005692%5D%2C%20%5B-148.175242%2C%2061.000215%5D%2C%20%5B-148.350504%2C%2060.803046%5D%2C%20%5B-148.109519%2C%2060.737322%5D%2C%20%5B-148.087611%2C%2060.594922%5D%2C%20%5B-147.939734%2C%2060.441568%5D%2C%20%5B-148.027365%2C%2060.277259%5D%2C%20%5B-148.219058%2C%2060.332029%5D%2C%20%5B-148.273827%2C%2060.249875%5D%2C%20%5B-148.087611%2C%2060.217013%5D%2C%20%5B-147.983549%2C%2059.997935%5D%2C%20%5B-148.251919%2C%2059.95412%5D%2C%20%5B-148.399797%2C%2059.997935%5D%2C%20%5B-148.635305%2C%2059.937689%5D%2C%20%5B-148.755798%2C%2059.986981%5D%2C%20%5B-149.067984%2C%2059.981505%5D%2C%20%5B-149.05703%2C%2060.063659%5D%2C%20%5B-149.204907%2C%2060.008889%5D%2C%20%5B-149.287061%2C%2059.904827%5D%2C%20%5B-149.418508%2C%2059.997935%5D%2C%20%5B-149.582816%2C%2059.866489%5D%2C%20%5B-149.511616%2C%2059.806242%5D%2C%20%5B-149.741647%2C%2059.729565%5D%2C%20%5B-149.949771%2C%2059.718611%5D%2C%20%5B-150.031925%2C%2059.61455%5D%2C%20%5B-150.25648%2C%2059.521442%5D%2C%20%5B-150.409834%2C%2059.554303%5D%2C%20%5B-150.579619%2C%2059.444764%5D%2C%20%5B-150.716543%2C%2059.450241%5D%2C%20%5B-151.001343%2C%2059.225687%5D%2C%20%5B-151.308052%2C%2059.209256%5D%2C%20%5B-151.406637%2C%2059.280456%5D%2C%20%5B-151.592853%2C%2059.159963%5D%2C%20%5B-151.976239%2C%2059.253071%5D%2C%20%5B-151.888608%2C%2059.422857%5D%2C%20%5B-151.636669%2C%2059.483103%5D%2C%20%5B-151.47236%2C%2059.472149%5D%2C%20%5B-151.423068%2C%2059.537872%5D%2C%20%5B-151.127313%2C%2059.669319%5D%2C%20%5B-151.116359%2C%2059.778858%5D%2C%20%5B-151.505222%2C%2059.63098%5D%2C%20%5B-151.828361%2C%2059.718611%5D%2C%20%5B-151.8667%2C%2059.778858%5D%2C%20%5B-151.702392%2C%2060.030797%5D%2C%20%5B-151.423068%2C%2060.211536%5D%2C%20%5B-151.379252%2C%2060.359413%5D%2C%20%5B-151.297098%2C%2060.386798%5D%2C%20%5B-151.264237%2C%2060.545629%5D%2C%20%5B-151.406637%2C%2060.720892%5D%2C%20%5B-151.06159%2C%2060.786615%5D%2C%20%5B-150.404357%2C%2061.038554%5D%2C%20%5B-150.245526%2C%2060.939969%5D%2C%20%5B-150.042879%2C%2060.912584%5D%2C%20%5B-149.741647%2C%2061.016646%5D%2C%20%5B-150.075741%2C%2061.15357%5D%2C%20%5B-150.207187%2C%2061.257632%5D%2C%20%5B-150.47008%2C%2061.246678%5D%2C%20%5B-150.656296%2C%2061.29597%5D%2C%20%5B-150.711066%2C%2061.252155%5D%2C%20%5B-151.023251%2C%2061.180954%5D%2C%20%5B-151.165652%2C%2061.044031%5D%2C%20%5B-151.477837%2C%2061.011169%5D%2C%20%5B-151.800977%2C%2060.852338%5D%2C%20%5B-151.833838%2C%2060.748276%5D%2C%20%5B-152.080301%2C%2060.693507%5D%2C%20%5B-152.13507%2C%2060.578491%5D%2C%20%5B-152.310332%2C%2060.507291%5D%2C%20%5B-152.392486%2C%2060.304644%5D%2C%20%5B-152.732057%2C%2060.173197%5D%2C%20%5B-152.567748%2C%2060.069136%5D%2C%20%5B-152.704672%2C%2059.915781%5D%2C%20%5B-153.022334%2C%2059.888397%5D%2C%20%5B-153.049719%2C%2059.691227%5D%2C%20%5B-153.345474%2C%2059.620026%5D%2C%20%5B-153.438582%2C%2059.702181%5D%2C%20%5B-153.586459%2C%2059.548826%5D%2C%20%5B-153.761721%2C%2059.543349%5D%2C%20%5B-153.72886%2C%2059.433811%5D%2C%20%5B-154.117723%2C%2059.368087%5D%2C%20%5B-154.1944%2C%2059.066856%5D%2C%20%5B-153.750768%2C%2059.050425%5D%2C%20%5B-153.400243%2C%2058.968271%5D%2C%20%5B-153.301658%2C%2058.869686%5D%2C%20%5B-153.444059%2C%2058.710854%5D%2C%20%5B-153.679567%2C%2058.612269%5D%2C%20%5B-153.898645%2C%2058.606793%5D%2C%20%5B-153.920553%2C%2058.519161%5D%2C%20%5B-154.062953%2C%2058.4863%5D%2C%20%5B-153.99723%2C%2058.376761%5D%2C%20%5B-154.145107%2C%2058.212453%5D%2C%20%5B-154.46277%2C%2058.059098%5D%2C%20%5B-154.643509%2C%2058.059098%5D%2C%20%5B-154.818771%2C%2058.004329%5D%2C%20%5B-154.988556%2C%2058.015283%5D%2C%20%5B-155.120003%2C%2057.955037%5D%2C%20%5B-155.081664%2C%2057.872883%5D%2C%20%5B-155.328126%2C%2057.829067%5D%2C%20%5B-155.377419%2C%2057.708574%5D%2C%20%5B-155.547204%2C%2057.785251%5D%2C%20%5B-155.73342%2C%2057.549743%5D%2C%20%5B-156.045606%2C%2057.566174%5D%2C%20%5B-156.023698%2C%2057.440204%5D%2C%20%5B-156.209914%2C%2057.473066%5D%2C%20%5B-156.34136%2C%2057.418296%5D%2C%20%5B-156.34136%2C%2057.248511%5D%2C%20%5B-156.549484%2C%2056.985618%5D%2C%20%5B-156.883577%2C%2056.952757%5D%2C%20%5B-157.157424%2C%2056.832264%5D%2C%20%5B-157.20124%2C%2056.766541%5D%2C%20%5B-157.376502%2C%2056.859649%5D%2C%20%5B-157.672257%2C%2056.607709%5D%2C%20%5B-157.754411%2C%2056.67891%5D%2C%20%5B-157.918719%2C%2056.657002%5D%2C%20%5B-157.957058%2C%2056.514601%5D%2C%20%5B-158.126843%2C%2056.459832%5D%2C%20%5B-158.32949%2C%2056.48174%5D%2C%20%5B-158.488321%2C%2056.339339%5D%2C%20%5B-158.208997%2C%2056.295524%5D%2C%20%5B-158.510229%2C%2055.977861%5D%2C%20%5B-159.375585%2C%2055.873799%5D%2C%20%5B-159.616571%2C%2055.594475%5D%2C%20%5B-159.676817%2C%2055.654722%5D%2C%20%5B-159.643955%2C%2055.829984%5D%2C%20%5B-159.813741%2C%2055.857368%5D%2C%20%5B-160.027341%2C%2055.791645%5D%2C%20%5B-160.060203%2C%2055.720445%5D%2C%20%5B-160.394296%2C%2055.605429%5D%2C%20%5B-160.536697%2C%2055.473983%5D%2C%20%5B-160.580512%2C%2055.567091%5D%2C%20%5B-160.668143%2C%2055.457552%5D%2C%20%5B-160.865313%2C%2055.528752%5D%2C%20%5B-161.232268%2C%2055.358967%5D%2C%20%5B-161.506115%2C%2055.364444%5D%2C%20%5B-161.467776%2C%2055.49589%5D%2C%20%5B-161.588269%2C%2055.62186%5D%2C%20%5B-161.697808%2C%2055.517798%5D%2C%20%5B-161.686854%2C%2055.408259%5D%2C%20%5B-162.053809%2C%2055.074166%5D%2C%20%5B-162.179779%2C%2055.15632%5D%2C%20%5B-162.218117%2C%2055.03035%5D%2C%20%5B-162.470057%2C%2055.052258%5D%2C%20%5B-162.508395%2C%2055.249428%5D%2C%20%5B-162.661749%2C%2055.293244%5D%2C%20%5B-162.716519%2C%2055.222043%5D%2C%20%5B-162.579595%2C%2055.134412%5D%2C%20%5B-162.645319%2C%2054.997489%5D%2C%20%5B-162.847965%2C%2054.926289%5D%2C%20%5B-163.00132%2C%2055.079643%5D%2C%20%5B-163.187536%2C%2055.090597%5D%2C%20%5B-163.220397%2C%2055.03035%5D%2C%20%5B-163.034181%2C%2054.942719%5D%2C%20%5B-163.373752%2C%2054.800319%5D%2C%20%5B-163.14372%2C%2054.76198%5D%2C%20%5B-163.138243%2C%2054.696257%5D%2C%20%5B-163.329936%2C%2054.74555%5D%2C%20%5B-163.587352%2C%2054.614103%5D%2C%20%5B-164.085754%2C%2054.61958%5D%2C%20%5B-164.332216%2C%2054.531949%5D%2C%20%5B-164.354124%2C%2054.466226%5D%2C%20%5B-164.638925%2C%2054.389548%5D%2C%20%5B-164.847049%2C%2054.416933%5D%2C%20%5B-164.918249%2C%2054.603149%5D%2C%20%5B-164.710125%2C%2054.663395%5D%2C%20%5B-164.551294%2C%2054.88795%5D%2C%20%5B-164.34317%2C%2054.893427%5D%2C%20%5B-163.894061%2C%2055.041304%5D%2C%20%5B-163.532583%2C%2055.046781%5D%2C%20%5B-163.39566%2C%2054.904381%5D%2C%20%5B-163.291598%2C%2055.008443%5D%2C%20%5B-163.313505%2C%2055.128935%5D%2C%20%5B-163.105382%2C%2055.183705%5D%2C%20%5B-162.880827%2C%2055.183705%5D%2C%20%5B-162.579595%2C%2055.446598%5D%2C%20%5B-162.245502%2C%2055.682106%5D%2C%20%5B-161.807347%2C%2055.89023%5D%2C%20%5B-161.292514%2C%2055.983338%5D%2C%20%5B-161.078914%2C%2055.939523%5D%2C%20%5B-160.87079%2C%2055.999769%5D%2C%20%5B-160.816021%2C%2055.912138%5D%2C%20%5B-160.931036%2C%2055.813553%5D%2C%20%5B-160.805067%2C%2055.736876%5D%2C%20%5B-160.766728%2C%2055.857368%5D%2C%20%5B-160.509312%2C%2055.868322%5D%2C%20%5B-160.438112%2C%2055.791645%5D%2C%20%5B-160.27928%2C%2055.76426%5D%2C%20%5B-160.273803%2C%2055.857368%5D%2C%20%5B-160.536697%2C%2055.939523%5D%2C%20%5B-160.558604%2C%2055.994292%5D%2C%20%5B-160.383342%2C%2056.251708%5D%2C%20%5B-160.147834%2C%2056.399586%5D%2C%20%5B-159.830171%2C%2056.541986%5D%2C%20%5B-159.326293%2C%2056.667956%5D%2C%20%5B-158.959338%2C%2056.848695%5D%2C%20%5B-158.784076%2C%2056.782971%5D%2C%20%5B-158.641675%2C%2056.810356%5D%2C%20%5B-158.701922%2C%2056.925372%5D%2C%20%5B-158.658106%2C%2057.034911%5D%2C%20%5B-158.378782%2C%2057.264942%5D%2C%20%5B-157.995396%2C%2057.41282%5D%2C%20%5B-157.688688%2C%2057.609989%5D%2C%20%5B-157.705118%2C%2057.719528%5D%2C%20%5B-157.458656%2C%2058.497254%5D%2C%20%5B-157.07527%2C%2058.705377%5D%2C%20%5B-157.119086%2C%2058.869686%5D%2C%20%5B-158.039212%2C%2058.634177%5D%2C%20%5B-158.32949%2C%2058.661562%5D%2C%20%5B-158.40069%2C%2058.760147%5D%2C%20%5B-158.564998%2C%2058.803962%5D%2C%20%5B-158.619768%2C%2058.913501%5D%2C%20%5B-158.767645%2C%2058.864209%5D%2C%20%5B-158.860753%2C%2058.694424%5D%2C%20%5B-158.701922%2C%2058.480823%5D%2C%20%5B-158.893615%2C%2058.387715%5D%2C%20%5B-159.0634%2C%2058.420577%5D%2C%20%5B-159.392016%2C%2058.760147%5D%2C%20%5B-159.616571%2C%2058.929932%5D%2C%20%5B-159.731586%2C%2058.929932%5D%2C%20%5B-159.808264%2C%2058.803962%5D%2C%20%5B-159.906848%2C%2058.782055%5D%2C%20%5B-160.054726%2C%2058.886116%5D%2C%20%5B-160.235465%2C%2058.902547%5D%2C%20%5B-160.317619%2C%2059.072332%5D%2C%20%5B-160.854359%2C%2058.88064%5D%2C%20%5B-161.33633%2C%2058.743716%5D%2C%20%5B-161.374669%2C%2058.667039%5D%2C%20%5B-161.752577%2C%2058.552023%5D%2C%20%5B-161.938793%2C%2058.656085%5D%2C%20%5B-161.769008%2C%2058.776578%5D%2C%20%5B-161.829255%2C%2059.061379%5D%2C%20%5B-161.955224%2C%2059.36261%5D%2C%20%5B-161.703285%2C%2059.48858%5D%2C%20%5B-161.911409%2C%2059.740519%5D%2C%20%5B-162.092148%2C%2059.88292%5D%2C%20%5B-162.234548%2C%2060.091043%5D%2C%20%5B-162.448149%2C%2060.178674%5D%2C%20%5B-162.502918%2C%2059.997935%5D%2C%20%5B-162.760334%2C%2059.959597%5D%2C%20%5B-163.171105%2C%2059.844581%5D%2C%20%5B-163.66403%2C%2059.795289%5D%2C%20%5B-163.9324%2C%2059.806242%5D%2C%20%5B-164.162431%2C%2059.866489%5D%2C%20%5B-164.189816%2C%2060.02532%5D%2C%20%5B-164.386986%2C%2060.074613%5D%2C%20%5B-164.699171%2C%2060.29369%5D%2C%20%5B-164.962064%2C%2060.337506%5D%2C%20%5B-165.268773%2C%2060.578491%5D%2C%20%5B-165.060649%2C%2060.68803%5D%2C%20%5B-165.016834%2C%2060.890677%5D%2C%20%5B-165.175665%2C%2060.846861%5D%2C%20%5B-165.197573%2C%2060.972831%5D%2C%20%5B-165.120896%2C%2061.076893%5D%2C%20%5B-165.323543%2C%2061.170001%5D%2C%20%5B-165.34545%2C%2061.071416%5D%2C%20%5B-165.591913%2C%2061.109754%5D%2C%20%5B-165.624774%2C%2061.279539%5D%2C%20%5B-165.816467%2C%2061.301447%5D%2C%20%5B-165.920529%2C%2061.416463%5D%2C%20%5B-165.915052%2C%2061.558863%5D%2C%20%5B-166.106745%2C%2061.49314%5D%2C%20%5B-166.139607%2C%2061.630064%5D%2C%20%5B-165.904098%2C%2061.662925%5D%2C%20%5B-166.095791%2C%2061.81628%5D%2C%20%5B-165.756221%2C%2061.827233%5D%2C%20%5B-165.756221%2C%2062.013449%5D%2C%20%5B-165.674067%2C%2062.139419%5D%2C%20%5B-165.044219%2C%2062.539236%5D%2C%20%5B-164.912772%2C%2062.659728%5D%2C%20%5B-164.819664%2C%2062.637821%5D%2C%20%5B-164.874433%2C%2062.807606%5D%2C%20%5B-164.633448%2C%2063.097884%5D%2C%20%5B-164.425324%2C%2063.212899%5D%2C%20%5B-164.036462%2C%2063.262192%5D%2C%20%5B-163.73523%2C%2063.212899%5D%2C%20%5B-163.313505%2C%2063.037637%5D%2C%20%5B-163.039658%2C%2063.059545%5D%2C%20%5B-162.661749%2C%2063.22933%5D%2C%20%5B-162.272887%2C%2063.486746%5D%2C%20%5B-162.075717%2C%2063.514131%5D%2C%20%5B-162.026424%2C%2063.448408%5D%2C%20%5B-161.555408%2C%2063.448408%5D%2C%20%5B-161.13916%2C%2063.503177%5D%2C%20%5B-160.766728%2C%2063.771547%5D%2C%20%5B-160.766728%2C%2063.837271%5D%2C%20%5B-160.952944%2C%2064.08921%5D%2C%20%5B-160.974852%2C%2064.237087%5D%2C%20%5B-161.26513%2C%2064.395918%5D%2C%20%5B-161.374669%2C%2064.532842%5D%2C%20%5B-161.078914%2C%2064.494503%5D%2C%20%5B-160.79959%2C%2064.609519%5D%2C%20%5B-160.783159%2C%2064.719058%5D%2C%20%5B-161.144637%2C%2064.921705%5D%2C%20%5B-161.413007%2C%2064.762873%5D%2C%20%5B-161.664946%2C%2064.790258%5D%2C%20%5B-161.900455%2C%2064.702627%5D%2C%20%5B-162.168825%2C%2064.680719%5D%2C%20%5B-162.234548%2C%2064.620473%5D%2C%20%5B-162.541257%2C%2064.532842%5D%2C%20%5B-162.634365%2C%2064.384965%5D%2C%20%5B-162.787719%2C%2064.324718%5D%2C%20%5B-162.858919%2C%2064.49998%5D%2C%20%5B-163.045135%2C%2064.538319%5D%2C%20%5B-163.176582%2C%2064.401395%5D%2C%20%5B-163.253259%2C%2064.467119%5D%2C%20%5B-163.598306%2C%2064.565704%5D%2C%20%5B-164.304832%2C%2064.560227%5D%2C%20%5B-164.80871%2C%2064.450688%5D%2C%20%5B-165.000403%2C%2064.434257%5D%2C%20%5B-165.411174%2C%2064.49998%5D%2C%20%5B-166.188899%2C%2064.576658%5D%2C%20%5B-166.391546%2C%2064.636904%5D%2C%20%5B-166.484654%2C%2064.735489%5D%2C%20%5B-166.413454%2C%2064.872412%5D%2C%20%5B-166.692778%2C%2064.987428%5D%2C%20%5B-166.638008%2C%2065.113398%5D%2C%20%5B-166.462746%2C%2065.179121%5D%2C%20%5B-166.517516%2C%2065.337952%5D%2C%20%5B-166.796839%2C%2065.337952%5D%2C%20%5B-167.026871%2C%2065.381768%5D%2C%20%5B-167.47598%2C%2065.414629%5D%2C%20%5B-167.711489%2C%2065.496784%5D%2C%20%5B-168.072967%2C%2065.578938%5D%2C%20%5B-168.105828%2C%2065.682999%5D%2C%20%5B-167.541703%2C%2065.819923%5D%2C%20%5B-166.829701%2C%2066.049954%5D%2C%20%5B-166.3313%2C%2066.186878%5D%2C%20%5B-166.046499%2C%2066.110201%5D%2C%20%5B-165.756221%2C%2066.09377%5D%2C%20%5B-165.690498%2C%2066.203309%5D%2C%20%5B-165.86576%2C%2066.21974%5D%2C%20%5B-165.88219%2C%2066.312848%5D%2C%20%5B-165.186619%2C%2066.466202%5D%2C%20%5B-164.403417%2C%2066.581218%5D%2C%20%5B-163.981692%2C%2066.592172%5D%2C%20%5B-163.751661%2C%2066.553833%5D%2C%20%5B-163.872153%2C%2066.389525%5D%2C%20%5B-163.828338%2C%2066.274509%5D%2C%20%5B-163.915969%2C%2066.192355%5D%2C%20%5B-163.768091%2C%2066.060908%5D%2C%20%5B-163.494244%2C%2066.082816%5D%2C%20%5B-163.149197%2C%2066.060908%5D%2C%20%5B-162.749381%2C%2066.088293%5D%2C%20%5B-162.634365%2C%2066.039001%5D%2C%20%5B-162.371472%2C%2066.028047%5D%2C%20%5B-162.14144%2C%2066.077339%5D%2C%20%5B-161.840208%2C%2066.02257%5D%2C%20%5B-161.549931%2C%2066.241647%5D%2C%20%5B-161.341807%2C%2066.252601%5D%2C%20%5B-161.199406%2C%2066.208786%5D%2C%20%5B-161.128206%2C%2066.334755%5D%2C%20%5B-161.528023%2C%2066.395002%5D%2C%20%5B-161.911409%2C%2066.345709%5D%2C%20%5B-161.87307%2C%2066.510017%5D%2C%20%5B-162.174302%2C%2066.68528%5D%2C%20%5B-162.502918%2C%2066.740049%5D%2C%20%5B-162.601503%2C%2066.89888%5D%2C%20%5B-162.344087%2C%2066.937219%5D%2C%20%5B-162.015471%2C%2066.778388%5D%2C%20%5B-162.075717%2C%2066.652418%5D%2C%20%5B-161.916886%2C%2066.553833%5D%2C%20%5B-161.571838%2C%2066.438817%5D%2C%20%5B-161.489684%2C%2066.55931%5D%2C%20%5B-161.884024%2C%2066.718141%5D%2C%20%5B-161.714239%2C%2067.002942%5D%2C%20%5B-161.851162%2C%2067.052235%5D%2C%20%5B-162.240025%2C%2066.991988%5D%2C%20%5B-162.639842%2C%2067.008419%5D%2C%20%5B-162.700088%2C%2067.057712%5D%2C%20%5B-162.902735%2C%2067.008419%5D%2C%20%5B-163.740707%2C%2067.128912%5D%2C%20%5B-163.757138%2C%2067.254881%5D%2C%20%5B-164.009077%2C%2067.534205%5D%2C%20%5B-164.211724%2C%2067.638267%5D%2C%20%5B-164.534863%2C%2067.725898%5D%2C%20%5B-165.192096%2C%2067.966884%5D%2C%20%5B-165.493328%2C%2068.059992%5D%2C%20%5B-165.794559%2C%2068.081899%5D%2C%20%5B-166.243668%2C%2068.246208%5D%2C%20%5B-166.681824%2C%2068.339316%5D%2C%20%5B-166.703731%2C%2068.372177%5D%2C%20%5B-166.375115%2C%2068.42147%5D%2C%20%5B-166.227238%2C%2068.574824%5D%2C%20%5B-166.216284%2C%2068.881533%5D%2C%20%5B-165.329019%2C%2068.859625%5D%2C%20%5B-164.255539%2C%2068.930825%5D%2C%20%5B-163.976215%2C%2068.985595%5D%2C%20%5B-163.532583%2C%2069.138949%5D%2C%20%5B-163.110859%2C%2069.374457%5D%2C%20%5B-163.023228%2C%2069.609966%5D%2C%20%5B-162.842489%2C%2069.812613%5D%2C%20%5B-162.470057%2C%2069.982398%5D%2C%20%5B-162.311225%2C%2070.108367%5D%2C%20%5B-161.851162%2C%2070.311014%5D%2C%20%5B-161.779962%2C%2070.256245%5D%2C%20%5B-161.396576%2C%2070.239814%5D%2C%20%5B-160.837928%2C%2070.343876%5D%2C%20%5B-160.487404%2C%2070.453415%5D%2C%20%5B-159.649432%2C%2070.792985%5D%2C%20%5B-159.33177%2C%2070.809416%5D%2C%20%5B-159.298908%2C%2070.760123%5D%2C%20%5B-158.975769%2C%2070.798462%5D%2C%20%5B-158.658106%2C%2070.787508%5D%2C%20%5B-158.033735%2C%2070.831323%5D%2C%20%5B-157.420318%2C%2070.979201%5D%2C%20%5B-156.812377%2C%2071.285909%5D%2C%20%5B-156.565915%2C%2071.351633%5D%2C%20%5B-156.522099%2C%2071.296863%5D%2C%20%5B-155.585543%2C%2071.170894%5D%2C%20%5B-155.508865%2C%2071.083263%5D%2C%20%5B-155.832005%2C%2070.968247%5D%2C%20%5B-155.979882%2C%2070.96277%5D%2C%20%5B-155.974405%2C%2070.809416%5D%2C%20%5B-155.503388%2C%2070.858708%5D%2C%20%5B-155.476004%2C%2070.940862%5D%2C%20%5B-155.262403%2C%2071.017539%5D%2C%20%5B-155.191203%2C%2070.973724%5D%2C%20%5B-155.032372%2C%2071.148986%5D%2C%20%5B-154.566832%2C%2070.990155%5D%2C%20%5B-154.643509%2C%2070.869662%5D%2C%20%5B-154.353231%2C%2070.8368%5D%2C%20%5B-154.183446%2C%2070.7656%5D%2C%20%5B-153.931507%2C%2070.880616%5D%2C%20%5B-153.487874%2C%2070.886093%5D%2C%20%5B-153.235935%2C%2070.924431%5D%2C%20%5B-152.589656%2C%2070.886093%5D%2C%20%5B-152.26104%2C%2070.842277%5D%2C%20%5B-152.419871%2C%2070.606769%5D%2C%20%5B-151.817408%2C%2070.546523%5D%2C%20%5B-151.773592%2C%2070.486276%5D%2C%20%5B-151.187559%2C%2070.382214%5D%2C%20%5B-151.182082%2C%2070.431507%5D%2C%20%5B-150.760358%2C%2070.49723%5D%2C%20%5B-150.355064%2C%2070.491753%5D%2C%20%5B-150.349588%2C%2070.436984%5D%2C%20%5B-150.114079%2C%2070.431507%5D%2C%20%5B-149.867617%2C%2070.508184%5D%2C%20%5B-149.462323%2C%2070.519138%5D%2C%20%5B-149.177522%2C%2070.486276%5D%2C%20%5B-148.78866%2C%2070.404122%5D%2C%20%5B-148.607921%2C%2070.420553%5D%2C%20%5B-148.350504%2C%2070.305537%5D%2C%20%5B-148.202627%2C%2070.349353%5D%2C%20%5B-147.961642%2C%2070.316491%5D%2C%20%5B-147.786379%2C%2070.245291%5D%5D%5D%2C%20%5B%5B%5B-152.94018%2C%2058.026237%5D%2C%20%5B-152.945657%2C%2057.982421%5D%2C%20%5B-153.290705%2C%2058.048145%5D%2C%20%5B-153.044242%2C%2058.305561%5D%2C%20%5B-152.819688%2C%2058.327469%5D%2C%20%5B-152.666333%2C%2058.562977%5D%2C%20%5B-152.496548%2C%2058.354853%5D%2C%20%5B-152.354148%2C%2058.426053%5D%2C%20%5B-152.080301%2C%2058.311038%5D%2C%20%5B-152.080301%2C%2058.152206%5D%2C%20%5B-152.480117%2C%2058.130299%5D%2C%20%5B-152.655379%2C%2058.059098%5D%2C%20%5B-152.94018%2C%2058.026237%5D%5D%5D%2C%20%5B%5B%5B-153.958891%2C%2057.538789%5D%2C%20%5B-153.67409%2C%2057.670236%5D%2C%20%5B-153.931507%2C%2057.69762%5D%2C%20%5B-153.936983%2C%2057.812636%5D%2C%20%5B-153.723383%2C%2057.889313%5D%2C%20%5B-153.570028%2C%2057.834544%5D%2C%20%5B-153.548121%2C%2057.719528%5D%2C%20%5B-153.46049%2C%2057.796205%5D%2C%20%5B-153.455013%2C%2057.96599%5D%2C%20%5B-153.268797%2C%2057.889313%5D%2C%20%5B-153.235935%2C%2057.998852%5D%2C%20%5B-153.071627%2C%2057.933129%5D%2C%20%5B-152.874457%2C%2057.933129%5D%2C%20%5B-152.721103%2C%2057.993375%5D%2C%20%5B-152.469163%2C%2057.889313%5D%2C%20%5B-152.469163%2C%2057.599035%5D%2C%20%5B-152.151501%2C%2057.620943%5D%2C%20%5B-152.359625%2C%2057.42925%5D%2C%20%5B-152.74301%2C%2057.505928%5D%2C%20%5B-152.60061%2C%2057.379958%5D%2C%20%5B-152.710149%2C%2057.275896%5D%2C%20%5B-152.907319%2C%2057.325188%5D%2C%20%5B-152.912796%2C%2057.128019%5D%2C%20%5B-153.214027%2C%2057.073249%5D%2C%20%5B-153.312612%2C%2056.991095%5D%2C%20%5B-153.498828%2C%2057.067772%5D%2C%20%5B-153.695998%2C%2056.859649%5D%2C%20%5B-153.849352%2C%2056.837741%5D%2C%20%5B-154.013661%2C%2056.744633%5D%2C%20%5B-154.073907%2C%2056.969187%5D%2C%20%5B-154.303938%2C%2056.848695%5D%2C%20%5B-154.314892%2C%2056.919895%5D%2C%20%5B-154.523016%2C%2056.991095%5D%2C%20%5B-154.539447%2C%2057.193742%5D%2C%20%5B-154.742094%2C%2057.275896%5D%2C%20%5B-154.627078%2C%2057.511404%5D%2C%20%5B-154.227261%2C%2057.659282%5D%2C%20%5B-153.980799%2C%2057.648328%5D%2C%20%5B-153.958891%2C%2057.538789%5D%5D%5D%2C%20%5B%5B%5B-154.53397%2C%2056.602232%5D%2C%20%5B-154.742094%2C%2056.399586%5D%2C%20%5B-154.807817%2C%2056.432447%5D%2C%20%5B-154.53397%2C%2056.602232%5D%5D%5D%2C%20%5B%5B%5B-155.634835%2C%2055.923092%5D%2C%20%5B-155.476004%2C%2055.912138%5D%2C%20%5B-155.530773%2C%2055.704014%5D%2C%20%5B-155.793666%2C%2055.731399%5D%2C%20%5B-155.837482%2C%2055.802599%5D%2C%20%5B-155.634835%2C%2055.923092%5D%5D%5D%2C%20%5B%5B%5B-159.890418%2C%2055.28229%5D%2C%20%5B-159.950664%2C%2055.068689%5D%2C%20%5B-160.257373%2C%2054.893427%5D%2C%20%5B-160.109495%2C%2055.161797%5D%2C%20%5B-160.005433%2C%2055.134412%5D%2C%20%5B-159.890418%2C%2055.28229%5D%5D%5D%2C%20%5B%5B%5B-160.520266%2C%2055.358967%5D%2C%20%5B-160.33405%2C%2055.358967%5D%2C%20%5B-160.339527%2C%2055.249428%5D%2C%20%5B-160.525743%2C%2055.128935%5D%2C%20%5B-160.690051%2C%2055.211089%5D%2C%20%5B-160.794113%2C%2055.134412%5D%2C%20%5B-160.854359%2C%2055.320628%5D%2C%20%5B-160.79959%2C%2055.380875%5D%2C%20%5B-160.520266%2C%2055.358967%5D%5D%5D%2C%20%5B%5B%5B-162.256456%2C%2054.981058%5D%2C%20%5B-162.234548%2C%2054.893427%5D%2C%20%5B-162.349564%2C%2054.838658%5D%2C%20%5B-162.437195%2C%2054.931766%5D%2C%20%5B-162.256456%2C%2054.981058%5D%5D%5D%2C%20%5B%5B%5B-162.415287%2C%2063.634624%5D%2C%20%5B-162.563165%2C%2063.536039%5D%2C%20%5B-162.612457%2C%2063.62367%5D%2C%20%5B-162.415287%2C%2063.634624%5D%5D%5D%2C%20%5B%5B%5B-162.80415%2C%2054.488133%5D%2C%20%5B-162.590549%2C%2054.449795%5D%2C%20%5B-162.612457%2C%2054.367641%5D%2C%20%5B-162.782242%2C%2054.373118%5D%2C%20%5B-162.80415%2C%2054.488133%5D%5D%5D%2C%20%5B%5B%5B-165.548097%2C%2054.29644%5D%2C%20%5B-165.476897%2C%2054.181425%5D%2C%20%5B-165.630251%2C%2054.132132%5D%2C%20%5B-165.685021%2C%2054.252625%5D%2C%20%5B-165.548097%2C%2054.29644%5D%5D%5D%2C%20%5B%5B%5B-165.73979%2C%2054.15404%5D%2C%20%5B-166.046499%2C%2054.044501%5D%2C%20%5B-166.112222%2C%2054.121178%5D%2C%20%5B-165.980775%2C%2054.219763%5D%2C%20%5B-165.73979%2C%2054.15404%5D%5D%5D%2C%20%5B%5B%5B-166.364161%2C%2060.359413%5D%2C%20%5B-166.13413%2C%2060.397752%5D%2C%20%5B-166.084837%2C%2060.326552%5D%2C%20%5B-165.88219%2C%2060.342983%5D%2C%20%5B-165.685021%2C%2060.277259%5D%2C%20%5B-165.646682%2C%2059.992458%5D%2C%20%5B-165.750744%2C%2059.89935%5D%2C%20%5B-166.00816%2C%2059.844581%5D%2C%20%5B-166.062929%2C%2059.745996%5D%2C%20%5B-166.440838%2C%2059.855535%5D%2C%20%5B-166.6161%2C%2059.850058%5D%2C%20%5B-166.994009%2C%2059.992458%5D%2C%20%5B-167.125456%2C%2059.992458%5D%2C%20%5B-167.344534%2C%2060.074613%5D%2C%20%5B-167.421211%2C%2060.206059%5D%2C%20%5B-167.311672%2C%2060.238921%5D%2C%20%5B-166.93924%2C%2060.206059%5D%2C%20%5B-166.763978%2C%2060.310121%5D%2C%20%5B-166.577762%2C%2060.321075%5D%2C%20%5B-166.495608%2C%2060.392275%5D%2C%20%5B-166.364161%2C%2060.359413%5D%5D%5D%2C%20%5B%5B%5B-166.375115%2C%2054.01164%5D%2C%20%5B-166.210807%2C%2053.934962%5D%2C%20%5B-166.5449%2C%2053.748746%5D%2C%20%5B-166.539423%2C%2053.715885%5D%2C%20%5B-166.117699%2C%2053.852808%5D%2C%20%5B-166.112222%2C%2053.776131%5D%2C%20%5B-166.282007%2C%2053.683023%5D%2C%20%5B-166.555854%2C%2053.622777%5D%2C%20%5B-166.583239%2C%2053.529669%5D%2C%20%5B-166.878994%2C%2053.431084%5D%2C%20%5B-167.13641%2C%2053.425607%5D%2C%20%5B-167.306195%2C%2053.332499%5D%2C%20%5B-167.623857%2C%2053.250345%5D%2C%20%5B-167.793643%2C%2053.337976%5D%2C%20%5B-167.459549%2C%2053.442038%5D%2C%20%5B-167.355487%2C%2053.425607%5D%2C%20%5B-167.103548%2C%2053.513238%5D%2C%20%5B-167.163794%2C%2053.611823%5D%2C%20%5B-167.021394%2C%2053.715885%5D%2C%20%5B-166.807793%2C%2053.666592%5D%2C%20%5B-166.785886%2C%2053.732316%5D%2C%20%5B-167.015917%2C%2053.754223%5D%2C%20%5B-167.141887%2C%2053.825424%5D%2C%20%5B-167.032348%2C%2053.945916%5D%2C%20%5B-166.643485%2C%2054.017116%5D%2C%20%5B-166.561331%2C%2053.880193%5D%2C%20%5B-166.375115%2C%2054.01164%5D%5D%5D%2C%20%5B%5B%5B-168.790446%2C%2053.157237%5D%2C%20%5B-168.40706%2C%2053.34893%5D%2C%20%5B-168.385152%2C%2053.431084%5D%2C%20%5B-168.237275%2C%2053.524192%5D%2C%20%5B-168.007243%2C%2053.568007%5D%2C%20%5B-167.886751%2C%2053.518715%5D%2C%20%5B-167.842935%2C%2053.387268%5D%2C%20%5B-168.270136%2C%2053.244868%5D%2C%20%5B-168.500168%2C%2053.036744%5D%2C%20%5B-168.686384%2C%2052.965544%5D%2C%20%5B-168.790446%2C%2053.157237%5D%5D%5D%2C%20%5B%5B%5B-169.74891%2C%2052.894344%5D%2C%20%5B-169.705095%2C%2052.795759%5D%2C%20%5B-169.962511%2C%2052.790282%5D%2C%20%5B-169.989896%2C%2052.856005%5D%2C%20%5B-169.74891%2C%2052.894344%5D%5D%5D%2C%20%5B%5B%5B-170.148727%2C%2057.221127%5D%2C%20%5B-170.28565%2C%2057.128019%5D%2C%20%5B-170.313035%2C%2057.221127%5D%2C%20%5B-170.148727%2C%2057.221127%5D%5D%5D%2C%20%5B%5B%5B-170.669036%2C%2052.697174%5D%2C%20%5B-170.603313%2C%2052.604066%5D%2C%20%5B-170.789529%2C%2052.538343%5D%2C%20%5B-170.816914%2C%2052.636928%5D%2C%20%5B-170.669036%2C%2052.697174%5D%5D%5D%2C%20%5B%5B%5B-171.742517%2C%2063.716778%5D%2C%20%5B-170.94836%2C%2063.5689%5D%2C%20%5B-170.488297%2C%2063.69487%5D%2C%20%5B-170.280174%2C%2063.683916%5D%2C%20%5B-170.093958%2C%2063.612716%5D%2C%20%5B-170.044665%2C%2063.492223%5D%2C%20%5B-169.644848%2C%2063.4265%5D%2C%20%5B-169.518879%2C%2063.366254%5D%2C%20%5B-168.99857%2C%2063.338869%5D%2C%20%5B-168.686384%2C%2063.295053%5D%2C%20%5B-168.856169%2C%2063.147176%5D%2C%20%5B-169.108108%2C%2063.180038%5D%2C%20%5B-169.376478%2C%2063.152653%5D%2C%20%5B-169.513402%2C%2063.08693%5D%2C%20%5B-169.639372%2C%2062.939052%5D%2C%20%5B-169.831064%2C%2063.075976%5D%2C%20%5B-170.055619%2C%2063.169084%5D%2C%20%5B-170.263743%2C%2063.180038%5D%2C%20%5B-170.362328%2C%2063.2841%5D%2C%20%5B-170.866206%2C%2063.415546%5D%2C%20%5B-171.101715%2C%2063.421023%5D%2C%20%5B-171.463193%2C%2063.306007%5D%2C%20%5B-171.73704%2C%2063.366254%5D%2C%20%5B-171.852055%2C%2063.486746%5D%2C%20%5B-171.742517%2C%2063.716778%5D%5D%5D%2C%20%5B%5B%5B-172.432611%2C%2052.390465%5D%2C%20%5B-172.41618%2C%2052.275449%5D%2C%20%5B-172.607873%2C%2052.253542%5D%2C%20%5B-172.569535%2C%2052.352127%5D%2C%20%5B-172.432611%2C%2052.390465%5D%5D%5D%2C%20%5B%5B%5B-173.626584%2C%2052.14948%5D%2C%20%5B-173.495138%2C%2052.105664%5D%2C%20%5B-173.122706%2C%2052.111141%5D%2C%20%5B-173.106275%2C%2052.07828%5D%2C%20%5B-173.549907%2C%2052.028987%5D%2C%20%5B-173.626584%2C%2052.14948%5D%5D%5D%2C%20%5B%5B%5B-174.322156%2C%2052.280926%5D%2C%20%5B-174.327632%2C%2052.379511%5D%2C%20%5B-174.185232%2C%2052.41785%5D%2C%20%5B-173.982585%2C%2052.319265%5D%2C%20%5B-174.059262%2C%2052.226157%5D%2C%20%5B-174.179755%2C%2052.231634%5D%2C%20%5B-174.141417%2C%2052.127572%5D%2C%20%5B-174.333109%2C%2052.116618%5D%2C%20%5B-174.738403%2C%2052.007079%5D%2C%20%5B-174.968435%2C%2052.039941%5D%2C%20%5B-174.902711%2C%2052.116618%5D%2C%20%5B-174.656249%2C%2052.105664%5D%2C%20%5B-174.322156%2C%2052.280926%5D%5D%5D%2C%20%5B%5B%5B-176.469116%2C%2051.853725%5D%2C%20%5B-176.288377%2C%2051.870156%5D%2C%20%5B-176.288377%2C%2051.744186%5D%2C%20%5B-176.518409%2C%2051.760617%5D%2C%20%5B-176.80321%2C%2051.61274%5D%2C%20%5B-176.912748%2C%2051.80991%5D%2C%20%5B-176.792256%2C%2051.815386%5D%2C%20%5B-176.775825%2C%2051.963264%5D%2C%20%5B-176.627947%2C%2051.968741%5D%2C%20%5B-176.627947%2C%2051.859202%5D%2C%20%5B-176.469116%2C%2051.853725%5D%5D%5D%2C%20%5B%5B%5B-177.153734%2C%2051.946833%5D%2C%20%5B-177.044195%2C%2051.897541%5D%2C%20%5B-177.120872%2C%2051.727755%5D%2C%20%5B-177.274226%2C%2051.678463%5D%2C%20%5B-177.279703%2C%2051.782525%5D%2C%20%5B-177.153734%2C%2051.946833%5D%5D%5D%2C%20%5B%5B%5B-178.123152%2C%2051.919448%5D%2C%20%5B-177.953367%2C%2051.913971%5D%2C%20%5B-177.800013%2C%2051.793479%5D%2C%20%5B-177.964321%2C%2051.651078%5D%2C%20%5B-178.123152%2C%2051.919448%5D%5D%5D%2C%20%5B%5B%5B173.107557%2C%2052.992929%5D%2C%20%5B173.293773%2C%2052.927205%5D%2C%20%5B173.304726%2C%2052.823143%5D%2C%20%5B172.90491%2C%2052.762897%5D%2C%20%5B172.642017%2C%2052.927205%5D%2C%20%5B172.642017%2C%2053.003883%5D%2C%20%5B173.107557%2C%2052.992929%5D%5D%5D%5D%2C%20%22type%22%3A%20%22MultiPolygon%22%7D%2C%20%22id%22%3A%20%22AK%22%2C%20%22properties%22%3A%20%7B%22name%22%3A%20%22Alaska%22%7D%2C%20%22type%22%3A%20%22Feature%22%7D%2C%20%7B%22geometry%22%3A%20%7B%22coordinates%22%3A%20%5B%5B%5B-109.042503%2C%2037.000263%5D%2C%20%5B-109.04798%2C%2031.331629%5D%2C%20%5B-111.074448%2C%2031.331629%5D%2C%20%5B-112.246513%2C%2031.704061%5D%2C%20%5B-114.815198%2C%2032.492741%5D%2C%20%5B-114.72209%2C%2032.717295%5D%2C%20%5B-114.524921%2C%2032.755634%5D%2C%20%5B-114.470151%2C%2032.843265%5D%2C%20%5B-114.524921%2C%2033.029481%5D%2C%20%5B-114.661844%2C%2033.034958%5D%2C%20%5B-114.727567%2C%2033.40739%5D%2C%20%5B-114.524921%2C%2033.54979%5D%2C%20%5B-114.497536%2C%2033.697668%5D%2C%20%5B-114.535874%2C%2033.933176%5D%2C%20%5B-114.415382%2C%2034.108438%5D%2C%20%5B-114.256551%2C%2034.174162%5D%2C%20%5B-114.136058%2C%2034.305608%5D%2C%20%5B-114.333228%2C%2034.448009%5D%2C%20%5B-114.470151%2C%2034.710902%5D%2C%20%5B-114.634459%2C%2034.87521%5D%2C%20%5B-114.634459%2C%2035.00118%5D%2C%20%5B-114.574213%2C%2035.138103%5D%2C%20%5B-114.596121%2C%2035.324319%5D%2C%20%5B-114.678275%2C%2035.516012%5D%2C%20%5B-114.738521%2C%2036.102045%5D%2C%20%5B-114.371566%2C%2036.140383%5D%2C%20%5B-114.251074%2C%2036.01989%5D%2C%20%5B-114.152489%2C%2036.025367%5D%2C%20%5B-114.048427%2C%2036.195153%5D%2C%20%5B-114.048427%2C%2037.000263%5D%2C%20%5B-110.499369%2C%2037.00574%5D%2C%20%5B-109.042503%2C%2037.000263%5D%5D%5D%2C%20%22type%22%3A%20%22Polygon%22%7D%2C%20%22id%22%3A%20%22AZ%22%2C%20%22properties%22%3A%20%7B%22name%22%3A%20%22Arizona%22%7D%2C%20%22type%22%3A%20%22Feature%22%7D%2C%20%7B%22geometry%22%3A%20%7B%22coordinates%22%3A%20%5B%5B%5B-94.473842%2C%2036.501861%5D%2C%20%5B-90.152536%2C%2036.496384%5D%2C%20%5B-90.064905%2C%2036.304691%5D%2C%20%5B-90.218259%2C%2036.184199%5D%2C%20%5B-90.377091%2C%2035.997983%5D%2C%20%5B-89.730812%2C%2035.997983%5D%2C%20%5B-89.763673%2C%2035.811767%5D%2C%20%5B-89.911551%2C%2035.756997%5D%2C%20%5B-89.944412%2C%2035.603643%5D%2C%20%5B-90.130628%2C%2035.439335%5D%2C%20%5B-90.114197%2C%2035.198349%5D%2C%20%5B-90.212782%2C%2035.023087%5D%2C%20%5B-90.311367%2C%2034.995703%5D%2C%20%5B-90.251121%2C%2034.908072%5D%2C%20%5B-90.409952%2C%2034.831394%5D%2C%20%5B-90.481152%2C%2034.661609%5D%2C%20%5B-90.585214%2C%2034.617794%5D%2C%20%5B-90.568783%2C%2034.420624%5D%2C%20%5B-90.749522%2C%2034.365854%5D%2C%20%5B-90.744046%2C%2034.300131%5D%2C%20%5B-90.952169%2C%2034.135823%5D%2C%20%5B-90.891923%2C%2034.026284%5D%2C%20%5B-91.072662%2C%2033.867453%5D%2C%20%5B-91.231493%2C%2033.560744%5D%2C%20%5B-91.056231%2C%2033.429298%5D%2C%20%5B-91.143862%2C%2033.347144%5D%2C%20%5B-91.089093%2C%2033.13902%5D%2C%20%5B-91.16577%2C%2033.002096%5D%2C%20%5B-93.608485%2C%2033.018527%5D%2C%20%5B-94.041164%2C%2033.018527%5D%2C%20%5B-94.041164%2C%2033.54979%5D%2C%20%5B-94.183564%2C%2033.593606%5D%2C%20%5B-94.380734%2C%2033.544313%5D%2C%20%5B-94.484796%2C%2033.637421%5D%2C%20%5B-94.430026%2C%2035.395519%5D%2C%20%5B-94.616242%2C%2036.501861%5D%2C%20%5B-94.473842%2C%2036.501861%5D%5D%5D%2C%20%22type%22%3A%20%22Polygon%22%7D%2C%20%22id%22%3A%20%22AR%22%2C%20%22properties%22%3A%20%7B%22name%22%3A%20%22Arkansas%22%7D%2C%20%22type%22%3A%20%22Feature%22%7D%2C%20%7B%22geometry%22%3A%20%7B%22coordinates%22%3A%20%5B%5B%5B-123.233256%2C%2042.006186%5D%2C%20%5B-122.378853%2C%2042.011663%5D%2C%20%5B-121.037003%2C%2041.995232%5D%2C%20%5B-120.001861%2C%2041.995232%5D%2C%20%5B-119.996384%2C%2040.264519%5D%2C%20%5B-120.001861%2C%2038.999346%5D%2C%20%5B-118.71478%2C%2038.101128%5D%2C%20%5B-117.498899%2C%2037.21934%5D%2C%20%5B-116.540435%2C%2036.501861%5D%2C%20%5B-115.85034%2C%2035.970598%5D%2C%20%5B-114.634459%2C%2035.00118%5D%2C%20%5B-114.634459%2C%2034.87521%5D%2C%20%5B-114.470151%2C%2034.710902%5D%2C%20%5B-114.333228%2C%2034.448009%5D%2C%20%5B-114.136058%2C%2034.305608%5D%2C%20%5B-114.256551%2C%2034.174162%5D%2C%20%5B-114.415382%2C%2034.108438%5D%2C%20%5B-114.535874%2C%2033.933176%5D%2C%20%5B-114.497536%2C%2033.697668%5D%2C%20%5B-114.524921%2C%2033.54979%5D%2C%20%5B-114.727567%2C%2033.40739%5D%2C%20%5B-114.661844%2C%2033.034958%5D%2C%20%5B-114.524921%2C%2033.029481%5D%2C%20%5B-114.470151%2C%2032.843265%5D%2C%20%5B-114.524921%2C%2032.755634%5D%2C%20%5B-114.72209%2C%2032.717295%5D%2C%20%5B-116.04751%2C%2032.624187%5D%2C%20%5B-117.126467%2C%2032.536556%5D%2C%20%5B-117.24696%2C%2032.668003%5D%2C%20%5B-117.252437%2C%2032.876127%5D%2C%20%5B-117.329114%2C%2033.122589%5D%2C%20%5B-117.471515%2C%2033.297851%5D%2C%20%5B-117.7837%2C%2033.538836%5D%2C%20%5B-118.183517%2C%2033.763391%5D%2C%20%5B-118.260194%2C%2033.703145%5D%2C%20%5B-118.413548%2C%2033.741483%5D%2C%20%5B-118.391641%2C%2033.840068%5D%2C%20%5B-118.566903%2C%2034.042715%5D%2C%20%5B-118.802411%2C%2033.998899%5D%2C%20%5B-119.218659%2C%2034.146777%5D%2C%20%5B-119.278905%2C%2034.26727%5D%2C%20%5B-119.558229%2C%2034.415147%5D%2C%20%5B-119.875891%2C%2034.40967%5D%2C%20%5B-120.138784%2C%2034.475393%5D%2C%20%5B-120.472878%2C%2034.448009%5D%2C%20%5B-120.64814%2C%2034.579455%5D%2C%20%5B-120.609801%2C%2034.858779%5D%2C%20%5B-120.670048%2C%2034.902595%5D%2C%20%5B-120.631709%2C%2035.099764%5D%2C%20%5B-120.894602%2C%2035.247642%5D%2C%20%5B-120.905556%2C%2035.450289%5D%2C%20%5B-121.004141%2C%2035.461243%5D%2C%20%5B-121.168449%2C%2035.636505%5D%2C%20%5B-121.283465%2C%2035.674843%5D%2C%20%5B-121.332757%2C%2035.784382%5D%2C%20%5B-121.716143%2C%2036.195153%5D%2C%20%5B-121.896882%2C%2036.315645%5D%2C%20%5B-121.935221%2C%2036.638785%5D%2C%20%5B-121.858544%2C%2036.6114%5D%2C%20%5B-121.787344%2C%2036.803093%5D%2C%20%5B-121.929744%2C%2036.978355%5D%2C%20%5B-122.105006%2C%2036.956447%5D%2C%20%5B-122.335038%2C%2037.115279%5D%2C%20%5B-122.417192%2C%2037.241248%5D%2C%20%5B-122.400761%2C%2037.361741%5D%2C%20%5B-122.515777%2C%2037.520572%5D%2C%20%5B-122.515777%2C%2037.783465%5D%2C%20%5B-122.329561%2C%2037.783465%5D%2C%20%5B-122.406238%2C%2038.15042%5D%2C%20%5B-122.488392%2C%2038.112082%5D%2C%20%5B-122.504823%2C%2037.931343%5D%2C%20%5B-122.701993%2C%2037.893004%5D%2C%20%5B-122.937501%2C%2038.029928%5D%2C%20%5B-122.97584%2C%2038.265436%5D%2C%20%5B-123.129194%2C%2038.451652%5D%2C%20%5B-123.331841%2C%2038.566668%5D%2C%20%5B-123.44138%2C%2038.698114%5D%2C%20%5B-123.737134%2C%2038.95553%5D%2C%20%5B-123.687842%2C%2039.032208%5D%2C%20%5B-123.824765%2C%2039.366301%5D%2C%20%5B-123.764519%2C%2039.552517%5D%2C%20%5B-123.85215%2C%2039.831841%5D%2C%20%5B-124.109566%2C%2040.105688%5D%2C%20%5B-124.361506%2C%2040.259042%5D%2C%20%5B-124.410798%2C%2040.439781%5D%2C%20%5B-124.158859%2C%2040.877937%5D%2C%20%5B-124.109566%2C%2041.025814%5D%2C%20%5B-124.158859%2C%2041.14083%5D%2C%20%5B-124.065751%2C%2041.442061%5D%2C%20%5B-124.147905%2C%2041.715908%5D%2C%20%5B-124.257444%2C%2041.781632%5D%2C%20%5B-124.213628%2C%2042.000709%5D%2C%20%5B-123.233256%2C%2042.006186%5D%5D%5D%2C%20%22type%22%3A%20%22Polygon%22%7D%2C%20%22id%22%3A%20%22CA%22%2C%20%22properties%22%3A%20%7B%22name%22%3A%20%22California%22%7D%2C%20%22type%22%3A%20%22Feature%22%7D%2C%20%7B%22geometry%22%3A%20%7B%22coordinates%22%3A%20%5B%5B%5B-107.919731%2C%2041.003906%5D%2C%20%5B-105.728954%2C%2040.998429%5D%2C%20%5B-104.053011%2C%2041.003906%5D%2C%20%5B-102.053927%2C%2041.003906%5D%2C%20%5B-102.053927%2C%2040.001626%5D%2C%20%5B-102.042974%2C%2036.994786%5D%2C%20%5B-103.001438%2C%2037.000263%5D%2C%20%5B-104.337812%2C%2036.994786%5D%2C%20%5B-106.868158%2C%2036.994786%5D%2C%20%5B-107.421329%2C%2037.000263%5D%2C%20%5B-109.042503%2C%2037.000263%5D%2C%20%5B-109.042503%2C%2038.166851%5D%2C%20%5B-109.058934%2C%2038.27639%5D%2C%20%5B-109.053457%2C%2039.125316%5D%2C%20%5B-109.04798%2C%2040.998429%5D%2C%20%5B-107.919731%2C%2041.003906%5D%5D%5D%2C%20%22type%22%3A%20%22Polygon%22%7D%2C%20%22id%22%3A%20%22CO%22%2C%20%22properties%22%3A%20%7B%22name%22%3A%20%22Colorado%22%7D%2C%20%22type%22%3A%20%22Feature%22%7D%2C%20%7B%22geometry%22%3A%20%7B%22coordinates%22%3A%20%5B%5B%5B-73.053528%2C%2042.039048%5D%2C%20%5B-71.799309%2C%2042.022617%5D%2C%20%5B-71.799309%2C%2042.006186%5D%2C%20%5B-71.799309%2C%2041.414677%5D%2C%20%5B-71.859555%2C%2041.321569%5D%2C%20%5B-71.947186%2C%2041.338%5D%2C%20%5B-72.385341%2C%2041.261322%5D%2C%20%5B-72.905651%2C%2041.28323%5D%2C%20%5B-73.130205%2C%2041.146307%5D%2C%20%5B-73.371191%2C%2041.102491%5D%2C%20%5B-73.655992%2C%2040.987475%5D%2C%20%5B-73.727192%2C%2041.102491%5D%2C%20%5B-73.48073%2C%2041.21203%5D%2C%20%5B-73.55193%2C%2041.294184%5D%2C%20%5B-73.486206%2C%2042.050002%5D%2C%20%5B-73.053528%2C%2042.039048%5D%5D%5D%2C%20%22type%22%3A%20%22Polygon%22%7D%2C%20%22id%22%3A%20%22CT%22%2C%20%22properties%22%3A%20%7B%22name%22%3A%20%22Connecticut%22%7D%2C%20%22type%22%3A%20%22Feature%22%7D%2C%20%7B%22geometry%22%3A%20%7B%22coordinates%22%3A%20%5B%5B%5B-75.414089%2C%2039.804456%5D%2C%20%5B-75.507197%2C%2039.683964%5D%2C%20%5B-75.611259%2C%2039.61824%5D%2C%20%5B-75.589352%2C%2039.459409%5D%2C%20%5B-75.441474%2C%2039.311532%5D%2C%20%5B-75.403136%2C%2039.065069%5D%2C%20%5B-75.189535%2C%2038.807653%5D%2C%20%5B-75.09095%2C%2038.796699%5D%2C%20%5B-75.047134%2C%2038.451652%5D%2C%20%5B-75.693413%2C%2038.462606%5D%2C%20%5B-75.786521%2C%2039.722302%5D%2C%20%5B-75.616736%2C%2039.831841%5D%2C%20%5B-75.414089%2C%2039.804456%5D%5D%5D%2C%20%22type%22%3A%20%22Polygon%22%7D%2C%20%22id%22%3A%20%22DE%22%2C%20%22properties%22%3A%20%7B%22name%22%3A%20%22Delaware%22%7D%2C%20%22type%22%3A%20%22Feature%22%7D%2C%20%7B%22geometry%22%3A%20%7B%22coordinates%22%3A%20%5B%5B%5B-85.497137%2C%2030.997536%5D%2C%20%5B-85.004212%2C%2031.003013%5D%2C%20%5B-84.867289%2C%2030.712735%5D%2C%20%5B-83.498053%2C%2030.647012%5D%2C%20%5B-82.216449%2C%2030.570335%5D%2C%20%5B-82.167157%2C%2030.356734%5D%2C%20%5B-82.046664%2C%2030.362211%5D%2C%20%5B-82.002849%2C%2030.564858%5D%2C%20%5B-82.041187%2C%2030.751074%5D%2C%20%5B-81.948079%2C%2030.827751%5D%2C%20%5B-81.718048%2C%2030.745597%5D%2C%20%5B-81.444201%2C%2030.707258%5D%2C%20%5B-81.383954%2C%2030.27458%5D%2C%20%5B-81.257985%2C%2029.787132%5D%2C%20%5B-80.967707%2C%2029.14633%5D%2C%20%5B-80.524075%2C%2028.461713%5D%2C%20%5B-80.589798%2C%2028.41242%5D%2C%20%5B-80.56789%2C%2028.094758%5D%2C%20%5B-80.381674%2C%2027.738757%5D%2C%20%5B-80.091397%2C%2027.021277%5D%2C%20%5B-80.03115%2C%2026.796723%5D%2C%20%5B-80.036627%2C%2026.566691%5D%2C%20%5B-80.146166%2C%2025.739673%5D%2C%20%5B-80.239274%2C%2025.723243%5D%2C%20%5B-80.337859%2C%2025.465826%5D%2C%20%5B-80.304997%2C%2025.383672%5D%2C%20%5B-80.49669%2C%2025.197456%5D%2C%20%5B-80.573367%2C%2025.241272%5D%2C%20%5B-80.759583%2C%2025.164595%5D%2C%20%5B-81.077246%2C%2025.120779%5D%2C%20%5B-81.170354%2C%2025.224841%5D%2C%20%5B-81.126538%2C%2025.378195%5D%2C%20%5B-81.351093%2C%2025.821827%5D%2C%20%5B-81.526355%2C%2025.903982%5D%2C%20%5B-81.679709%2C%2025.843735%5D%2C%20%5B-81.800202%2C%2026.090198%5D%2C%20%5B-81.833064%2C%2026.292844%5D%2C%20%5B-82.041187%2C%2026.517399%5D%2C%20%5B-82.09048%2C%2026.665276%5D%2C%20%5B-82.057618%2C%2026.878877%5D%2C%20%5B-82.172634%2C%2026.917216%5D%2C%20%5B-82.145249%2C%2026.791246%5D%2C%20%5B-82.249311%2C%2026.758384%5D%2C%20%5B-82.566974%2C%2027.300601%5D%2C%20%5B-82.692943%2C%2027.437525%5D%2C%20%5B-82.391711%2C%2027.837342%5D%2C%20%5B-82.588881%2C%2027.815434%5D%2C%20%5B-82.720328%2C%2027.689464%5D%2C%20%5B-82.851774%2C%2027.886634%5D%2C%20%5B-82.676512%2C%2028.434328%5D%2C%20%5B-82.643651%2C%2028.888914%5D%2C%20%5B-82.764143%2C%2028.998453%5D%2C%20%5B-82.802482%2C%2029.14633%5D%2C%20%5B-82.994175%2C%2029.179192%5D%2C%20%5B-83.218729%2C%2029.420177%5D%2C%20%5B-83.399469%2C%2029.518762%5D%2C%20%5B-83.410422%2C%2029.66664%5D%2C%20%5B-83.536392%2C%2029.721409%5D%2C%20%5B-83.640454%2C%2029.885717%5D%2C%20%5B-84.02384%2C%2030.104795%5D%2C%20%5B-84.357933%2C%2030.055502%5D%2C%20%5B-84.341502%2C%2029.902148%5D%2C%20%5B-84.451041%2C%2029.929533%5D%2C%20%5B-84.867289%2C%2029.743317%5D%2C%20%5B-85.310921%2C%2029.699501%5D%2C%20%5B-85.299967%2C%2029.80904%5D%2C%20%5B-85.404029%2C%2029.940487%5D%2C%20%5B-85.924338%2C%2030.236241%5D%2C%20%5B-86.29677%2C%2030.362211%5D%2C%20%5B-86.630863%2C%2030.395073%5D%2C%20%5B-86.910187%2C%2030.373165%5D%2C%20%5B-87.518128%2C%2030.280057%5D%2C%20%5B-87.37025%2C%2030.427934%5D%2C%20%5B-87.446927%2C%2030.510088%5D%2C%20%5B-87.408589%2C%2030.674397%5D%2C%20%5B-87.633143%2C%2030.86609%5D%2C%20%5B-87.600282%2C%2030.997536%5D%2C%20%5B-85.497137%2C%2030.997536%5D%5D%5D%2C%20%22type%22%3A%20%22Polygon%22%7D%2C%20%22id%22%3A%20%22FL%22%2C%20%22properties%22%3A%20%7B%22name%22%3A%20%22Florida%22%7D%2C%20%22type%22%3A%20%22Feature%22%7D%2C%20%7B%22geometry%22%3A%20%7B%22coordinates%22%3A%20%5B%5B%5B-83.109191%2C%2035.00118%5D%2C%20%5B-83.322791%2C%2034.787579%5D%2C%20%5B-83.339222%2C%2034.683517%5D%2C%20%5B-83.005129%2C%2034.469916%5D%2C%20%5B-82.901067%2C%2034.486347%5D%2C%20%5B-82.747713%2C%2034.26727%5D%2C%20%5B-82.714851%2C%2034.152254%5D%2C%20%5B-82.55602%2C%2033.94413%5D%2C%20%5B-82.325988%2C%2033.81816%5D%2C%20%5B-82.194542%2C%2033.631944%5D%2C%20%5B-81.926172%2C%2033.462159%5D%2C%20%5B-81.937125%2C%2033.347144%5D%2C%20%5B-81.761863%2C%2033.160928%5D%2C%20%5B-81.493493%2C%2033.007573%5D%2C%20%5B-81.42777%2C%2032.843265%5D%2C%20%5B-81.416816%2C%2032.629664%5D%2C%20%5B-81.279893%2C%2032.558464%5D%2C%20%5B-81.121061%2C%2032.290094%5D%2C%20%5B-81.115584%2C%2032.120309%5D%2C%20%5B-80.885553%2C%2032.032678%5D%2C%20%5B-81.132015%2C%2031.693108%5D%2C%20%5B-81.175831%2C%2031.517845%5D%2C%20%5B-81.279893%2C%2031.364491%5D%2C%20%5B-81.290846%2C%2031.20566%5D%2C%20%5B-81.400385%2C%2031.13446%5D%2C%20%5B-81.444201%2C%2030.707258%5D%2C%20%5B-81.718048%2C%2030.745597%5D%2C%20%5B-81.948079%2C%2030.827751%5D%2C%20%5B-82.041187%2C%2030.751074%5D%2C%20%5B-82.002849%2C%2030.564858%5D%2C%20%5B-82.046664%2C%2030.362211%5D%2C%20%5B-82.167157%2C%2030.356734%5D%2C%20%5B-82.216449%2C%2030.570335%5D%2C%20%5B-83.498053%2C%2030.647012%5D%2C%20%5B-84.867289%2C%2030.712735%5D%2C%20%5B-85.004212%2C%2031.003013%5D%2C%20%5B-85.113751%2C%2031.27686%5D%2C%20%5B-85.042551%2C%2031.539753%5D%2C%20%5B-85.141136%2C%2031.840985%5D%2C%20%5B-85.053504%2C%2032.01077%5D%2C%20%5B-85.058981%2C%2032.13674%5D%2C%20%5B-84.889196%2C%2032.262709%5D%2C%20%5B-85.004212%2C%2032.322956%5D%2C%20%5B-84.960397%2C%2032.421541%5D%2C%20%5B-85.069935%2C%2032.580372%5D%2C%20%5B-85.184951%2C%2032.859696%5D%2C%20%5B-85.431413%2C%2034.124869%5D%2C%20%5B-85.606675%2C%2034.984749%5D%2C%20%5B-84.319594%2C%2034.990226%5D%2C%20%5B-83.618546%2C%2034.984749%5D%2C%20%5B-83.109191%2C%2035.00118%5D%5D%5D%2C%20%22type%22%3A%20%22Polygon%22%7D%2C%20%22id%22%3A%20%22GA%22%2C%20%22properties%22%3A%20%7B%22name%22%3A%20%22Georgia%22%7D%2C%20%22type%22%3A%20%22Feature%22%7D%2C%20%7B%22geometry%22%3A%20%7B%22coordinates%22%3A%20%5B%5B%5B%5B-155.634835%2C%2018.948267%5D%2C%20%5B-155.881297%2C%2019.035898%5D%2C%20%5B-155.919636%2C%2019.123529%5D%2C%20%5B-155.886774%2C%2019.348084%5D%2C%20%5B-156.062036%2C%2019.73147%5D%2C%20%5B-155.925113%2C%2019.857439%5D%2C%20%5B-155.826528%2C%2020.032702%5D%2C%20%5B-155.897728%2C%2020.147717%5D%2C%20%5B-155.87582%2C%2020.26821%5D%2C%20%5B-155.596496%2C%2020.12581%5D%2C%20%5B-155.284311%2C%2020.021748%5D%2C%20%5B-155.092618%2C%2019.868393%5D%2C%20%5B-155.092618%2C%2019.736947%5D%2C%20%5B-154.807817%2C%2019.523346%5D%2C%20%5B-154.983079%2C%2019.348084%5D%2C%20%5B-155.295265%2C%2019.26593%5D%2C%20%5B-155.514342%2C%2019.134483%5D%2C%20%5B-155.634835%2C%2018.948267%5D%5D%5D%2C%20%5B%5B%5B-156.587823%2C%2021.029505%5D%2C%20%5B-156.472807%2C%2020.892581%5D%2C%20%5B-156.324929%2C%2020.952827%5D%2C%20%5B-156.00179%2C%2020.793996%5D%2C%20%5B-156.051082%2C%2020.651596%5D%2C%20%5B-156.379699%2C%2020.580396%5D%2C%20%5B-156.445422%2C%2020.60778%5D%2C%20%5B-156.461853%2C%2020.783042%5D%2C%20%5B-156.631638%2C%2020.821381%5D%2C%20%5B-156.697361%2C%2020.919966%5D%2C%20%5B-156.587823%2C%2021.029505%5D%5D%5D%2C%20%5B%5B%5B-156.982162%2C%2021.210244%5D%2C%20%5B-157.080747%2C%2021.106182%5D%2C%20%5B-157.310779%2C%2021.106182%5D%2C%20%5B-157.239579%2C%2021.221198%5D%2C%20%5B-156.982162%2C%2021.210244%5D%5D%5D%2C%20%5B%5B%5B-157.951581%2C%2021.697691%5D%2C%20%5B-157.842042%2C%2021.462183%5D%2C%20%5B-157.896811%2C%2021.325259%5D%2C%20%5B-158.110412%2C%2021.303352%5D%2C%20%5B-158.252813%2C%2021.582676%5D%2C%20%5B-158.126843%2C%2021.588153%5D%2C%20%5B-157.951581%2C%2021.697691%5D%5D%5D%2C%20%5B%5B%5B-159.468693%2C%2022.228955%5D%2C%20%5B-159.353678%2C%2022.218001%5D%2C%20%5B-159.298908%2C%2022.113939%5D%2C%20%5B-159.33177%2C%2021.966061%5D%2C%20%5B-159.446786%2C%2021.872953%5D%2C%20%5B-159.764448%2C%2021.987969%5D%2C%20%5B-159.726109%2C%2022.152277%5D%2C%20%5B-159.468693%2C%2022.228955%5D%5D%5D%5D%2C%20%22type%22%3A%20%22MultiPolygon%22%7D%2C%20%22id%22%3A%20%22HI%22%2C%20%22properties%22%3A%20%7B%22name%22%3A%20%22Hawaii%22%7D%2C%20%22type%22%3A%20%22Feature%22%7D%2C%20%7B%22geometry%22%3A%20%7B%22coordinates%22%3A%20%5B%5B%5B-116.04751%2C%2049.000239%5D%2C%20%5B-116.04751%2C%2047.976051%5D%2C%20%5B-115.724371%2C%2047.696727%5D%2C%20%5B-115.718894%2C%2047.42288%5D%2C%20%5B-115.527201%2C%2047.302388%5D%2C%20%5B-115.324554%2C%2047.258572%5D%2C%20%5B-115.302646%2C%2047.187372%5D%2C%20%5B-114.930214%2C%2046.919002%5D%2C%20%5B-114.886399%2C%2046.809463%5D%2C%20%5B-114.623506%2C%2046.705401%5D%2C%20%5B-114.612552%2C%2046.639678%5D%2C%20%5B-114.322274%2C%2046.645155%5D%2C%20%5B-114.464674%2C%2046.272723%5D%2C%20%5B-114.492059%2C%2046.037214%5D%2C%20%5B-114.387997%2C%2045.88386%5D%2C%20%5B-114.568736%2C%2045.774321%5D%2C%20%5B-114.497536%2C%2045.670259%5D%2C%20%5B-114.546828%2C%2045.560721%5D%2C%20%5B-114.333228%2C%2045.456659%5D%2C%20%5B-114.086765%2C%2045.593582%5D%2C%20%5B-113.98818%2C%2045.703121%5D%2C%20%5B-113.807441%2C%2045.604536%5D%2C%20%5B-113.834826%2C%2045.522382%5D%2C%20%5B-113.736241%2C%2045.330689%5D%2C%20%5B-113.571933%2C%2045.128042%5D%2C%20%5B-113.45144%2C%2045.056842%5D%2C%20%5B-113.456917%2C%2044.865149%5D%2C%20%5B-113.341901%2C%2044.782995%5D%2C%20%5B-113.133778%2C%2044.772041%5D%2C%20%5B-113.002331%2C%2044.448902%5D%2C%20%5B-112.887315%2C%2044.394132%5D%2C%20%5B-112.783254%2C%2044.48724%5D%2C%20%5B-112.471068%2C%2044.481763%5D%2C%20%5B-112.241036%2C%2044.569394%5D%2C%20%5B-112.104113%2C%2044.520102%5D%2C%20%5B-111.868605%2C%2044.563917%5D%2C%20%5B-111.819312%2C%2044.509148%5D%2C%20%5B-111.616665%2C%2044.547487%5D%2C%20%5B-111.386634%2C%2044.75561%5D%2C%20%5B-111.227803%2C%2044.580348%5D%2C%20%5B-111.047063%2C%2044.476286%5D%2C%20%5B-111.047063%2C%2042.000709%5D%2C%20%5B-112.164359%2C%2041.995232%5D%2C%20%5B-114.04295%2C%2041.995232%5D%2C%20%5B-117.027882%2C%2042.000709%5D%2C%20%5B-117.027882%2C%2043.830007%5D%2C%20%5B-116.896436%2C%2044.158624%5D%2C%20%5B-116.97859%2C%2044.240778%5D%2C%20%5B-117.170283%2C%2044.257209%5D%2C%20%5B-117.241483%2C%2044.394132%5D%2C%20%5B-117.038836%2C%2044.750133%5D%2C%20%5B-116.934774%2C%2044.782995%5D%2C%20%5B-116.830713%2C%2044.930872%5D%2C%20%5B-116.847143%2C%2045.02398%5D%2C%20%5B-116.732128%2C%2045.144473%5D%2C%20%5B-116.671881%2C%2045.319735%5D%2C%20%5B-116.463758%2C%2045.61549%5D%2C%20%5B-116.545912%2C%2045.752413%5D%2C%20%5B-116.78142%2C%2045.823614%5D%2C%20%5B-116.918344%2C%2045.993399%5D%2C%20%5B-116.92382%2C%2046.168661%5D%2C%20%5B-117.055267%2C%2046.343923%5D%2C%20%5B-117.038836%2C%2046.426077%5D%2C%20%5B-117.044313%2C%2047.762451%5D%2C%20%5B-117.033359%2C%2049.000239%5D%2C%20%5B-116.04751%2C%2049.000239%5D%5D%5D%2C%20%22type%22%3A%20%22Polygon%22%7D%2C%20%22id%22%3A%20%22ID%22%2C%20%22properties%22%3A%20%7B%22name%22%3A%20%22Idaho%22%7D%2C%20%22type%22%3A%20%22Feature%22%7D%2C%20%7B%22geometry%22%3A%20%7B%22coordinates%22%3A%20%5B%5B%5B-90.639984%2C%2042.510065%5D%2C%20%5B-88.788778%2C%2042.493634%5D%2C%20%5B-87.802929%2C%2042.493634%5D%2C%20%5B-87.83579%2C%2042.301941%5D%2C%20%5B-87.682436%2C%2042.077386%5D%2C%20%5B-87.523605%2C%2041.710431%5D%2C%20%5B-87.529082%2C%2039.34987%5D%2C%20%5B-87.63862%2C%2039.169131%5D%2C%20%5B-87.512651%2C%2038.95553%5D%2C%20%5B-87.49622%2C%2038.780268%5D%2C%20%5B-87.62219%2C%2038.637868%5D%2C%20%5B-87.655051%2C%2038.506421%5D%2C%20%5B-87.83579%2C%2038.292821%5D%2C%20%5B-87.950806%2C%2038.27639%5D%2C%20%5B-87.923421%2C%2038.15042%5D%2C%20%5B-88.000098%2C%2038.101128%5D%2C%20%5B-88.060345%2C%2037.865619%5D%2C%20%5B-88.027483%2C%2037.799896%5D%2C%20%5B-88.15893%2C%2037.657496%5D%2C%20%5B-88.065822%2C%2037.482234%5D%2C%20%5B-88.476592%2C%2037.389126%5D%2C%20%5B-88.514931%2C%2037.285064%5D%2C%20%5B-88.421823%2C%2037.153617%5D%2C%20%5B-88.547792%2C%2037.071463%5D%2C%20%5B-88.914747%2C%2037.224817%5D%2C%20%5B-89.029763%2C%2037.213863%5D%2C%20%5B-89.183118%2C%2037.038601%5D%2C%20%5B-89.133825%2C%2036.983832%5D%2C%20%5B-89.292656%2C%2036.994786%5D%2C%20%5B-89.517211%2C%2037.279587%5D%2C%20%5B-89.435057%2C%2037.34531%5D%2C%20%5B-89.517211%2C%2037.537003%5D%2C%20%5B-89.517211%2C%2037.690357%5D%2C%20%5B-89.84035%2C%2037.903958%5D%2C%20%5B-89.949889%2C%2037.88205%5D%2C%20%5B-90.059428%2C%2038.013497%5D%2C%20%5B-90.355183%2C%2038.216144%5D%2C%20%5B-90.349706%2C%2038.374975%5D%2C%20%5B-90.179921%2C%2038.632391%5D%2C%20%5B-90.207305%2C%2038.725499%5D%2C%20%5B-90.10872%2C%2038.845992%5D%2C%20%5B-90.251121%2C%2038.917192%5D%2C%20%5B-90.470199%2C%2038.961007%5D%2C%20%5B-90.585214%2C%2038.867899%5D%2C%20%5B-90.661891%2C%2038.928146%5D%2C%20%5B-90.727615%2C%2039.256762%5D%2C%20%5B-91.061708%2C%2039.470363%5D%2C%20%5B-91.368417%2C%2039.727779%5D%2C%20%5B-91.494386%2C%2040.034488%5D%2C%20%5B-91.50534%2C%2040.237135%5D%2C%20%5B-91.417709%2C%2040.379535%5D%2C%20%5B-91.401278%2C%2040.560274%5D%2C%20%5B-91.121954%2C%2040.669813%5D%2C%20%5B-91.09457%2C%2040.823167%5D%2C%20%5B-90.963123%2C%2040.921752%5D%2C%20%5B-90.946692%2C%2041.097014%5D%2C%20%5B-91.111001%2C%2041.239415%5D%2C%20%5B-91.045277%2C%2041.414677%5D%2C%20%5B-90.656414%2C%2041.463969%5D%2C%20%5B-90.344229%2C%2041.589939%5D%2C%20%5B-90.311367%2C%2041.743293%5D%2C%20%5B-90.179921%2C%2041.809016%5D%2C%20%5B-90.141582%2C%2042.000709%5D%2C%20%5B-90.168967%2C%2042.126679%5D%2C%20%5B-90.393521%2C%2042.225264%5D%2C%20%5B-90.420906%2C%2042.329326%5D%2C%20%5B-90.639984%2C%2042.510065%5D%5D%5D%2C%20%22type%22%3A%20%22Polygon%22%7D%2C%20%22id%22%3A%20%22IL%22%2C%20%22properties%22%3A%20%7B%22name%22%3A%20%22Illinois%22%7D%2C%20%22type%22%3A%20%22Feature%22%7D%2C%20%7B%22geometry%22%3A%20%7B%22coordinates%22%3A%20%5B%5B%5B-85.990061%2C%2041.759724%5D%2C%20%5B-84.807042%2C%2041.759724%5D%2C%20%5B-84.807042%2C%2041.694001%5D%2C%20%5B-84.801565%2C%2040.500028%5D%2C%20%5B-84.817996%2C%2039.103408%5D%2C%20%5B-84.894673%2C%2039.059592%5D%2C%20%5B-84.812519%2C%2038.785745%5D%2C%20%5B-84.987781%2C%2038.780268%5D%2C%20%5B-85.173997%2C%2038.68716%5D%2C%20%5B-85.431413%2C%2038.730976%5D%2C%20%5B-85.42046%2C%2038.533806%5D%2C%20%5B-85.590245%2C%2038.451652%5D%2C%20%5B-85.655968%2C%2038.325682%5D%2C%20%5B-85.83123%2C%2038.27639%5D%2C%20%5B-85.924338%2C%2038.024451%5D%2C%20%5B-86.039354%2C%2037.958727%5D%2C%20%5B-86.263908%2C%2038.051835%5D%2C%20%5B-86.302247%2C%2038.166851%5D%2C%20%5B-86.521325%2C%2038.040881%5D%2C%20%5B-86.504894%2C%2037.931343%5D%2C%20%5B-86.729448%2C%2037.893004%5D%2C%20%5B-86.795172%2C%2037.991589%5D%2C%20%5B-87.047111%2C%2037.893004%5D%2C%20%5B-87.129265%2C%2037.788942%5D%2C%20%5B-87.381204%2C%2037.93682%5D%2C%20%5B-87.512651%2C%2037.903958%5D%2C%20%5B-87.600282%2C%2037.975158%5D%2C%20%5B-87.682436%2C%2037.903958%5D%2C%20%5B-87.934375%2C%2037.893004%5D%2C%20%5B-88.027483%2C%2037.799896%5D%2C%20%5B-88.060345%2C%2037.865619%5D%2C%20%5B-88.000098%2C%2038.101128%5D%2C%20%5B-87.923421%2C%2038.15042%5D%2C%20%5B-87.950806%2C%2038.27639%5D%2C%20%5B-87.83579%2C%2038.292821%5D%2C%20%5B-87.655051%2C%2038.506421%5D%2C%20%5B-87.62219%2C%2038.637868%5D%2C%20%5B-87.49622%2C%2038.780268%5D%2C%20%5B-87.512651%2C%2038.95553%5D%2C%20%5B-87.63862%2C%2039.169131%5D%2C%20%5B-87.529082%2C%2039.34987%5D%2C%20%5B-87.523605%2C%2041.710431%5D%2C%20%5B-87.42502%2C%2041.644708%5D%2C%20%5B-87.118311%2C%2041.644708%5D%2C%20%5B-86.822556%2C%2041.759724%5D%2C%20%5B-85.990061%2C%2041.759724%5D%5D%5D%2C%20%22type%22%3A%20%22Polygon%22%7D%2C%20%22id%22%3A%20%22IN%22%2C%20%22properties%22%3A%20%7B%22name%22%3A%20%22Indiana%22%7D%2C%20%22type%22%3A%20%22Feature%22%7D%2C%20%7B%22geometry%22%3A%20%7B%22coordinates%22%3A%20%5B%5B%5B-91.368417%2C%2043.501391%5D%2C%20%5B-91.215062%2C%2043.501391%5D%2C%20%5B-91.204109%2C%2043.353514%5D%2C%20%5B-91.056231%2C%2043.254929%5D%2C%20%5B-91.176724%2C%2043.134436%5D%2C%20%5B-91.143862%2C%2042.909881%5D%2C%20%5B-91.067185%2C%2042.75105%5D%2C%20%5B-90.711184%2C%2042.636034%5D%2C%20%5B-90.639984%2C%2042.510065%5D%2C%20%5B-90.420906%2C%2042.329326%5D%2C%20%5B-90.393521%2C%2042.225264%5D%2C%20%5B-90.168967%2C%2042.126679%5D%2C%20%5B-90.141582%2C%2042.000709%5D%2C%20%5B-90.179921%2C%2041.809016%5D%2C%20%5B-90.311367%2C%2041.743293%5D%2C%20%5B-90.344229%2C%2041.589939%5D%2C%20%5B-90.656414%2C%2041.463969%5D%2C%20%5B-91.045277%2C%2041.414677%5D%2C%20%5B-91.111001%2C%2041.239415%5D%2C%20%5B-90.946692%2C%2041.097014%5D%2C%20%5B-90.963123%2C%2040.921752%5D%2C%20%5B-91.09457%2C%2040.823167%5D%2C%20%5B-91.121954%2C%2040.669813%5D%2C%20%5B-91.401278%2C%2040.560274%5D%2C%20%5B-91.417709%2C%2040.379535%5D%2C%20%5B-91.527248%2C%2040.412397%5D%2C%20%5B-91.729895%2C%2040.615043%5D%2C%20%5B-91.833957%2C%2040.609566%5D%2C%20%5B-93.257961%2C%2040.582182%5D%2C%20%5B-94.632673%2C%2040.571228%5D%2C%20%5B-95.7664%2C%2040.587659%5D%2C%20%5B-95.881416%2C%2040.719105%5D%2C%20%5B-95.826646%2C%2040.976521%5D%2C%20%5B-95.925231%2C%2041.201076%5D%2C%20%5B-95.919754%2C%2041.453015%5D%2C%20%5B-96.095016%2C%2041.540646%5D%2C%20%5B-96.122401%2C%2041.67757%5D%2C%20%5B-96.062155%2C%2041.798063%5D%2C%20%5B-96.127878%2C%2041.973325%5D%2C%20%5B-96.264801%2C%2042.039048%5D%2C%20%5B-96.44554%2C%2042.488157%5D%2C%20%5B-96.631756%2C%2042.707235%5D%2C%20%5B-96.544125%2C%2042.855112%5D%2C%20%5B-96.511264%2C%2043.052282%5D%2C%20%5B-96.434587%2C%2043.123482%5D%2C%20%5B-96.560556%2C%2043.222067%5D%2C%20%5B-96.527695%2C%2043.397329%5D%2C%20%5B-96.582464%2C%2043.479483%5D%2C%20%5B-96.451017%2C%2043.501391%5D%2C%20%5B-91.368417%2C%2043.501391%5D%5D%5D%2C%20%22type%22%3A%20%22Polygon%22%7D%2C%20%22id%22%3A%20%22IA%22%2C%20%22properties%22%3A%20%7B%22name%22%3A%20%22Iowa%22%7D%2C%20%22type%22%3A%20%22Feature%22%7D%2C%20%7B%22geometry%22%3A%20%7B%22coordinates%22%3A%20%5B%5B%5B-101.90605%2C%2040.001626%5D%2C%20%5B-95.306337%2C%2040.001626%5D%2C%20%5B-95.207752%2C%2039.908518%5D%2C%20%5B-94.884612%2C%2039.831841%5D%2C%20%5B-95.109167%2C%2039.541563%5D%2C%20%5B-94.983197%2C%2039.442978%5D%2C%20%5B-94.824366%2C%2039.20747%5D%2C%20%5B-94.610765%2C%2039.158177%5D%2C%20%5B-94.616242%2C%2037.000263%5D%2C%20%5B-100.087706%2C%2037.000263%5D%2C%20%5B-102.042974%2C%2036.994786%5D%2C%20%5B-102.053927%2C%2040.001626%5D%2C%20%5B-101.90605%2C%2040.001626%5D%5D%5D%2C%20%22type%22%3A%20%22Polygon%22%7D%2C%20%22id%22%3A%20%22KS%22%2C%20%22properties%22%3A%20%7B%22name%22%3A%20%22Kansas%22%7D%2C%20%22type%22%3A%20%22Feature%22%7D%2C%20%7B%22geometry%22%3A%20%7B%22coordinates%22%3A%20%5B%5B%5B-83.903347%2C%2038.769315%5D%2C%20%5B-83.678792%2C%2038.632391%5D%2C%20%5B-83.519961%2C%2038.703591%5D%2C%20%5B-83.142052%2C%2038.626914%5D%2C%20%5B-83.032514%2C%2038.725499%5D%2C%20%5B-82.890113%2C%2038.758361%5D%2C%20%5B-82.846298%2C%2038.588575%5D%2C%20%5B-82.731282%2C%2038.561191%5D%2C%20%5B-82.594358%2C%2038.424267%5D%2C%20%5B-82.621743%2C%2038.123036%5D%2C%20%5B-82.50125%2C%2037.931343%5D%2C%20%5B-82.342419%2C%2037.783465%5D%2C%20%5B-82.293127%2C%2037.668449%5D%2C%20%5B-82.101434%2C%2037.553434%5D%2C%20%5B-81.969987%2C%2037.537003%5D%2C%20%5B-82.353373%2C%2037.268633%5D%2C%20%5B-82.720328%2C%2037.120755%5D%2C%20%5B-82.720328%2C%2037.044078%5D%2C%20%5B-82.868205%2C%2036.978355%5D%2C%20%5B-82.879159%2C%2036.890724%5D%2C%20%5B-83.070852%2C%2036.852385%5D%2C%20%5B-83.136575%2C%2036.742847%5D%2C%20%5B-83.673316%2C%2036.600446%5D%2C%20%5B-83.689746%2C%2036.584015%5D%2C%20%5B-84.544149%2C%2036.594969%5D%2C%20%5B-85.289013%2C%2036.627831%5D%2C%20%5B-85.486183%2C%2036.616877%5D%2C%20%5B-86.592525%2C%2036.655216%5D%2C%20%5B-87.852221%2C%2036.633308%5D%2C%20%5B-88.071299%2C%2036.677123%5D%2C%20%5B-88.054868%2C%2036.496384%5D%2C%20%5B-89.298133%2C%2036.507338%5D%2C%20%5B-89.418626%2C%2036.496384%5D%2C%20%5B-89.363857%2C%2036.622354%5D%2C%20%5B-89.215979%2C%2036.578538%5D%2C%20%5B-89.133825%2C%2036.983832%5D%2C%20%5B-89.183118%2C%2037.038601%5D%2C%20%5B-89.029763%2C%2037.213863%5D%2C%20%5B-88.914747%2C%2037.224817%5D%2C%20%5B-88.547792%2C%2037.071463%5D%2C%20%5B-88.421823%2C%2037.153617%5D%2C%20%5B-88.514931%2C%2037.285064%5D%2C%20%5B-88.476592%2C%2037.389126%5D%2C%20%5B-88.065822%2C%2037.482234%5D%2C%20%5B-88.15893%2C%2037.657496%5D%2C%20%5B-88.027483%2C%2037.799896%5D%2C%20%5B-87.934375%2C%2037.893004%5D%2C%20%5B-87.682436%2C%2037.903958%5D%2C%20%5B-87.600282%2C%2037.975158%5D%2C%20%5B-87.512651%2C%2037.903958%5D%2C%20%5B-87.381204%2C%2037.93682%5D%2C%20%5B-87.129265%2C%2037.788942%5D%2C%20%5B-87.047111%2C%2037.893004%5D%2C%20%5B-86.795172%2C%2037.991589%5D%2C%20%5B-86.729448%2C%2037.893004%5D%2C%20%5B-86.504894%2C%2037.931343%5D%2C%20%5B-86.521325%2C%2038.040881%5D%2C%20%5B-86.302247%2C%2038.166851%5D%2C%20%5B-86.263908%2C%2038.051835%5D%2C%20%5B-86.039354%2C%2037.958727%5D%2C%20%5B-85.924338%2C%2038.024451%5D%2C%20%5B-85.83123%2C%2038.27639%5D%2C%20%5B-85.655968%2C%2038.325682%5D%2C%20%5B-85.590245%2C%2038.451652%5D%2C%20%5B-85.42046%2C%2038.533806%5D%2C%20%5B-85.431413%2C%2038.730976%5D%2C%20%5B-85.173997%2C%2038.68716%5D%2C%20%5B-84.987781%2C%2038.780268%5D%2C%20%5B-84.812519%2C%2038.785745%5D%2C%20%5B-84.894673%2C%2039.059592%5D%2C%20%5B-84.817996%2C%2039.103408%5D%2C%20%5B-84.43461%2C%2039.103408%5D%2C%20%5B-84.231963%2C%2038.895284%5D%2C%20%5B-84.215533%2C%2038.807653%5D%2C%20%5B-83.903347%2C%2038.769315%5D%5D%5D%2C%20%22type%22%3A%20%22Polygon%22%7D%2C%20%22id%22%3A%20%22KY%22%2C%20%22properties%22%3A%20%7B%22name%22%3A%20%22Kentucky%22%7D%2C%20%22type%22%3A%20%22Feature%22%7D%2C%20%7B%22geometry%22%3A%20%7B%22coordinates%22%3A%20%5B%5B%5B-93.608485%2C%2033.018527%5D%2C%20%5B-91.16577%2C%2033.002096%5D%2C%20%5B-91.072662%2C%2032.887081%5D%2C%20%5B-91.143862%2C%2032.843265%5D%2C%20%5B-91.154816%2C%2032.640618%5D%2C%20%5B-91.006939%2C%2032.514649%5D%2C%20%5B-90.985031%2C%2032.218894%5D%2C%20%5B-91.105524%2C%2031.988862%5D%2C%20%5B-91.341032%2C%2031.846462%5D%2C%20%5B-91.401278%2C%2031.621907%5D%2C%20%5B-91.499863%2C%2031.643815%5D%2C%20%5B-91.516294%2C%2031.27686%5D%2C%20%5B-91.636787%2C%2031.265906%5D%2C%20%5B-91.565587%2C%2031.068736%5D%2C%20%5B-91.636787%2C%2030.997536%5D%2C%20%5B-89.747242%2C%2030.997536%5D%2C%20%5B-89.845827%2C%2030.66892%5D%2C%20%5B-89.681519%2C%2030.449842%5D%2C%20%5B-89.643181%2C%2030.285534%5D%2C%20%5B-89.522688%2C%2030.181472%5D%2C%20%5B-89.818443%2C%2030.044549%5D%2C%20%5B-89.84035%2C%2029.945964%5D%2C%20%5B-89.599365%2C%2029.88024%5D%2C%20%5B-89.495303%2C%2030.039072%5D%2C%20%5B-89.287179%2C%2029.88024%5D%2C%20%5B-89.30361%2C%2029.754271%5D%2C%20%5B-89.424103%2C%2029.699501%5D%2C%20%5B-89.648657%2C%2029.748794%5D%2C%20%5B-89.621273%2C%2029.655686%5D%2C%20%5B-89.69795%2C%2029.513285%5D%2C%20%5B-89.506257%2C%2029.387316%5D%2C%20%5B-89.199548%2C%2029.348977%5D%2C%20%5B-89.09001%2C%2029.2011%5D%2C%20%5B-89.002379%2C%2029.179192%5D%2C%20%5B-89.16121%2C%2029.009407%5D%2C%20%5B-89.336472%2C%2029.042268%5D%2C%20%5B-89.484349%2C%2029.217531%5D%2C%20%5B-89.851304%2C%2029.310638%5D%2C%20%5B-89.851304%2C%2029.480424%5D%2C%20%5B-90.032043%2C%2029.425654%5D%2C%20%5B-90.021089%2C%2029.283254%5D%2C%20%5B-90.103244%2C%2029.151807%5D%2C%20%5B-90.23469%2C%2029.129899%5D%2C%20%5B-90.333275%2C%2029.277777%5D%2C%20%5B-90.563307%2C%2029.283254%5D%2C%20%5B-90.645461%2C%2029.129899%5D%2C%20%5B-90.798815%2C%2029.086084%5D%2C%20%5B-90.963123%2C%2029.179192%5D%2C%20%5B-91.09457%2C%2029.190146%5D%2C%20%5B-91.220539%2C%2029.436608%5D%2C%20%5B-91.445094%2C%2029.546147%5D%2C%20%5B-91.532725%2C%2029.529716%5D%2C%20%5B-91.620356%2C%2029.73784%5D%2C%20%5B-91.883249%2C%2029.710455%5D%2C%20%5B-91.888726%2C%2029.836425%5D%2C%20%5B-92.146142%2C%2029.715932%5D%2C%20%5B-92.113281%2C%2029.622824%5D%2C%20%5B-92.31045%2C%2029.535193%5D%2C%20%5B-92.617159%2C%2029.579009%5D%2C%20%5B-92.97316%2C%2029.715932%5D%2C%20%5B-93.2251%2C%2029.776178%5D%2C%20%5B-93.767317%2C%2029.726886%5D%2C%20%5B-93.838517%2C%2029.688547%5D%2C%20%5B-93.926148%2C%2029.787132%5D%2C%20%5B-93.690639%2C%2030.143133%5D%2C%20%5B-93.767317%2C%2030.334826%5D%2C%20%5B-93.696116%2C%2030.438888%5D%2C%20%5B-93.728978%2C%2030.575812%5D%2C%20%5B-93.630393%2C%2030.679874%5D%2C%20%5B-93.526331%2C%2030.93729%5D%2C%20%5B-93.542762%2C%2031.15089%5D%2C%20%5B-93.816609%2C%2031.556184%5D%2C%20%5B-93.822086%2C%2031.775262%5D%2C%20%5B-94.041164%2C%2031.994339%5D%2C%20%5B-94.041164%2C%2033.018527%5D%2C%20%5B-93.608485%2C%2033.018527%5D%5D%5D%2C%20%22type%22%3A%20%22Polygon%22%7D%2C%20%22id%22%3A%20%22LA%22%2C%20%22properties%22%3A%20%7B%22name%22%3A%20%22Louisiana%22%7D%2C%20%22type%22%3A%20%22Feature%22%7D%2C%20%7B%22geometry%22%3A%20%7B%22coordinates%22%3A%20%5B%5B%5B-70.703921%2C%2043.057759%5D%2C%20%5B-70.824413%2C%2043.128959%5D%2C%20%5B-70.807983%2C%2043.227544%5D%2C%20%5B-70.966814%2C%2043.34256%5D%2C%20%5B-71.032537%2C%2044.657025%5D%2C%20%5B-71.08183%2C%2045.303304%5D%2C%20%5B-70.649151%2C%2045.440228%5D%2C%20%5B-70.720352%2C%2045.511428%5D%2C%20%5B-70.556043%2C%2045.664782%5D%2C%20%5B-70.386258%2C%2045.735983%5D%2C%20%5B-70.41912%2C%2045.796229%5D%2C%20%5B-70.260289%2C%2045.889337%5D%2C%20%5B-70.309581%2C%2046.064599%5D%2C%20%5B-70.210996%2C%2046.327492%5D%2C%20%5B-70.057642%2C%2046.415123%5D%2C%20%5B-69.997395%2C%2046.694447%5D%2C%20%5B-69.225147%2C%2047.461219%5D%2C%20%5B-69.044408%2C%2047.428357%5D%2C%20%5B-69.033454%2C%2047.242141%5D%2C%20%5B-68.902007%2C%2047.176418%5D%2C%20%5B-68.578868%2C%2047.285957%5D%2C%20%5B-68.376221%2C%2047.285957%5D%2C%20%5B-68.233821%2C%2047.357157%5D%2C%20%5B-67.954497%2C%2047.198326%5D%2C%20%5B-67.790188%2C%2047.066879%5D%2C%20%5B-67.779235%2C%2045.944106%5D%2C%20%5B-67.801142%2C%2045.675736%5D%2C%20%5B-67.456095%2C%2045.604536%5D%2C%20%5B-67.505388%2C%2045.48952%5D%2C%20%5B-67.417757%2C%2045.379982%5D%2C%20%5B-67.488957%2C%2045.281397%5D%2C%20%5B-67.346556%2C%2045.128042%5D%2C%20%5B-67.16034%2C%2045.160904%5D%2C%20%5B-66.979601%2C%2044.804903%5D%2C%20%5B-67.187725%2C%2044.646072%5D%2C%20%5B-67.308218%2C%2044.706318%5D%2C%20%5B-67.406803%2C%2044.596779%5D%2C%20%5B-67.549203%2C%2044.624164%5D%2C%20%5B-67.565634%2C%2044.531056%5D%2C%20%5B-67.75185%2C%2044.54201%5D%2C%20%5B-68.047605%2C%2044.328409%5D%2C%20%5B-68.118805%2C%2044.476286%5D%2C%20%5B-68.222867%2C%2044.48724%5D%2C%20%5B-68.173574%2C%2044.328409%5D%2C%20%5B-68.403606%2C%2044.251732%5D%2C%20%5B-68.458375%2C%2044.377701%5D%2C%20%5B-68.567914%2C%2044.311978%5D%2C%20%5B-68.82533%2C%2044.311978%5D%2C%20%5B-68.830807%2C%2044.459856%5D%2C%20%5B-68.984161%2C%2044.426994%5D%2C%20%5B-68.956777%2C%2044.322932%5D%2C%20%5B-69.099177%2C%2044.103854%5D%2C%20%5B-69.071793%2C%2044.043608%5D%2C%20%5B-69.258008%2C%2043.923115%5D%2C%20%5B-69.444224%2C%2043.966931%5D%2C%20%5B-69.553763%2C%2043.840961%5D%2C%20%5B-69.707118%2C%2043.82453%5D%2C%20%5B-69.833087%2C%2043.720469%5D%2C%20%5B-69.986442%2C%2043.742376%5D%2C%20%5B-70.030257%2C%2043.851915%5D%2C%20%5B-70.254812%2C%2043.676653%5D%2C%20%5B-70.194565%2C%2043.567114%5D%2C%20%5B-70.358873%2C%2043.528776%5D%2C%20%5B-70.369827%2C%2043.435668%5D%2C%20%5B-70.556043%2C%2043.320652%5D%2C%20%5B-70.703921%2C%2043.057759%5D%5D%5D%2C%20%22type%22%3A%20%22Polygon%22%7D%2C%20%22id%22%3A%20%22ME%22%2C%20%22properties%22%3A%20%7B%22name%22%3A%20%22Maine%22%7D%2C%20%22type%22%3A%20%22Feature%22%7D%2C%20%7B%22geometry%22%3A%20%7B%22coordinates%22%3A%20%5B%5B%5B%5B-75.994645%2C%2037.95325%5D%2C%20%5B-76.016553%2C%2037.95325%5D%2C%20%5B-76.043938%2C%2037.95325%5D%2C%20%5B-75.994645%2C%2037.95325%5D%5D%5D%2C%20%5B%5B%5B-79.477979%2C%2039.722302%5D%2C%20%5B-75.786521%2C%2039.722302%5D%2C%20%5B-75.693413%2C%2038.462606%5D%2C%20%5B-75.047134%2C%2038.451652%5D%2C%20%5B-75.244304%2C%2038.029928%5D%2C%20%5B-75.397659%2C%2038.013497%5D%2C%20%5B-75.671506%2C%2037.95325%5D%2C%20%5B-75.885106%2C%2037.909435%5D%2C%20%5B-75.879629%2C%2038.073743%5D%2C%20%5B-75.961783%2C%2038.139466%5D%2C%20%5B-75.846768%2C%2038.210667%5D%2C%20%5B-76.000122%2C%2038.374975%5D%2C%20%5B-76.049415%2C%2038.303775%5D%2C%20%5B-76.257538%2C%2038.320205%5D%2C%20%5B-76.328738%2C%2038.500944%5D%2C%20%5B-76.263015%2C%2038.500944%5D%2C%20%5B-76.257538%2C%2038.736453%5D%2C%20%5B-76.191815%2C%2038.829561%5D%2C%20%5B-76.279446%2C%2039.147223%5D%2C%20%5B-76.169907%2C%2039.333439%5D%2C%20%5B-76.000122%2C%2039.366301%5D%2C%20%5B-75.972737%2C%2039.557994%5D%2C%20%5B-76.098707%2C%2039.536086%5D%2C%20%5B-76.104184%2C%2039.437501%5D%2C%20%5B-76.367077%2C%2039.311532%5D%2C%20%5B-76.443754%2C%2039.196516%5D%2C%20%5B-76.460185%2C%2038.906238%5D%2C%20%5B-76.55877%2C%2038.769315%5D%2C%20%5B-76.514954%2C%2038.539283%5D%2C%20%5B-76.383508%2C%2038.380452%5D%2C%20%5B-76.399939%2C%2038.259959%5D%2C%20%5B-76.317785%2C%2038.139466%5D%2C%20%5B-76.3616%2C%2038.057312%5D%2C%20%5B-76.591632%2C%2038.216144%5D%2C%20%5B-76.920248%2C%2038.292821%5D%2C%20%5B-77.018833%2C%2038.446175%5D%2C%20%5B-77.205049%2C%2038.358544%5D%2C%20%5B-77.276249%2C%2038.479037%5D%2C%20%5B-77.128372%2C%2038.632391%5D%2C%20%5B-77.040741%2C%2038.791222%5D%2C%20%5B-76.909294%2C%2038.895284%5D%2C%20%5B-77.035264%2C%2038.993869%5D%2C%20%5B-77.117418%2C%2038.933623%5D%2C%20%5B-77.248864%2C%2039.026731%5D%2C%20%5B-77.456988%2C%2039.076023%5D%2C%20%5B-77.456988%2C%2039.223901%5D%2C%20%5B-77.566527%2C%2039.306055%5D%2C%20%5B-77.719881%2C%2039.322485%5D%2C%20%5B-77.834897%2C%2039.601809%5D%2C%20%5B-78.004682%2C%2039.601809%5D%2C%20%5B-78.174467%2C%2039.694917%5D%2C%20%5B-78.267575%2C%2039.61824%5D%2C%20%5B-78.431884%2C%2039.623717%5D%2C%20%5B-78.470222%2C%2039.514178%5D%2C%20%5B-78.765977%2C%2039.585379%5D%2C%20%5B-78.963147%2C%2039.437501%5D%2C%20%5B-79.094593%2C%2039.470363%5D%2C%20%5B-79.291763%2C%2039.300578%5D%2C%20%5B-79.488933%2C%2039.20747%5D%2C%20%5B-79.477979%2C%2039.722302%5D%5D%5D%5D%2C%20%22type%22%3A%20%22MultiPolygon%22%7D%2C%20%22id%22%3A%20%22MD%22%2C%20%22properties%22%3A%20%7B%22name%22%3A%20%22Maryland%22%7D%2C%20%22type%22%3A%20%22Feature%22%7D%2C%20%7B%22geometry%22%3A%20%7B%22coordinates%22%3A%20%5B%5B%5B-70.917521%2C%2042.887974%5D%2C%20%5B-70.818936%2C%2042.871543%5D%2C%20%5B-70.780598%2C%2042.696281%5D%2C%20%5B-70.824413%2C%2042.55388%5D%2C%20%5B-70.983245%2C%2042.422434%5D%2C%20%5B-70.988722%2C%2042.269079%5D%2C%20%5B-70.769644%2C%2042.247172%5D%2C%20%5B-70.638197%2C%2042.08834%5D%2C%20%5B-70.660105%2C%2041.962371%5D%2C%20%5B-70.550566%2C%2041.929509%5D%2C%20%5B-70.539613%2C%2041.814493%5D%2C%20%5B-70.260289%2C%2041.715908%5D%2C%20%5B-69.937149%2C%2041.809016%5D%2C%20%5B-70.008349%2C%2041.672093%5D%2C%20%5B-70.484843%2C%2041.5516%5D%2C%20%5B-70.660105%2C%2041.546123%5D%2C%20%5B-70.764167%2C%2041.639231%5D%2C%20%5B-70.928475%2C%2041.611847%5D%2C%20%5B-70.933952%2C%2041.540646%5D%2C%20%5B-71.120168%2C%2041.496831%5D%2C%20%5B-71.196845%2C%2041.67757%5D%2C%20%5B-71.22423%2C%2041.710431%5D%2C%20%5B-71.328292%2C%2041.781632%5D%2C%20%5B-71.383061%2C%2042.01714%5D%2C%20%5B-71.530939%2C%2042.01714%5D%2C%20%5B-71.799309%2C%2042.006186%5D%2C%20%5B-71.799309%2C%2042.022617%5D%2C%20%5B-73.053528%2C%2042.039048%5D%2C%20%5B-73.486206%2C%2042.050002%5D%2C%20%5B-73.508114%2C%2042.08834%5D%2C%20%5B-73.267129%2C%2042.745573%5D%2C%20%5B-72.456542%2C%2042.729142%5D%2C%20%5B-71.29543%2C%2042.696281%5D%2C%20%5B-71.185891%2C%2042.789389%5D%2C%20%5B-70.917521%2C%2042.887974%5D%5D%5D%2C%20%22type%22%3A%20%22Polygon%22%7D%2C%20%22id%22%3A%20%22MA%22%2C%20%22properties%22%3A%20%7B%22name%22%3A%20%22Massachusetts%22%7D%2C%20%22type%22%3A%20%22Feature%22%7D%2C%20%7B%22geometry%22%3A%20%7B%22coordinates%22%3A%20%5B%5B%5B%5B-83.454238%2C%2041.732339%5D%2C%20%5B-84.807042%2C%2041.694001%5D%2C%20%5B-84.807042%2C%2041.759724%5D%2C%20%5B-85.990061%2C%2041.759724%5D%2C%20%5B-86.822556%2C%2041.759724%5D%2C%20%5B-86.619909%2C%2041.891171%5D%2C%20%5B-86.482986%2C%2042.115725%5D%2C%20%5B-86.357016%2C%2042.252649%5D%2C%20%5B-86.263908%2C%2042.444341%5D%2C%20%5B-86.209139%2C%2042.718189%5D%2C%20%5B-86.231047%2C%2043.013943%5D%2C%20%5B-86.526801%2C%2043.594499%5D%2C%20%5B-86.433693%2C%2043.813577%5D%2C%20%5B-86.499417%2C%2044.07647%5D%2C%20%5B-86.269385%2C%2044.34484%5D%2C%20%5B-86.220093%2C%2044.569394%5D%2C%20%5B-86.252954%2C%2044.689887%5D%2C%20%5B-86.088646%2C%2044.73918%5D%2C%20%5B-86.066738%2C%2044.903488%5D%2C%20%5B-85.809322%2C%2044.947303%5D%2C%20%5B-85.612152%2C%2045.128042%5D%2C%20%5B-85.628583%2C%2044.766564%5D%2C%20%5B-85.524521%2C%2044.750133%5D%2C%20%5B-85.393075%2C%2044.930872%5D%2C%20%5B-85.387598%2C%2045.237581%5D%2C%20%5B-85.305444%2C%2045.314258%5D%2C%20%5B-85.031597%2C%2045.363551%5D%2C%20%5B-85.119228%2C%2045.577151%5D%2C%20%5B-84.938489%2C%2045.75789%5D%2C%20%5B-84.713934%2C%2045.768844%5D%2C%20%5B-84.461995%2C%2045.653829%5D%2C%20%5B-84.215533%2C%2045.637398%5D%2C%20%5B-84.09504%2C%2045.494997%5D%2C%20%5B-83.908824%2C%2045.484043%5D%2C%20%5B-83.596638%2C%2045.352597%5D%2C%20%5B-83.4871%2C%2045.358074%5D%2C%20%5B-83.317314%2C%2045.144473%5D%2C%20%5B-83.454238%2C%2045.029457%5D%2C%20%5B-83.322791%2C%2044.88158%5D%2C%20%5B-83.273499%2C%2044.711795%5D%2C%20%5B-83.333745%2C%2044.339363%5D%2C%20%5B-83.536392%2C%2044.246255%5D%2C%20%5B-83.585684%2C%2044.054562%5D%2C%20%5B-83.82667%2C%2043.988839%5D%2C%20%5B-83.958116%2C%2043.758807%5D%2C%20%5B-83.908824%2C%2043.671176%5D%2C%20%5B-83.667839%2C%2043.589022%5D%2C%20%5B-83.481623%2C%2043.714992%5D%2C%20%5B-83.262545%2C%2043.972408%5D%2C%20%5B-82.917498%2C%2044.070993%5D%2C%20%5B-82.747713%2C%2043.994316%5D%2C%20%5B-82.643651%2C%2043.851915%5D%2C%20%5B-82.539589%2C%2043.435668%5D%2C%20%5B-82.523158%2C%2043.227544%5D%2C%20%5B-82.413619%2C%2042.975605%5D%2C%20%5B-82.517681%2C%2042.614127%5D%2C%20%5B-82.681989%2C%2042.559357%5D%2C%20%5B-82.687466%2C%2042.690804%5D%2C%20%5B-82.797005%2C%2042.652465%5D%2C%20%5B-82.922975%2C%2042.351234%5D%2C%20%5B-83.125621%2C%2042.236218%5D%2C%20%5B-83.185868%2C%2042.006186%5D%2C%20%5B-83.437807%2C%2041.814493%5D%2C%20%5B-83.454238%2C%2041.732339%5D%5D%5D%2C%20%5B%5B%5B-85.508091%2C%2045.730506%5D%2C%20%5B-85.49166%2C%2045.610013%5D%2C%20%5B-85.623106%2C%2045.588105%5D%2C%20%5B-85.568337%2C%2045.75789%5D%2C%20%5B-85.508091%2C%2045.730506%5D%5D%5D%2C%20%5B%5B%5B-87.589328%2C%2045.095181%5D%2C%20%5B-87.742682%2C%2045.199243%5D%2C%20%5B-87.649574%2C%2045.341643%5D%2C%20%5B-87.885083%2C%2045.363551%5D%2C%20%5B-87.791975%2C%2045.500474%5D%2C%20%5B-87.781021%2C%2045.675736%5D%2C%20%5B-87.989145%2C%2045.796229%5D%2C%20%5B-88.10416%2C%2045.922199%5D%2C%20%5B-88.531362%2C%2046.020784%5D%2C%20%5B-88.662808%2C%2045.987922%5D%2C%20%5B-89.09001%2C%2046.135799%5D%2C%20%5B-90.119674%2C%2046.338446%5D%2C%20%5B-90.229213%2C%2046.508231%5D%2C%20%5B-90.415429%2C%2046.568478%5D%2C%20%5B-90.026566%2C%2046.672539%5D%2C%20%5B-89.851304%2C%2046.793032%5D%2C%20%5B-89.413149%2C%2046.842325%5D%2C%20%5B-89.128348%2C%2046.990202%5D%2C%20%5B-88.996902%2C%2046.995679%5D%2C%20%5B-88.887363%2C%2047.099741%5D%2C%20%5B-88.575177%2C%2047.247618%5D%2C%20%5B-88.416346%2C%2047.373588%5D%2C%20%5B-88.180837%2C%2047.455742%5D%2C%20%5B-87.956283%2C%2047.384542%5D%2C%20%5B-88.350623%2C%2047.077833%5D%2C%20%5B-88.443731%2C%2046.973771%5D%2C%20%5B-88.438254%2C%2046.787555%5D%2C%20%5B-88.246561%2C%2046.929956%5D%2C%20%5B-87.901513%2C%2046.908048%5D%2C%20%5B-87.633143%2C%2046.809463%5D%2C%20%5B-87.392158%2C%2046.535616%5D%2C%20%5B-87.260711%2C%2046.486323%5D%2C%20%5B-87.008772%2C%2046.530139%5D%2C%20%5B-86.948526%2C%2046.469893%5D%2C%20%5B-86.696587%2C%2046.437031%5D%2C%20%5B-86.159846%2C%2046.667063%5D%2C%20%5B-85.880522%2C%2046.68897%5D%2C%20%5B-85.508091%2C%2046.678016%5D%2C%20%5B-85.256151%2C%2046.754694%5D%2C%20%5B-85.064458%2C%2046.760171%5D%2C%20%5B-85.02612%2C%2046.480847%5D%2C%20%5B-84.82895%2C%2046.442508%5D%2C%20%5B-84.63178%2C%2046.486323%5D%2C%20%5B-84.549626%2C%2046.4206%5D%2C%20%5B-84.418179%2C%2046.502754%5D%2C%20%5B-84.127902%2C%2046.530139%5D%2C%20%5B-84.122425%2C%2046.179615%5D%2C%20%5B-83.990978%2C%2046.031737%5D%2C%20%5B-83.793808%2C%2045.993399%5D%2C%20%5B-83.7719%2C%2046.091984%5D%2C%20%5B-83.580208%2C%2046.091984%5D%2C%20%5B-83.476146%2C%2045.987922%5D%2C%20%5B-83.563777%2C%2045.911245%5D%2C%20%5B-84.111471%2C%2045.976968%5D%2C%20%5B-84.374364%2C%2045.933153%5D%2C%20%5B-84.659165%2C%2046.053645%5D%2C%20%5B-84.741319%2C%2045.944106%5D%2C%20%5B-84.70298%2C%2045.850998%5D%2C%20%5B-84.82895%2C%2045.872906%5D%2C%20%5B-85.015166%2C%2046.00983%5D%2C%20%5B-85.338305%2C%2046.091984%5D%2C%20%5B-85.502614%2C%2046.097461%5D%2C%20%5B-85.661445%2C%2045.966014%5D%2C%20%5B-85.924338%2C%2045.933153%5D%2C%20%5B-86.209139%2C%2045.960537%5D%2C%20%5B-86.324155%2C%2045.905768%5D%2C%20%5B-86.351539%2C%2045.796229%5D%2C%20%5B-86.663725%2C%2045.703121%5D%2C%20%5B-86.647294%2C%2045.834568%5D%2C%20%5B-86.784218%2C%2045.861952%5D%2C%20%5B-86.838987%2C%2045.725029%5D%2C%20%5B-87.069019%2C%2045.719552%5D%2C%20%5B-87.17308%2C%2045.659305%5D%2C%20%5B-87.326435%2C%2045.423797%5D%2C%20%5B-87.611236%2C%2045.122565%5D%2C%20%5B-87.589328%2C%2045.095181%5D%5D%5D%2C%20%5B%5B%5B-88.805209%2C%2047.976051%5D%2C%20%5B-89.057148%2C%2047.850082%5D%2C%20%5B-89.188594%2C%2047.833651%5D%2C%20%5B-89.177641%2C%2047.937713%5D%2C%20%5B-88.547792%2C%2048.173221%5D%2C%20%5B-88.668285%2C%2048.008913%5D%2C%20%5B-88.805209%2C%2047.976051%5D%5D%5D%5D%2C%20%22type%22%3A%20%22MultiPolygon%22%7D%2C%20%22id%22%3A%20%22MI%22%2C%20%22properties%22%3A%20%7B%22name%22%3A%20%22Michigan%22%7D%2C%20%22type%22%3A%20%22Feature%22%7D%2C%20%7B%22geometry%22%3A%20%7B%22coordinates%22%3A%20%5B%5B%5B-92.014696%2C%2046.705401%5D%2C%20%5B-92.091373%2C%2046.749217%5D%2C%20%5B-92.29402%2C%2046.667063%5D%2C%20%5B-92.29402%2C%2046.075553%5D%2C%20%5B-92.354266%2C%2046.015307%5D%2C%20%5B-92.639067%2C%2045.933153%5D%2C%20%5B-92.869098%2C%2045.719552%5D%2C%20%5B-92.885529%2C%2045.577151%5D%2C%20%5B-92.770513%2C%2045.566198%5D%2C%20%5B-92.644544%2C%2045.440228%5D%2C%20%5B-92.75956%2C%2045.286874%5D%2C%20%5B-92.737652%2C%2045.117088%5D%2C%20%5B-92.808852%2C%2044.750133%5D%2C%20%5B-92.545959%2C%2044.569394%5D%2C%20%5B-92.337835%2C%2044.552964%5D%2C%20%5B-92.233773%2C%2044.443425%5D%2C%20%5B-91.927065%2C%2044.333886%5D%2C%20%5B-91.877772%2C%2044.202439%5D%2C%20%5B-91.592971%2C%2044.032654%5D%2C%20%5B-91.43414%2C%2043.994316%5D%2C%20%5B-91.242447%2C%2043.775238%5D%2C%20%5B-91.269832%2C%2043.616407%5D%2C%20%5B-91.215062%2C%2043.501391%5D%2C%20%5B-91.368417%2C%2043.501391%5D%2C%20%5B-96.451017%2C%2043.501391%5D%2C%20%5B-96.451017%2C%2045.297827%5D%2C%20%5B-96.681049%2C%2045.412843%5D%2C%20%5B-96.856311%2C%2045.604536%5D%2C%20%5B-96.582464%2C%2045.818137%5D%2C%20%5B-96.560556%2C%2045.933153%5D%2C%20%5B-96.598895%2C%2046.332969%5D%2C%20%5B-96.719387%2C%2046.437031%5D%2C%20%5B-96.801542%2C%2046.656109%5D%2C%20%5B-96.785111%2C%2046.924479%5D%2C%20%5B-96.823449%2C%2046.968294%5D%2C%20%5B-96.856311%2C%2047.609096%5D%2C%20%5B-97.053481%2C%2047.948667%5D%2C%20%5B-97.130158%2C%2048.140359%5D%2C%20%5B-97.16302%2C%2048.545653%5D%2C%20%5B-97.097296%2C%2048.682577%5D%2C%20%5B-97.228743%2C%2049.000239%5D%2C%20%5B-95.152983%2C%2049.000239%5D%2C%20%5B-95.152983%2C%2049.383625%5D%2C%20%5B-94.955813%2C%2049.372671%5D%2C%20%5B-94.824366%2C%2049.295994%5D%2C%20%5B-94.69292%2C%2048.775685%5D%2C%20%5B-94.588858%2C%2048.715438%5D%2C%20%5B-94.260241%2C%2048.699007%5D%2C%20%5B-94.221903%2C%2048.649715%5D%2C%20%5B-93.838517%2C%2048.627807%5D%2C%20%5B-93.794701%2C%2048.518268%5D%2C%20%5B-93.466085%2C%2048.545653%5D%2C%20%5B-93.466085%2C%2048.589469%5D%2C%20%5B-93.208669%2C%2048.644238%5D%2C%20%5B-92.984114%2C%2048.62233%5D%2C%20%5B-92.726698%2C%2048.540176%5D%2C%20%5B-92.655498%2C%2048.436114%5D%2C%20%5B-92.50762%2C%2048.447068%5D%2C%20%5B-92.370697%2C%2048.222514%5D%2C%20%5B-92.304974%2C%2048.315622%5D%2C%20%5B-92.053034%2C%2048.359437%5D%2C%20%5B-92.009219%2C%2048.266329%5D%2C%20%5B-91.713464%2C%2048.200606%5D%2C%20%5B-91.713464%2C%2048.112975%5D%2C%20%5B-91.565587%2C%2048.041775%5D%2C%20%5B-91.264355%2C%2048.080113%5D%2C%20%5B-91.083616%2C%2048.178698%5D%2C%20%5B-90.837154%2C%2048.238944%5D%2C%20%5B-90.749522%2C%2048.091067%5D%2C%20%5B-90.579737%2C%2048.123929%5D%2C%20%5B-90.377091%2C%2048.091067%5D%2C%20%5B-90.141582%2C%2048.112975%5D%2C%20%5B-89.873212%2C%2047.987005%5D%2C%20%5B-89.615796%2C%2048.008913%5D%2C%20%5B-89.637704%2C%2047.954144%5D%2C%20%5B-89.971797%2C%2047.828174%5D%2C%20%5B-90.437337%2C%2047.729589%5D%2C%20%5B-90.738569%2C%2047.625527%5D%2C%20%5B-91.171247%2C%2047.368111%5D%2C%20%5B-91.357463%2C%2047.20928%5D%2C%20%5B-91.642264%2C%2047.028541%5D%2C%20%5B-92.091373%2C%2046.787555%5D%2C%20%5B-92.014696%2C%2046.705401%5D%5D%5D%2C%20%22type%22%3A%20%22Polygon%22%7D%2C%20%22id%22%3A%20%22MN%22%2C%20%22properties%22%3A%20%7B%22name%22%3A%20%22Minnesota%22%7D%2C%20%22type%22%3A%20%22Feature%22%7D%2C%20%7B%22geometry%22%3A%20%7B%22coordinates%22%3A%20%5B%5B%5B-88.471115%2C%2034.995703%5D%2C%20%5B-88.202745%2C%2034.995703%5D%2C%20%5B-88.098683%2C%2034.891641%5D%2C%20%5B-88.241084%2C%2033.796253%5D%2C%20%5B-88.471115%2C%2031.895754%5D%2C%20%5B-88.394438%2C%2030.367688%5D%2C%20%5B-88.503977%2C%2030.323872%5D%2C%20%5B-88.744962%2C%2030.34578%5D%2C%20%5B-88.843547%2C%2030.411504%5D%2C%20%5B-89.084533%2C%2030.367688%5D%2C%20%5B-89.418626%2C%2030.252672%5D%2C%20%5B-89.522688%2C%2030.181472%5D%2C%20%5B-89.643181%2C%2030.285534%5D%2C%20%5B-89.681519%2C%2030.449842%5D%2C%20%5B-89.845827%2C%2030.66892%5D%2C%20%5B-89.747242%2C%2030.997536%5D%2C%20%5B-91.636787%2C%2030.997536%5D%2C%20%5B-91.565587%2C%2031.068736%5D%2C%20%5B-91.636787%2C%2031.265906%5D%2C%20%5B-91.516294%2C%2031.27686%5D%2C%20%5B-91.499863%2C%2031.643815%5D%2C%20%5B-91.401278%2C%2031.621907%5D%2C%20%5B-91.341032%2C%2031.846462%5D%2C%20%5B-91.105524%2C%2031.988862%5D%2C%20%5B-90.985031%2C%2032.218894%5D%2C%20%5B-91.006939%2C%2032.514649%5D%2C%20%5B-91.154816%2C%2032.640618%5D%2C%20%5B-91.143862%2C%2032.843265%5D%2C%20%5B-91.072662%2C%2032.887081%5D%2C%20%5B-91.16577%2C%2033.002096%5D%2C%20%5B-91.089093%2C%2033.13902%5D%2C%20%5B-91.143862%2C%2033.347144%5D%2C%20%5B-91.056231%2C%2033.429298%5D%2C%20%5B-91.231493%2C%2033.560744%5D%2C%20%5B-91.072662%2C%2033.867453%5D%2C%20%5B-90.891923%2C%2034.026284%5D%2C%20%5B-90.952169%2C%2034.135823%5D%2C%20%5B-90.744046%2C%2034.300131%5D%2C%20%5B-90.749522%2C%2034.365854%5D%2C%20%5B-90.568783%2C%2034.420624%5D%2C%20%5B-90.585214%2C%2034.617794%5D%2C%20%5B-90.481152%2C%2034.661609%5D%2C%20%5B-90.409952%2C%2034.831394%5D%2C%20%5B-90.251121%2C%2034.908072%5D%2C%20%5B-90.311367%2C%2034.995703%5D%2C%20%5B-88.471115%2C%2034.995703%5D%5D%5D%2C%20%22type%22%3A%20%22Polygon%22%7D%2C%20%22id%22%3A%20%22MS%22%2C%20%22properties%22%3A%20%7B%22name%22%3A%20%22Mississippi%22%7D%2C%20%22type%22%3A%20%22Feature%22%7D%2C%20%7B%22geometry%22%3A%20%7B%22coordinates%22%3A%20%5B%5B%5B-91.833957%2C%2040.609566%5D%2C%20%5B-91.729895%2C%2040.615043%5D%2C%20%5B-91.527248%2C%2040.412397%5D%2C%20%5B-91.417709%2C%2040.379535%5D%2C%20%5B-91.50534%2C%2040.237135%5D%2C%20%5B-91.494386%2C%2040.034488%5D%2C%20%5B-91.368417%2C%2039.727779%5D%2C%20%5B-91.061708%2C%2039.470363%5D%2C%20%5B-90.727615%2C%2039.256762%5D%2C%20%5B-90.661891%2C%2038.928146%5D%2C%20%5B-90.585214%2C%2038.867899%5D%2C%20%5B-90.470199%2C%2038.961007%5D%2C%20%5B-90.251121%2C%2038.917192%5D%2C%20%5B-90.10872%2C%2038.845992%5D%2C%20%5B-90.207305%2C%2038.725499%5D%2C%20%5B-90.179921%2C%2038.632391%5D%2C%20%5B-90.349706%2C%2038.374975%5D%2C%20%5B-90.355183%2C%2038.216144%5D%2C%20%5B-90.059428%2C%2038.013497%5D%2C%20%5B-89.949889%2C%2037.88205%5D%2C%20%5B-89.84035%2C%2037.903958%5D%2C%20%5B-89.517211%2C%2037.690357%5D%2C%20%5B-89.517211%2C%2037.537003%5D%2C%20%5B-89.435057%2C%2037.34531%5D%2C%20%5B-89.517211%2C%2037.279587%5D%2C%20%5B-89.292656%2C%2036.994786%5D%2C%20%5B-89.133825%2C%2036.983832%5D%2C%20%5B-89.215979%2C%2036.578538%5D%2C%20%5B-89.363857%2C%2036.622354%5D%2C%20%5B-89.418626%2C%2036.496384%5D%2C%20%5B-89.484349%2C%2036.496384%5D%2C%20%5B-89.539119%2C%2036.496384%5D%2C%20%5B-89.533642%2C%2036.249922%5D%2C%20%5B-89.730812%2C%2035.997983%5D%2C%20%5B-90.377091%2C%2035.997983%5D%2C%20%5B-90.218259%2C%2036.184199%5D%2C%20%5B-90.064905%2C%2036.304691%5D%2C%20%5B-90.152536%2C%2036.496384%5D%2C%20%5B-94.473842%2C%2036.501861%5D%2C%20%5B-94.616242%2C%2036.501861%5D%2C%20%5B-94.616242%2C%2037.000263%5D%2C%20%5B-94.610765%2C%2039.158177%5D%2C%20%5B-94.824366%2C%2039.20747%5D%2C%20%5B-94.983197%2C%2039.442978%5D%2C%20%5B-95.109167%2C%2039.541563%5D%2C%20%5B-94.884612%2C%2039.831841%5D%2C%20%5B-95.207752%2C%2039.908518%5D%2C%20%5B-95.306337%2C%2040.001626%5D%2C%20%5B-95.552799%2C%2040.264519%5D%2C%20%5B-95.7664%2C%2040.587659%5D%2C%20%5B-94.632673%2C%2040.571228%5D%2C%20%5B-93.257961%2C%2040.582182%5D%2C%20%5B-91.833957%2C%2040.609566%5D%5D%5D%2C%20%22type%22%3A%20%22Polygon%22%7D%2C%20%22id%22%3A%20%22MO%22%2C%20%22properties%22%3A%20%7B%22name%22%3A%20%22Missouri%22%7D%2C%20%22type%22%3A%20%22Feature%22%7D%2C%20%7B%22geometry%22%3A%20%7B%22coordinates%22%3A%20%5B%5B%5B-104.047534%2C%2049.000239%5D%2C%20%5B-104.042057%2C%2047.861036%5D%2C%20%5B-104.047534%2C%2045.944106%5D%2C%20%5B-104.042057%2C%2044.996596%5D%2C%20%5B-104.058488%2C%2044.996596%5D%2C%20%5B-105.91517%2C%2045.002073%5D%2C%20%5B-109.080842%2C%2045.002073%5D%2C%20%5B-111.05254%2C%2045.002073%5D%2C%20%5B-111.047063%2C%2044.476286%5D%2C%20%5B-111.227803%2C%2044.580348%5D%2C%20%5B-111.386634%2C%2044.75561%5D%2C%20%5B-111.616665%2C%2044.547487%5D%2C%20%5B-111.819312%2C%2044.509148%5D%2C%20%5B-111.868605%2C%2044.563917%5D%2C%20%5B-112.104113%2C%2044.520102%5D%2C%20%5B-112.241036%2C%2044.569394%5D%2C%20%5B-112.471068%2C%2044.481763%5D%2C%20%5B-112.783254%2C%2044.48724%5D%2C%20%5B-112.887315%2C%2044.394132%5D%2C%20%5B-113.002331%2C%2044.448902%5D%2C%20%5B-113.133778%2C%2044.772041%5D%2C%20%5B-113.341901%2C%2044.782995%5D%2C%20%5B-113.456917%2C%2044.865149%5D%2C%20%5B-113.45144%2C%2045.056842%5D%2C%20%5B-113.571933%2C%2045.128042%5D%2C%20%5B-113.736241%2C%2045.330689%5D%2C%20%5B-113.834826%2C%2045.522382%5D%2C%20%5B-113.807441%2C%2045.604536%5D%2C%20%5B-113.98818%2C%2045.703121%5D%2C%20%5B-114.086765%2C%2045.593582%5D%2C%20%5B-114.333228%2C%2045.456659%5D%2C%20%5B-114.546828%2C%2045.560721%5D%2C%20%5B-114.497536%2C%2045.670259%5D%2C%20%5B-114.568736%2C%2045.774321%5D%2C%20%5B-114.387997%2C%2045.88386%5D%2C%20%5B-114.492059%2C%2046.037214%5D%2C%20%5B-114.464674%2C%2046.272723%5D%2C%20%5B-114.322274%2C%2046.645155%5D%2C%20%5B-114.612552%2C%2046.639678%5D%2C%20%5B-114.623506%2C%2046.705401%5D%2C%20%5B-114.886399%2C%2046.809463%5D%2C%20%5B-114.930214%2C%2046.919002%5D%2C%20%5B-115.302646%2C%2047.187372%5D%2C%20%5B-115.324554%2C%2047.258572%5D%2C%20%5B-115.527201%2C%2047.302388%5D%2C%20%5B-115.718894%2C%2047.42288%5D%2C%20%5B-115.724371%2C%2047.696727%5D%2C%20%5B-116.04751%2C%2047.976051%5D%2C%20%5B-116.04751%2C%2049.000239%5D%2C%20%5B-111.50165%2C%2048.994762%5D%2C%20%5B-109.453274%2C%2049.000239%5D%2C%20%5B-104.047534%2C%2049.000239%5D%5D%5D%2C%20%22type%22%3A%20%22Polygon%22%7D%2C%20%22id%22%3A%20%22MT%22%2C%20%22properties%22%3A%20%7B%22name%22%3A%20%22Montana%22%7D%2C%20%22type%22%3A%20%22Feature%22%7D%2C%20%7B%22geometry%22%3A%20%7B%22coordinates%22%3A%20%5B%5B%5B-103.324578%2C%2043.002989%5D%2C%20%5B-101.626726%2C%2042.997512%5D%2C%20%5B-98.499393%2C%2042.997512%5D%2C%20%5B-98.466531%2C%2042.94822%5D%2C%20%5B-97.951699%2C%2042.767481%5D%2C%20%5B-97.831206%2C%2042.866066%5D%2C%20%5B-97.688806%2C%2042.844158%5D%2C%20%5B-97.217789%2C%2042.844158%5D%2C%20%5B-96.692003%2C%2042.657942%5D%2C%20%5B-96.626279%2C%2042.515542%5D%2C%20%5B-96.44554%2C%2042.488157%5D%2C%20%5B-96.264801%2C%2042.039048%5D%2C%20%5B-96.127878%2C%2041.973325%5D%2C%20%5B-96.062155%2C%2041.798063%5D%2C%20%5B-96.122401%2C%2041.67757%5D%2C%20%5B-96.095016%2C%2041.540646%5D%2C%20%5B-95.919754%2C%2041.453015%5D%2C%20%5B-95.925231%2C%2041.201076%5D%2C%20%5B-95.826646%2C%2040.976521%5D%2C%20%5B-95.881416%2C%2040.719105%5D%2C%20%5B-95.7664%2C%2040.587659%5D%2C%20%5B-95.552799%2C%2040.264519%5D%2C%20%5B-95.306337%2C%2040.001626%5D%2C%20%5B-101.90605%2C%2040.001626%5D%2C%20%5B-102.053927%2C%2040.001626%5D%2C%20%5B-102.053927%2C%2041.003906%5D%2C%20%5B-104.053011%2C%2041.003906%5D%2C%20%5B-104.053011%2C%2043.002989%5D%2C%20%5B-103.324578%2C%2043.002989%5D%5D%5D%2C%20%22type%22%3A%20%22Polygon%22%7D%2C%20%22id%22%3A%20%22NE%22%2C%20%22properties%22%3A%20%7B%22name%22%3A%20%22Nebraska%22%7D%2C%20%22type%22%3A%20%22Feature%22%7D%2C%20%7B%22geometry%22%3A%20%7B%22coordinates%22%3A%20%5B%5B%5B-117.027882%2C%2042.000709%5D%2C%20%5B-114.04295%2C%2041.995232%5D%2C%20%5B-114.048427%2C%2037.000263%5D%2C%20%5B-114.048427%2C%2036.195153%5D%2C%20%5B-114.152489%2C%2036.025367%5D%2C%20%5B-114.251074%2C%2036.01989%5D%2C%20%5B-114.371566%2C%2036.140383%5D%2C%20%5B-114.738521%2C%2036.102045%5D%2C%20%5B-114.678275%2C%2035.516012%5D%2C%20%5B-114.596121%2C%2035.324319%5D%2C%20%5B-114.574213%2C%2035.138103%5D%2C%20%5B-114.634459%2C%2035.00118%5D%2C%20%5B-115.85034%2C%2035.970598%5D%2C%20%5B-116.540435%2C%2036.501861%5D%2C%20%5B-117.498899%2C%2037.21934%5D%2C%20%5B-118.71478%2C%2038.101128%5D%2C%20%5B-120.001861%2C%2038.999346%5D%2C%20%5B-119.996384%2C%2040.264519%5D%2C%20%5B-120.001861%2C%2041.995232%5D%2C%20%5B-118.698349%2C%2041.989755%5D%2C%20%5B-117.027882%2C%2042.000709%5D%5D%5D%2C%20%22type%22%3A%20%22Polygon%22%7D%2C%20%22id%22%3A%20%22NV%22%2C%20%22properties%22%3A%20%7B%22name%22%3A%20%22Nevada%22%7D%2C%20%22type%22%3A%20%22Feature%22%7D%2C%20%7B%22geometry%22%3A%20%7B%22coordinates%22%3A%20%5B%5B%5B-71.08183%2C%2045.303304%5D%2C%20%5B-71.032537%2C%2044.657025%5D%2C%20%5B-70.966814%2C%2043.34256%5D%2C%20%5B-70.807983%2C%2043.227544%5D%2C%20%5B-70.824413%2C%2043.128959%5D%2C%20%5B-70.703921%2C%2043.057759%5D%2C%20%5B-70.818936%2C%2042.871543%5D%2C%20%5B-70.917521%2C%2042.887974%5D%2C%20%5B-71.185891%2C%2042.789389%5D%2C%20%5B-71.29543%2C%2042.696281%5D%2C%20%5B-72.456542%2C%2042.729142%5D%2C%20%5B-72.544173%2C%2042.80582%5D%2C%20%5B-72.533219%2C%2042.953697%5D%2C%20%5B-72.445588%2C%2043.008466%5D%2C%20%5B-72.456542%2C%2043.150867%5D%2C%20%5B-72.379864%2C%2043.572591%5D%2C%20%5B-72.204602%2C%2043.769761%5D%2C%20%5B-72.116971%2C%2043.994316%5D%2C%20%5B-72.02934%2C%2044.07647%5D%2C%20%5B-72.034817%2C%2044.322932%5D%2C%20%5B-71.700724%2C%2044.41604%5D%2C%20%5B-71.536416%2C%2044.585825%5D%2C%20%5B-71.629524%2C%2044.750133%5D%2C%20%5B-71.4926%2C%2044.914442%5D%2C%20%5B-71.503554%2C%2045.013027%5D%2C%20%5B-71.361154%2C%2045.270443%5D%2C%20%5B-71.131122%2C%2045.243058%5D%2C%20%5B-71.08183%2C%2045.303304%5D%5D%5D%2C%20%22type%22%3A%20%22Polygon%22%7D%2C%20%22id%22%3A%20%22NH%22%2C%20%22properties%22%3A%20%7B%22name%22%3A%20%22New%20Hampshire%22%7D%2C%20%22type%22%3A%20%22Feature%22%7D%2C%20%7B%22geometry%22%3A%20%7B%22coordinates%22%3A%20%5B%5B%5B-74.236547%2C%2041.14083%5D%2C%20%5B-73.902454%2C%2040.998429%5D%2C%20%5B-74.022947%2C%2040.708151%5D%2C%20%5B-74.187255%2C%2040.642428%5D%2C%20%5B-74.274886%2C%2040.489074%5D%2C%20%5B-74.001039%2C%2040.412397%5D%2C%20%5B-73.979131%2C%2040.297381%5D%2C%20%5B-74.099624%2C%2039.760641%5D%2C%20%5B-74.411809%2C%2039.360824%5D%2C%20%5B-74.614456%2C%2039.245808%5D%2C%20%5B-74.795195%2C%2038.993869%5D%2C%20%5B-74.888303%2C%2039.158177%5D%2C%20%5B-75.178581%2C%2039.240331%5D%2C%20%5B-75.534582%2C%2039.459409%5D%2C%20%5B-75.55649%2C%2039.607286%5D%2C%20%5B-75.561967%2C%2039.629194%5D%2C%20%5B-75.507197%2C%2039.683964%5D%2C%20%5B-75.414089%2C%2039.804456%5D%2C%20%5B-75.145719%2C%2039.88661%5D%2C%20%5B-75.129289%2C%2039.963288%5D%2C%20%5B-74.82258%2C%2040.127596%5D%2C%20%5B-74.773287%2C%2040.215227%5D%2C%20%5B-75.058088%2C%2040.417874%5D%2C%20%5B-75.069042%2C%2040.543843%5D%2C%20%5B-75.195012%2C%2040.576705%5D%2C%20%5B-75.205966%2C%2040.691721%5D%2C%20%5B-75.052611%2C%2040.866983%5D%2C%20%5B-75.134765%2C%2040.971045%5D%2C%20%5B-74.882826%2C%2041.179168%5D%2C%20%5B-74.828057%2C%2041.288707%5D%2C%20%5B-74.69661%2C%2041.359907%5D%2C%20%5B-74.236547%2C%2041.14083%5D%5D%5D%2C%20%22type%22%3A%20%22Polygon%22%7D%2C%20%22id%22%3A%20%22NJ%22%2C%20%22properties%22%3A%20%7B%22name%22%3A%20%22New%20Jersey%22%7D%2C%20%22type%22%3A%20%22Feature%22%7D%2C%20%7B%22geometry%22%3A%20%7B%22coordinates%22%3A%20%5B%5B%5B-107.421329%2C%2037.000263%5D%2C%20%5B-106.868158%2C%2036.994786%5D%2C%20%5B-104.337812%2C%2036.994786%5D%2C%20%5B-103.001438%2C%2037.000263%5D%2C%20%5B-103.001438%2C%2036.501861%5D%2C%20%5B-103.039777%2C%2036.501861%5D%2C%20%5B-103.045254%2C%2034.01533%5D%2C%20%5B-103.067161%2C%2033.002096%5D%2C%20%5B-103.067161%2C%2031.999816%5D%2C%20%5B-106.616219%2C%2031.999816%5D%2C%20%5B-106.643603%2C%2031.901231%5D%2C%20%5B-106.528588%2C%2031.786216%5D%2C%20%5B-108.210008%2C%2031.786216%5D%2C%20%5B-108.210008%2C%2031.331629%5D%2C%20%5B-109.04798%2C%2031.331629%5D%2C%20%5B-109.042503%2C%2037.000263%5D%2C%20%5B-107.421329%2C%2037.000263%5D%5D%5D%2C%20%22type%22%3A%20%22Polygon%22%7D%2C%20%22id%22%3A%20%22NM%22%2C%20%22properties%22%3A%20%7B%22name%22%3A%20%22New%20Mexico%22%7D%2C%20%22type%22%3A%20%22Feature%22%7D%2C%20%7B%22geometry%22%3A%20%7B%22coordinates%22%3A%20%5B%5B%5B-73.343806%2C%2045.013027%5D%2C%20%5B-73.332852%2C%2044.804903%5D%2C%20%5B-73.387622%2C%2044.618687%5D%2C%20%5B-73.294514%2C%2044.437948%5D%2C%20%5B-73.321898%2C%2044.246255%5D%2C%20%5B-73.436914%2C%2044.043608%5D%2C%20%5B-73.349283%2C%2043.769761%5D%2C%20%5B-73.404052%2C%2043.687607%5D%2C%20%5B-73.245221%2C%2043.523299%5D%2C%20%5B-73.278083%2C%2042.833204%5D%2C%20%5B-73.267129%2C%2042.745573%5D%2C%20%5B-73.508114%2C%2042.08834%5D%2C%20%5B-73.486206%2C%2042.050002%5D%2C%20%5B-73.55193%2C%2041.294184%5D%2C%20%5B-73.48073%2C%2041.21203%5D%2C%20%5B-73.727192%2C%2041.102491%5D%2C%20%5B-73.655992%2C%2040.987475%5D%2C%20%5B-73.22879%2C%2040.905321%5D%2C%20%5B-73.141159%2C%2040.965568%5D%2C%20%5B-72.774204%2C%2040.965568%5D%2C%20%5B-72.587988%2C%2040.998429%5D%2C%20%5B-72.28128%2C%2041.157261%5D%2C%20%5B-72.259372%2C%2041.042245%5D%2C%20%5B-72.100541%2C%2040.992952%5D%2C%20%5B-72.467496%2C%2040.845075%5D%2C%20%5B-73.239744%2C%2040.625997%5D%2C%20%5B-73.562884%2C%2040.582182%5D%2C%20%5B-73.776484%2C%2040.593136%5D%2C%20%5B-73.935316%2C%2040.543843%5D%2C%20%5B-74.022947%2C%2040.708151%5D%2C%20%5B-73.902454%2C%2040.998429%5D%2C%20%5B-74.236547%2C%2041.14083%5D%2C%20%5B-74.69661%2C%2041.359907%5D%2C%20%5B-74.740426%2C%2041.431108%5D%2C%20%5B-74.89378%2C%2041.436584%5D%2C%20%5B-75.074519%2C%2041.60637%5D%2C%20%5B-75.052611%2C%2041.754247%5D%2C%20%5B-75.173104%2C%2041.869263%5D%2C%20%5B-75.249781%2C%2041.863786%5D%2C%20%5B-75.35932%2C%2042.000709%5D%2C%20%5B-79.76278%2C%2042.000709%5D%2C%20%5B-79.76278%2C%2042.252649%5D%2C%20%5B-79.76278%2C%2042.269079%5D%2C%20%5B-79.149363%2C%2042.55388%5D%2C%20%5B-79.050778%2C%2042.690804%5D%2C%20%5B-78.853608%2C%2042.783912%5D%2C%20%5B-78.930285%2C%2042.953697%5D%2C%20%5B-79.012439%2C%2042.986559%5D%2C%20%5B-79.072686%2C%2043.260406%5D%2C%20%5B-78.486653%2C%2043.375421%5D%2C%20%5B-77.966344%2C%2043.369944%5D%2C%20%5B-77.75822%2C%2043.34256%5D%2C%20%5B-77.533665%2C%2043.233021%5D%2C%20%5B-77.391265%2C%2043.276836%5D%2C%20%5B-76.958587%2C%2043.271359%5D%2C%20%5B-76.695693%2C%2043.34256%5D%2C%20%5B-76.41637%2C%2043.523299%5D%2C%20%5B-76.235631%2C%2043.528776%5D%2C%20%5B-76.230154%2C%2043.802623%5D%2C%20%5B-76.137046%2C%2043.961454%5D%2C%20%5B-76.3616%2C%2044.070993%5D%2C%20%5B-76.312308%2C%2044.196962%5D%2C%20%5B-75.912491%2C%2044.366748%5D%2C%20%5B-75.764614%2C%2044.514625%5D%2C%20%5B-75.282643%2C%2044.848718%5D%2C%20%5B-74.828057%2C%2045.018503%5D%2C%20%5B-74.148916%2C%2044.991119%5D%2C%20%5B-73.343806%2C%2045.013027%5D%5D%5D%2C%20%22type%22%3A%20%22Polygon%22%7D%2C%20%22id%22%3A%20%22NY%22%2C%20%22properties%22%3A%20%7B%22name%22%3A%20%22New%20York%22%7D%2C%20%22type%22%3A%20%22Feature%22%7D%2C%20%7B%22geometry%22%3A%20%7B%22coordinates%22%3A%20%5B%5B%5B-80.978661%2C%2036.562108%5D%2C%20%5B-80.294043%2C%2036.545677%5D%2C%20%5B-79.510841%2C%2036.5402%5D%2C%20%5B-75.868676%2C%2036.551154%5D%2C%20%5B-75.75366%2C%2036.151337%5D%2C%20%5B-76.032984%2C%2036.189676%5D%2C%20%5B-76.071322%2C%2036.140383%5D%2C%20%5B-76.410893%2C%2036.080137%5D%2C%20%5B-76.460185%2C%2036.025367%5D%2C%20%5B-76.68474%2C%2036.008937%5D%2C%20%5B-76.673786%2C%2035.937736%5D%2C%20%5B-76.399939%2C%2035.987029%5D%2C%20%5B-76.3616%2C%2035.943213%5D%2C%20%5B-76.060368%2C%2035.992506%5D%2C%20%5B-75.961783%2C%2035.899398%5D%2C%20%5B-75.781044%2C%2035.937736%5D%2C%20%5B-75.715321%2C%2035.696751%5D%2C%20%5B-75.775568%2C%2035.581735%5D%2C%20%5B-75.89606%2C%2035.570781%5D%2C%20%5B-76.147999%2C%2035.324319%5D%2C%20%5B-76.482093%2C%2035.313365%5D%2C%20%5B-76.536862%2C%2035.14358%5D%2C%20%5B-76.394462%2C%2034.973795%5D%2C%20%5B-76.279446%2C%2034.940933%5D%2C%20%5B-76.493047%2C%2034.661609%5D%2C%20%5B-76.673786%2C%2034.694471%5D%2C%20%5B-76.991448%2C%2034.667086%5D%2C%20%5B-77.210526%2C%2034.60684%5D%2C%20%5B-77.555573%2C%2034.415147%5D%2C%20%5B-77.82942%2C%2034.163208%5D%2C%20%5B-77.971821%2C%2033.845545%5D%2C%20%5B-78.179944%2C%2033.916745%5D%2C%20%5B-78.541422%2C%2033.851022%5D%2C%20%5B-79.675149%2C%2034.80401%5D%2C%20%5B-80.797922%2C%2034.820441%5D%2C%20%5B-80.781491%2C%2034.935456%5D%2C%20%5B-80.934845%2C%2035.105241%5D%2C%20%5B-81.038907%2C%2035.044995%5D%2C%20%5B-81.044384%2C%2035.149057%5D%2C%20%5B-82.276696%2C%2035.198349%5D%2C%20%5B-82.550543%2C%2035.160011%5D%2C%20%5B-82.764143%2C%2035.066903%5D%2C%20%5B-83.109191%2C%2035.00118%5D%2C%20%5B-83.618546%2C%2034.984749%5D%2C%20%5B-84.319594%2C%2034.990226%5D%2C%20%5B-84.29221%2C%2035.225734%5D%2C%20%5B-84.09504%2C%2035.247642%5D%2C%20%5B-84.018363%2C%2035.41195%5D%2C%20%5B-83.7719%2C%2035.559827%5D%2C%20%5B-83.498053%2C%2035.565304%5D%2C%20%5B-83.251591%2C%2035.718659%5D%2C%20%5B-82.994175%2C%2035.773428%5D%2C%20%5B-82.775097%2C%2035.997983%5D%2C%20%5B-82.638174%2C%2036.063706%5D%2C%20%5B-82.610789%2C%2035.965121%5D%2C%20%5B-82.216449%2C%2036.156814%5D%2C%20%5B-82.03571%2C%2036.118475%5D%2C%20%5B-81.909741%2C%2036.304691%5D%2C%20%5B-81.723525%2C%2036.353984%5D%2C%20%5B-81.679709%2C%2036.589492%5D%2C%20%5B-80.978661%2C%2036.562108%5D%5D%5D%2C%20%22type%22%3A%20%22Polygon%22%7D%2C%20%22id%22%3A%20%22NC%22%2C%20%22properties%22%3A%20%7B%22name%22%3A%20%22North%20Carolina%22%7D%2C%20%22type%22%3A%20%22Feature%22%7D%2C%20%7B%22geometry%22%3A%20%7B%22coordinates%22%3A%20%5B%5B%5B-97.228743%2C%2049.000239%5D%2C%20%5B-97.097296%2C%2048.682577%5D%2C%20%5B-97.16302%2C%2048.545653%5D%2C%20%5B-97.130158%2C%2048.140359%5D%2C%20%5B-97.053481%2C%2047.948667%5D%2C%20%5B-96.856311%2C%2047.609096%5D%2C%20%5B-96.823449%2C%2046.968294%5D%2C%20%5B-96.785111%2C%2046.924479%5D%2C%20%5B-96.801542%2C%2046.656109%5D%2C%20%5B-96.719387%2C%2046.437031%5D%2C%20%5B-96.598895%2C%2046.332969%5D%2C%20%5B-96.560556%2C%2045.933153%5D%2C%20%5B-104.047534%2C%2045.944106%5D%2C%20%5B-104.042057%2C%2047.861036%5D%2C%20%5B-104.047534%2C%2049.000239%5D%2C%20%5B-97.228743%2C%2049.000239%5D%5D%5D%2C%20%22type%22%3A%20%22Polygon%22%7D%2C%20%22id%22%3A%20%22ND%22%2C%20%22properties%22%3A%20%7B%22name%22%3A%20%22North%20Dakota%22%7D%2C%20%22type%22%3A%20%22Feature%22%7D%2C%20%7B%22geometry%22%3A%20%7B%22coordinates%22%3A%20%5B%5B%5B-80.518598%2C%2041.978802%5D%2C%20%5B-80.518598%2C%2040.636951%5D%2C%20%5B-80.666475%2C%2040.582182%5D%2C%20%5B-80.595275%2C%2040.472643%5D%2C%20%5B-80.600752%2C%2040.319289%5D%2C%20%5B-80.737675%2C%2040.078303%5D%2C%20%5B-80.830783%2C%2039.711348%5D%2C%20%5B-81.219646%2C%2039.388209%5D%2C%20%5B-81.345616%2C%2039.344393%5D%2C%20%5B-81.455155%2C%2039.410117%5D%2C%20%5B-81.57017%2C%2039.267716%5D%2C%20%5B-81.685186%2C%2039.273193%5D%2C%20%5B-81.811156%2C%2039.0815%5D%2C%20%5B-81.783771%2C%2038.966484%5D%2C%20%5B-81.887833%2C%2038.873376%5D%2C%20%5B-82.03571%2C%2039.026731%5D%2C%20%5B-82.221926%2C%2038.785745%5D%2C%20%5B-82.172634%2C%2038.632391%5D%2C%20%5B-82.293127%2C%2038.577622%5D%2C%20%5B-82.331465%2C%2038.446175%5D%2C%20%5B-82.594358%2C%2038.424267%5D%2C%20%5B-82.731282%2C%2038.561191%5D%2C%20%5B-82.846298%2C%2038.588575%5D%2C%20%5B-82.890113%2C%2038.758361%5D%2C%20%5B-83.032514%2C%2038.725499%5D%2C%20%5B-83.142052%2C%2038.626914%5D%2C%20%5B-83.519961%2C%2038.703591%5D%2C%20%5B-83.678792%2C%2038.632391%5D%2C%20%5B-83.903347%2C%2038.769315%5D%2C%20%5B-84.215533%2C%2038.807653%5D%2C%20%5B-84.231963%2C%2038.895284%5D%2C%20%5B-84.43461%2C%2039.103408%5D%2C%20%5B-84.817996%2C%2039.103408%5D%2C%20%5B-84.801565%2C%2040.500028%5D%2C%20%5B-84.807042%2C%2041.694001%5D%2C%20%5B-83.454238%2C%2041.732339%5D%2C%20%5B-83.065375%2C%2041.595416%5D%2C%20%5B-82.933929%2C%2041.513262%5D%2C%20%5B-82.835344%2C%2041.589939%5D%2C%20%5B-82.616266%2C%2041.431108%5D%2C%20%5B-82.479343%2C%2041.381815%5D%2C%20%5B-82.013803%2C%2041.513262%5D%2C%20%5B-81.739956%2C%2041.485877%5D%2C%20%5B-81.444201%2C%2041.672093%5D%2C%20%5B-81.011523%2C%2041.852832%5D%2C%20%5B-80.518598%2C%2041.978802%5D%2C%20%5B-80.518598%2C%2041.978802%5D%5D%5D%2C%20%22type%22%3A%20%22Polygon%22%7D%2C%20%22id%22%3A%20%22OH%22%2C%20%22properties%22%3A%20%7B%22name%22%3A%20%22Ohio%22%7D%2C%20%22type%22%3A%20%22Feature%22%7D%2C%20%7B%22geometry%22%3A%20%7B%22coordinates%22%3A%20%5B%5B%5B-100.087706%2C%2037.000263%5D%2C%20%5B-94.616242%2C%2037.000263%5D%2C%20%5B-94.616242%2C%2036.501861%5D%2C%20%5B-94.430026%2C%2035.395519%5D%2C%20%5B-94.484796%2C%2033.637421%5D%2C%20%5B-94.868182%2C%2033.74696%5D%2C%20%5B-94.966767%2C%2033.861976%5D%2C%20%5B-95.224183%2C%2033.960561%5D%2C%20%5B-95.289906%2C%2033.87293%5D%2C%20%5B-95.547322%2C%2033.878407%5D%2C%20%5B-95.602092%2C%2033.933176%5D%2C%20%5B-95.8376%2C%2033.834591%5D%2C%20%5B-95.936185%2C%2033.889361%5D%2C%20%5B-96.149786%2C%2033.840068%5D%2C%20%5B-96.346956%2C%2033.686714%5D%2C%20%5B-96.423633%2C%2033.774345%5D%2C%20%5B-96.631756%2C%2033.845545%5D%2C%20%5B-96.850834%2C%2033.845545%5D%2C%20%5B-96.922034%2C%2033.960561%5D%2C%20%5B-97.173974%2C%2033.736006%5D%2C%20%5B-97.256128%2C%2033.861976%5D%2C%20%5B-97.371143%2C%2033.823637%5D%2C%20%5B-97.458774%2C%2033.905791%5D%2C%20%5B-97.694283%2C%2033.982469%5D%2C%20%5B-97.869545%2C%2033.851022%5D%2C%20%5B-97.946222%2C%2033.987946%5D%2C%20%5B-98.088623%2C%2034.004376%5D%2C%20%5B-98.170777%2C%2034.113915%5D%2C%20%5B-98.36247%2C%2034.157731%5D%2C%20%5B-98.488439%2C%2034.064623%5D%2C%20%5B-98.570593%2C%2034.146777%5D%2C%20%5B-98.767763%2C%2034.135823%5D%2C%20%5B-98.986841%2C%2034.223454%5D%2C%20%5B-99.189488%2C%2034.2125%5D%2C%20%5B-99.260688%2C%2034.404193%5D%2C%20%5B-99.57835%2C%2034.415147%5D%2C%20%5B-99.698843%2C%2034.382285%5D%2C%20%5B-99.923398%2C%2034.573978%5D%2C%20%5B-100.000075%2C%2034.563024%5D%2C%20%5B-100.000075%2C%2036.501861%5D%2C%20%5B-101.812942%2C%2036.501861%5D%2C%20%5B-103.001438%2C%2036.501861%5D%2C%20%5B-103.001438%2C%2037.000263%5D%2C%20%5B-102.042974%2C%2036.994786%5D%2C%20%5B-100.087706%2C%2037.000263%5D%5D%5D%2C%20%22type%22%3A%20%22Polygon%22%7D%2C%20%22id%22%3A%20%22OK%22%2C%20%22properties%22%3A%20%7B%22name%22%3A%20%22Oklahoma%22%7D%2C%20%22type%22%3A%20%22Feature%22%7D%2C%20%7B%22geometry%22%3A%20%7B%22coordinates%22%3A%20%5B%5B%5B-123.211348%2C%2046.174138%5D%2C%20%5B-123.11824%2C%2046.185092%5D%2C%20%5B-122.904639%2C%2046.08103%5D%2C%20%5B-122.811531%2C%2045.960537%5D%2C%20%5B-122.762239%2C%2045.659305%5D%2C%20%5B-122.247407%2C%2045.549767%5D%2C%20%5B-121.809251%2C%2045.708598%5D%2C%20%5B-121.535404%2C%2045.725029%5D%2C%20%5B-121.217742%2C%2045.670259%5D%2C%20%5B-121.18488%2C%2045.604536%5D%2C%20%5B-120.637186%2C%2045.746937%5D%2C%20%5B-120.505739%2C%2045.697644%5D%2C%20%5B-120.209985%2C%2045.725029%5D%2C%20%5B-119.963522%2C%2045.823614%5D%2C%20%5B-119.525367%2C%2045.911245%5D%2C%20%5B-119.125551%2C%2045.933153%5D%2C%20%5B-118.988627%2C%2045.998876%5D%2C%20%5B-116.918344%2C%2045.993399%5D%2C%20%5B-116.78142%2C%2045.823614%5D%2C%20%5B-116.545912%2C%2045.752413%5D%2C%20%5B-116.463758%2C%2045.61549%5D%2C%20%5B-116.671881%2C%2045.319735%5D%2C%20%5B-116.732128%2C%2045.144473%5D%2C%20%5B-116.847143%2C%2045.02398%5D%2C%20%5B-116.830713%2C%2044.930872%5D%2C%20%5B-116.934774%2C%2044.782995%5D%2C%20%5B-117.038836%2C%2044.750133%5D%2C%20%5B-117.241483%2C%2044.394132%5D%2C%20%5B-117.170283%2C%2044.257209%5D%2C%20%5B-116.97859%2C%2044.240778%5D%2C%20%5B-116.896436%2C%2044.158624%5D%2C%20%5B-117.027882%2C%2043.830007%5D%2C%20%5B-117.027882%2C%2042.000709%5D%2C%20%5B-118.698349%2C%2041.989755%5D%2C%20%5B-120.001861%2C%2041.995232%5D%2C%20%5B-121.037003%2C%2041.995232%5D%2C%20%5B-122.378853%2C%2042.011663%5D%2C%20%5B-123.233256%2C%2042.006186%5D%2C%20%5B-124.213628%2C%2042.000709%5D%2C%20%5B-124.356029%2C%2042.115725%5D%2C%20%5B-124.432706%2C%2042.438865%5D%2C%20%5B-124.416275%2C%2042.663419%5D%2C%20%5B-124.553198%2C%2042.838681%5D%2C%20%5B-124.454613%2C%2043.002989%5D%2C%20%5B-124.383413%2C%2043.271359%5D%2C%20%5B-124.235536%2C%2043.55616%5D%2C%20%5B-124.169813%2C%2043.8081%5D%2C%20%5B-124.060274%2C%2044.657025%5D%2C%20%5B-124.076705%2C%2044.772041%5D%2C%20%5B-123.97812%2C%2045.144473%5D%2C%20%5B-123.939781%2C%2045.659305%5D%2C%20%5B-123.994551%2C%2045.944106%5D%2C%20%5B-123.945258%2C%2046.113892%5D%2C%20%5B-123.545441%2C%2046.261769%5D%2C%20%5B-123.370179%2C%2046.146753%5D%2C%20%5B-123.211348%2C%2046.174138%5D%5D%5D%2C%20%22type%22%3A%20%22Polygon%22%7D%2C%20%22id%22%3A%20%22OR%22%2C%20%22properties%22%3A%20%7B%22name%22%3A%20%22Oregon%22%7D%2C%20%22type%22%3A%20%22Feature%22%7D%2C%20%7B%22geometry%22%3A%20%7B%22coordinates%22%3A%20%5B%5B%5B-79.76278%2C%2042.252649%5D%2C%20%5B-79.76278%2C%2042.000709%5D%2C%20%5B-75.35932%2C%2042.000709%5D%2C%20%5B-75.249781%2C%2041.863786%5D%2C%20%5B-75.173104%2C%2041.869263%5D%2C%20%5B-75.052611%2C%2041.754247%5D%2C%20%5B-75.074519%2C%2041.60637%5D%2C%20%5B-74.89378%2C%2041.436584%5D%2C%20%5B-74.740426%2C%2041.431108%5D%2C%20%5B-74.69661%2C%2041.359907%5D%2C%20%5B-74.828057%2C%2041.288707%5D%2C%20%5B-74.882826%2C%2041.179168%5D%2C%20%5B-75.134765%2C%2040.971045%5D%2C%20%5B-75.052611%2C%2040.866983%5D%2C%20%5B-75.205966%2C%2040.691721%5D%2C%20%5B-75.195012%2C%2040.576705%5D%2C%20%5B-75.069042%2C%2040.543843%5D%2C%20%5B-75.058088%2C%2040.417874%5D%2C%20%5B-74.773287%2C%2040.215227%5D%2C%20%5B-74.82258%2C%2040.127596%5D%2C%20%5B-75.129289%2C%2039.963288%5D%2C%20%5B-75.145719%2C%2039.88661%5D%2C%20%5B-75.414089%2C%2039.804456%5D%2C%20%5B-75.616736%2C%2039.831841%5D%2C%20%5B-75.786521%2C%2039.722302%5D%2C%20%5B-79.477979%2C%2039.722302%5D%2C%20%5B-80.518598%2C%2039.722302%5D%2C%20%5B-80.518598%2C%2040.636951%5D%2C%20%5B-80.518598%2C%2041.978802%5D%2C%20%5B-80.518598%2C%2041.978802%5D%2C%20%5B-80.332382%2C%2042.033571%5D%2C%20%5B-79.76278%2C%2042.269079%5D%2C%20%5B-79.76278%2C%2042.252649%5D%5D%5D%2C%20%22type%22%3A%20%22Polygon%22%7D%2C%20%22id%22%3A%20%22PA%22%2C%20%22properties%22%3A%20%7B%22name%22%3A%20%22Pennsylvania%22%7D%2C%20%22type%22%3A%20%22Feature%22%7D%2C%20%7B%22geometry%22%3A%20%7B%22coordinates%22%3A%20%5B%5B%5B%5B-71.196845%2C%2041.67757%5D%2C%20%5B-71.120168%2C%2041.496831%5D%2C%20%5B-71.317338%2C%2041.474923%5D%2C%20%5B-71.196845%2C%2041.67757%5D%5D%5D%2C%20%5B%5B%5B-71.530939%2C%2042.01714%5D%2C%20%5B-71.383061%2C%2042.01714%5D%2C%20%5B-71.328292%2C%2041.781632%5D%2C%20%5B-71.22423%2C%2041.710431%5D%2C%20%5B-71.344723%2C%2041.726862%5D%2C%20%5B-71.448785%2C%2041.578985%5D%2C%20%5B-71.481646%2C%2041.370861%5D%2C%20%5B-71.859555%2C%2041.321569%5D%2C%20%5B-71.799309%2C%2041.414677%5D%2C%20%5B-71.799309%2C%2042.006186%5D%2C%20%5B-71.530939%2C%2042.01714%5D%5D%5D%5D%2C%20%22type%22%3A%20%22MultiPolygon%22%7D%2C%20%22id%22%3A%20%22RI%22%2C%20%22properties%22%3A%20%7B%22name%22%3A%20%22Rhode%20Island%22%7D%2C%20%22type%22%3A%20%22Feature%22%7D%2C%20%7B%22geometry%22%3A%20%7B%22coordinates%22%3A%20%5B%5B%5B-82.764143%2C%2035.066903%5D%2C%20%5B-82.550543%2C%2035.160011%5D%2C%20%5B-82.276696%2C%2035.198349%5D%2C%20%5B-81.044384%2C%2035.149057%5D%2C%20%5B-81.038907%2C%2035.044995%5D%2C%20%5B-80.934845%2C%2035.105241%5D%2C%20%5B-80.781491%2C%2034.935456%5D%2C%20%5B-80.797922%2C%2034.820441%5D%2C%20%5B-79.675149%2C%2034.80401%5D%2C%20%5B-78.541422%2C%2033.851022%5D%2C%20%5B-78.716684%2C%2033.80173%5D%2C%20%5B-78.935762%2C%2033.637421%5D%2C%20%5B-79.149363%2C%2033.380005%5D%2C%20%5B-79.187701%2C%2033.171881%5D%2C%20%5B-79.357487%2C%2033.007573%5D%2C%20%5B-79.582041%2C%2033.007573%5D%2C%20%5B-79.631334%2C%2032.887081%5D%2C%20%5B-79.866842%2C%2032.755634%5D%2C%20%5B-79.998289%2C%2032.613234%5D%2C%20%5B-80.206412%2C%2032.552987%5D%2C%20%5B-80.430967%2C%2032.399633%5D%2C%20%5B-80.452875%2C%2032.328433%5D%2C%20%5B-80.660998%2C%2032.246279%5D%2C%20%5B-80.885553%2C%2032.032678%5D%2C%20%5B-81.115584%2C%2032.120309%5D%2C%20%5B-81.121061%2C%2032.290094%5D%2C%20%5B-81.279893%2C%2032.558464%5D%2C%20%5B-81.416816%2C%2032.629664%5D%2C%20%5B-81.42777%2C%2032.843265%5D%2C%20%5B-81.493493%2C%2033.007573%5D%2C%20%5B-81.761863%2C%2033.160928%5D%2C%20%5B-81.937125%2C%2033.347144%5D%2C%20%5B-81.926172%2C%2033.462159%5D%2C%20%5B-82.194542%2C%2033.631944%5D%2C%20%5B-82.325988%2C%2033.81816%5D%2C%20%5B-82.55602%2C%2033.94413%5D%2C%20%5B-82.714851%2C%2034.152254%5D%2C%20%5B-82.747713%2C%2034.26727%5D%2C%20%5B-82.901067%2C%2034.486347%5D%2C%20%5B-83.005129%2C%2034.469916%5D%2C%20%5B-83.339222%2C%2034.683517%5D%2C%20%5B-83.322791%2C%2034.787579%5D%2C%20%5B-83.109191%2C%2035.00118%5D%2C%20%5B-82.764143%2C%2035.066903%5D%5D%5D%2C%20%22type%22%3A%20%22Polygon%22%7D%2C%20%22id%22%3A%20%22SC%22%2C%20%22properties%22%3A%20%7B%22name%22%3A%20%22South%20Carolina%22%7D%2C%20%22type%22%3A%20%22Feature%22%7D%2C%20%7B%22geometry%22%3A%20%7B%22coordinates%22%3A%20%5B%5B%5B-104.047534%2C%2045.944106%5D%2C%20%5B-96.560556%2C%2045.933153%5D%2C%20%5B-96.582464%2C%2045.818137%5D%2C%20%5B-96.856311%2C%2045.604536%5D%2C%20%5B-96.681049%2C%2045.412843%5D%2C%20%5B-96.451017%2C%2045.297827%5D%2C%20%5B-96.451017%2C%2043.501391%5D%2C%20%5B-96.582464%2C%2043.479483%5D%2C%20%5B-96.527695%2C%2043.397329%5D%2C%20%5B-96.560556%2C%2043.222067%5D%2C%20%5B-96.434587%2C%2043.123482%5D%2C%20%5B-96.511264%2C%2043.052282%5D%2C%20%5B-96.544125%2C%2042.855112%5D%2C%20%5B-96.631756%2C%2042.707235%5D%2C%20%5B-96.44554%2C%2042.488157%5D%2C%20%5B-96.626279%2C%2042.515542%5D%2C%20%5B-96.692003%2C%2042.657942%5D%2C%20%5B-97.217789%2C%2042.844158%5D%2C%20%5B-97.688806%2C%2042.844158%5D%2C%20%5B-97.831206%2C%2042.866066%5D%2C%20%5B-97.951699%2C%2042.767481%5D%2C%20%5B-98.466531%2C%2042.94822%5D%2C%20%5B-98.499393%2C%2042.997512%5D%2C%20%5B-101.626726%2C%2042.997512%5D%2C%20%5B-103.324578%2C%2043.002989%5D%2C%20%5B-104.053011%2C%2043.002989%5D%2C%20%5B-104.058488%2C%2044.996596%5D%2C%20%5B-104.042057%2C%2044.996596%5D%2C%20%5B-104.047534%2C%2045.944106%5D%5D%5D%2C%20%22type%22%3A%20%22Polygon%22%7D%2C%20%22id%22%3A%20%22SD%22%2C%20%22properties%22%3A%20%7B%22name%22%3A%20%22South%20Dakota%22%7D%2C%20%22type%22%3A%20%22Feature%22%7D%2C%20%7B%22geometry%22%3A%20%7B%22coordinates%22%3A%20%5B%5B%5B-88.054868%2C%2036.496384%5D%2C%20%5B-88.071299%2C%2036.677123%5D%2C%20%5B-87.852221%2C%2036.633308%5D%2C%20%5B-86.592525%2C%2036.655216%5D%2C%20%5B-85.486183%2C%2036.616877%5D%2C%20%5B-85.289013%2C%2036.627831%5D%2C%20%5B-84.544149%2C%2036.594969%5D%2C%20%5B-83.689746%2C%2036.584015%5D%2C%20%5B-83.673316%2C%2036.600446%5D%2C%20%5B-81.679709%2C%2036.589492%5D%2C%20%5B-81.723525%2C%2036.353984%5D%2C%20%5B-81.909741%2C%2036.304691%5D%2C%20%5B-82.03571%2C%2036.118475%5D%2C%20%5B-82.216449%2C%2036.156814%5D%2C%20%5B-82.610789%2C%2035.965121%5D%2C%20%5B-82.638174%2C%2036.063706%5D%2C%20%5B-82.775097%2C%2035.997983%5D%2C%20%5B-82.994175%2C%2035.773428%5D%2C%20%5B-83.251591%2C%2035.718659%5D%2C%20%5B-83.498053%2C%2035.565304%5D%2C%20%5B-83.7719%2C%2035.559827%5D%2C%20%5B-84.018363%2C%2035.41195%5D%2C%20%5B-84.09504%2C%2035.247642%5D%2C%20%5B-84.29221%2C%2035.225734%5D%2C%20%5B-84.319594%2C%2034.990226%5D%2C%20%5B-85.606675%2C%2034.984749%5D%2C%20%5B-87.359296%2C%2035.00118%5D%2C%20%5B-88.202745%2C%2034.995703%5D%2C%20%5B-88.471115%2C%2034.995703%5D%2C%20%5B-90.311367%2C%2034.995703%5D%2C%20%5B-90.212782%2C%2035.023087%5D%2C%20%5B-90.114197%2C%2035.198349%5D%2C%20%5B-90.130628%2C%2035.439335%5D%2C%20%5B-89.944412%2C%2035.603643%5D%2C%20%5B-89.911551%2C%2035.756997%5D%2C%20%5B-89.763673%2C%2035.811767%5D%2C%20%5B-89.730812%2C%2035.997983%5D%2C%20%5B-89.533642%2C%2036.249922%5D%2C%20%5B-89.539119%2C%2036.496384%5D%2C%20%5B-89.484349%2C%2036.496384%5D%2C%20%5B-89.418626%2C%2036.496384%5D%2C%20%5B-89.298133%2C%2036.507338%5D%2C%20%5B-88.054868%2C%2036.496384%5D%5D%5D%2C%20%22type%22%3A%20%22Polygon%22%7D%2C%20%22id%22%3A%20%22TN%22%2C%20%22properties%22%3A%20%7B%22name%22%3A%20%22Tennessee%22%7D%2C%20%22type%22%3A%20%22Feature%22%7D%2C%20%7B%22geometry%22%3A%20%7B%22coordinates%22%3A%20%5B%5B%5B-101.812942%2C%2036.501861%5D%2C%20%5B-100.000075%2C%2036.501861%5D%2C%20%5B-100.000075%2C%2034.563024%5D%2C%20%5B-99.923398%2C%2034.573978%5D%2C%20%5B-99.698843%2C%2034.382285%5D%2C%20%5B-99.57835%2C%2034.415147%5D%2C%20%5B-99.260688%2C%2034.404193%5D%2C%20%5B-99.189488%2C%2034.2125%5D%2C%20%5B-98.986841%2C%2034.223454%5D%2C%20%5B-98.767763%2C%2034.135823%5D%2C%20%5B-98.570593%2C%2034.146777%5D%2C%20%5B-98.488439%2C%2034.064623%5D%2C%20%5B-98.36247%2C%2034.157731%5D%2C%20%5B-98.170777%2C%2034.113915%5D%2C%20%5B-98.088623%2C%2034.004376%5D%2C%20%5B-97.946222%2C%2033.987946%5D%2C%20%5B-97.869545%2C%2033.851022%5D%2C%20%5B-97.694283%2C%2033.982469%5D%2C%20%5B-97.458774%2C%2033.905791%5D%2C%20%5B-97.371143%2C%2033.823637%5D%2C%20%5B-97.256128%2C%2033.861976%5D%2C%20%5B-97.173974%2C%2033.736006%5D%2C%20%5B-96.922034%2C%2033.960561%5D%2C%20%5B-96.850834%2C%2033.845545%5D%2C%20%5B-96.631756%2C%2033.845545%5D%2C%20%5B-96.423633%2C%2033.774345%5D%2C%20%5B-96.346956%2C%2033.686714%5D%2C%20%5B-96.149786%2C%2033.840068%5D%2C%20%5B-95.936185%2C%2033.889361%5D%2C%20%5B-95.8376%2C%2033.834591%5D%2C%20%5B-95.602092%2C%2033.933176%5D%2C%20%5B-95.547322%2C%2033.878407%5D%2C%20%5B-95.289906%2C%2033.87293%5D%2C%20%5B-95.224183%2C%2033.960561%5D%2C%20%5B-94.966767%2C%2033.861976%5D%2C%20%5B-94.868182%2C%2033.74696%5D%2C%20%5B-94.484796%2C%2033.637421%5D%2C%20%5B-94.380734%2C%2033.544313%5D%2C%20%5B-94.183564%2C%2033.593606%5D%2C%20%5B-94.041164%2C%2033.54979%5D%2C%20%5B-94.041164%2C%2033.018527%5D%2C%20%5B-94.041164%2C%2031.994339%5D%2C%20%5B-93.822086%2C%2031.775262%5D%2C%20%5B-93.816609%2C%2031.556184%5D%2C%20%5B-93.542762%2C%2031.15089%5D%2C%20%5B-93.526331%2C%2030.93729%5D%2C%20%5B-93.630393%2C%2030.679874%5D%2C%20%5B-93.728978%2C%2030.575812%5D%2C%20%5B-93.696116%2C%2030.438888%5D%2C%20%5B-93.767317%2C%2030.334826%5D%2C%20%5B-93.690639%2C%2030.143133%5D%2C%20%5B-93.926148%2C%2029.787132%5D%2C%20%5B-93.838517%2C%2029.688547%5D%2C%20%5B-94.002825%2C%2029.68307%5D%2C%20%5B-94.523134%2C%2029.546147%5D%2C%20%5B-94.70935%2C%2029.622824%5D%2C%20%5B-94.742212%2C%2029.787132%5D%2C%20%5B-94.873659%2C%2029.672117%5D%2C%20%5B-94.966767%2C%2029.699501%5D%2C%20%5B-95.016059%2C%2029.557101%5D%2C%20%5B-94.911997%2C%2029.496854%5D%2C%20%5B-94.895566%2C%2029.310638%5D%2C%20%5B-95.081782%2C%2029.113469%5D%2C%20%5B-95.383014%2C%2028.867006%5D%2C%20%5B-95.985477%2C%2028.604113%5D%2C%20%5B-96.045724%2C%2028.647929%5D%2C%20%5B-96.226463%2C%2028.582205%5D%2C%20%5B-96.23194%2C%2028.642452%5D%2C%20%5B-96.478402%2C%2028.598636%5D%2C%20%5B-96.593418%2C%2028.724606%5D%2C%20%5B-96.664618%2C%2028.697221%5D%2C%20%5B-96.401725%2C%2028.439805%5D%2C%20%5B-96.593418%2C%2028.357651%5D%2C%20%5B-96.774157%2C%2028.406943%5D%2C%20%5B-96.801542%2C%2028.226204%5D%2C%20%5B-97.026096%2C%2028.039988%5D%2C%20%5B-97.256128%2C%2027.694941%5D%2C%20%5B-97.404005%2C%2027.333463%5D%2C%20%5B-97.513544%2C%2027.360848%5D%2C%20%5B-97.540929%2C%2027.229401%5D%2C%20%5B-97.425913%2C%2027.262263%5D%2C%20%5B-97.480682%2C%2026.99937%5D%2C%20%5B-97.557359%2C%2026.988416%5D%2C%20%5B-97.562836%2C%2026.840538%5D%2C%20%5B-97.469728%2C%2026.758384%5D%2C%20%5B-97.442344%2C%2026.457153%5D%2C%20%5B-97.332805%2C%2026.353091%5D%2C%20%5B-97.30542%2C%2026.161398%5D%2C%20%5B-97.217789%2C%2025.991613%5D%2C%20%5B-97.524498%2C%2025.887551%5D%2C%20%5B-97.650467%2C%2026.018997%5D%2C%20%5B-97.885976%2C%2026.06829%5D%2C%20%5B-98.198161%2C%2026.057336%5D%2C%20%5B-98.466531%2C%2026.221644%5D%2C%20%5B-98.669178%2C%2026.238075%5D%2C%20%5B-98.822533%2C%2026.369522%5D%2C%20%5B-99.030656%2C%2026.413337%5D%2C%20%5B-99.173057%2C%2026.539307%5D%2C%20%5B-99.266165%2C%2026.840538%5D%2C%20%5B-99.446904%2C%2027.021277%5D%2C%20%5B-99.424996%2C%2027.174632%5D%2C%20%5B-99.50715%2C%2027.33894%5D%2C%20%5B-99.479765%2C%2027.48134%5D%2C%20%5B-99.605735%2C%2027.640172%5D%2C%20%5B-99.709797%2C%2027.656603%5D%2C%20%5B-99.879582%2C%2027.799003%5D%2C%20%5B-99.934351%2C%2027.979742%5D%2C%20%5B-100.082229%2C%2028.14405%5D%2C%20%5B-100.29583%2C%2028.280974%5D%2C%20%5B-100.399891%2C%2028.582205%5D%2C%20%5B-100.498476%2C%2028.66436%5D%2C%20%5B-100.629923%2C%2028.905345%5D%2C%20%5B-100.673738%2C%2029.102515%5D%2C%20%5B-100.799708%2C%2029.244915%5D%2C%20%5B-101.013309%2C%2029.370885%5D%2C%20%5B-101.062601%2C%2029.458516%5D%2C%20%5B-101.259771%2C%2029.535193%5D%2C%20%5B-101.413125%2C%2029.754271%5D%2C%20%5B-101.851281%2C%2029.803563%5D%2C%20%5B-102.114174%2C%2029.792609%5D%2C%20%5B-102.338728%2C%2029.869286%5D%2C%20%5B-102.388021%2C%2029.765225%5D%2C%20%5B-102.629006%2C%2029.732363%5D%2C%20%5B-102.809745%2C%2029.524239%5D%2C%20%5B-102.919284%2C%2029.190146%5D%2C%20%5B-102.97953%2C%2029.184669%5D%2C%20%5B-103.116454%2C%2028.987499%5D%2C%20%5B-103.280762%2C%2028.982022%5D%2C%20%5B-103.527224%2C%2029.135376%5D%2C%20%5B-104.146119%2C%2029.381839%5D%2C%20%5B-104.266611%2C%2029.513285%5D%2C%20%5B-104.507597%2C%2029.639255%5D%2C%20%5B-104.677382%2C%2029.924056%5D%2C%20%5B-104.688336%2C%2030.181472%5D%2C%20%5B-104.858121%2C%2030.389596%5D%2C%20%5B-104.896459%2C%2030.570335%5D%2C%20%5B-105.005998%2C%2030.685351%5D%2C%20%5B-105.394861%2C%2030.855136%5D%2C%20%5B-105.602985%2C%2031.085167%5D%2C%20%5B-105.77277%2C%2031.167321%5D%2C%20%5B-105.953509%2C%2031.364491%5D%2C%20%5B-106.205448%2C%2031.468553%5D%2C%20%5B-106.38071%2C%2031.731446%5D%2C%20%5B-106.528588%2C%2031.786216%5D%2C%20%5B-106.643603%2C%2031.901231%5D%2C%20%5B-106.616219%2C%2031.999816%5D%2C%20%5B-103.067161%2C%2031.999816%5D%2C%20%5B-103.067161%2C%2033.002096%5D%2C%20%5B-103.045254%2C%2034.01533%5D%2C%20%5B-103.039777%2C%2036.501861%5D%2C%20%5B-103.001438%2C%2036.501861%5D%2C%20%5B-101.812942%2C%2036.501861%5D%5D%5D%2C%20%22type%22%3A%20%22Polygon%22%7D%2C%20%22id%22%3A%20%22TX%22%2C%20%22properties%22%3A%20%7B%22name%22%3A%20%22Texas%22%7D%2C%20%22type%22%3A%20%22Feature%22%7D%2C%20%7B%22geometry%22%3A%20%7B%22coordinates%22%3A%20%5B%5B%5B-112.164359%2C%2041.995232%5D%2C%20%5B-111.047063%2C%2042.000709%5D%2C%20%5B-111.047063%2C%2040.998429%5D%2C%20%5B-109.04798%2C%2040.998429%5D%2C%20%5B-109.053457%2C%2039.125316%5D%2C%20%5B-109.058934%2C%2038.27639%5D%2C%20%5B-109.042503%2C%2038.166851%5D%2C%20%5B-109.042503%2C%2037.000263%5D%2C%20%5B-110.499369%2C%2037.00574%5D%2C%20%5B-114.048427%2C%2037.000263%5D%2C%20%5B-114.04295%2C%2041.995232%5D%2C%20%5B-112.164359%2C%2041.995232%5D%5D%5D%2C%20%22type%22%3A%20%22Polygon%22%7D%2C%20%22id%22%3A%20%22UT%22%2C%20%22properties%22%3A%20%7B%22name%22%3A%20%22Utah%22%7D%2C%20%22type%22%3A%20%22Feature%22%7D%2C%20%7B%22geometry%22%3A%20%7B%22coordinates%22%3A%20%5B%5B%5B-71.503554%2C%2045.013027%5D%2C%20%5B-71.4926%2C%2044.914442%5D%2C%20%5B-71.629524%2C%2044.750133%5D%2C%20%5B-71.536416%2C%2044.585825%5D%2C%20%5B-71.700724%2C%2044.41604%5D%2C%20%5B-72.034817%2C%2044.322932%5D%2C%20%5B-72.02934%2C%2044.07647%5D%2C%20%5B-72.116971%2C%2043.994316%5D%2C%20%5B-72.204602%2C%2043.769761%5D%2C%20%5B-72.379864%2C%2043.572591%5D%2C%20%5B-72.456542%2C%2043.150867%5D%2C%20%5B-72.445588%2C%2043.008466%5D%2C%20%5B-72.533219%2C%2042.953697%5D%2C%20%5B-72.544173%2C%2042.80582%5D%2C%20%5B-72.456542%2C%2042.729142%5D%2C%20%5B-73.267129%2C%2042.745573%5D%2C%20%5B-73.278083%2C%2042.833204%5D%2C%20%5B-73.245221%2C%2043.523299%5D%2C%20%5B-73.404052%2C%2043.687607%5D%2C%20%5B-73.349283%2C%2043.769761%5D%2C%20%5B-73.436914%2C%2044.043608%5D%2C%20%5B-73.321898%2C%2044.246255%5D%2C%20%5B-73.294514%2C%2044.437948%5D%2C%20%5B-73.387622%2C%2044.618687%5D%2C%20%5B-73.332852%2C%2044.804903%5D%2C%20%5B-73.343806%2C%2045.013027%5D%2C%20%5B-72.308664%2C%2045.002073%5D%2C%20%5B-71.503554%2C%2045.013027%5D%5D%5D%2C%20%22type%22%3A%20%22Polygon%22%7D%2C%20%22id%22%3A%20%22VT%22%2C%20%22properties%22%3A%20%7B%22name%22%3A%20%22Vermont%22%7D%2C%20%22type%22%3A%20%22Feature%22%7D%2C%20%7B%22geometry%22%3A%20%7B%22coordinates%22%3A%20%5B%5B%5B%5B-75.397659%2C%2038.013497%5D%2C%20%5B-75.244304%2C%2038.029928%5D%2C%20%5B-75.375751%2C%2037.860142%5D%2C%20%5B-75.512674%2C%2037.799896%5D%2C%20%5B-75.594828%2C%2037.569865%5D%2C%20%5B-75.802952%2C%2037.197433%5D%2C%20%5B-75.972737%2C%2037.120755%5D%2C%20%5B-76.027507%2C%2037.257679%5D%2C%20%5B-75.939876%2C%2037.564388%5D%2C%20%5B-75.671506%2C%2037.95325%5D%2C%20%5B-75.397659%2C%2038.013497%5D%5D%5D%2C%20%5B%5B%5B-76.016553%2C%2037.95325%5D%2C%20%5B-75.994645%2C%2037.95325%5D%2C%20%5B-76.043938%2C%2037.95325%5D%2C%20%5B-76.016553%2C%2037.95325%5D%5D%5D%2C%20%5B%5B%5B-78.349729%2C%2039.464886%5D%2C%20%5B-77.82942%2C%2039.130793%5D%2C%20%5B-77.719881%2C%2039.322485%5D%2C%20%5B-77.566527%2C%2039.306055%5D%2C%20%5B-77.456988%2C%2039.223901%5D%2C%20%5B-77.456988%2C%2039.076023%5D%2C%20%5B-77.248864%2C%2039.026731%5D%2C%20%5B-77.117418%2C%2038.933623%5D%2C%20%5B-77.040741%2C%2038.791222%5D%2C%20%5B-77.128372%2C%2038.632391%5D%2C%20%5B-77.248864%2C%2038.588575%5D%2C%20%5B-77.325542%2C%2038.446175%5D%2C%20%5B-77.281726%2C%2038.342113%5D%2C%20%5B-77.013356%2C%2038.374975%5D%2C%20%5B-76.964064%2C%2038.216144%5D%2C%20%5B-76.613539%2C%2038.15042%5D%2C%20%5B-76.514954%2C%2038.024451%5D%2C%20%5B-76.235631%2C%2037.887527%5D%2C%20%5B-76.3616%2C%2037.608203%5D%2C%20%5B-76.246584%2C%2037.389126%5D%2C%20%5B-76.383508%2C%2037.285064%5D%2C%20%5B-76.399939%2C%2037.159094%5D%2C%20%5B-76.273969%2C%2037.082417%5D%2C%20%5B-76.410893%2C%2036.961924%5D%2C%20%5B-76.619016%2C%2037.120755%5D%2C%20%5B-76.668309%2C%2037.065986%5D%2C%20%5B-76.48757%2C%2036.95097%5D%2C%20%5B-75.994645%2C%2036.923586%5D%2C%20%5B-75.868676%2C%2036.551154%5D%2C%20%5B-79.510841%2C%2036.5402%5D%2C%20%5B-80.294043%2C%2036.545677%5D%2C%20%5B-80.978661%2C%2036.562108%5D%2C%20%5B-81.679709%2C%2036.589492%5D%2C%20%5B-83.673316%2C%2036.600446%5D%2C%20%5B-83.136575%2C%2036.742847%5D%2C%20%5B-83.070852%2C%2036.852385%5D%2C%20%5B-82.879159%2C%2036.890724%5D%2C%20%5B-82.868205%2C%2036.978355%5D%2C%20%5B-82.720328%2C%2037.044078%5D%2C%20%5B-82.720328%2C%2037.120755%5D%2C%20%5B-82.353373%2C%2037.268633%5D%2C%20%5B-81.969987%2C%2037.537003%5D%2C%20%5B-81.986418%2C%2037.454849%5D%2C%20%5B-81.849494%2C%2037.285064%5D%2C%20%5B-81.679709%2C%2037.20291%5D%2C%20%5B-81.55374%2C%2037.208387%5D%2C%20%5B-81.362047%2C%2037.339833%5D%2C%20%5B-81.225123%2C%2037.235771%5D%2C%20%5B-80.967707%2C%2037.290541%5D%2C%20%5B-80.513121%2C%2037.482234%5D%2C%20%5B-80.474782%2C%2037.421987%5D%2C%20%5B-80.29952%2C%2037.509618%5D%2C%20%5B-80.294043%2C%2037.690357%5D%2C%20%5B-80.184505%2C%2037.849189%5D%2C%20%5B-79.998289%2C%2037.997066%5D%2C%20%5B-79.921611%2C%2038.177805%5D%2C%20%5B-79.724442%2C%2038.364021%5D%2C%20%5B-79.647764%2C%2038.594052%5D%2C%20%5B-79.477979%2C%2038.457129%5D%2C%20%5B-79.313671%2C%2038.413313%5D%2C%20%5B-79.209609%2C%2038.495467%5D%2C%20%5B-78.996008%2C%2038.851469%5D%2C%20%5B-78.870039%2C%2038.763838%5D%2C%20%5B-78.404499%2C%2039.169131%5D%2C%20%5B-78.349729%2C%2039.464886%5D%5D%5D%5D%2C%20%22type%22%3A%20%22MultiPolygon%22%7D%2C%20%22id%22%3A%20%22VA%22%2C%20%22properties%22%3A%20%7B%22name%22%3A%20%22Virginia%22%7D%2C%20%22type%22%3A%20%22Feature%22%7D%2C%20%7B%22geometry%22%3A%20%7B%22coordinates%22%3A%20%5B%5B%5B%5B-117.033359%2C%2049.000239%5D%2C%20%5B-117.044313%2C%2047.762451%5D%2C%20%5B-117.038836%2C%2046.426077%5D%2C%20%5B-117.055267%2C%2046.343923%5D%2C%20%5B-116.92382%2C%2046.168661%5D%2C%20%5B-116.918344%2C%2045.993399%5D%2C%20%5B-118.988627%2C%2045.998876%5D%2C%20%5B-119.125551%2C%2045.933153%5D%2C%20%5B-119.525367%2C%2045.911245%5D%2C%20%5B-119.963522%2C%2045.823614%5D%2C%20%5B-120.209985%2C%2045.725029%5D%2C%20%5B-120.505739%2C%2045.697644%5D%2C%20%5B-120.637186%2C%2045.746937%5D%2C%20%5B-121.18488%2C%2045.604536%5D%2C%20%5B-121.217742%2C%2045.670259%5D%2C%20%5B-121.535404%2C%2045.725029%5D%2C%20%5B-121.809251%2C%2045.708598%5D%2C%20%5B-122.247407%2C%2045.549767%5D%2C%20%5B-122.762239%2C%2045.659305%5D%2C%20%5B-122.811531%2C%2045.960537%5D%2C%20%5B-122.904639%2C%2046.08103%5D%2C%20%5B-123.11824%2C%2046.185092%5D%2C%20%5B-123.211348%2C%2046.174138%5D%2C%20%5B-123.370179%2C%2046.146753%5D%2C%20%5B-123.545441%2C%2046.261769%5D%2C%20%5B-123.72618%2C%2046.300108%5D%2C%20%5B-123.874058%2C%2046.239861%5D%2C%20%5B-124.065751%2C%2046.327492%5D%2C%20%5B-124.027412%2C%2046.464416%5D%2C%20%5B-123.895966%2C%2046.535616%5D%2C%20%5B-124.098612%2C%2046.74374%5D%2C%20%5B-124.235536%2C%2047.285957%5D%2C%20%5B-124.31769%2C%2047.357157%5D%2C%20%5B-124.427229%2C%2047.740543%5D%2C%20%5B-124.624399%2C%2047.88842%5D%2C%20%5B-124.706553%2C%2048.184175%5D%2C%20%5B-124.597014%2C%2048.381345%5D%2C%20%5B-124.394367%2C%2048.288237%5D%2C%20%5B-123.983597%2C%2048.162267%5D%2C%20%5B-123.704273%2C%2048.167744%5D%2C%20%5B-123.424949%2C%2048.118452%5D%2C%20%5B-123.162056%2C%2048.167744%5D%2C%20%5B-123.036086%2C%2048.080113%5D%2C%20%5B-122.800578%2C%2048.08559%5D%2C%20%5B-122.636269%2C%2047.866512%5D%2C%20%5B-122.515777%2C%2047.882943%5D%2C%20%5B-122.493869%2C%2047.587189%5D%2C%20%5B-122.422669%2C%2047.318818%5D%2C%20%5B-122.324084%2C%2047.346203%5D%2C%20%5B-122.422669%2C%2047.576235%5D%2C%20%5B-122.395284%2C%2047.800789%5D%2C%20%5B-122.230976%2C%2048.030821%5D%2C%20%5B-122.362422%2C%2048.123929%5D%2C%20%5B-122.373376%2C%2048.288237%5D%2C%20%5B-122.471961%2C%2048.468976%5D%2C%20%5B-122.422669%2C%2048.600422%5D%2C%20%5B-122.488392%2C%2048.753777%5D%2C%20%5B-122.647223%2C%2048.775685%5D%2C%20%5B-122.795101%2C%2048.8907%5D%2C%20%5B-122.756762%2C%2049.000239%5D%2C%20%5B-117.033359%2C%2049.000239%5D%5D%5D%2C%20%5B%5B%5B-122.718423%2C%2048.310145%5D%2C%20%5B-122.586977%2C%2048.35396%5D%2C%20%5B-122.608885%2C%2048.151313%5D%2C%20%5B-122.767716%2C%2048.227991%5D%2C%20%5B-122.718423%2C%2048.310145%5D%5D%5D%2C%20%5B%5B%5B-123.025132%2C%2048.583992%5D%2C%20%5B-122.915593%2C%2048.715438%5D%2C%20%5B-122.767716%2C%2048.556607%5D%2C%20%5B-122.811531%2C%2048.419683%5D%2C%20%5B-123.041563%2C%2048.458022%5D%2C%20%5B-123.025132%2C%2048.583992%5D%5D%5D%5D%2C%20%22type%22%3A%20%22MultiPolygon%22%7D%2C%20%22id%22%3A%20%22WA%22%2C%20%22properties%22%3A%20%7B%22name%22%3A%20%22Washington%22%7D%2C%20%22type%22%3A%20%22Feature%22%7D%2C%20%7B%22geometry%22%3A%20%7B%22coordinates%22%3A%20%5B%5B%5B-80.518598%2C%2040.636951%5D%2C%20%5B-80.518598%2C%2039.722302%5D%2C%20%5B-79.477979%2C%2039.722302%5D%2C%20%5B-79.488933%2C%2039.20747%5D%2C%20%5B-79.291763%2C%2039.300578%5D%2C%20%5B-79.094593%2C%2039.470363%5D%2C%20%5B-78.963147%2C%2039.437501%5D%2C%20%5B-78.765977%2C%2039.585379%5D%2C%20%5B-78.470222%2C%2039.514178%5D%2C%20%5B-78.431884%2C%2039.623717%5D%2C%20%5B-78.267575%2C%2039.61824%5D%2C%20%5B-78.174467%2C%2039.694917%5D%2C%20%5B-78.004682%2C%2039.601809%5D%2C%20%5B-77.834897%2C%2039.601809%5D%2C%20%5B-77.719881%2C%2039.322485%5D%2C%20%5B-77.82942%2C%2039.130793%5D%2C%20%5B-78.349729%2C%2039.464886%5D%2C%20%5B-78.404499%2C%2039.169131%5D%2C%20%5B-78.870039%2C%2038.763838%5D%2C%20%5B-78.996008%2C%2038.851469%5D%2C%20%5B-79.209609%2C%2038.495467%5D%2C%20%5B-79.313671%2C%2038.413313%5D%2C%20%5B-79.477979%2C%2038.457129%5D%2C%20%5B-79.647764%2C%2038.594052%5D%2C%20%5B-79.724442%2C%2038.364021%5D%2C%20%5B-79.921611%2C%2038.177805%5D%2C%20%5B-79.998289%2C%2037.997066%5D%2C%20%5B-80.184505%2C%2037.849189%5D%2C%20%5B-80.294043%2C%2037.690357%5D%2C%20%5B-80.29952%2C%2037.509618%5D%2C%20%5B-80.474782%2C%2037.421987%5D%2C%20%5B-80.513121%2C%2037.482234%5D%2C%20%5B-80.967707%2C%2037.290541%5D%2C%20%5B-81.225123%2C%2037.235771%5D%2C%20%5B-81.362047%2C%2037.339833%5D%2C%20%5B-81.55374%2C%2037.208387%5D%2C%20%5B-81.679709%2C%2037.20291%5D%2C%20%5B-81.849494%2C%2037.285064%5D%2C%20%5B-81.986418%2C%2037.454849%5D%2C%20%5B-81.969987%2C%2037.537003%5D%2C%20%5B-82.101434%2C%2037.553434%5D%2C%20%5B-82.293127%2C%2037.668449%5D%2C%20%5B-82.342419%2C%2037.783465%5D%2C%20%5B-82.50125%2C%2037.931343%5D%2C%20%5B-82.621743%2C%2038.123036%5D%2C%20%5B-82.594358%2C%2038.424267%5D%2C%20%5B-82.331465%2C%2038.446175%5D%2C%20%5B-82.293127%2C%2038.577622%5D%2C%20%5B-82.172634%2C%2038.632391%5D%2C%20%5B-82.221926%2C%2038.785745%5D%2C%20%5B-82.03571%2C%2039.026731%5D%2C%20%5B-81.887833%2C%2038.873376%5D%2C%20%5B-81.783771%2C%2038.966484%5D%2C%20%5B-81.811156%2C%2039.0815%5D%2C%20%5B-81.685186%2C%2039.273193%5D%2C%20%5B-81.57017%2C%2039.267716%5D%2C%20%5B-81.455155%2C%2039.410117%5D%2C%20%5B-81.345616%2C%2039.344393%5D%2C%20%5B-81.219646%2C%2039.388209%5D%2C%20%5B-80.830783%2C%2039.711348%5D%2C%20%5B-80.737675%2C%2040.078303%5D%2C%20%5B-80.600752%2C%2040.319289%5D%2C%20%5B-80.595275%2C%2040.472643%5D%2C%20%5B-80.666475%2C%2040.582182%5D%2C%20%5B-80.518598%2C%2040.636951%5D%5D%5D%2C%20%22type%22%3A%20%22Polygon%22%7D%2C%20%22id%22%3A%20%22WV%22%2C%20%22properties%22%3A%20%7B%22name%22%3A%20%22West%20Virginia%22%7D%2C%20%22type%22%3A%20%22Feature%22%7D%2C%20%7B%22geometry%22%3A%20%7B%22coordinates%22%3A%20%5B%5B%5B-90.415429%2C%2046.568478%5D%2C%20%5B-90.229213%2C%2046.508231%5D%2C%20%5B-90.119674%2C%2046.338446%5D%2C%20%5B-89.09001%2C%2046.135799%5D%2C%20%5B-88.662808%2C%2045.987922%5D%2C%20%5B-88.531362%2C%2046.020784%5D%2C%20%5B-88.10416%2C%2045.922199%5D%2C%20%5B-87.989145%2C%2045.796229%5D%2C%20%5B-87.781021%2C%2045.675736%5D%2C%20%5B-87.791975%2C%2045.500474%5D%2C%20%5B-87.885083%2C%2045.363551%5D%2C%20%5B-87.649574%2C%2045.341643%5D%2C%20%5B-87.742682%2C%2045.199243%5D%2C%20%5B-87.589328%2C%2045.095181%5D%2C%20%5B-87.627666%2C%2044.974688%5D%2C%20%5B-87.819359%2C%2044.95278%5D%2C%20%5B-87.983668%2C%2044.722749%5D%2C%20%5B-88.043914%2C%2044.563917%5D%2C%20%5B-87.928898%2C%2044.536533%5D%2C%20%5B-87.775544%2C%2044.640595%5D%2C%20%5B-87.611236%2C%2044.837764%5D%2C%20%5B-87.403112%2C%2044.914442%5D%2C%20%5B-87.238804%2C%2045.166381%5D%2C%20%5B-87.03068%2C%2045.22115%5D%2C%20%5B-87.047111%2C%2045.089704%5D%2C%20%5B-87.189511%2C%2044.969211%5D%2C%20%5B-87.468835%2C%2044.552964%5D%2C%20%5B-87.545512%2C%2044.322932%5D%2C%20%5B-87.540035%2C%2044.158624%5D%2C%20%5B-87.644097%2C%2044.103854%5D%2C%20%5B-87.737205%2C%2043.8793%5D%2C%20%5B-87.704344%2C%2043.687607%5D%2C%20%5B-87.791975%2C%2043.561637%5D%2C%20%5B-87.912467%2C%2043.249452%5D%2C%20%5B-87.885083%2C%2043.002989%5D%2C%20%5B-87.76459%2C%2042.783912%5D%2C%20%5B-87.802929%2C%2042.493634%5D%2C%20%5B-88.788778%2C%2042.493634%5D%2C%20%5B-90.639984%2C%2042.510065%5D%2C%20%5B-90.711184%2C%2042.636034%5D%2C%20%5B-91.067185%2C%2042.75105%5D%2C%20%5B-91.143862%2C%2042.909881%5D%2C%20%5B-91.176724%2C%2043.134436%5D%2C%20%5B-91.056231%2C%2043.254929%5D%2C%20%5B-91.204109%2C%2043.353514%5D%2C%20%5B-91.215062%2C%2043.501391%5D%2C%20%5B-91.269832%2C%2043.616407%5D%2C%20%5B-91.242447%2C%2043.775238%5D%2C%20%5B-91.43414%2C%2043.994316%5D%2C%20%5B-91.592971%2C%2044.032654%5D%2C%20%5B-91.877772%2C%2044.202439%5D%2C%20%5B-91.927065%2C%2044.333886%5D%2C%20%5B-92.233773%2C%2044.443425%5D%2C%20%5B-92.337835%2C%2044.552964%5D%2C%20%5B-92.545959%2C%2044.569394%5D%2C%20%5B-92.808852%2C%2044.750133%5D%2C%20%5B-92.737652%2C%2045.117088%5D%2C%20%5B-92.75956%2C%2045.286874%5D%2C%20%5B-92.644544%2C%2045.440228%5D%2C%20%5B-92.770513%2C%2045.566198%5D%2C%20%5B-92.885529%2C%2045.577151%5D%2C%20%5B-92.869098%2C%2045.719552%5D%2C%20%5B-92.639067%2C%2045.933153%5D%2C%20%5B-92.354266%2C%2046.015307%5D%2C%20%5B-92.29402%2C%2046.075553%5D%2C%20%5B-92.29402%2C%2046.667063%5D%2C%20%5B-92.091373%2C%2046.749217%5D%2C%20%5B-92.014696%2C%2046.705401%5D%2C%20%5B-91.790141%2C%2046.694447%5D%2C%20%5B-91.09457%2C%2046.864232%5D%2C%20%5B-90.837154%2C%2046.95734%5D%2C%20%5B-90.749522%2C%2046.88614%5D%2C%20%5B-90.886446%2C%2046.754694%5D%2C%20%5B-90.55783%2C%2046.584908%5D%2C%20%5B-90.415429%2C%2046.568478%5D%5D%5D%2C%20%22type%22%3A%20%22Polygon%22%7D%2C%20%22id%22%3A%20%22WI%22%2C%20%22properties%22%3A%20%7B%22name%22%3A%20%22Wisconsin%22%7D%2C%20%22type%22%3A%20%22Feature%22%7D%2C%20%7B%22geometry%22%3A%20%7B%22coordinates%22%3A%20%5B%5B%5B-109.080842%2C%2045.002073%5D%2C%20%5B-105.91517%2C%2045.002073%5D%2C%20%5B-104.058488%2C%2044.996596%5D%2C%20%5B-104.053011%2C%2043.002989%5D%2C%20%5B-104.053011%2C%2041.003906%5D%2C%20%5B-105.728954%2C%2040.998429%5D%2C%20%5B-107.919731%2C%2041.003906%5D%2C%20%5B-109.04798%2C%2040.998429%5D%2C%20%5B-111.047063%2C%2040.998429%5D%2C%20%5B-111.047063%2C%2042.000709%5D%2C%20%5B-111.047063%2C%2044.476286%5D%2C%20%5B-111.05254%2C%2045.002073%5D%2C%20%5B-109.080842%2C%2045.002073%5D%5D%5D%2C%20%22type%22%3A%20%22Polygon%22%7D%2C%20%22id%22%3A%20%22WY%22%2C%20%22properties%22%3A%20%7B%22name%22%3A%20%22Wyoming%22%7D%2C%20%22type%22%3A%20%22Feature%22%7D%5D%2C%20%22type%22%3A%20%22FeatureCollection%22%7D%29%3B%0A%0A%20%20%20%20%20%20%20%20%0A%20%20%20%20%0A%20%20%20%20var%20color_map_d2d11c2899a749e1adc5f862cf3aa126%20%3D%20%7B%7D%3B%0A%0A%20%20%20%20%0A%20%20%20%20color_map_d2d11c2899a749e1adc5f862cf3aa126.color%20%3D%20d3.scale.threshold%28%29%0A%20%20%20%20%20%20%20%20%20%20%20%20%20%20.domain%28%5B0.0%2C%200.002004008016032064%2C%200.004008016032064128%2C%200.006012024048096192%2C%200.008016032064128256%2C%200.01002004008016032%2C%200.012024048096192385%2C%200.014028056112224449%2C%200.01603206412825651%2C%200.018036072144288578%2C%200.02004008016032064%2C%200.022044088176352707%2C%200.02404809619238477%2C%200.026052104208416832%2C%200.028056112224448898%2C%200.03006012024048096%2C%200.03206412825651302%2C%200.03406813627254509%2C%200.036072144288577156%2C%200.03807615230460922%2C%200.04008016032064128%2C%200.04208416833667335%2C%200.04408817635270541%2C%200.04609218436873747%2C%200.04809619238476954%2C%200.050100200400801605%2C%200.052104208416833664%2C%200.05410821643286573%2C%200.056112224448897796%2C%200.05811623246492986%2C%200.06012024048096192%2C%200.06212424849699399%2C%200.06412825651302605%2C%200.06613226452905811%2C%200.06813627254509018%2C%200.07014028056112225%2C%200.07214428857715431%2C%200.07414829659318638%2C%200.07615230460921844%2C%200.0781563126252505%2C%200.08016032064128256%2C%200.08216432865731463%2C%200.0841683366733467%2C%200.08617234468937876%2C%200.08817635270541083%2C%200.09018036072144289%2C%200.09218436873747494%2C%200.09418837675350701%2C%200.09619238476953908%2C%200.09819639278557114%2C%200.10020040080160321%2C%200.10220440881763528%2C%200.10420841683366733%2C%200.1062124248496994%2C%200.10821643286573146%2C%200.11022044088176353%2C%200.11222444889779559%2C%200.11422845691382766%2C%200.11623246492985972%2C%200.11823647294589178%2C%200.12024048096192384%2C%200.12224448897795591%2C%200.12424849699398798%2C%200.12625250501002003%2C%200.1282565130260521%2C%200.13026052104208416%2C%200.13226452905811623%2C%200.1342685370741483%2C%200.13627254509018036%2C%200.13827655310621242%2C%200.1402805611222445%2C%200.14228456913827656%2C%200.14428857715430862%2C%200.1462925851703407%2C%200.14829659318637275%2C%200.15030060120240482%2C%200.1523046092184369%2C%200.15430861723446893%2C%200.156312625250501%2C%200.15831663326653306%2C%200.16032064128256512%2C%200.1623246492985972%2C%200.16432865731462926%2C%200.16633266533066132%2C%200.1683366733466934%2C%200.17034068136272545%2C%200.17234468937875752%2C%200.1743486973947896%2C%200.17635270541082165%2C%200.17835671342685372%2C%200.18036072144288579%2C%200.18236472945891782%2C%200.1843687374749499%2C%200.18637274549098196%2C%200.18837675350701402%2C%200.1903807615230461%2C%200.19238476953907815%2C%200.19438877755511022%2C%200.1963927855711423%2C%200.19839679358717435%2C%200.20040080160320642%2C%200.20240480961923848%2C%200.20440881763527055%2C%200.20641282565130262%2C%200.20841683366733466%2C%200.21042084168336672%2C%200.2124248496993988%2C%200.21442885771543085%2C%200.21643286573146292%2C%200.218436873747495%2C%200.22044088176352705%2C%200.22244488977955912%2C%200.22444889779559118%2C%200.22645290581162325%2C%200.22845691382765532%2C%200.23046092184368738%2C%200.23246492985971945%2C%200.23446893787575152%2C%200.23647294589178355%2C%200.23847695390781562%2C%200.24048096192384769%2C%200.24248496993987975%2C%200.24448897795591182%2C%200.24649298597194388%2C%200.24849699398797595%2C%200.250501002004008%2C%200.25250501002004005%2C%200.2545090180360721%2C%200.2565130260521042%2C%200.25851703406813625%2C%200.2605210420841683%2C%200.2625250501002004%2C%200.26452905811623245%2C%200.2665330661322645%2C%200.2685370741482966%2C%200.27054108216432865%2C%200.2725450901803607%2C%200.2745490981963928%2C%200.27655310621242485%2C%200.2785571142284569%2C%200.280561122244489%2C%200.28256513026052105%2C%200.2845691382765531%2C%200.2865731462925852%2C%200.28857715430861725%2C%200.2905811623246493%2C%200.2925851703406814%2C%200.29458917835671344%2C%200.2965931863727455%2C%200.2985971943887776%2C%200.30060120240480964%2C%200.3026052104208417%2C%200.3046092184368738%2C%200.3066132264529058%2C%200.30861723446893785%2C%200.3106212424849699%2C%200.312625250501002%2C%200.31462925851703405%2C%200.3166332665330661%2C%200.3186372745490982%2C%200.32064128256513025%2C%200.3226452905811623%2C%200.3246492985971944%2C%200.32665330661322645%2C%200.3286573146292585%2C%200.3306613226452906%2C%200.33266533066132264%2C%200.3346693386773547%2C%200.3366733466933868%2C%200.33867735470941884%2C%200.3406813627254509%2C%200.342685370741483%2C%200.34468937875751504%2C%200.3466933867735471%2C%200.3486973947895792%2C%200.35070140280561124%2C%200.3527054108216433%2C%200.35470941883767537%2C%200.35671342685370744%2C%200.3587174348697395%2C%200.36072144288577157%2C%200.3627254509018036%2C%200.36472945891783565%2C%200.3667334669338677%2C%200.3687374749498998%2C%200.37074148296593185%2C%200.3727454909819639%2C%200.374749498997996%2C%200.37675350701402804%2C%200.3787575150300601%2C%200.3807615230460922%2C%200.38276553106212424%2C%200.3847695390781563%2C%200.3867735470941884%2C%200.38877755511022044%2C%200.3907815631262525%2C%200.3927855711422846%2C%200.39478957915831664%2C%200.3967935871743487%2C%200.39879759519038077%2C%200.40080160320641284%2C%200.4028056112224449%2C%200.40480961923847697%2C%200.40681362725450904%2C%200.4088176352705411%2C%200.41082164328657317%2C%200.41282565130260523%2C%200.4148296593186373%2C%200.4168336673346693%2C%200.4188376753507014%2C%200.42084168336673344%2C%200.4228456913827655%2C%200.4248496993987976%2C%200.42685370741482964%2C%200.4288577154308617%2C%200.4308617234468938%2C%200.43286573146292584%2C%200.4348697394789579%2C%200.43687374749499%2C%200.43887775551102204%2C%200.4408817635270541%2C%200.44288577154308617%2C%200.44488977955911824%2C%200.4468937875751503%2C%200.44889779559118237%2C%200.45090180360721444%2C%200.4529058116232465%2C%200.45490981963927857%2C%200.45691382765531063%2C%200.4589178356713427%2C%200.46092184368737477%2C%200.46292585170340683%2C%200.4649298597194389%2C%200.46693386773547096%2C%200.46893787575150303%2C%200.4709418837675351%2C%200.4729458917835671%2C%200.4749498997995992%2C%200.47695390781563124%2C%200.4789579158316633%2C%200.48096192384769537%2C%200.48296593186372744%2C%200.4849699398797595%2C%200.48697394789579157%2C%200.48897795591182364%2C%200.4909819639278557%2C%200.49298597194388777%2C%200.49498997995991983%2C%200.4969939879759519%2C%200.49899799599198397%2C%200.501002004008016%2C%200.503006012024048%2C%200.5050100200400801%2C%200.5070140280561122%2C%200.5090180360721442%2C%200.5110220440881763%2C%200.5130260521042084%2C%200.5150300601202404%2C%200.5170340681362725%2C%200.5190380761523046%2C%200.5210420841683366%2C%200.5230460921843687%2C%200.5250501002004008%2C%200.5270541082164328%2C%200.5290581162324649%2C%200.531062124248497%2C%200.533066132264529%2C%200.5350701402805611%2C%200.5370741482965932%2C%200.5390781563126252%2C%200.5410821643286573%2C%200.5430861723446894%2C%200.5450901803607214%2C%200.5470941883767535%2C%200.5490981963927856%2C%200.5511022044088176%2C%200.5531062124248497%2C%200.5551102204408818%2C%200.5571142284569138%2C%200.5591182364729459%2C%200.561122244488978%2C%200.56312625250501%2C%200.5651302605210421%2C%200.5671342685370742%2C%200.5691382765531062%2C%200.5711422845691383%2C%200.5731462925851704%2C%200.5751503006012024%2C%200.5771543086172345%2C%200.5791583166332666%2C%200.5811623246492986%2C%200.5831663326653307%2C%200.5851703406813628%2C%200.5871743486973948%2C%200.5891783567134269%2C%200.591182364729459%2C%200.593186372745491%2C%200.5951903807615231%2C%200.5971943887775552%2C%200.5991983967935872%2C%200.6012024048096193%2C%200.6032064128256514%2C%200.6052104208416834%2C%200.6072144288577155%2C%200.6092184368737475%2C%200.6112224448897795%2C%200.6132264529058116%2C%200.6152304609218436%2C%200.6172344689378757%2C%200.6192384769539078%2C%200.6212424849699398%2C%200.6232464929859719%2C%200.625250501002004%2C%200.627254509018036%2C%200.6292585170340681%2C%200.6312625250501002%2C%200.6332665330661322%2C%200.6352705410821643%2C%200.6372745490981964%2C%200.6392785571142284%2C%200.6412825651302605%2C%200.6432865731462926%2C%200.6452905811623246%2C%200.6472945891783567%2C%200.6492985971943888%2C%200.6513026052104208%2C%200.6533066132264529%2C%200.655310621242485%2C%200.657314629258517%2C%200.6593186372745491%2C%200.6613226452905812%2C%200.6633266533066132%2C%200.6653306613226453%2C%200.6673346693386774%2C%200.6693386773547094%2C%200.6713426853707415%2C%200.6733466933867736%2C%200.6753507014028056%2C%200.6773547094188377%2C%200.6793587174348698%2C%200.6813627254509018%2C%200.6833667334669339%2C%200.685370741482966%2C%200.687374749498998%2C%200.6893787575150301%2C%200.6913827655310621%2C%200.6933867735470942%2C%200.6953907815631263%2C%200.6973947895791583%2C%200.6993987975951904%2C%200.7014028056112225%2C%200.7034068136272545%2C%200.7054108216432866%2C%200.7074148296593187%2C%200.7094188376753507%2C%200.7114228456913828%2C%200.7134268537074149%2C%200.7154308617234469%2C%200.717434869739479%2C%200.7194388777555111%2C%200.7214428857715431%2C%200.7234468937875751%2C%200.7254509018036072%2C%200.7274549098196392%2C%200.7294589178356713%2C%200.7314629258517034%2C%200.7334669338677354%2C%200.7354709418837675%2C%200.7374749498997996%2C%200.7394789579158316%2C%200.7414829659318637%2C%200.7434869739478958%2C%200.7454909819639278%2C%200.7474949899799599%2C%200.749498997995992%2C%200.751503006012024%2C%200.7535070140280561%2C%200.7555110220440882%2C%200.7575150300601202%2C%200.7595190380761523%2C%200.7615230460921844%2C%200.7635270541082164%2C%200.7655310621242485%2C%200.7675350701402806%2C%200.7695390781563126%2C%200.7715430861723447%2C%200.7735470941883767%2C%200.7755511022044088%2C%200.7775551102204409%2C%200.779559118236473%2C%200.781563126252505%2C%200.7835671342685371%2C%200.7855711422845691%2C%200.7875751503006012%2C%200.7895791583166333%2C%200.7915831663326653%2C%200.7935871743486974%2C%200.7955911823647295%2C%200.7975951903807615%2C%200.7995991983967936%2C%200.8016032064128257%2C%200.8036072144288577%2C%200.8056112224448898%2C%200.8076152304609219%2C%200.8096192384769539%2C%200.811623246492986%2C%200.8136272545090181%2C%200.8156312625250501%2C%200.8176352705410822%2C%200.8196392785571143%2C%200.8216432865731463%2C%200.8236472945891784%2C%200.8256513026052105%2C%200.8276553106212425%2C%200.8296593186372746%2C%200.8316633266533067%2C%200.8336673346693386%2C%200.8356713426853707%2C%200.8376753507014028%2C%200.8396793587174348%2C%200.8416833667334669%2C%200.843687374749499%2C%200.845691382765531%2C%200.8476953907815631%2C%200.8496993987975952%2C%200.8517034068136272%2C%200.8537074148296593%2C%200.8557114228456913%2C%200.8577154308617234%2C%200.8597194388777555%2C%200.8617234468937875%2C%200.8637274549098196%2C%200.8657314629258517%2C%200.8677354709418837%2C%200.8697394789579158%2C%200.8717434869739479%2C%200.87374749498998%2C%200.875751503006012%2C%200.8777555110220441%2C%200.8797595190380761%2C%200.8817635270541082%2C%200.8837675350701403%2C%200.8857715430861723%2C%200.8877755511022044%2C%200.8897795591182365%2C%200.8917835671342685%2C%200.8937875751503006%2C%200.8957915831663327%2C%200.8977955911823647%2C%200.8997995991983968%2C%200.9018036072144289%2C%200.9038076152304609%2C%200.905811623246493%2C%200.9078156312625251%2C%200.9098196392785571%2C%200.9118236472945892%2C%200.9138276553106213%2C%200.9158316633266533%2C%200.9178356713426854%2C%200.9198396793587175%2C%200.9218436873747495%2C%200.9238476953907816%2C%200.9258517034068137%2C%200.9278557114228457%2C%200.9298597194388778%2C%200.9318637274549099%2C%200.9338677354709419%2C%200.935871743486974%2C%200.9378757515030061%2C%200.9398797595190381%2C%200.9418837675350702%2C%200.9438877755511023%2C%200.9458917835671342%2C%200.9478957915831663%2C%200.9498997995991983%2C%200.9519038076152304%2C%200.9539078156312625%2C%200.9559118236472945%2C%200.9579158316633266%2C%200.9599198396793587%2C%200.9619238476953907%2C%200.9639278557114228%2C%200.9659318637274549%2C%200.9679358717434869%2C%200.969939879759519%2C%200.9719438877755511%2C%200.9739478957915831%2C%200.9759519038076152%2C%200.9779559118236473%2C%200.9799599198396793%2C%200.9819639278557114%2C%200.9839679358717435%2C%200.9859719438877755%2C%200.9879759519038076%2C%200.9899799599198397%2C%200.9919839679358717%2C%200.9939879759519038%2C%200.9959919839679359%2C%200.9979959919839679%2C%201.0%5D%29%0A%20%20%20%20%20%20%20%20%20%20%20%20%20%20.range%28%5B%27%23f7fcf5ff%27%2C%20%27%23f7fcf5ff%27%2C%20%27%23f7fcf5ff%27%2C%20%27%23f7fcf5ff%27%2C%20%27%23f7fcf5ff%27%2C%20%27%23f7fcf5ff%27%2C%20%27%23f7fcf5ff%27%2C%20%27%23f7fcf5ff%27%2C%20%27%23f7fcf5ff%27%2C%20%27%23f7fcf5ff%27%2C%20%27%23f7fcf5ff%27%2C%20%27%23f7fcf5ff%27%2C%20%27%23f7fcf5ff%27%2C%20%27%23f7fcf5ff%27%2C%20%27%23f7fcf5ff%27%2C%20%27%23f7fcf5ff%27%2C%20%27%23f7fcf5ff%27%2C%20%27%23f7fcf5ff%27%2C%20%27%23f7fcf5ff%27%2C%20%27%23f7fcf5ff%27%2C%20%27%23f7fcf5ff%27%2C%20%27%23f7fcf5ff%27%2C%20%27%23f7fcf5ff%27%2C%20%27%23f7fcf5ff%27%2C%20%27%23f7fcf5ff%27%2C%20%27%23f7fcf5ff%27%2C%20%27%23f7fcf5ff%27%2C%20%27%23f7fcf5ff%27%2C%20%27%23f7fcf5ff%27%2C%20%27%23f7fcf5ff%27%2C%20%27%23f7fcf5ff%27%2C%20%27%23f7fcf5ff%27%2C%20%27%23f7fcf5ff%27%2C%20%27%23f7fcf5ff%27%2C%20%27%23f7fcf5ff%27%2C%20%27%23f7fcf5ff%27%2C%20%27%23f7fcf5ff%27%2C%20%27%23f7fcf5ff%27%2C%20%27%23f7fcf5ff%27%2C%20%27%23f7fcf5ff%27%2C%20%27%23f7fcf5ff%27%2C%20%27%23f7fcf5ff%27%2C%20%27%23f7fcf5ff%27%2C%20%27%23f7fcf5ff%27%2C%20%27%23f7fcf5ff%27%2C%20%27%23f7fcf5ff%27%2C%20%27%23f7fcf5ff%27%2C%20%27%23f7fcf5ff%27%2C%20%27%23f7fcf5ff%27%2C%20%27%23f7fcf5ff%27%2C%20%27%23f7fcf5ff%27%2C%20%27%23f7fcf5ff%27%2C%20%27%23f7fcf5ff%27%2C%20%27%23f7fcf5ff%27%2C%20%27%23f7fcf5ff%27%2C%20%27%23f7fcf5ff%27%2C%20%27%23e5f5e0ff%27%2C%20%27%23e5f5e0ff%27%2C%20%27%23e5f5e0ff%27%2C%20%27%23e5f5e0ff%27%2C%20%27%23e5f5e0ff%27%2C%20%27%23e5f5e0ff%27%2C%20%27%23e5f5e0ff%27%2C%20%27%23e5f5e0ff%27%2C%20%27%23e5f5e0ff%27%2C%20%27%23e5f5e0ff%27%2C%20%27%23e5f5e0ff%27%2C%20%27%23e5f5e0ff%27%2C%20%27%23e5f5e0ff%27%2C%20%27%23e5f5e0ff%27%2C%20%27%23e5f5e0ff%27%2C%20%27%23e5f5e0ff%27%2C%20%27%23e5f5e0ff%27%2C%20%27%23e5f5e0ff%27%2C%20%27%23e5f5e0ff%27%2C%20%27%23e5f5e0ff%27%2C%20%27%23e5f5e0ff%27%2C%20%27%23e5f5e0ff%27%2C%20%27%23e5f5e0ff%27%2C%20%27%23e5f5e0ff%27%2C%20%27%23e5f5e0ff%27%2C%20%27%23e5f5e0ff%27%2C%20%27%23e5f5e0ff%27%2C%20%27%23e5f5e0ff%27%2C%20%27%23e5f5e0ff%27%2C%20%27%23e5f5e0ff%27%2C%20%27%23e5f5e0ff%27%2C%20%27%23e5f5e0ff%27%2C%20%27%23e5f5e0ff%27%2C%20%27%23e5f5e0ff%27%2C%20%27%23e5f5e0ff%27%2C%20%27%23e5f5e0ff%27%2C%20%27%23e5f5e0ff%27%2C%20%27%23e5f5e0ff%27%2C%20%27%23e5f5e0ff%27%2C%20%27%23e5f5e0ff%27%2C%20%27%23e5f5e0ff%27%2C%20%27%23e5f5e0ff%27%2C%20%27%23e5f5e0ff%27%2C%20%27%23e5f5e0ff%27%2C%20%27%23e5f5e0ff%27%2C%20%27%23e5f5e0ff%27%2C%20%27%23e5f5e0ff%27%2C%20%27%23e5f5e0ff%27%2C%20%27%23e5f5e0ff%27%2C%20%27%23e5f5e0ff%27%2C%20%27%23e5f5e0ff%27%2C%20%27%23e5f5e0ff%27%2C%20%27%23e5f5e0ff%27%2C%20%27%23e5f5e0ff%27%2C%20%27%23e5f5e0ff%27%2C%20%27%23c7e9c0ff%27%2C%20%27%23c7e9c0ff%27%2C%20%27%23c7e9c0ff%27%2C%20%27%23c7e9c0ff%27%2C%20%27%23c7e9c0ff%27%2C%20%27%23c7e9c0ff%27%2C%20%27%23c7e9c0ff%27%2C%20%27%23c7e9c0ff%27%2C%20%27%23c7e9c0ff%27%2C%20%27%23c7e9c0ff%27%2C%20%27%23c7e9c0ff%27%2C%20%27%23c7e9c0ff%27%2C%20%27%23c7e9c0ff%27%2C%20%27%23c7e9c0ff%27%2C%20%27%23c7e9c0ff%27%2C%20%27%23c7e9c0ff%27%2C%20%27%23c7e9c0ff%27%2C%20%27%23c7e9c0ff%27%2C%20%27%23c7e9c0ff%27%2C%20%27%23c7e9c0ff%27%2C%20%27%23c7e9c0ff%27%2C%20%27%23c7e9c0ff%27%2C%20%27%23c7e9c0ff%27%2C%20%27%23c7e9c0ff%27%2C%20%27%23c7e9c0ff%27%2C%20%27%23c7e9c0ff%27%2C%20%27%23c7e9c0ff%27%2C%20%27%23c7e9c0ff%27%2C%20%27%23c7e9c0ff%27%2C%20%27%23c7e9c0ff%27%2C%20%27%23c7e9c0ff%27%2C%20%27%23c7e9c0ff%27%2C%20%27%23c7e9c0ff%27%2C%20%27%23c7e9c0ff%27%2C%20%27%23c7e9c0ff%27%2C%20%27%23c7e9c0ff%27%2C%20%27%23c7e9c0ff%27%2C%20%27%23c7e9c0ff%27%2C%20%27%23c7e9c0ff%27%2C%20%27%23c7e9c0ff%27%2C%20%27%23c7e9c0ff%27%2C%20%27%23c7e9c0ff%27%2C%20%27%23c7e9c0ff%27%2C%20%27%23c7e9c0ff%27%2C%20%27%23c7e9c0ff%27%2C%20%27%23c7e9c0ff%27%2C%20%27%23c7e9c0ff%27%2C%20%27%23c7e9c0ff%27%2C%20%27%23c7e9c0ff%27%2C%20%27%23c7e9c0ff%27%2C%20%27%23c7e9c0ff%27%2C%20%27%23c7e9c0ff%27%2C%20%27%23c7e9c0ff%27%2C%20%27%23c7e9c0ff%27%2C%20%27%23c7e9c0ff%27%2C%20%27%23c7e9c0ff%27%2C%20%27%23a1d99bff%27%2C%20%27%23a1d99bff%27%2C%20%27%23a1d99bff%27%2C%20%27%23a1d99bff%27%2C%20%27%23a1d99bff%27%2C%20%27%23a1d99bff%27%2C%20%27%23a1d99bff%27%2C%20%27%23a1d99bff%27%2C%20%27%23a1d99bff%27%2C%20%27%23a1d99bff%27%2C%20%27%23a1d99bff%27%2C%20%27%23a1d99bff%27%2C%20%27%23a1d99bff%27%2C%20%27%23a1d99bff%27%2C%20%27%23a1d99bff%27%2C%20%27%23a1d99bff%27%2C%20%27%23a1d99bff%27%2C%20%27%23a1d99bff%27%2C%20%27%23a1d99bff%27%2C%20%27%23a1d99bff%27%2C%20%27%23a1d99bff%27%2C%20%27%23a1d99bff%27%2C%20%27%23a1d99bff%27%2C%20%27%23a1d99bff%27%2C%20%27%23a1d99bff%27%2C%20%27%23a1d99bff%27%2C%20%27%23a1d99bff%27%2C%20%27%23a1d99bff%27%2C%20%27%23a1d99bff%27%2C%20%27%23a1d99bff%27%2C%20%27%23a1d99bff%27%2C%20%27%23a1d99bff%27%2C%20%27%23a1d99bff%27%2C%20%27%23a1d99bff%27%2C%20%27%23a1d99bff%27%2C%20%27%23a1d99bff%27%2C%20%27%23a1d99bff%27%2C%20%27%23a1d99bff%27%2C%20%27%23a1d99bff%27%2C%20%27%23a1d99bff%27%2C%20%27%23a1d99bff%27%2C%20%27%23a1d99bff%27%2C%20%27%23a1d99bff%27%2C%20%27%23a1d99bff%27%2C%20%27%23a1d99bff%27%2C%20%27%23a1d99bff%27%2C%20%27%23a1d99bff%27%2C%20%27%23a1d99bff%27%2C%20%27%23a1d99bff%27%2C%20%27%23a1d99bff%27%2C%20%27%23a1d99bff%27%2C%20%27%23a1d99bff%27%2C%20%27%23a1d99bff%27%2C%20%27%23a1d99bff%27%2C%20%27%23a1d99bff%27%2C%20%27%2374c476ff%27%2C%20%27%2374c476ff%27%2C%20%27%2374c476ff%27%2C%20%27%2374c476ff%27%2C%20%27%2374c476ff%27%2C%20%27%2374c476ff%27%2C%20%27%2374c476ff%27%2C%20%27%2374c476ff%27%2C%20%27%2374c476ff%27%2C%20%27%2374c476ff%27%2C%20%27%2374c476ff%27%2C%20%27%2374c476ff%27%2C%20%27%2374c476ff%27%2C%20%27%2374c476ff%27%2C%20%27%2374c476ff%27%2C%20%27%2374c476ff%27%2C%20%27%2374c476ff%27%2C%20%27%2374c476ff%27%2C%20%27%2374c476ff%27%2C%20%27%2374c476ff%27%2C%20%27%2374c476ff%27%2C%20%27%2374c476ff%27%2C%20%27%2374c476ff%27%2C%20%27%2374c476ff%27%2C%20%27%2374c476ff%27%2C%20%27%2374c476ff%27%2C%20%27%2374c476ff%27%2C%20%27%2374c476ff%27%2C%20%27%2374c476ff%27%2C%20%27%2374c476ff%27%2C%20%27%2374c476ff%27%2C%20%27%2374c476ff%27%2C%20%27%2374c476ff%27%2C%20%27%2374c476ff%27%2C%20%27%2374c476ff%27%2C%20%27%2374c476ff%27%2C%20%27%2374c476ff%27%2C%20%27%2374c476ff%27%2C%20%27%2374c476ff%27%2C%20%27%2374c476ff%27%2C%20%27%2374c476ff%27%2C%20%27%2374c476ff%27%2C%20%27%2374c476ff%27%2C%20%27%2374c476ff%27%2C%20%27%2374c476ff%27%2C%20%27%2374c476ff%27%2C%20%27%2374c476ff%27%2C%20%27%2374c476ff%27%2C%20%27%2374c476ff%27%2C%20%27%2374c476ff%27%2C%20%27%2374c476ff%27%2C%20%27%2374c476ff%27%2C%20%27%2374c476ff%27%2C%20%27%2374c476ff%27%2C%20%27%2374c476ff%27%2C%20%27%2374c476ff%27%2C%20%27%2341ab5dff%27%2C%20%27%2341ab5dff%27%2C%20%27%2341ab5dff%27%2C%20%27%2341ab5dff%27%2C%20%27%2341ab5dff%27%2C%20%27%2341ab5dff%27%2C%20%27%2341ab5dff%27%2C%20%27%2341ab5dff%27%2C%20%27%2341ab5dff%27%2C%20%27%2341ab5dff%27%2C%20%27%2341ab5dff%27%2C%20%27%2341ab5dff%27%2C%20%27%2341ab5dff%27%2C%20%27%2341ab5dff%27%2C%20%27%2341ab5dff%27%2C%20%27%2341ab5dff%27%2C%20%27%2341ab5dff%27%2C%20%27%2341ab5dff%27%2C%20%27%2341ab5dff%27%2C%20%27%2341ab5dff%27%2C%20%27%2341ab5dff%27%2C%20%27%2341ab5dff%27%2C%20%27%2341ab5dff%27%2C%20%27%2341ab5dff%27%2C%20%27%2341ab5dff%27%2C%20%27%2341ab5dff%27%2C%20%27%2341ab5dff%27%2C%20%27%2341ab5dff%27%2C%20%27%2341ab5dff%27%2C%20%27%2341ab5dff%27%2C%20%27%2341ab5dff%27%2C%20%27%2341ab5dff%27%2C%20%27%2341ab5dff%27%2C%20%27%2341ab5dff%27%2C%20%27%2341ab5dff%27%2C%20%27%2341ab5dff%27%2C%20%27%2341ab5dff%27%2C%20%27%2341ab5dff%27%2C%20%27%2341ab5dff%27%2C%20%27%2341ab5dff%27%2C%20%27%2341ab5dff%27%2C%20%27%2341ab5dff%27%2C%20%27%2341ab5dff%27%2C%20%27%2341ab5dff%27%2C%20%27%2341ab5dff%27%2C%20%27%2341ab5dff%27%2C%20%27%2341ab5dff%27%2C%20%27%2341ab5dff%27%2C%20%27%2341ab5dff%27%2C%20%27%2341ab5dff%27%2C%20%27%2341ab5dff%27%2C%20%27%2341ab5dff%27%2C%20%27%2341ab5dff%27%2C%20%27%2341ab5dff%27%2C%20%27%2341ab5dff%27%2C%20%27%23238b45ff%27%2C%20%27%23238b45ff%27%2C%20%27%23238b45ff%27%2C%20%27%23238b45ff%27%2C%20%27%23238b45ff%27%2C%20%27%23238b45ff%27%2C%20%27%23238b45ff%27%2C%20%27%23238b45ff%27%2C%20%27%23238b45ff%27%2C%20%27%23238b45ff%27%2C%20%27%23238b45ff%27%2C%20%27%23238b45ff%27%2C%20%27%23238b45ff%27%2C%20%27%23238b45ff%27%2C%20%27%23238b45ff%27%2C%20%27%23238b45ff%27%2C%20%27%23238b45ff%27%2C%20%27%23238b45ff%27%2C%20%27%23238b45ff%27%2C%20%27%23238b45ff%27%2C%20%27%23238b45ff%27%2C%20%27%23238b45ff%27%2C%20%27%23238b45ff%27%2C%20%27%23238b45ff%27%2C%20%27%23238b45ff%27%2C%20%27%23238b45ff%27%2C%20%27%23238b45ff%27%2C%20%27%23238b45ff%27%2C%20%27%23238b45ff%27%2C%20%27%23238b45ff%27%2C%20%27%23238b45ff%27%2C%20%27%23238b45ff%27%2C%20%27%23238b45ff%27%2C%20%27%23238b45ff%27%2C%20%27%23238b45ff%27%2C%20%27%23238b45ff%27%2C%20%27%23238b45ff%27%2C%20%27%23238b45ff%27%2C%20%27%23238b45ff%27%2C%20%27%23238b45ff%27%2C%20%27%23238b45ff%27%2C%20%27%23238b45ff%27%2C%20%27%23238b45ff%27%2C%20%27%23238b45ff%27%2C%20%27%23238b45ff%27%2C%20%27%23238b45ff%27%2C%20%27%23238b45ff%27%2C%20%27%23238b45ff%27%2C%20%27%23238b45ff%27%2C%20%27%23238b45ff%27%2C%20%27%23238b45ff%27%2C%20%27%23238b45ff%27%2C%20%27%23238b45ff%27%2C%20%27%23238b45ff%27%2C%20%27%23238b45ff%27%2C%20%27%23238b45ff%27%2C%20%27%23006d2cff%27%2C%20%27%23006d2cff%27%2C%20%27%23006d2cff%27%2C%20%27%23006d2cff%27%2C%20%27%23006d2cff%27%2C%20%27%23006d2cff%27%2C%20%27%23006d2cff%27%2C%20%27%23006d2cff%27%2C%20%27%23006d2cff%27%2C%20%27%23006d2cff%27%2C%20%27%23006d2cff%27%2C%20%27%23006d2cff%27%2C%20%27%23006d2cff%27%2C%20%27%23006d2cff%27%2C%20%27%23006d2cff%27%2C%20%27%23006d2cff%27%2C%20%27%23006d2cff%27%2C%20%27%23006d2cff%27%2C%20%27%23006d2cff%27%2C%20%27%23006d2cff%27%2C%20%27%23006d2cff%27%2C%20%27%23006d2cff%27%2C%20%27%23006d2cff%27%2C%20%27%23006d2cff%27%2C%20%27%23006d2cff%27%2C%20%27%23006d2cff%27%2C%20%27%23006d2cff%27%2C%20%27%23006d2cff%27%2C%20%27%23006d2cff%27%2C%20%27%23006d2cff%27%2C%20%27%23006d2cff%27%2C%20%27%23006d2cff%27%2C%20%27%23006d2cff%27%2C%20%27%23006d2cff%27%2C%20%27%23006d2cff%27%2C%20%27%23006d2cff%27%2C%20%27%23006d2cff%27%2C%20%27%23006d2cff%27%2C%20%27%23006d2cff%27%2C%20%27%23006d2cff%27%2C%20%27%23006d2cff%27%2C%20%27%23006d2cff%27%2C%20%27%23006d2cff%27%2C%20%27%23006d2cff%27%2C%20%27%23006d2cff%27%2C%20%27%23006d2cff%27%2C%20%27%23006d2cff%27%2C%20%27%23006d2cff%27%2C%20%27%23006d2cff%27%2C%20%27%23006d2cff%27%2C%20%27%23006d2cff%27%2C%20%27%23006d2cff%27%2C%20%27%23006d2cff%27%2C%20%27%23006d2cff%27%2C%20%27%23006d2cff%27%2C%20%27%2300441bff%27%2C%20%27%2300441bff%27%2C%20%27%2300441bff%27%2C%20%27%2300441bff%27%2C%20%27%2300441bff%27%2C%20%27%2300441bff%27%2C%20%27%2300441bff%27%2C%20%27%2300441bff%27%2C%20%27%2300441bff%27%2C%20%27%2300441bff%27%2C%20%27%2300441bff%27%2C%20%27%2300441bff%27%2C%20%27%2300441bff%27%2C%20%27%2300441bff%27%2C%20%27%2300441bff%27%2C%20%27%2300441bff%27%2C%20%27%2300441bff%27%2C%20%27%2300441bff%27%2C%20%27%2300441bff%27%2C%20%27%2300441bff%27%2C%20%27%2300441bff%27%2C%20%27%2300441bff%27%2C%20%27%2300441bff%27%2C%20%27%2300441bff%27%2C%20%27%2300441bff%27%2C%20%27%2300441bff%27%2C%20%27%2300441bff%27%2C%20%27%2300441bff%27%2C%20%27%2300441bff%27%2C%20%27%2300441bff%27%2C%20%27%2300441bff%27%2C%20%27%2300441bff%27%2C%20%27%2300441bff%27%2C%20%27%2300441bff%27%2C%20%27%2300441bff%27%2C%20%27%2300441bff%27%2C%20%27%2300441bff%27%2C%20%27%2300441bff%27%2C%20%27%2300441bff%27%2C%20%27%2300441bff%27%2C%20%27%2300441bff%27%2C%20%27%2300441bff%27%2C%20%27%2300441bff%27%2C%20%27%2300441bff%27%2C%20%27%2300441bff%27%2C%20%27%2300441bff%27%2C%20%27%2300441bff%27%2C%20%27%2300441bff%27%2C%20%27%2300441bff%27%2C%20%27%2300441bff%27%2C%20%27%2300441bff%27%2C%20%27%2300441bff%27%2C%20%27%2300441bff%27%2C%20%27%2300441bff%27%2C%20%27%2300441bff%27%2C%20%27%2300441bff%27%5D%29%3B%0A%20%20%20%20%0A%0A%20%20%20%20color_map_d2d11c2899a749e1adc5f862cf3aa126.x%20%3D%20d3.scale.linear%28%29%0A%20%20%20%20%20%20%20%20%20%20%20%20%20%20.domain%28%5B0.0%2C%201.0%5D%29%0A%20%20%20%20%20%20%20%20%20%20%20%20%20%20.range%28%5B0%2C%20400%5D%29%3B%0A%0A%20%20%20%20color_map_d2d11c2899a749e1adc5f862cf3aa126.legend%20%3D%20L.control%28%7Bposition%3A%20%27topright%27%7D%29%3B%0A%20%20%20%20color_map_d2d11c2899a749e1adc5f862cf3aa126.legend.onAdd%20%3D%20function%20%28map%29%20%7Bvar%20div%20%3D%20L.DomUtil.create%28%27div%27%2C%20%27legend%27%29%3B%20return%20div%7D%3B%0A%20%20%20%20color_map_d2d11c2899a749e1adc5f862cf3aa126.legend.addTo%28map_ddaa3a6413124d32adae5650d9e1562e%29%3B%0A%0A%20%20%20%20color_map_d2d11c2899a749e1adc5f862cf3aa126.xAxis%20%3D%20d3.svg.axis%28%29%0A%20%20%20%20%20%20%20%20.scale%28color_map_d2d11c2899a749e1adc5f862cf3aa126.x%29%0A%20%20%20%20%20%20%20%20.orient%28%22top%22%29%0A%20%20%20%20%20%20%20%20.tickSize%281%29%0A%20%20%20%20%20%20%20%20.tickValues%28%5B0.0%2C%200.1111111111111111%2C%200.2222222222222222%2C%200.3333333333333333%2C%200.4444444444444444%2C%200.5555555555555556%2C%200.6666666666666666%2C%200.7777777777777777%2C%200.8888888888888888%2C%201.0%5D%29%3B%0A%0A%20%20%20%20color_map_d2d11c2899a749e1adc5f862cf3aa126.svg%20%3D%20d3.select%28%22.legend.leaflet-control%22%29.append%28%22svg%22%29%0A%20%20%20%20%20%20%20%20.attr%28%22id%22%2C%20%27legend%27%29%0A%20%20%20%20%20%20%20%20.attr%28%22width%22%2C%20450%29%0A%20%20%20%20%20%20%20%20.attr%28%22height%22%2C%2040%29%3B%0A%0A%20%20%20%20color_map_d2d11c2899a749e1adc5f862cf3aa126.g%20%3D%20color_map_d2d11c2899a749e1adc5f862cf3aa126.svg.append%28%22g%22%29%0A%20%20%20%20%20%20%20%20.attr%28%22class%22%2C%20%22key%22%29%0A%20%20%20%20%20%20%20%20.attr%28%22transform%22%2C%20%22translate%2825%2C16%29%22%29%3B%0A%0A%20%20%20%20color_map_d2d11c2899a749e1adc5f862cf3aa126.g.selectAll%28%22rect%22%29%0A%20%20%20%20%20%20%20%20.data%28color_map_d2d11c2899a749e1adc5f862cf3aa126.color.range%28%29.map%28function%28d%2C%20i%29%20%7B%0A%20%20%20%20%20%20%20%20%20%20return%20%7B%0A%20%20%20%20%20%20%20%20%20%20%20%20x0%3A%20i%20%3F%20color_map_d2d11c2899a749e1adc5f862cf3aa126.x%28color_map_d2d11c2899a749e1adc5f862cf3aa126.color.domain%28%29%5Bi%20-%201%5D%29%20%3A%20color_map_d2d11c2899a749e1adc5f862cf3aa126.x.range%28%29%5B0%5D%2C%0A%20%20%20%20%20%20%20%20%20%20%20%20x1%3A%20i%20%3C%20color_map_d2d11c2899a749e1adc5f862cf3aa126.color.domain%28%29.length%20%3F%20color_map_d2d11c2899a749e1adc5f862cf3aa126.x%28color_map_d2d11c2899a749e1adc5f862cf3aa126.color.domain%28%29%5Bi%5D%29%20%3A%20color_map_d2d11c2899a749e1adc5f862cf3aa126.x.range%28%29%5B1%5D%2C%0A%20%20%20%20%20%20%20%20%20%20%20%20z%3A%20d%0A%20%20%20%20%20%20%20%20%20%20%7D%3B%0A%20%20%20%20%20%20%20%20%7D%29%29%0A%20%20%20%20%20%20.enter%28%29.append%28%22rect%22%29%0A%20%20%20%20%20%20%20%20.attr%28%22height%22%2C%2010%29%0A%20%20%20%20%20%20%20%20.attr%28%22x%22%2C%20function%28d%29%20%7B%20return%20d.x0%3B%20%7D%29%0A%20%20%20%20%20%20%20%20.attr%28%22width%22%2C%20function%28d%29%20%7B%20return%20d.x1%20-%20d.x0%3B%20%7D%29%0A%20%20%20%20%20%20%20%20.style%28%22fill%22%2C%20function%28d%29%20%7B%20return%20d.z%3B%20%7D%29%3B%0A%0A%20%20%20%20color_map_d2d11c2899a749e1adc5f862cf3aa126.g.call%28color_map_d2d11c2899a749e1adc5f862cf3aa126.xAxis%29.append%28%22text%22%29%0A%20%20%20%20%20%20%20%20.attr%28%22class%22%2C%20%22caption%22%29%0A%20%20%20%20%20%20%20%20.attr%28%22y%22%2C%2021%29%0A%20%20%20%20%20%20%20%20.text%28%27Participation%20rate%27%29%3B%0A%20%20%20%20%0A%20%20%20%20%20%20%20%20%20%20%20%20var%20layer_control_db678fb7c2a14443bcdff4976f3aaa34%20%3D%20%7B%0A%20%20%20%20%20%20%20%20%20%20%20%20%20%20%20%20base_layers%20%3A%20%7B%0A%20%20%20%20%20%20%20%20%20%20%20%20%20%20%20%20%20%20%20%20%22openstreetmap%22%20%3A%20tile_layer_2351b5ab42da4efd8ac0350fdced2e4e%2C%0A%20%20%20%20%20%20%20%20%20%20%20%20%20%20%20%20%7D%2C%0A%20%20%20%20%20%20%20%20%20%20%20%20%20%20%20%20overlays%20%3A%20%20%7B%0A%20%20%20%20%20%20%20%20%20%20%20%20%20%20%20%20%20%20%20%20%22choropleth%22%20%3A%20choropleth_760ae3dd7a344512ac099de8fb972d33%2C%0A%20%20%20%20%20%20%20%20%20%20%20%20%20%20%20%20%7D%2C%0A%20%20%20%20%20%20%20%20%20%20%20%20%7D%3B%0A%20%20%20%20%20%20%20%20%20%20%20%20L.control.layers%28%0A%20%20%20%20%20%20%20%20%20%20%20%20%20%20%20%20layer_control_db678fb7c2a14443bcdff4976f3aaa34.base_layers%2C%0A%20%20%20%20%20%20%20%20%20%20%20%20%20%20%20%20layer_control_db678fb7c2a14443bcdff4976f3aaa34.overlays%2C%0A%20%20%20%20%20%20%20%20%20%20%20%20%20%20%20%20%7B%22autoZIndex%22%3A%20true%2C%20%22collapsed%22%3A%20true%2C%20%22position%22%3A%20%22topright%22%7D%0A%20%20%20%20%20%20%20%20%20%20%20%20%29.addTo%28map_ddaa3a6413124d32adae5650d9e1562e%29%3B%0A%20%20%20%20%20%20%20%20%0A%3C/script%3E onload=\"this.contentDocument.open();this.contentDocument.write(    decodeURIComponent(this.getAttribute('data-html')));this.contentDocument.close();\" allowfullscreen webkitallowfullscreen mozallowfullscreen></iframe></div></div>"
      ],
      "text/plain": [
       "<folium.folium.Map at 0x7fb660fe4970>"
      ]
     },
     "execution_count": 36,
     "metadata": {},
     "output_type": "execute_result"
    }
   ],
   "source": [
    "import folium\n",
    "\n",
    "url = (\n",
    "    \"https://raw.githubusercontent.com/python-visualization/folium/master/examples/data\"\n",
    ")\n",
    "\n",
    "state_geo = f\"{url}/us-states.json\"\n",
    "\n",
    "plot_map = state_wise\n",
    "\n",
    "m = folium.Map(location=[43.000000,-75.000000], zoom_start=3)\n",
    "\n",
    "folium.Choropleth(\n",
    "    geo_data=state_geo,\n",
    "    name='choropleth',\n",
    "    data=plot_map,\n",
    "    columns=['state',2019],\n",
    "    key_on='feature.properties.name',\n",
    "    fill_color='Greens',\n",
    "    bins = 9,\n",
    "    fill_opcity=0.7,\n",
    "    line_opacity=0.2,\n",
    "    legend_name='Participation rate'\n",
    ").add_to(m)\n",
    "\n",
    "folium.LayerControl().add_to(m)\n",
    "\n",
    "m"
   ]
  },
  {
   "cell_type": "markdown",
   "metadata": {},
   "source": [
    "Generally, the states located on both coast have significantly higher participation rate than in-land states"
   ]
  },
  {
   "cell_type": "markdown",
   "metadata": {},
   "source": [
    "### House-hold income vs participation rate"
   ]
  },
  {
   "cell_type": "code",
   "execution_count": 37,
   "metadata": {},
   "outputs": [
    {
     "data": {
      "text/html": [
       "<div>\n",
       "<style scoped>\n",
       "    .dataframe tbody tr th:only-of-type {\n",
       "        vertical-align: middle;\n",
       "    }\n",
       "\n",
       "    .dataframe tbody tr th {\n",
       "        vertical-align: top;\n",
       "    }\n",
       "\n",
       "    .dataframe thead th {\n",
       "        text-align: right;\n",
       "    }\n",
       "</style>\n",
       "<table border=\"1\" class=\"dataframe\">\n",
       "  <thead>\n",
       "    <tr style=\"text-align: right;\">\n",
       "      <th></th>\n",
       "      <th>state</th>\n",
       "      <th>income</th>\n",
       "    </tr>\n",
       "  </thead>\n",
       "  <tbody>\n",
       "    <tr>\n",
       "      <th>0</th>\n",
       "      <td>Alabama</td>\n",
       "      <td>$50,536</td>\n",
       "    </tr>\n",
       "    <tr>\n",
       "      <th>1</th>\n",
       "      <td>Alaska</td>\n",
       "      <td>$77,640</td>\n",
       "    </tr>\n",
       "    <tr>\n",
       "      <th>2</th>\n",
       "      <td>Arizona</td>\n",
       "      <td>$58,945</td>\n",
       "    </tr>\n",
       "    <tr>\n",
       "      <th>3</th>\n",
       "      <td>Arkansas</td>\n",
       "      <td>$47,597</td>\n",
       "    </tr>\n",
       "    <tr>\n",
       "      <th>4</th>\n",
       "      <td>California</td>\n",
       "      <td>$75,235</td>\n",
       "    </tr>\n",
       "  </tbody>\n",
       "</table>\n",
       "</div>"
      ],
      "text/plain": [
       "        state   income\n",
       "0     Alabama  $50,536\n",
       "1      Alaska  $77,640\n",
       "2     Arizona  $58,945\n",
       "3    Arkansas  $47,597\n",
       "4  California  $75,235"
      ]
     },
     "execution_count": 37,
     "metadata": {},
     "output_type": "execute_result"
    }
   ],
   "source": [
    "income = pd.read_csv('../data/household_income.csv',skiprows=1)\n",
    "income.columns = income.columns.str.lower()\n",
    "income = income.drop(columns='margin of error')\n",
    "income.head()"
   ]
  },
  {
   "cell_type": "code",
   "execution_count": 38,
   "metadata": {},
   "outputs": [
    {
     "data": {
      "text/html": [
       "<div>\n",
       "<style scoped>\n",
       "    .dataframe tbody tr th:only-of-type {\n",
       "        vertical-align: middle;\n",
       "    }\n",
       "\n",
       "    .dataframe tbody tr th {\n",
       "        vertical-align: top;\n",
       "    }\n",
       "\n",
       "    .dataframe thead th {\n",
       "        text-align: right;\n",
       "    }\n",
       "</style>\n",
       "<table border=\"1\" class=\"dataframe\">\n",
       "  <thead>\n",
       "    <tr style=\"text-align: right;\">\n",
       "      <th></th>\n",
       "      <th>state</th>\n",
       "      <th>2017</th>\n",
       "      <th>2018</th>\n",
       "      <th>2019</th>\n",
       "      <th>pct_change</th>\n",
       "      <th>income</th>\n",
       "    </tr>\n",
       "  </thead>\n",
       "  <tbody>\n",
       "    <tr>\n",
       "      <th>0</th>\n",
       "      <td>Alabama</td>\n",
       "      <td>0.05</td>\n",
       "      <td>0.06</td>\n",
       "      <td>0.07</td>\n",
       "      <td>40.000000</td>\n",
       "      <td>50536</td>\n",
       "    </tr>\n",
       "    <tr>\n",
       "      <th>1</th>\n",
       "      <td>Alaska</td>\n",
       "      <td>0.38</td>\n",
       "      <td>0.43</td>\n",
       "      <td>0.41</td>\n",
       "      <td>7.894737</td>\n",
       "      <td>77640</td>\n",
       "    </tr>\n",
       "    <tr>\n",
       "      <th>2</th>\n",
       "      <td>Arizona</td>\n",
       "      <td>0.30</td>\n",
       "      <td>0.29</td>\n",
       "      <td>0.31</td>\n",
       "      <td>3.333333</td>\n",
       "      <td>58945</td>\n",
       "    </tr>\n",
       "    <tr>\n",
       "      <th>3</th>\n",
       "      <td>Arkansas</td>\n",
       "      <td>0.03</td>\n",
       "      <td>0.05</td>\n",
       "      <td>0.06</td>\n",
       "      <td>100.000000</td>\n",
       "      <td>47597</td>\n",
       "    </tr>\n",
       "    <tr>\n",
       "      <th>4</th>\n",
       "      <td>California</td>\n",
       "      <td>0.53</td>\n",
       "      <td>0.60</td>\n",
       "      <td>0.63</td>\n",
       "      <td>18.867925</td>\n",
       "      <td>75235</td>\n",
       "    </tr>\n",
       "  </tbody>\n",
       "</table>\n",
       "</div>"
      ],
      "text/plain": [
       "        state  2017  2018  2019  pct_change  income\n",
       "0     Alabama  0.05  0.06  0.07   40.000000   50536\n",
       "1      Alaska  0.38  0.43  0.41    7.894737   77640\n",
       "2     Arizona  0.30  0.29  0.31    3.333333   58945\n",
       "3    Arkansas  0.03  0.05  0.06  100.000000   47597\n",
       "4  California  0.53  0.60  0.63   18.867925   75235"
      ]
     },
     "execution_count": 38,
     "metadata": {},
     "output_type": "execute_result"
    }
   ],
   "source": [
    "state_wise = pd.merge(state_wise,income,on='state')\n",
    "state_wise['income'] = state_wise['income'].apply(lambda x: int(x.strip('$').replace(\",\",\"\")))\n",
    "state_wise.head()"
   ]
  },
  {
   "cell_type": "code",
   "execution_count": 39,
   "metadata": {},
   "outputs": [
    {
     "data": {
      "image/png": "[encoded data removed]",
      "text/plain": [
       "<Figure size 432x432 with 3 Axes>"
      ]
     },
     "metadata": {
      "needs_background": "light"
     },
     "output_type": "display_data"
    }
   ],
   "source": [
    "g = sns.jointplot(x='income', y=2019, data=state_wise,\n",
    "                  kind='reg', marginal_kws=dict(bins=10),\n",
    "                 ylim=(0,1))\n",
    "g.set_axis_labels(xlabel = 'Median of Household income (USD/year)',\n",
    "                  ylabel = 'SAT participation rate of 2019',\n",
    "                  size = 12\n",
    "                 )\n",
    "g.fig.suptitle('Relationship between household income and SAT participation rate', y = 1.05, size = 15);"
   ]
  },
  {
   "cell_type": "markdown",
   "metadata": {},
   "source": [
    "Income of the family might be the barrier preventing high school grad. from taking SAT exam"
   ]
  },
  {
   "cell_type": "code",
   "execution_count": 43,
   "metadata": {},
   "outputs": [
    {
     "name": "stdout",
     "output_type": "stream",
     "text": [
      "['4,903,185', '4,903,185', '4,780,125', '2.6%', '4,779,736', '6.0%', '22.2%', '17.3%', '51.7%', '69.1%', '26.8%', '0.7%', '1.5%', '0.1%', '1.8%', '4.6%', '65.3%', '330,207', '3.5%', '2,284,847', '68.8%', '$142,700', '$1,186', '$363', '$792', '17,748', '1,867,893', '2.55', '86.3%', '5.3%', '85.5%', '76.4%', '86.2%', '25.5%', '11.6%', '11.7%', '57.1%', '52.3%', '7,576,462', '26,039,632', '124,809,759', '57,746,565', '58,564,965', '$12,145', '24.9', '$50,536', '$27,928', '15.5%', '100,267', '1,730,817', '76,223,039', '2.4%', '336,445', '374,153', '203,604', '137,630', '92,219', '272,651', '41,943', '316,984', '94.4', '50,645.33', '01']\n",
      "['Population estimates, July 1, 2019,  (V2019)', 'Population estimates, July 1, 2019,  (V2019)', 'Population estimates base, April 1, 2010,  (V2019)', 'Population, percent change - April 1, 2010 (estimates base) to July 1, 2019,  (V2019)', 'Population, Census, April 1, 2010', 'Persons under 5 years, percent', 'Persons under 18 years, percent', 'Persons 65 years and over, percent', 'Female persons, percent', 'White alone, percent', 'Black or African American alone, percent(a)', 'American Indian and Alaska Native alone, percent(a)', 'Asian alone, percent(a)', 'Native Hawaiian and Other Pacific Islander alone, percent(a)', 'Two or More Races, percent', 'Hispanic or Latino, percent(b)', 'White alone, not Hispanic or Latino, percent', 'Veterans, 2015-2019', 'Foreign born persons, percent, 2015-2019', 'Housing units,  July 1, 2019,  (V2019)', 'Owner-occupied housing unit rate, 2015-2019', 'Median value of owner-occupied housing units, 2015-2019', 'Median selected monthly owner costs -with a mortgage, 2015-2019', 'Median selected monthly owner costs -without a mortgage, 2015-2019', 'Median gross rent, 2015-2019', 'Building permits, 2019', 'Households, 2015-2019', 'Persons per household, 2015-2019', 'Living in same house 1 year ago, percent of persons age 1 year+, 2015-2019', 'Language other than English spoken at home, percent of persons age 5 years+, 2015-2019', 'Households with a computer, percent, 2015-2019', 'Households with a broadband Internet subscription, percent, 2015-2019', 'High school graduate or higher, percent of persons age 25 years+, 2015-2019', \"Bachelor's degree or higher, percent of persons age 25 years+, 2015-2019\", 'With a disability, under age 65 years, percent, 2015-2019', 'Persons  without health insurance, under age 65 years, percent', 'In civilian labor force, total, percent of population age 16 years+, 2015-2019', 'In civilian labor force, female, percent of population age 16 years+, 2015-2019', 'Total accommodation and food services sales, 2012 ($1,000)(c)', 'Total health care and social assistance receipts/revenue, 2012 ($1,000)(c)', 'Total manufacturers shipments, 2012 ($1,000)(c)', 'Total merchant wholesaler sales, 2012 ($1,000)(c)', 'Total retail sales, 2012 ($1,000)(c)', 'Total retail sales per capita, 2012(c)', 'Mean travel time to work (minutes), workers age 16 years+, 2015-2019', 'Median household income (in 2019 dollars), 2015-2019', 'Per capita income in past 12 months (in 2019 dollars), 2015-2019', 'Persons in poverty, percent', 'Total employer establishments, 2018', 'Total employment, 2018', 'Total annual payroll, 2018 ($1,000)', 'Total employment, percent change, 2017-2018', 'Total nonemployer establishments, 2018', 'All firms, 2012', 'Men-owned firms, 2012', 'Women-owned firms, 2012', 'Minority-owned firms, 2012', 'Nonminority-owned firms, 2012', 'Veteran-owned firms, 2012', 'Nonveteran-owned firms, 2012', 'Population per square mile, 2010', 'Land area in square miles, 2010', 'FIPS Code']\n",
      "['4,903,185', '4,903,185', '4,780,125', '2.6%', '4,779,736', '6.0%', '22.2%', '17.3%', '51.7%', '69.1%', '26.8%', '0.7%', '1.5%', '0.1%', '1.8%', '4.6%', '65.3%', '330,207', '3.5%', '2,284,847', '68.8%', '$142,700', '$1,186', '$363', '$792', '17,748', '1,867,893', '2.55', '86.3%', '5.3%', '85.5%', '76.4%', '86.2%', '25.5%', '11.6%', '11.7%', '57.1%', '52.3%', '7,576,462', '26,039,632', '124,809,759', '57,746,565', '58,564,965', '$12,145', '24.9', '$50,536', '$27,928', '15.5%', '100,267', '1,730,817', '76,223,039', '2.4%', '336,445', '374,153', '203,604', '137,630', '92,219', '272,651', '41,943', '316,984', '94.4', '50,645.33', '01']\n",
      "['Population estimates, July 1, 2019,  (V2019)', 'Population estimates, July 1, 2019,  (V2019)', 'Population estimates base, April 1, 2010,  (V2019)', 'Population, percent change - April 1, 2010 (estimates base) to July 1, 2019,  (V2019)', 'Population, Census, April 1, 2010', 'Persons under 5 years, percent', 'Persons under 18 years, percent', 'Persons 65 years and over, percent', 'Female persons, percent', 'White alone, percent', 'Black or African American alone, percent(a)', 'American Indian and Alaska Native alone, percent(a)', 'Asian alone, percent(a)', 'Native Hawaiian and Other Pacific Islander alone, percent(a)', 'Two or More Races, percent', 'Hispanic or Latino, percent(b)', 'White alone, not Hispanic or Latino, percent', 'Veterans, 2015-2019', 'Foreign born persons, percent, 2015-2019', 'Housing units,  July 1, 2019,  (V2019)', 'Owner-occupied housing unit rate, 2015-2019', 'Median value of owner-occupied housing units, 2015-2019', 'Median selected monthly owner costs -with a mortgage, 2015-2019', 'Median selected monthly owner costs -without a mortgage, 2015-2019', 'Median gross rent, 2015-2019', 'Building permits, 2019', 'Households, 2015-2019', 'Persons per household, 2015-2019', 'Living in same house 1 year ago, percent of persons age 1 year+, 2015-2019', 'Language other than English spoken at home, percent of persons age 5 years+, 2015-2019', 'Households with a computer, percent, 2015-2019', 'Households with a broadband Internet subscription, percent, 2015-2019', 'High school graduate or higher, percent of persons age 25 years+, 2015-2019', \"Bachelor's degree or higher, percent of persons age 25 years+, 2015-2019\", 'With a disability, under age 65 years, percent, 2015-2019', 'Persons  without health insurance, under age 65 years, percent', 'In civilian labor force, total, percent of population age 16 years+, 2015-2019', 'In civilian labor force, female, percent of population age 16 years+, 2015-2019', 'Total accommodation and food services sales, 2012 ($1,000)(c)', 'Total health care and social assistance receipts/revenue, 2012 ($1,000)(c)', 'Total manufacturers shipments, 2012 ($1,000)(c)', 'Total merchant wholesaler sales, 2012 ($1,000)(c)', 'Total retail sales, 2012 ($1,000)(c)', 'Total retail sales per capita, 2012(c)', 'Mean travel time to work (minutes), workers age 16 years+, 2015-2019', 'Median household income (in 2019 dollars), 2015-2019', 'Per capita income in past 12 months (in 2019 dollars), 2015-2019', 'Persons in poverty, percent', 'Total employer establishments, 2018', 'Total employment, 2018', 'Total annual payroll, 2018 ($1,000)', 'Total employment, percent change, 2017-2018', 'Total nonemployer establishments, 2018', 'All firms, 2012', 'Men-owned firms, 2012', 'Women-owned firms, 2012', 'Minority-owned firms, 2012', 'Nonminority-owned firms, 2012', 'Veteran-owned firms, 2012', 'Nonveteran-owned firms, 2012', 'Population per square mile, 2010', 'Land area in square miles, 2010', 'FIPS Code']\n",
      "['4,903,185', '4,903,185', '4,780,125', '2.6%', '4,779,736', '6.0%', '22.2%', '17.3%', '51.7%', '69.1%', '26.8%', '0.7%', '1.5%', '0.1%', '1.8%', '4.6%', '65.3%', '330,207', '3.5%', '2,284,847', '68.8%', '$142,700', '$1,186', '$363', '$792', '17,748', '1,867,893', '2.55', '86.3%', '5.3%', '85.5%', '76.4%', '86.2%', '25.5%', '11.6%', '11.7%', '57.1%', '52.3%', '7,576,462', '26,039,632', '124,809,759', '57,746,565', '58,564,965', '$12,145', '24.9', '$50,536', '$27,928', '15.5%', '100,267', '1,730,817', '76,223,039', '2.4%', '336,445', '374,153', '203,604', '137,630', '92,219', '272,651', '41,943', '316,984', '94.4', '50,645.33', '01']\n",
      "['Population estimates, July 1, 2019,  (V2019)', 'Population estimates, July 1, 2019,  (V2019)', 'Population estimates base, April 1, 2010,  (V2019)', 'Population, percent change - April 1, 2010 (estimates base) to July 1, 2019,  (V2019)', 'Population, Census, April 1, 2010', 'Persons under 5 years, percent', 'Persons under 18 years, percent', 'Persons 65 years and over, percent', 'Female persons, percent', 'White alone, percent', 'Black or African American alone, percent(a)', 'American Indian and Alaska Native alone, percent(a)', 'Asian alone, percent(a)', 'Native Hawaiian and Other Pacific Islander alone, percent(a)', 'Two or More Races, percent', 'Hispanic or Latino, percent(b)', 'White alone, not Hispanic or Latino, percent', 'Veterans, 2015-2019', 'Foreign born persons, percent, 2015-2019', 'Housing units,  July 1, 2019,  (V2019)', 'Owner-occupied housing unit rate, 2015-2019', 'Median value of owner-occupied housing units, 2015-2019', 'Median selected monthly owner costs -with a mortgage, 2015-2019', 'Median selected monthly owner costs -without a mortgage, 2015-2019', 'Median gross rent, 2015-2019', 'Building permits, 2019', 'Households, 2015-2019', 'Persons per household, 2015-2019', 'Living in same house 1 year ago, percent of persons age 1 year+, 2015-2019', 'Language other than English spoken at home, percent of persons age 5 years+, 2015-2019', 'Households with a computer, percent, 2015-2019', 'Households with a broadband Internet subscription, percent, 2015-2019', 'High school graduate or higher, percent of persons age 25 years+, 2015-2019', \"Bachelor's degree or higher, percent of persons age 25 years+, 2015-2019\", 'With a disability, under age 65 years, percent, 2015-2019', 'Persons  without health insurance, under age 65 years, percent', 'In civilian labor force, total, percent of population age 16 years+, 2015-2019', 'In civilian labor force, female, percent of population age 16 years+, 2015-2019', 'Total accommodation and food services sales, 2012 ($1,000)(c)', 'Total health care and social assistance receipts/revenue, 2012 ($1,000)(c)', 'Total manufacturers shipments, 2012 ($1,000)(c)', 'Total merchant wholesaler sales, 2012 ($1,000)(c)', 'Total retail sales, 2012 ($1,000)(c)', 'Total retail sales per capita, 2012(c)', 'Mean travel time to work (minutes), workers age 16 years+, 2015-2019', 'Median household income (in 2019 dollars), 2015-2019', 'Per capita income in past 12 months (in 2019 dollars), 2015-2019', 'Persons in poverty, percent', 'Total employer establishments, 2018', 'Total employment, 2018', 'Total annual payroll, 2018 ($1,000)', 'Total employment, percent change, 2017-2018', 'Total nonemployer establishments, 2018', 'All firms, 2012', 'Men-owned firms, 2012', 'Women-owned firms, 2012', 'Minority-owned firms, 2012', 'Nonminority-owned firms, 2012', 'Veteran-owned firms, 2012', 'Nonveteran-owned firms, 2012', 'Population per square mile, 2010', 'Land area in square miles, 2010', 'FIPS Code']\n"
     ]
    },
    {
     "name": "stdout",
     "output_type": "stream",
     "text": [
      "['4,903,185', '4,903,185', '4,780,125', '2.6%', '4,779,736', '6.0%', '22.2%', '17.3%', '51.7%', '69.1%', '26.8%', '0.7%', '1.5%', '0.1%', '1.8%', '4.6%', '65.3%', '330,207', '3.5%', '2,284,847', '68.8%', '$142,700', '$1,186', '$363', '$792', '17,748', '1,867,893', '2.55', '86.3%', '5.3%', '85.5%', '76.4%', '86.2%', '25.5%', '11.6%', '11.7%', '57.1%', '52.3%', '7,576,462', '26,039,632', '124,809,759', '57,746,565', '58,564,965', '$12,145', '24.9', '$50,536', '$27,928', '15.5%', '100,267', '1,730,817', '76,223,039', '2.4%', '336,445', '374,153', '203,604', '137,630', '92,219', '272,651', '41,943', '316,984', '94.4', '50,645.33', '01']\n",
      "['Population estimates, July 1, 2019,  (V2019)', 'Population estimates, July 1, 2019,  (V2019)', 'Population estimates base, April 1, 2010,  (V2019)', 'Population, percent change - April 1, 2010 (estimates base) to July 1, 2019,  (V2019)', 'Population, Census, April 1, 2010', 'Persons under 5 years, percent', 'Persons under 18 years, percent', 'Persons 65 years and over, percent', 'Female persons, percent', 'White alone, percent', 'Black or African American alone, percent(a)', 'American Indian and Alaska Native alone, percent(a)', 'Asian alone, percent(a)', 'Native Hawaiian and Other Pacific Islander alone, percent(a)', 'Two or More Races, percent', 'Hispanic or Latino, percent(b)', 'White alone, not Hispanic or Latino, percent', 'Veterans, 2015-2019', 'Foreign born persons, percent, 2015-2019', 'Housing units,  July 1, 2019,  (V2019)', 'Owner-occupied housing unit rate, 2015-2019', 'Median value of owner-occupied housing units, 2015-2019', 'Median selected monthly owner costs -with a mortgage, 2015-2019', 'Median selected monthly owner costs -without a mortgage, 2015-2019', 'Median gross rent, 2015-2019', 'Building permits, 2019', 'Households, 2015-2019', 'Persons per household, 2015-2019', 'Living in same house 1 year ago, percent of persons age 1 year+, 2015-2019', 'Language other than English spoken at home, percent of persons age 5 years+, 2015-2019', 'Households with a computer, percent, 2015-2019', 'Households with a broadband Internet subscription, percent, 2015-2019', 'High school graduate or higher, percent of persons age 25 years+, 2015-2019', \"Bachelor's degree or higher, percent of persons age 25 years+, 2015-2019\", 'With a disability, under age 65 years, percent, 2015-2019', 'Persons  without health insurance, under age 65 years, percent', 'In civilian labor force, total, percent of population age 16 years+, 2015-2019', 'In civilian labor force, female, percent of population age 16 years+, 2015-2019', 'Total accommodation and food services sales, 2012 ($1,000)(c)', 'Total health care and social assistance receipts/revenue, 2012 ($1,000)(c)', 'Total manufacturers shipments, 2012 ($1,000)(c)', 'Total merchant wholesaler sales, 2012 ($1,000)(c)', 'Total retail sales, 2012 ($1,000)(c)', 'Total retail sales per capita, 2012(c)', 'Mean travel time to work (minutes), workers age 16 years+, 2015-2019', 'Median household income (in 2019 dollars), 2015-2019', 'Per capita income in past 12 months (in 2019 dollars), 2015-2019', 'Persons in poverty, percent', 'Total employer establishments, 2018', 'Total employment, 2018', 'Total annual payroll, 2018 ($1,000)', 'Total employment, percent change, 2017-2018', 'Total nonemployer establishments, 2018', 'All firms, 2012', 'Men-owned firms, 2012', 'Women-owned firms, 2012', 'Minority-owned firms, 2012', 'Nonminority-owned firms, 2012', 'Veteran-owned firms, 2012', 'Nonveteran-owned firms, 2012', 'Population per square mile, 2010', 'Land area in square miles, 2010', 'FIPS Code']\n",
      "['4,903,185', '4,903,185', '4,780,125', '2.6%', '4,779,736', '6.0%', '22.2%', '17.3%', '51.7%', '69.1%', '26.8%', '0.7%', '1.5%', '0.1%', '1.8%', '4.6%', '65.3%', '330,207', '3.5%', '2,284,847', '68.8%', '$142,700', '$1,186', '$363', '$792', '17,748', '1,867,893', '2.55', '86.3%', '5.3%', '85.5%', '76.4%', '86.2%', '25.5%', '11.6%', '11.7%', '57.1%', '52.3%', '7,576,462', '26,039,632', '124,809,759', '57,746,565', '58,564,965', '$12,145', '24.9', '$50,536', '$27,928', '15.5%', '100,267', '1,730,817', '76,223,039', '2.4%', '336,445', '374,153', '203,604', '137,630', '92,219', '272,651', '41,943', '316,984', '94.4', '50,645.33', '01']\n",
      "['Population estimates, July 1, 2019,  (V2019)', 'Population estimates, July 1, 2019,  (V2019)', 'Population estimates base, April 1, 2010,  (V2019)', 'Population, percent change - April 1, 2010 (estimates base) to July 1, 2019,  (V2019)', 'Population, Census, April 1, 2010', 'Persons under 5 years, percent', 'Persons under 18 years, percent', 'Persons 65 years and over, percent', 'Female persons, percent', 'White alone, percent', 'Black or African American alone, percent(a)', 'American Indian and Alaska Native alone, percent(a)', 'Asian alone, percent(a)', 'Native Hawaiian and Other Pacific Islander alone, percent(a)', 'Two or More Races, percent', 'Hispanic or Latino, percent(b)', 'White alone, not Hispanic or Latino, percent', 'Veterans, 2015-2019', 'Foreign born persons, percent, 2015-2019', 'Housing units,  July 1, 2019,  (V2019)', 'Owner-occupied housing unit rate, 2015-2019', 'Median value of owner-occupied housing units, 2015-2019', 'Median selected monthly owner costs -with a mortgage, 2015-2019', 'Median selected monthly owner costs -without a mortgage, 2015-2019', 'Median gross rent, 2015-2019', 'Building permits, 2019', 'Households, 2015-2019', 'Persons per household, 2015-2019', 'Living in same house 1 year ago, percent of persons age 1 year+, 2015-2019', 'Language other than English spoken at home, percent of persons age 5 years+, 2015-2019', 'Households with a computer, percent, 2015-2019', 'Households with a broadband Internet subscription, percent, 2015-2019', 'High school graduate or higher, percent of persons age 25 years+, 2015-2019', \"Bachelor's degree or higher, percent of persons age 25 years+, 2015-2019\", 'With a disability, under age 65 years, percent, 2015-2019', 'Persons  without health insurance, under age 65 years, percent', 'In civilian labor force, total, percent of population age 16 years+, 2015-2019', 'In civilian labor force, female, percent of population age 16 years+, 2015-2019', 'Total accommodation and food services sales, 2012 ($1,000)(c)', 'Total health care and social assistance receipts/revenue, 2012 ($1,000)(c)', 'Total manufacturers shipments, 2012 ($1,000)(c)', 'Total merchant wholesaler sales, 2012 ($1,000)(c)', 'Total retail sales, 2012 ($1,000)(c)', 'Total retail sales per capita, 2012(c)', 'Mean travel time to work (minutes), workers age 16 years+, 2015-2019', 'Median household income (in 2019 dollars), 2015-2019', 'Per capita income in past 12 months (in 2019 dollars), 2015-2019', 'Persons in poverty, percent', 'Total employer establishments, 2018', 'Total employment, 2018', 'Total annual payroll, 2018 ($1,000)', 'Total employment, percent change, 2017-2018', 'Total nonemployer establishments, 2018', 'All firms, 2012', 'Men-owned firms, 2012', 'Women-owned firms, 2012', 'Minority-owned firms, 2012', 'Nonminority-owned firms, 2012', 'Veteran-owned firms, 2012', 'Nonveteran-owned firms, 2012', 'Population per square mile, 2010', 'Land area in square miles, 2010', 'FIPS Code']\n",
      "['4,903,185', '4,903,185', '4,780,125', '2.6%', '4,779,736', '6.0%', '22.2%', '17.3%', '51.7%', '69.1%', '26.8%', '0.7%', '1.5%', '0.1%', '1.8%', '4.6%', '65.3%', '330,207', '3.5%', '2,284,847', '68.8%', '$142,700', '$1,186', '$363', '$792', '17,748', '1,867,893', '2.55', '86.3%', '5.3%', '85.5%', '76.4%', '86.2%', '25.5%', '11.6%', '11.7%', '57.1%', '52.3%', '7,576,462', '26,039,632', '124,809,759', '57,746,565', '58,564,965', '$12,145', '24.9', '$50,536', '$27,928', '15.5%', '100,267', '1,730,817', '76,223,039', '2.4%', '336,445', '374,153', '203,604', '137,630', '92,219', '272,651', '41,943', '316,984', '94.4', '50,645.33', '01']\n",
      "['Population estimates, July 1, 2019,  (V2019)', 'Population estimates, July 1, 2019,  (V2019)', 'Population estimates base, April 1, 2010,  (V2019)', 'Population, percent change - April 1, 2010 (estimates base) to July 1, 2019,  (V2019)', 'Population, Census, April 1, 2010', 'Persons under 5 years, percent', 'Persons under 18 years, percent', 'Persons 65 years and over, percent', 'Female persons, percent', 'White alone, percent', 'Black or African American alone, percent(a)', 'American Indian and Alaska Native alone, percent(a)', 'Asian alone, percent(a)', 'Native Hawaiian and Other Pacific Islander alone, percent(a)', 'Two or More Races, percent', 'Hispanic or Latino, percent(b)', 'White alone, not Hispanic or Latino, percent', 'Veterans, 2015-2019', 'Foreign born persons, percent, 2015-2019', 'Housing units,  July 1, 2019,  (V2019)', 'Owner-occupied housing unit rate, 2015-2019', 'Median value of owner-occupied housing units, 2015-2019', 'Median selected monthly owner costs -with a mortgage, 2015-2019', 'Median selected monthly owner costs -without a mortgage, 2015-2019', 'Median gross rent, 2015-2019', 'Building permits, 2019', 'Households, 2015-2019', 'Persons per household, 2015-2019', 'Living in same house 1 year ago, percent of persons age 1 year+, 2015-2019', 'Language other than English spoken at home, percent of persons age 5 years+, 2015-2019', 'Households with a computer, percent, 2015-2019', 'Households with a broadband Internet subscription, percent, 2015-2019', 'High school graduate or higher, percent of persons age 25 years+, 2015-2019', \"Bachelor's degree or higher, percent of persons age 25 years+, 2015-2019\", 'With a disability, under age 65 years, percent, 2015-2019', 'Persons  without health insurance, under age 65 years, percent', 'In civilian labor force, total, percent of population age 16 years+, 2015-2019', 'In civilian labor force, female, percent of population age 16 years+, 2015-2019', 'Total accommodation and food services sales, 2012 ($1,000)(c)', 'Total health care and social assistance receipts/revenue, 2012 ($1,000)(c)', 'Total manufacturers shipments, 2012 ($1,000)(c)', 'Total merchant wholesaler sales, 2012 ($1,000)(c)', 'Total retail sales, 2012 ($1,000)(c)', 'Total retail sales per capita, 2012(c)', 'Mean travel time to work (minutes), workers age 16 years+, 2015-2019', 'Median household income (in 2019 dollars), 2015-2019', 'Per capita income in past 12 months (in 2019 dollars), 2015-2019', 'Persons in poverty, percent', 'Total employer establishments, 2018', 'Total employment, 2018', 'Total annual payroll, 2018 ($1,000)', 'Total employment, percent change, 2017-2018', 'Total nonemployer establishments, 2018', 'All firms, 2012', 'Men-owned firms, 2012', 'Women-owned firms, 2012', 'Minority-owned firms, 2012', 'Nonminority-owned firms, 2012', 'Veteran-owned firms, 2012', 'Nonveteran-owned firms, 2012', 'Population per square mile, 2010', 'Land area in square miles, 2010', 'FIPS Code']\n"
     ]
    },
    {
     "name": "stdout",
     "output_type": "stream",
     "text": [
      "['4,903,185', '4,903,185', '4,780,125', '2.6%', '4,779,736', '6.0%', '22.2%', '17.3%', '51.7%', '69.1%', '26.8%', '0.7%', '1.5%', '0.1%', '1.8%', '4.6%', '65.3%', '330,207', '3.5%', '2,284,847', '68.8%', '$142,700', '$1,186', '$363', '$792', '17,748', '1,867,893', '2.55', '86.3%', '5.3%', '85.5%', '76.4%', '86.2%', '25.5%', '11.6%', '11.7%', '57.1%', '52.3%', '7,576,462', '26,039,632', '124,809,759', '57,746,565', '58,564,965', '$12,145', '24.9', '$50,536', '$27,928', '15.5%', '100,267', '1,730,817', '76,223,039', '2.4%', '336,445', '374,153', '203,604', '137,630', '92,219', '272,651', '41,943', '316,984', '94.4', '50,645.33', '01']\n",
      "['Population estimates, July 1, 2019,  (V2019)', 'Population estimates, July 1, 2019,  (V2019)', 'Population estimates base, April 1, 2010,  (V2019)', 'Population, percent change - April 1, 2010 (estimates base) to July 1, 2019,  (V2019)', 'Population, Census, April 1, 2010', 'Persons under 5 years, percent', 'Persons under 18 years, percent', 'Persons 65 years and over, percent', 'Female persons, percent', 'White alone, percent', 'Black or African American alone, percent(a)', 'American Indian and Alaska Native alone, percent(a)', 'Asian alone, percent(a)', 'Native Hawaiian and Other Pacific Islander alone, percent(a)', 'Two or More Races, percent', 'Hispanic or Latino, percent(b)', 'White alone, not Hispanic or Latino, percent', 'Veterans, 2015-2019', 'Foreign born persons, percent, 2015-2019', 'Housing units,  July 1, 2019,  (V2019)', 'Owner-occupied housing unit rate, 2015-2019', 'Median value of owner-occupied housing units, 2015-2019', 'Median selected monthly owner costs -with a mortgage, 2015-2019', 'Median selected monthly owner costs -without a mortgage, 2015-2019', 'Median gross rent, 2015-2019', 'Building permits, 2019', 'Households, 2015-2019', 'Persons per household, 2015-2019', 'Living in same house 1 year ago, percent of persons age 1 year+, 2015-2019', 'Language other than English spoken at home, percent of persons age 5 years+, 2015-2019', 'Households with a computer, percent, 2015-2019', 'Households with a broadband Internet subscription, percent, 2015-2019', 'High school graduate or higher, percent of persons age 25 years+, 2015-2019', \"Bachelor's degree or higher, percent of persons age 25 years+, 2015-2019\", 'With a disability, under age 65 years, percent, 2015-2019', 'Persons  without health insurance, under age 65 years, percent', 'In civilian labor force, total, percent of population age 16 years+, 2015-2019', 'In civilian labor force, female, percent of population age 16 years+, 2015-2019', 'Total accommodation and food services sales, 2012 ($1,000)(c)', 'Total health care and social assistance receipts/revenue, 2012 ($1,000)(c)', 'Total manufacturers shipments, 2012 ($1,000)(c)', 'Total merchant wholesaler sales, 2012 ($1,000)(c)', 'Total retail sales, 2012 ($1,000)(c)', 'Total retail sales per capita, 2012(c)', 'Mean travel time to work (minutes), workers age 16 years+, 2015-2019', 'Median household income (in 2019 dollars), 2015-2019', 'Per capita income in past 12 months (in 2019 dollars), 2015-2019', 'Persons in poverty, percent', 'Total employer establishments, 2018', 'Total employment, 2018', 'Total annual payroll, 2018 ($1,000)', 'Total employment, percent change, 2017-2018', 'Total nonemployer establishments, 2018', 'All firms, 2012', 'Men-owned firms, 2012', 'Women-owned firms, 2012', 'Minority-owned firms, 2012', 'Nonminority-owned firms, 2012', 'Veteran-owned firms, 2012', 'Nonveteran-owned firms, 2012', 'Population per square mile, 2010', 'Land area in square miles, 2010', 'FIPS Code']\n",
      "['4,903,185', '4,903,185', '4,780,125', '2.6%', '4,779,736', '6.0%', '22.2%', '17.3%', '51.7%', '69.1%', '26.8%', '0.7%', '1.5%', '0.1%', '1.8%', '4.6%', '65.3%', '330,207', '3.5%', '2,284,847', '68.8%', '$142,700', '$1,186', '$363', '$792', '17,748', '1,867,893', '2.55', '86.3%', '5.3%', '85.5%', '76.4%', '86.2%', '25.5%', '11.6%', '11.7%', '57.1%', '52.3%', '7,576,462', '26,039,632', '124,809,759', '57,746,565', '58,564,965', '$12,145', '24.9', '$50,536', '$27,928', '15.5%', '100,267', '1,730,817', '76,223,039', '2.4%', '336,445', '374,153', '203,604', '137,630', '92,219', '272,651', '41,943', '316,984', '94.4', '50,645.33', '01']\n",
      "['Population estimates, July 1, 2019,  (V2019)', 'Population estimates, July 1, 2019,  (V2019)', 'Population estimates base, April 1, 2010,  (V2019)', 'Population, percent change - April 1, 2010 (estimates base) to July 1, 2019,  (V2019)', 'Population, Census, April 1, 2010', 'Persons under 5 years, percent', 'Persons under 18 years, percent', 'Persons 65 years and over, percent', 'Female persons, percent', 'White alone, percent', 'Black or African American alone, percent(a)', 'American Indian and Alaska Native alone, percent(a)', 'Asian alone, percent(a)', 'Native Hawaiian and Other Pacific Islander alone, percent(a)', 'Two or More Races, percent', 'Hispanic or Latino, percent(b)', 'White alone, not Hispanic or Latino, percent', 'Veterans, 2015-2019', 'Foreign born persons, percent, 2015-2019', 'Housing units,  July 1, 2019,  (V2019)', 'Owner-occupied housing unit rate, 2015-2019', 'Median value of owner-occupied housing units, 2015-2019', 'Median selected monthly owner costs -with a mortgage, 2015-2019', 'Median selected monthly owner costs -without a mortgage, 2015-2019', 'Median gross rent, 2015-2019', 'Building permits, 2019', 'Households, 2015-2019', 'Persons per household, 2015-2019', 'Living in same house 1 year ago, percent of persons age 1 year+, 2015-2019', 'Language other than English spoken at home, percent of persons age 5 years+, 2015-2019', 'Households with a computer, percent, 2015-2019', 'Households with a broadband Internet subscription, percent, 2015-2019', 'High school graduate or higher, percent of persons age 25 years+, 2015-2019', \"Bachelor's degree or higher, percent of persons age 25 years+, 2015-2019\", 'With a disability, under age 65 years, percent, 2015-2019', 'Persons  without health insurance, under age 65 years, percent', 'In civilian labor force, total, percent of population age 16 years+, 2015-2019', 'In civilian labor force, female, percent of population age 16 years+, 2015-2019', 'Total accommodation and food services sales, 2012 ($1,000)(c)', 'Total health care and social assistance receipts/revenue, 2012 ($1,000)(c)', 'Total manufacturers shipments, 2012 ($1,000)(c)', 'Total merchant wholesaler sales, 2012 ($1,000)(c)', 'Total retail sales, 2012 ($1,000)(c)', 'Total retail sales per capita, 2012(c)', 'Mean travel time to work (minutes), workers age 16 years+, 2015-2019', 'Median household income (in 2019 dollars), 2015-2019', 'Per capita income in past 12 months (in 2019 dollars), 2015-2019', 'Persons in poverty, percent', 'Total employer establishments, 2018', 'Total employment, 2018', 'Total annual payroll, 2018 ($1,000)', 'Total employment, percent change, 2017-2018', 'Total nonemployer establishments, 2018', 'All firms, 2012', 'Men-owned firms, 2012', 'Women-owned firms, 2012', 'Minority-owned firms, 2012', 'Nonminority-owned firms, 2012', 'Veteran-owned firms, 2012', 'Nonveteran-owned firms, 2012', 'Population per square mile, 2010', 'Land area in square miles, 2010', 'FIPS Code']\n",
      "['4,903,185', '4,903,185', '4,780,125', '2.6%', '4,779,736', '6.0%', '22.2%', '17.3%', '51.7%', '69.1%', '26.8%', '0.7%', '1.5%', '0.1%', '1.8%', '4.6%', '65.3%', '330,207', '3.5%', '2,284,847', '68.8%', '$142,700', '$1,186', '$363', '$792', '17,748', '1,867,893', '2.55', '86.3%', '5.3%', '85.5%', '76.4%', '86.2%', '25.5%', '11.6%', '11.7%', '57.1%', '52.3%', '7,576,462', '26,039,632', '124,809,759', '57,746,565', '58,564,965', '$12,145', '24.9', '$50,536', '$27,928', '15.5%', '100,267', '1,730,817', '76,223,039', '2.4%', '336,445', '374,153', '203,604', '137,630', '92,219', '272,651', '41,943', '316,984', '94.4', '50,645.33', '01']\n",
      "['Population estimates, July 1, 2019,  (V2019)', 'Population estimates, July 1, 2019,  (V2019)', 'Population estimates base, April 1, 2010,  (V2019)', 'Population, percent change - April 1, 2010 (estimates base) to July 1, 2019,  (V2019)', 'Population, Census, April 1, 2010', 'Persons under 5 years, percent', 'Persons under 18 years, percent', 'Persons 65 years and over, percent', 'Female persons, percent', 'White alone, percent', 'Black or African American alone, percent(a)', 'American Indian and Alaska Native alone, percent(a)', 'Asian alone, percent(a)', 'Native Hawaiian and Other Pacific Islander alone, percent(a)', 'Two or More Races, percent', 'Hispanic or Latino, percent(b)', 'White alone, not Hispanic or Latino, percent', 'Veterans, 2015-2019', 'Foreign born persons, percent, 2015-2019', 'Housing units,  July 1, 2019,  (V2019)', 'Owner-occupied housing unit rate, 2015-2019', 'Median value of owner-occupied housing units, 2015-2019', 'Median selected monthly owner costs -with a mortgage, 2015-2019', 'Median selected monthly owner costs -without a mortgage, 2015-2019', 'Median gross rent, 2015-2019', 'Building permits, 2019', 'Households, 2015-2019', 'Persons per household, 2015-2019', 'Living in same house 1 year ago, percent of persons age 1 year+, 2015-2019', 'Language other than English spoken at home, percent of persons age 5 years+, 2015-2019', 'Households with a computer, percent, 2015-2019', 'Households with a broadband Internet subscription, percent, 2015-2019', 'High school graduate or higher, percent of persons age 25 years+, 2015-2019', \"Bachelor's degree or higher, percent of persons age 25 years+, 2015-2019\", 'With a disability, under age 65 years, percent, 2015-2019', 'Persons  without health insurance, under age 65 years, percent', 'In civilian labor force, total, percent of population age 16 years+, 2015-2019', 'In civilian labor force, female, percent of population age 16 years+, 2015-2019', 'Total accommodation and food services sales, 2012 ($1,000)(c)', 'Total health care and social assistance receipts/revenue, 2012 ($1,000)(c)', 'Total manufacturers shipments, 2012 ($1,000)(c)', 'Total merchant wholesaler sales, 2012 ($1,000)(c)', 'Total retail sales, 2012 ($1,000)(c)', 'Total retail sales per capita, 2012(c)', 'Mean travel time to work (minutes), workers age 16 years+, 2015-2019', 'Median household income (in 2019 dollars), 2015-2019', 'Per capita income in past 12 months (in 2019 dollars), 2015-2019', 'Persons in poverty, percent', 'Total employer establishments, 2018', 'Total employment, 2018', 'Total annual payroll, 2018 ($1,000)', 'Total employment, percent change, 2017-2018', 'Total nonemployer establishments, 2018', 'All firms, 2012', 'Men-owned firms, 2012', 'Women-owned firms, 2012', 'Minority-owned firms, 2012', 'Nonminority-owned firms, 2012', 'Veteran-owned firms, 2012', 'Nonveteran-owned firms, 2012', 'Population per square mile, 2010', 'Land area in square miles, 2010', 'FIPS Code']\n"
     ]
    },
    {
     "name": "stdout",
     "output_type": "stream",
     "text": [
      "['4,903,185', '4,903,185', '4,780,125', '2.6%', '4,779,736', '6.0%', '22.2%', '17.3%', '51.7%', '69.1%', '26.8%', '0.7%', '1.5%', '0.1%', '1.8%', '4.6%', '65.3%', '330,207', '3.5%', '2,284,847', '68.8%', '$142,700', '$1,186', '$363', '$792', '17,748', '1,867,893', '2.55', '86.3%', '5.3%', '85.5%', '76.4%', '86.2%', '25.5%', '11.6%', '11.7%', '57.1%', '52.3%', '7,576,462', '26,039,632', '124,809,759', '57,746,565', '58,564,965', '$12,145', '24.9', '$50,536', '$27,928', '15.5%', '100,267', '1,730,817', '76,223,039', '2.4%', '336,445', '374,153', '203,604', '137,630', '92,219', '272,651', '41,943', '316,984', '94.4', '50,645.33', '01']\n",
      "['Population estimates, July 1, 2019,  (V2019)', 'Population estimates, July 1, 2019,  (V2019)', 'Population estimates base, April 1, 2010,  (V2019)', 'Population, percent change - April 1, 2010 (estimates base) to July 1, 2019,  (V2019)', 'Population, Census, April 1, 2010', 'Persons under 5 years, percent', 'Persons under 18 years, percent', 'Persons 65 years and over, percent', 'Female persons, percent', 'White alone, percent', 'Black or African American alone, percent(a)', 'American Indian and Alaska Native alone, percent(a)', 'Asian alone, percent(a)', 'Native Hawaiian and Other Pacific Islander alone, percent(a)', 'Two or More Races, percent', 'Hispanic or Latino, percent(b)', 'White alone, not Hispanic or Latino, percent', 'Veterans, 2015-2019', 'Foreign born persons, percent, 2015-2019', 'Housing units,  July 1, 2019,  (V2019)', 'Owner-occupied housing unit rate, 2015-2019', 'Median value of owner-occupied housing units, 2015-2019', 'Median selected monthly owner costs -with a mortgage, 2015-2019', 'Median selected monthly owner costs -without a mortgage, 2015-2019', 'Median gross rent, 2015-2019', 'Building permits, 2019', 'Households, 2015-2019', 'Persons per household, 2015-2019', 'Living in same house 1 year ago, percent of persons age 1 year+, 2015-2019', 'Language other than English spoken at home, percent of persons age 5 years+, 2015-2019', 'Households with a computer, percent, 2015-2019', 'Households with a broadband Internet subscription, percent, 2015-2019', 'High school graduate or higher, percent of persons age 25 years+, 2015-2019', \"Bachelor's degree or higher, percent of persons age 25 years+, 2015-2019\", 'With a disability, under age 65 years, percent, 2015-2019', 'Persons  without health insurance, under age 65 years, percent', 'In civilian labor force, total, percent of population age 16 years+, 2015-2019', 'In civilian labor force, female, percent of population age 16 years+, 2015-2019', 'Total accommodation and food services sales, 2012 ($1,000)(c)', 'Total health care and social assistance receipts/revenue, 2012 ($1,000)(c)', 'Total manufacturers shipments, 2012 ($1,000)(c)', 'Total merchant wholesaler sales, 2012 ($1,000)(c)', 'Total retail sales, 2012 ($1,000)(c)', 'Total retail sales per capita, 2012(c)', 'Mean travel time to work (minutes), workers age 16 years+, 2015-2019', 'Median household income (in 2019 dollars), 2015-2019', 'Per capita income in past 12 months (in 2019 dollars), 2015-2019', 'Persons in poverty, percent', 'Total employer establishments, 2018', 'Total employment, 2018', 'Total annual payroll, 2018 ($1,000)', 'Total employment, percent change, 2017-2018', 'Total nonemployer establishments, 2018', 'All firms, 2012', 'Men-owned firms, 2012', 'Women-owned firms, 2012', 'Minority-owned firms, 2012', 'Nonminority-owned firms, 2012', 'Veteran-owned firms, 2012', 'Nonveteran-owned firms, 2012', 'Population per square mile, 2010', 'Land area in square miles, 2010', 'FIPS Code']\n",
      "['4,903,185', '4,903,185', '4,780,125', '2.6%', '4,779,736', '6.0%', '22.2%', '17.3%', '51.7%', '69.1%', '26.8%', '0.7%', '1.5%', '0.1%', '1.8%', '4.6%', '65.3%', '330,207', '3.5%', '2,284,847', '68.8%', '$142,700', '$1,186', '$363', '$792', '17,748', '1,867,893', '2.55', '86.3%', '5.3%', '85.5%', '76.4%', '86.2%', '25.5%', '11.6%', '11.7%', '57.1%', '52.3%', '7,576,462', '26,039,632', '124,809,759', '57,746,565', '58,564,965', '$12,145', '24.9', '$50,536', '$27,928', '15.5%', '100,267', '1,730,817', '76,223,039', '2.4%', '336,445', '374,153', '203,604', '137,630', '92,219', '272,651', '41,943', '316,984', '94.4', '50,645.33', '01']\n",
      "['Population estimates, July 1, 2019,  (V2019)', 'Population estimates, July 1, 2019,  (V2019)', 'Population estimates base, April 1, 2010,  (V2019)', 'Population, percent change - April 1, 2010 (estimates base) to July 1, 2019,  (V2019)', 'Population, Census, April 1, 2010', 'Persons under 5 years, percent', 'Persons under 18 years, percent', 'Persons 65 years and over, percent', 'Female persons, percent', 'White alone, percent', 'Black or African American alone, percent(a)', 'American Indian and Alaska Native alone, percent(a)', 'Asian alone, percent(a)', 'Native Hawaiian and Other Pacific Islander alone, percent(a)', 'Two or More Races, percent', 'Hispanic or Latino, percent(b)', 'White alone, not Hispanic or Latino, percent', 'Veterans, 2015-2019', 'Foreign born persons, percent, 2015-2019', 'Housing units,  July 1, 2019,  (V2019)', 'Owner-occupied housing unit rate, 2015-2019', 'Median value of owner-occupied housing units, 2015-2019', 'Median selected monthly owner costs -with a mortgage, 2015-2019', 'Median selected monthly owner costs -without a mortgage, 2015-2019', 'Median gross rent, 2015-2019', 'Building permits, 2019', 'Households, 2015-2019', 'Persons per household, 2015-2019', 'Living in same house 1 year ago, percent of persons age 1 year+, 2015-2019', 'Language other than English spoken at home, percent of persons age 5 years+, 2015-2019', 'Households with a computer, percent, 2015-2019', 'Households with a broadband Internet subscription, percent, 2015-2019', 'High school graduate or higher, percent of persons age 25 years+, 2015-2019', \"Bachelor's degree or higher, percent of persons age 25 years+, 2015-2019\", 'With a disability, under age 65 years, percent, 2015-2019', 'Persons  without health insurance, under age 65 years, percent', 'In civilian labor force, total, percent of population age 16 years+, 2015-2019', 'In civilian labor force, female, percent of population age 16 years+, 2015-2019', 'Total accommodation and food services sales, 2012 ($1,000)(c)', 'Total health care and social assistance receipts/revenue, 2012 ($1,000)(c)', 'Total manufacturers shipments, 2012 ($1,000)(c)', 'Total merchant wholesaler sales, 2012 ($1,000)(c)', 'Total retail sales, 2012 ($1,000)(c)', 'Total retail sales per capita, 2012(c)', 'Mean travel time to work (minutes), workers age 16 years+, 2015-2019', 'Median household income (in 2019 dollars), 2015-2019', 'Per capita income in past 12 months (in 2019 dollars), 2015-2019', 'Persons in poverty, percent', 'Total employer establishments, 2018', 'Total employment, 2018', 'Total annual payroll, 2018 ($1,000)', 'Total employment, percent change, 2017-2018', 'Total nonemployer establishments, 2018', 'All firms, 2012', 'Men-owned firms, 2012', 'Women-owned firms, 2012', 'Minority-owned firms, 2012', 'Nonminority-owned firms, 2012', 'Veteran-owned firms, 2012', 'Nonveteran-owned firms, 2012', 'Population per square mile, 2010', 'Land area in square miles, 2010', 'FIPS Code']\n",
      "['4,903,185', '4,903,185', '4,780,125', '2.6%', '4,779,736', '6.0%', '22.2%', '17.3%', '51.7%', '69.1%', '26.8%', '0.7%', '1.5%', '0.1%', '1.8%', '4.6%', '65.3%', '330,207', '3.5%', '2,284,847', '68.8%', '$142,700', '$1,186', '$363', '$792', '17,748', '1,867,893', '2.55', '86.3%', '5.3%', '85.5%', '76.4%', '86.2%', '25.5%', '11.6%', '11.7%', '57.1%', '52.3%', '7,576,462', '26,039,632', '124,809,759', '57,746,565', '58,564,965', '$12,145', '24.9', '$50,536', '$27,928', '15.5%', '100,267', '1,730,817', '76,223,039', '2.4%', '336,445', '374,153', '203,604', '137,630', '92,219', '272,651', '41,943', '316,984', '94.4', '50,645.33', '01']\n",
      "['Population estimates, July 1, 2019,  (V2019)', 'Population estimates, July 1, 2019,  (V2019)', 'Population estimates base, April 1, 2010,  (V2019)', 'Population, percent change - April 1, 2010 (estimates base) to July 1, 2019,  (V2019)', 'Population, Census, April 1, 2010', 'Persons under 5 years, percent', 'Persons under 18 years, percent', 'Persons 65 years and over, percent', 'Female persons, percent', 'White alone, percent', 'Black or African American alone, percent(a)', 'American Indian and Alaska Native alone, percent(a)', 'Asian alone, percent(a)', 'Native Hawaiian and Other Pacific Islander alone, percent(a)', 'Two or More Races, percent', 'Hispanic or Latino, percent(b)', 'White alone, not Hispanic or Latino, percent', 'Veterans, 2015-2019', 'Foreign born persons, percent, 2015-2019', 'Housing units,  July 1, 2019,  (V2019)', 'Owner-occupied housing unit rate, 2015-2019', 'Median value of owner-occupied housing units, 2015-2019', 'Median selected monthly owner costs -with a mortgage, 2015-2019', 'Median selected monthly owner costs -without a mortgage, 2015-2019', 'Median gross rent, 2015-2019', 'Building permits, 2019', 'Households, 2015-2019', 'Persons per household, 2015-2019', 'Living in same house 1 year ago, percent of persons age 1 year+, 2015-2019', 'Language other than English spoken at home, percent of persons age 5 years+, 2015-2019', 'Households with a computer, percent, 2015-2019', 'Households with a broadband Internet subscription, percent, 2015-2019', 'High school graduate or higher, percent of persons age 25 years+, 2015-2019', \"Bachelor's degree or higher, percent of persons age 25 years+, 2015-2019\", 'With a disability, under age 65 years, percent, 2015-2019', 'Persons  without health insurance, under age 65 years, percent', 'In civilian labor force, total, percent of population age 16 years+, 2015-2019', 'In civilian labor force, female, percent of population age 16 years+, 2015-2019', 'Total accommodation and food services sales, 2012 ($1,000)(c)', 'Total health care and social assistance receipts/revenue, 2012 ($1,000)(c)', 'Total manufacturers shipments, 2012 ($1,000)(c)', 'Total merchant wholesaler sales, 2012 ($1,000)(c)', 'Total retail sales, 2012 ($1,000)(c)', 'Total retail sales per capita, 2012(c)', 'Mean travel time to work (minutes), workers age 16 years+, 2015-2019', 'Median household income (in 2019 dollars), 2015-2019', 'Per capita income in past 12 months (in 2019 dollars), 2015-2019', 'Persons in poverty, percent', 'Total employer establishments, 2018', 'Total employment, 2018', 'Total annual payroll, 2018 ($1,000)', 'Total employment, percent change, 2017-2018', 'Total nonemployer establishments, 2018', 'All firms, 2012', 'Men-owned firms, 2012', 'Women-owned firms, 2012', 'Minority-owned firms, 2012', 'Nonminority-owned firms, 2012', 'Veteran-owned firms, 2012', 'Nonveteran-owned firms, 2012', 'Population per square mile, 2010', 'Land area in square miles, 2010', 'FIPS Code']\n"
     ]
    },
    {
     "name": "stdout",
     "output_type": "stream",
     "text": [
      "['4,903,185', '4,903,185', '4,780,125', '2.6%', '4,779,736', '6.0%', '22.2%', '17.3%', '51.7%', '69.1%', '26.8%', '0.7%', '1.5%', '0.1%', '1.8%', '4.6%', '65.3%', '330,207', '3.5%', '2,284,847', '68.8%', '$142,700', '$1,186', '$363', '$792', '17,748', '1,867,893', '2.55', '86.3%', '5.3%', '85.5%', '76.4%', '86.2%', '25.5%', '11.6%', '11.7%', '57.1%', '52.3%', '7,576,462', '26,039,632', '124,809,759', '57,746,565', '58,564,965', '$12,145', '24.9', '$50,536', '$27,928', '15.5%', '100,267', '1,730,817', '76,223,039', '2.4%', '336,445', '374,153', '203,604', '137,630', '92,219', '272,651', '41,943', '316,984', '94.4', '50,645.33', '01']\n",
      "['Population estimates, July 1, 2019,  (V2019)', 'Population estimates, July 1, 2019,  (V2019)', 'Population estimates base, April 1, 2010,  (V2019)', 'Population, percent change - April 1, 2010 (estimates base) to July 1, 2019,  (V2019)', 'Population, Census, April 1, 2010', 'Persons under 5 years, percent', 'Persons under 18 years, percent', 'Persons 65 years and over, percent', 'Female persons, percent', 'White alone, percent', 'Black or African American alone, percent(a)', 'American Indian and Alaska Native alone, percent(a)', 'Asian alone, percent(a)', 'Native Hawaiian and Other Pacific Islander alone, percent(a)', 'Two or More Races, percent', 'Hispanic or Latino, percent(b)', 'White alone, not Hispanic or Latino, percent', 'Veterans, 2015-2019', 'Foreign born persons, percent, 2015-2019', 'Housing units,  July 1, 2019,  (V2019)', 'Owner-occupied housing unit rate, 2015-2019', 'Median value of owner-occupied housing units, 2015-2019', 'Median selected monthly owner costs -with a mortgage, 2015-2019', 'Median selected monthly owner costs -without a mortgage, 2015-2019', 'Median gross rent, 2015-2019', 'Building permits, 2019', 'Households, 2015-2019', 'Persons per household, 2015-2019', 'Living in same house 1 year ago, percent of persons age 1 year+, 2015-2019', 'Language other than English spoken at home, percent of persons age 5 years+, 2015-2019', 'Households with a computer, percent, 2015-2019', 'Households with a broadband Internet subscription, percent, 2015-2019', 'High school graduate or higher, percent of persons age 25 years+, 2015-2019', \"Bachelor's degree or higher, percent of persons age 25 years+, 2015-2019\", 'With a disability, under age 65 years, percent, 2015-2019', 'Persons  without health insurance, under age 65 years, percent', 'In civilian labor force, total, percent of population age 16 years+, 2015-2019', 'In civilian labor force, female, percent of population age 16 years+, 2015-2019', 'Total accommodation and food services sales, 2012 ($1,000)(c)', 'Total health care and social assistance receipts/revenue, 2012 ($1,000)(c)', 'Total manufacturers shipments, 2012 ($1,000)(c)', 'Total merchant wholesaler sales, 2012 ($1,000)(c)', 'Total retail sales, 2012 ($1,000)(c)', 'Total retail sales per capita, 2012(c)', 'Mean travel time to work (minutes), workers age 16 years+, 2015-2019', 'Median household income (in 2019 dollars), 2015-2019', 'Per capita income in past 12 months (in 2019 dollars), 2015-2019', 'Persons in poverty, percent', 'Total employer establishments, 2018', 'Total employment, 2018', 'Total annual payroll, 2018 ($1,000)', 'Total employment, percent change, 2017-2018', 'Total nonemployer establishments, 2018', 'All firms, 2012', 'Men-owned firms, 2012', 'Women-owned firms, 2012', 'Minority-owned firms, 2012', 'Nonminority-owned firms, 2012', 'Veteran-owned firms, 2012', 'Nonveteran-owned firms, 2012', 'Population per square mile, 2010', 'Land area in square miles, 2010', 'FIPS Code']\n",
      "['4,903,185', '4,903,185', '4,780,125', '2.6%', '4,779,736', '6.0%', '22.2%', '17.3%', '51.7%', '69.1%', '26.8%', '0.7%', '1.5%', '0.1%', '1.8%', '4.6%', '65.3%', '330,207', '3.5%', '2,284,847', '68.8%', '$142,700', '$1,186', '$363', '$792', '17,748', '1,867,893', '2.55', '86.3%', '5.3%', '85.5%', '76.4%', '86.2%', '25.5%', '11.6%', '11.7%', '57.1%', '52.3%', '7,576,462', '26,039,632', '124,809,759', '57,746,565', '58,564,965', '$12,145', '24.9', '$50,536', '$27,928', '15.5%', '100,267', '1,730,817', '76,223,039', '2.4%', '336,445', '374,153', '203,604', '137,630', '92,219', '272,651', '41,943', '316,984', '94.4', '50,645.33', '01']\n",
      "['Population estimates, July 1, 2019,  (V2019)', 'Population estimates, July 1, 2019,  (V2019)', 'Population estimates base, April 1, 2010,  (V2019)', 'Population, percent change - April 1, 2010 (estimates base) to July 1, 2019,  (V2019)', 'Population, Census, April 1, 2010', 'Persons under 5 years, percent', 'Persons under 18 years, percent', 'Persons 65 years and over, percent', 'Female persons, percent', 'White alone, percent', 'Black or African American alone, percent(a)', 'American Indian and Alaska Native alone, percent(a)', 'Asian alone, percent(a)', 'Native Hawaiian and Other Pacific Islander alone, percent(a)', 'Two or More Races, percent', 'Hispanic or Latino, percent(b)', 'White alone, not Hispanic or Latino, percent', 'Veterans, 2015-2019', 'Foreign born persons, percent, 2015-2019', 'Housing units,  July 1, 2019,  (V2019)', 'Owner-occupied housing unit rate, 2015-2019', 'Median value of owner-occupied housing units, 2015-2019', 'Median selected monthly owner costs -with a mortgage, 2015-2019', 'Median selected monthly owner costs -without a mortgage, 2015-2019', 'Median gross rent, 2015-2019', 'Building permits, 2019', 'Households, 2015-2019', 'Persons per household, 2015-2019', 'Living in same house 1 year ago, percent of persons age 1 year+, 2015-2019', 'Language other than English spoken at home, percent of persons age 5 years+, 2015-2019', 'Households with a computer, percent, 2015-2019', 'Households with a broadband Internet subscription, percent, 2015-2019', 'High school graduate or higher, percent of persons age 25 years+, 2015-2019', \"Bachelor's degree or higher, percent of persons age 25 years+, 2015-2019\", 'With a disability, under age 65 years, percent, 2015-2019', 'Persons  without health insurance, under age 65 years, percent', 'In civilian labor force, total, percent of population age 16 years+, 2015-2019', 'In civilian labor force, female, percent of population age 16 years+, 2015-2019', 'Total accommodation and food services sales, 2012 ($1,000)(c)', 'Total health care and social assistance receipts/revenue, 2012 ($1,000)(c)', 'Total manufacturers shipments, 2012 ($1,000)(c)', 'Total merchant wholesaler sales, 2012 ($1,000)(c)', 'Total retail sales, 2012 ($1,000)(c)', 'Total retail sales per capita, 2012(c)', 'Mean travel time to work (minutes), workers age 16 years+, 2015-2019', 'Median household income (in 2019 dollars), 2015-2019', 'Per capita income in past 12 months (in 2019 dollars), 2015-2019', 'Persons in poverty, percent', 'Total employer establishments, 2018', 'Total employment, 2018', 'Total annual payroll, 2018 ($1,000)', 'Total employment, percent change, 2017-2018', 'Total nonemployer establishments, 2018', 'All firms, 2012', 'Men-owned firms, 2012', 'Women-owned firms, 2012', 'Minority-owned firms, 2012', 'Nonminority-owned firms, 2012', 'Veteran-owned firms, 2012', 'Nonveteran-owned firms, 2012', 'Population per square mile, 2010', 'Land area in square miles, 2010', 'FIPS Code']\n",
      "['4,903,185', '4,903,185', '4,780,125', '2.6%', '4,779,736', '6.0%', '22.2%', '17.3%', '51.7%', '69.1%', '26.8%', '0.7%', '1.5%', '0.1%', '1.8%', '4.6%', '65.3%', '330,207', '3.5%', '2,284,847', '68.8%', '$142,700', '$1,186', '$363', '$792', '17,748', '1,867,893', '2.55', '86.3%', '5.3%', '85.5%', '76.4%', '86.2%', '25.5%', '11.6%', '11.7%', '57.1%', '52.3%', '7,576,462', '26,039,632', '124,809,759', '57,746,565', '58,564,965', '$12,145', '24.9', '$50,536', '$27,928', '15.5%', '100,267', '1,730,817', '76,223,039', '2.4%', '336,445', '374,153', '203,604', '137,630', '92,219', '272,651', '41,943', '316,984', '94.4', '50,645.33', '01']\n",
      "['Population estimates, July 1, 2019,  (V2019)', 'Population estimates, July 1, 2019,  (V2019)', 'Population estimates base, April 1, 2010,  (V2019)', 'Population, percent change - April 1, 2010 (estimates base) to July 1, 2019,  (V2019)', 'Population, Census, April 1, 2010', 'Persons under 5 years, percent', 'Persons under 18 years, percent', 'Persons 65 years and over, percent', 'Female persons, percent', 'White alone, percent', 'Black or African American alone, percent(a)', 'American Indian and Alaska Native alone, percent(a)', 'Asian alone, percent(a)', 'Native Hawaiian and Other Pacific Islander alone, percent(a)', 'Two or More Races, percent', 'Hispanic or Latino, percent(b)', 'White alone, not Hispanic or Latino, percent', 'Veterans, 2015-2019', 'Foreign born persons, percent, 2015-2019', 'Housing units,  July 1, 2019,  (V2019)', 'Owner-occupied housing unit rate, 2015-2019', 'Median value of owner-occupied housing units, 2015-2019', 'Median selected monthly owner costs -with a mortgage, 2015-2019', 'Median selected monthly owner costs -without a mortgage, 2015-2019', 'Median gross rent, 2015-2019', 'Building permits, 2019', 'Households, 2015-2019', 'Persons per household, 2015-2019', 'Living in same house 1 year ago, percent of persons age 1 year+, 2015-2019', 'Language other than English spoken at home, percent of persons age 5 years+, 2015-2019', 'Households with a computer, percent, 2015-2019', 'Households with a broadband Internet subscription, percent, 2015-2019', 'High school graduate or higher, percent of persons age 25 years+, 2015-2019', \"Bachelor's degree or higher, percent of persons age 25 years+, 2015-2019\", 'With a disability, under age 65 years, percent, 2015-2019', 'Persons  without health insurance, under age 65 years, percent', 'In civilian labor force, total, percent of population age 16 years+, 2015-2019', 'In civilian labor force, female, percent of population age 16 years+, 2015-2019', 'Total accommodation and food services sales, 2012 ($1,000)(c)', 'Total health care and social assistance receipts/revenue, 2012 ($1,000)(c)', 'Total manufacturers shipments, 2012 ($1,000)(c)', 'Total merchant wholesaler sales, 2012 ($1,000)(c)', 'Total retail sales, 2012 ($1,000)(c)', 'Total retail sales per capita, 2012(c)', 'Mean travel time to work (minutes), workers age 16 years+, 2015-2019', 'Median household income (in 2019 dollars), 2015-2019', 'Per capita income in past 12 months (in 2019 dollars), 2015-2019', 'Persons in poverty, percent', 'Total employer establishments, 2018', 'Total employment, 2018', 'Total annual payroll, 2018 ($1,000)', 'Total employment, percent change, 2017-2018', 'Total nonemployer establishments, 2018', 'All firms, 2012', 'Men-owned firms, 2012', 'Women-owned firms, 2012', 'Minority-owned firms, 2012', 'Nonminority-owned firms, 2012', 'Veteran-owned firms, 2012', 'Nonveteran-owned firms, 2012', 'Population per square mile, 2010', 'Land area in square miles, 2010', 'FIPS Code']\n"
     ]
    },
    {
     "name": "stdout",
     "output_type": "stream",
     "text": [
      "['4,903,185', '4,903,185', '4,780,125', '2.6%', '4,779,736', '6.0%', '22.2%', '17.3%', '51.7%', '69.1%', '26.8%', '0.7%', '1.5%', '0.1%', '1.8%', '4.6%', '65.3%', '330,207', '3.5%', '2,284,847', '68.8%', '$142,700', '$1,186', '$363', '$792', '17,748', '1,867,893', '2.55', '86.3%', '5.3%', '85.5%', '76.4%', '86.2%', '25.5%', '11.6%', '11.7%', '57.1%', '52.3%', '7,576,462', '26,039,632', '124,809,759', '57,746,565', '58,564,965', '$12,145', '24.9', '$50,536', '$27,928', '15.5%', '100,267', '1,730,817', '76,223,039', '2.4%', '336,445', '374,153', '203,604', '137,630', '92,219', '272,651', '41,943', '316,984', '94.4', '50,645.33', '01']\n",
      "['Population estimates, July 1, 2019,  (V2019)', 'Population estimates, July 1, 2019,  (V2019)', 'Population estimates base, April 1, 2010,  (V2019)', 'Population, percent change - April 1, 2010 (estimates base) to July 1, 2019,  (V2019)', 'Population, Census, April 1, 2010', 'Persons under 5 years, percent', 'Persons under 18 years, percent', 'Persons 65 years and over, percent', 'Female persons, percent', 'White alone, percent', 'Black or African American alone, percent(a)', 'American Indian and Alaska Native alone, percent(a)', 'Asian alone, percent(a)', 'Native Hawaiian and Other Pacific Islander alone, percent(a)', 'Two or More Races, percent', 'Hispanic or Latino, percent(b)', 'White alone, not Hispanic or Latino, percent', 'Veterans, 2015-2019', 'Foreign born persons, percent, 2015-2019', 'Housing units,  July 1, 2019,  (V2019)', 'Owner-occupied housing unit rate, 2015-2019', 'Median value of owner-occupied housing units, 2015-2019', 'Median selected monthly owner costs -with a mortgage, 2015-2019', 'Median selected monthly owner costs -without a mortgage, 2015-2019', 'Median gross rent, 2015-2019', 'Building permits, 2019', 'Households, 2015-2019', 'Persons per household, 2015-2019', 'Living in same house 1 year ago, percent of persons age 1 year+, 2015-2019', 'Language other than English spoken at home, percent of persons age 5 years+, 2015-2019', 'Households with a computer, percent, 2015-2019', 'Households with a broadband Internet subscription, percent, 2015-2019', 'High school graduate or higher, percent of persons age 25 years+, 2015-2019', \"Bachelor's degree or higher, percent of persons age 25 years+, 2015-2019\", 'With a disability, under age 65 years, percent, 2015-2019', 'Persons  without health insurance, under age 65 years, percent', 'In civilian labor force, total, percent of population age 16 years+, 2015-2019', 'In civilian labor force, female, percent of population age 16 years+, 2015-2019', 'Total accommodation and food services sales, 2012 ($1,000)(c)', 'Total health care and social assistance receipts/revenue, 2012 ($1,000)(c)', 'Total manufacturers shipments, 2012 ($1,000)(c)', 'Total merchant wholesaler sales, 2012 ($1,000)(c)', 'Total retail sales, 2012 ($1,000)(c)', 'Total retail sales per capita, 2012(c)', 'Mean travel time to work (minutes), workers age 16 years+, 2015-2019', 'Median household income (in 2019 dollars), 2015-2019', 'Per capita income in past 12 months (in 2019 dollars), 2015-2019', 'Persons in poverty, percent', 'Total employer establishments, 2018', 'Total employment, 2018', 'Total annual payroll, 2018 ($1,000)', 'Total employment, percent change, 2017-2018', 'Total nonemployer establishments, 2018', 'All firms, 2012', 'Men-owned firms, 2012', 'Women-owned firms, 2012', 'Minority-owned firms, 2012', 'Nonminority-owned firms, 2012', 'Veteran-owned firms, 2012', 'Nonveteran-owned firms, 2012', 'Population per square mile, 2010', 'Land area in square miles, 2010', 'FIPS Code']\n",
      "['4,903,185', '4,903,185', '4,780,125', '2.6%', '4,779,736', '6.0%', '22.2%', '17.3%', '51.7%', '69.1%', '26.8%', '0.7%', '1.5%', '0.1%', '1.8%', '4.6%', '65.3%', '330,207', '3.5%', '2,284,847', '68.8%', '$142,700', '$1,186', '$363', '$792', '17,748', '1,867,893', '2.55', '86.3%', '5.3%', '85.5%', '76.4%', '86.2%', '25.5%', '11.6%', '11.7%', '57.1%', '52.3%', '7,576,462', '26,039,632', '124,809,759', '57,746,565', '58,564,965', '$12,145', '24.9', '$50,536', '$27,928', '15.5%', '100,267', '1,730,817', '76,223,039', '2.4%', '336,445', '374,153', '203,604', '137,630', '92,219', '272,651', '41,943', '316,984', '94.4', '50,645.33', '01']\n",
      "['Population estimates, July 1, 2019,  (V2019)', 'Population estimates, July 1, 2019,  (V2019)', 'Population estimates base, April 1, 2010,  (V2019)', 'Population, percent change - April 1, 2010 (estimates base) to July 1, 2019,  (V2019)', 'Population, Census, April 1, 2010', 'Persons under 5 years, percent', 'Persons under 18 years, percent', 'Persons 65 years and over, percent', 'Female persons, percent', 'White alone, percent', 'Black or African American alone, percent(a)', 'American Indian and Alaska Native alone, percent(a)', 'Asian alone, percent(a)', 'Native Hawaiian and Other Pacific Islander alone, percent(a)', 'Two or More Races, percent', 'Hispanic or Latino, percent(b)', 'White alone, not Hispanic or Latino, percent', 'Veterans, 2015-2019', 'Foreign born persons, percent, 2015-2019', 'Housing units,  July 1, 2019,  (V2019)', 'Owner-occupied housing unit rate, 2015-2019', 'Median value of owner-occupied housing units, 2015-2019', 'Median selected monthly owner costs -with a mortgage, 2015-2019', 'Median selected monthly owner costs -without a mortgage, 2015-2019', 'Median gross rent, 2015-2019', 'Building permits, 2019', 'Households, 2015-2019', 'Persons per household, 2015-2019', 'Living in same house 1 year ago, percent of persons age 1 year+, 2015-2019', 'Language other than English spoken at home, percent of persons age 5 years+, 2015-2019', 'Households with a computer, percent, 2015-2019', 'Households with a broadband Internet subscription, percent, 2015-2019', 'High school graduate or higher, percent of persons age 25 years+, 2015-2019', \"Bachelor's degree or higher, percent of persons age 25 years+, 2015-2019\", 'With a disability, under age 65 years, percent, 2015-2019', 'Persons  without health insurance, under age 65 years, percent', 'In civilian labor force, total, percent of population age 16 years+, 2015-2019', 'In civilian labor force, female, percent of population age 16 years+, 2015-2019', 'Total accommodation and food services sales, 2012 ($1,000)(c)', 'Total health care and social assistance receipts/revenue, 2012 ($1,000)(c)', 'Total manufacturers shipments, 2012 ($1,000)(c)', 'Total merchant wholesaler sales, 2012 ($1,000)(c)', 'Total retail sales, 2012 ($1,000)(c)', 'Total retail sales per capita, 2012(c)', 'Mean travel time to work (minutes), workers age 16 years+, 2015-2019', 'Median household income (in 2019 dollars), 2015-2019', 'Per capita income in past 12 months (in 2019 dollars), 2015-2019', 'Persons in poverty, percent', 'Total employer establishments, 2018', 'Total employment, 2018', 'Total annual payroll, 2018 ($1,000)', 'Total employment, percent change, 2017-2018', 'Total nonemployer establishments, 2018', 'All firms, 2012', 'Men-owned firms, 2012', 'Women-owned firms, 2012', 'Minority-owned firms, 2012', 'Nonminority-owned firms, 2012', 'Veteran-owned firms, 2012', 'Nonveteran-owned firms, 2012', 'Population per square mile, 2010', 'Land area in square miles, 2010', 'FIPS Code']\n",
      "['4,903,185', '4,903,185', '4,780,125', '2.6%', '4,779,736', '6.0%', '22.2%', '17.3%', '51.7%', '69.1%', '26.8%', '0.7%', '1.5%', '0.1%', '1.8%', '4.6%', '65.3%', '330,207', '3.5%', '2,284,847', '68.8%', '$142,700', '$1,186', '$363', '$792', '17,748', '1,867,893', '2.55', '86.3%', '5.3%', '85.5%', '76.4%', '86.2%', '25.5%', '11.6%', '11.7%', '57.1%', '52.3%', '7,576,462', '26,039,632', '124,809,759', '57,746,565', '58,564,965', '$12,145', '24.9', '$50,536', '$27,928', '15.5%', '100,267', '1,730,817', '76,223,039', '2.4%', '336,445', '374,153', '203,604', '137,630', '92,219', '272,651', '41,943', '316,984', '94.4', '50,645.33', '01']\n",
      "['Population estimates, July 1, 2019,  (V2019)', 'Population estimates, July 1, 2019,  (V2019)', 'Population estimates base, April 1, 2010,  (V2019)', 'Population, percent change - April 1, 2010 (estimates base) to July 1, 2019,  (V2019)', 'Population, Census, April 1, 2010', 'Persons under 5 years, percent', 'Persons under 18 years, percent', 'Persons 65 years and over, percent', 'Female persons, percent', 'White alone, percent', 'Black or African American alone, percent(a)', 'American Indian and Alaska Native alone, percent(a)', 'Asian alone, percent(a)', 'Native Hawaiian and Other Pacific Islander alone, percent(a)', 'Two or More Races, percent', 'Hispanic or Latino, percent(b)', 'White alone, not Hispanic or Latino, percent', 'Veterans, 2015-2019', 'Foreign born persons, percent, 2015-2019', 'Housing units,  July 1, 2019,  (V2019)', 'Owner-occupied housing unit rate, 2015-2019', 'Median value of owner-occupied housing units, 2015-2019', 'Median selected monthly owner costs -with a mortgage, 2015-2019', 'Median selected monthly owner costs -without a mortgage, 2015-2019', 'Median gross rent, 2015-2019', 'Building permits, 2019', 'Households, 2015-2019', 'Persons per household, 2015-2019', 'Living in same house 1 year ago, percent of persons age 1 year+, 2015-2019', 'Language other than English spoken at home, percent of persons age 5 years+, 2015-2019', 'Households with a computer, percent, 2015-2019', 'Households with a broadband Internet subscription, percent, 2015-2019', 'High school graduate or higher, percent of persons age 25 years+, 2015-2019', \"Bachelor's degree or higher, percent of persons age 25 years+, 2015-2019\", 'With a disability, under age 65 years, percent, 2015-2019', 'Persons  without health insurance, under age 65 years, percent', 'In civilian labor force, total, percent of population age 16 years+, 2015-2019', 'In civilian labor force, female, percent of population age 16 years+, 2015-2019', 'Total accommodation and food services sales, 2012 ($1,000)(c)', 'Total health care and social assistance receipts/revenue, 2012 ($1,000)(c)', 'Total manufacturers shipments, 2012 ($1,000)(c)', 'Total merchant wholesaler sales, 2012 ($1,000)(c)', 'Total retail sales, 2012 ($1,000)(c)', 'Total retail sales per capita, 2012(c)', 'Mean travel time to work (minutes), workers age 16 years+, 2015-2019', 'Median household income (in 2019 dollars), 2015-2019', 'Per capita income in past 12 months (in 2019 dollars), 2015-2019', 'Persons in poverty, percent', 'Total employer establishments, 2018', 'Total employment, 2018', 'Total annual payroll, 2018 ($1,000)', 'Total employment, percent change, 2017-2018', 'Total nonemployer establishments, 2018', 'All firms, 2012', 'Men-owned firms, 2012', 'Women-owned firms, 2012', 'Minority-owned firms, 2012', 'Nonminority-owned firms, 2012', 'Veteran-owned firms, 2012', 'Nonveteran-owned firms, 2012', 'Population per square mile, 2010', 'Land area in square miles, 2010', 'FIPS Code']\n"
     ]
    },
    {
     "name": "stdout",
     "output_type": "stream",
     "text": [
      "['4,903,185', '4,903,185', '4,780,125', '2.6%', '4,779,736', '6.0%', '22.2%', '17.3%', '51.7%', '69.1%', '26.8%', '0.7%', '1.5%', '0.1%', '1.8%', '4.6%', '65.3%', '330,207', '3.5%', '2,284,847', '68.8%', '$142,700', '$1,186', '$363', '$792', '17,748', '1,867,893', '2.55', '86.3%', '5.3%', '85.5%', '76.4%', '86.2%', '25.5%', '11.6%', '11.7%', '57.1%', '52.3%', '7,576,462', '26,039,632', '124,809,759', '57,746,565', '58,564,965', '$12,145', '24.9', '$50,536', '$27,928', '15.5%', '100,267', '1,730,817', '76,223,039', '2.4%', '336,445', '374,153', '203,604', '137,630', '92,219', '272,651', '41,943', '316,984', '94.4', '50,645.33', '01']\n",
      "['Population estimates, July 1, 2019,  (V2019)', 'Population estimates, July 1, 2019,  (V2019)', 'Population estimates base, April 1, 2010,  (V2019)', 'Population, percent change - April 1, 2010 (estimates base) to July 1, 2019,  (V2019)', 'Population, Census, April 1, 2010', 'Persons under 5 years, percent', 'Persons under 18 years, percent', 'Persons 65 years and over, percent', 'Female persons, percent', 'White alone, percent', 'Black or African American alone, percent(a)', 'American Indian and Alaska Native alone, percent(a)', 'Asian alone, percent(a)', 'Native Hawaiian and Other Pacific Islander alone, percent(a)', 'Two or More Races, percent', 'Hispanic or Latino, percent(b)', 'White alone, not Hispanic or Latino, percent', 'Veterans, 2015-2019', 'Foreign born persons, percent, 2015-2019', 'Housing units,  July 1, 2019,  (V2019)', 'Owner-occupied housing unit rate, 2015-2019', 'Median value of owner-occupied housing units, 2015-2019', 'Median selected monthly owner costs -with a mortgage, 2015-2019', 'Median selected monthly owner costs -without a mortgage, 2015-2019', 'Median gross rent, 2015-2019', 'Building permits, 2019', 'Households, 2015-2019', 'Persons per household, 2015-2019', 'Living in same house 1 year ago, percent of persons age 1 year+, 2015-2019', 'Language other than English spoken at home, percent of persons age 5 years+, 2015-2019', 'Households with a computer, percent, 2015-2019', 'Households with a broadband Internet subscription, percent, 2015-2019', 'High school graduate or higher, percent of persons age 25 years+, 2015-2019', \"Bachelor's degree or higher, percent of persons age 25 years+, 2015-2019\", 'With a disability, under age 65 years, percent, 2015-2019', 'Persons  without health insurance, under age 65 years, percent', 'In civilian labor force, total, percent of population age 16 years+, 2015-2019', 'In civilian labor force, female, percent of population age 16 years+, 2015-2019', 'Total accommodation and food services sales, 2012 ($1,000)(c)', 'Total health care and social assistance receipts/revenue, 2012 ($1,000)(c)', 'Total manufacturers shipments, 2012 ($1,000)(c)', 'Total merchant wholesaler sales, 2012 ($1,000)(c)', 'Total retail sales, 2012 ($1,000)(c)', 'Total retail sales per capita, 2012(c)', 'Mean travel time to work (minutes), workers age 16 years+, 2015-2019', 'Median household income (in 2019 dollars), 2015-2019', 'Per capita income in past 12 months (in 2019 dollars), 2015-2019', 'Persons in poverty, percent', 'Total employer establishments, 2018', 'Total employment, 2018', 'Total annual payroll, 2018 ($1,000)', 'Total employment, percent change, 2017-2018', 'Total nonemployer establishments, 2018', 'All firms, 2012', 'Men-owned firms, 2012', 'Women-owned firms, 2012', 'Minority-owned firms, 2012', 'Nonminority-owned firms, 2012', 'Veteran-owned firms, 2012', 'Nonveteran-owned firms, 2012', 'Population per square mile, 2010', 'Land area in square miles, 2010', 'FIPS Code']\n",
      "['4,903,185', '4,903,185', '4,780,125', '2.6%', '4,779,736', '6.0%', '22.2%', '17.3%', '51.7%', '69.1%', '26.8%', '0.7%', '1.5%', '0.1%', '1.8%', '4.6%', '65.3%', '330,207', '3.5%', '2,284,847', '68.8%', '$142,700', '$1,186', '$363', '$792', '17,748', '1,867,893', '2.55', '86.3%', '5.3%', '85.5%', '76.4%', '86.2%', '25.5%', '11.6%', '11.7%', '57.1%', '52.3%', '7,576,462', '26,039,632', '124,809,759', '57,746,565', '58,564,965', '$12,145', '24.9', '$50,536', '$27,928', '15.5%', '100,267', '1,730,817', '76,223,039', '2.4%', '336,445', '374,153', '203,604', '137,630', '92,219', '272,651', '41,943', '316,984', '94.4', '50,645.33', '01']\n",
      "['Population estimates, July 1, 2019,  (V2019)', 'Population estimates, July 1, 2019,  (V2019)', 'Population estimates base, April 1, 2010,  (V2019)', 'Population, percent change - April 1, 2010 (estimates base) to July 1, 2019,  (V2019)', 'Population, Census, April 1, 2010', 'Persons under 5 years, percent', 'Persons under 18 years, percent', 'Persons 65 years and over, percent', 'Female persons, percent', 'White alone, percent', 'Black or African American alone, percent(a)', 'American Indian and Alaska Native alone, percent(a)', 'Asian alone, percent(a)', 'Native Hawaiian and Other Pacific Islander alone, percent(a)', 'Two or More Races, percent', 'Hispanic or Latino, percent(b)', 'White alone, not Hispanic or Latino, percent', 'Veterans, 2015-2019', 'Foreign born persons, percent, 2015-2019', 'Housing units,  July 1, 2019,  (V2019)', 'Owner-occupied housing unit rate, 2015-2019', 'Median value of owner-occupied housing units, 2015-2019', 'Median selected monthly owner costs -with a mortgage, 2015-2019', 'Median selected monthly owner costs -without a mortgage, 2015-2019', 'Median gross rent, 2015-2019', 'Building permits, 2019', 'Households, 2015-2019', 'Persons per household, 2015-2019', 'Living in same house 1 year ago, percent of persons age 1 year+, 2015-2019', 'Language other than English spoken at home, percent of persons age 5 years+, 2015-2019', 'Households with a computer, percent, 2015-2019', 'Households with a broadband Internet subscription, percent, 2015-2019', 'High school graduate or higher, percent of persons age 25 years+, 2015-2019', \"Bachelor's degree or higher, percent of persons age 25 years+, 2015-2019\", 'With a disability, under age 65 years, percent, 2015-2019', 'Persons  without health insurance, under age 65 years, percent', 'In civilian labor force, total, percent of population age 16 years+, 2015-2019', 'In civilian labor force, female, percent of population age 16 years+, 2015-2019', 'Total accommodation and food services sales, 2012 ($1,000)(c)', 'Total health care and social assistance receipts/revenue, 2012 ($1,000)(c)', 'Total manufacturers shipments, 2012 ($1,000)(c)', 'Total merchant wholesaler sales, 2012 ($1,000)(c)', 'Total retail sales, 2012 ($1,000)(c)', 'Total retail sales per capita, 2012(c)', 'Mean travel time to work (minutes), workers age 16 years+, 2015-2019', 'Median household income (in 2019 dollars), 2015-2019', 'Per capita income in past 12 months (in 2019 dollars), 2015-2019', 'Persons in poverty, percent', 'Total employer establishments, 2018', 'Total employment, 2018', 'Total annual payroll, 2018 ($1,000)', 'Total employment, percent change, 2017-2018', 'Total nonemployer establishments, 2018', 'All firms, 2012', 'Men-owned firms, 2012', 'Women-owned firms, 2012', 'Minority-owned firms, 2012', 'Nonminority-owned firms, 2012', 'Veteran-owned firms, 2012', 'Nonveteran-owned firms, 2012', 'Population per square mile, 2010', 'Land area in square miles, 2010', 'FIPS Code']\n",
      "['4,903,185', '4,903,185', '4,780,125', '2.6%', '4,779,736', '6.0%', '22.2%', '17.3%', '51.7%', '69.1%', '26.8%', '0.7%', '1.5%', '0.1%', '1.8%', '4.6%', '65.3%', '330,207', '3.5%', '2,284,847', '68.8%', '$142,700', '$1,186', '$363', '$792', '17,748', '1,867,893', '2.55', '86.3%', '5.3%', '85.5%', '76.4%', '86.2%', '25.5%', '11.6%', '11.7%', '57.1%', '52.3%', '7,576,462', '26,039,632', '124,809,759', '57,746,565', '58,564,965', '$12,145', '24.9', '$50,536', '$27,928', '15.5%', '100,267', '1,730,817', '76,223,039', '2.4%', '336,445', '374,153', '203,604', '137,630', '92,219', '272,651', '41,943', '316,984', '94.4', '50,645.33', '01']\n",
      "['Population estimates, July 1, 2019,  (V2019)', 'Population estimates, July 1, 2019,  (V2019)', 'Population estimates base, April 1, 2010,  (V2019)', 'Population, percent change - April 1, 2010 (estimates base) to July 1, 2019,  (V2019)', 'Population, Census, April 1, 2010', 'Persons under 5 years, percent', 'Persons under 18 years, percent', 'Persons 65 years and over, percent', 'Female persons, percent', 'White alone, percent', 'Black or African American alone, percent(a)', 'American Indian and Alaska Native alone, percent(a)', 'Asian alone, percent(a)', 'Native Hawaiian and Other Pacific Islander alone, percent(a)', 'Two or More Races, percent', 'Hispanic or Latino, percent(b)', 'White alone, not Hispanic or Latino, percent', 'Veterans, 2015-2019', 'Foreign born persons, percent, 2015-2019', 'Housing units,  July 1, 2019,  (V2019)', 'Owner-occupied housing unit rate, 2015-2019', 'Median value of owner-occupied housing units, 2015-2019', 'Median selected monthly owner costs -with a mortgage, 2015-2019', 'Median selected monthly owner costs -without a mortgage, 2015-2019', 'Median gross rent, 2015-2019', 'Building permits, 2019', 'Households, 2015-2019', 'Persons per household, 2015-2019', 'Living in same house 1 year ago, percent of persons age 1 year+, 2015-2019', 'Language other than English spoken at home, percent of persons age 5 years+, 2015-2019', 'Households with a computer, percent, 2015-2019', 'Households with a broadband Internet subscription, percent, 2015-2019', 'High school graduate or higher, percent of persons age 25 years+, 2015-2019', \"Bachelor's degree or higher, percent of persons age 25 years+, 2015-2019\", 'With a disability, under age 65 years, percent, 2015-2019', 'Persons  without health insurance, under age 65 years, percent', 'In civilian labor force, total, percent of population age 16 years+, 2015-2019', 'In civilian labor force, female, percent of population age 16 years+, 2015-2019', 'Total accommodation and food services sales, 2012 ($1,000)(c)', 'Total health care and social assistance receipts/revenue, 2012 ($1,000)(c)', 'Total manufacturers shipments, 2012 ($1,000)(c)', 'Total merchant wholesaler sales, 2012 ($1,000)(c)', 'Total retail sales, 2012 ($1,000)(c)', 'Total retail sales per capita, 2012(c)', 'Mean travel time to work (minutes), workers age 16 years+, 2015-2019', 'Median household income (in 2019 dollars), 2015-2019', 'Per capita income in past 12 months (in 2019 dollars), 2015-2019', 'Persons in poverty, percent', 'Total employer establishments, 2018', 'Total employment, 2018', 'Total annual payroll, 2018 ($1,000)', 'Total employment, percent change, 2017-2018', 'Total nonemployer establishments, 2018', 'All firms, 2012', 'Men-owned firms, 2012', 'Women-owned firms, 2012', 'Minority-owned firms, 2012', 'Nonminority-owned firms, 2012', 'Veteran-owned firms, 2012', 'Nonveteran-owned firms, 2012', 'Population per square mile, 2010', 'Land area in square miles, 2010', 'FIPS Code']\n"
     ]
    },
    {
     "name": "stdout",
     "output_type": "stream",
     "text": [
      "['4,903,185', '4,903,185', '4,780,125', '2.6%', '4,779,736', '6.0%', '22.2%', '17.3%', '51.7%', '69.1%', '26.8%', '0.7%', '1.5%', '0.1%', '1.8%', '4.6%', '65.3%', '330,207', '3.5%', '2,284,847', '68.8%', '$142,700', '$1,186', '$363', '$792', '17,748', '1,867,893', '2.55', '86.3%', '5.3%', '85.5%', '76.4%', '86.2%', '25.5%', '11.6%', '11.7%', '57.1%', '52.3%', '7,576,462', '26,039,632', '124,809,759', '57,746,565', '58,564,965', '$12,145', '24.9', '$50,536', '$27,928', '15.5%', '100,267', '1,730,817', '76,223,039', '2.4%', '336,445', '374,153', '203,604', '137,630', '92,219', '272,651', '41,943', '316,984', '94.4', '50,645.33', '01']\n",
      "['Population estimates, July 1, 2019,  (V2019)', 'Population estimates, July 1, 2019,  (V2019)', 'Population estimates base, April 1, 2010,  (V2019)', 'Population, percent change - April 1, 2010 (estimates base) to July 1, 2019,  (V2019)', 'Population, Census, April 1, 2010', 'Persons under 5 years, percent', 'Persons under 18 years, percent', 'Persons 65 years and over, percent', 'Female persons, percent', 'White alone, percent', 'Black or African American alone, percent(a)', 'American Indian and Alaska Native alone, percent(a)', 'Asian alone, percent(a)', 'Native Hawaiian and Other Pacific Islander alone, percent(a)', 'Two or More Races, percent', 'Hispanic or Latino, percent(b)', 'White alone, not Hispanic or Latino, percent', 'Veterans, 2015-2019', 'Foreign born persons, percent, 2015-2019', 'Housing units,  July 1, 2019,  (V2019)', 'Owner-occupied housing unit rate, 2015-2019', 'Median value of owner-occupied housing units, 2015-2019', 'Median selected monthly owner costs -with a mortgage, 2015-2019', 'Median selected monthly owner costs -without a mortgage, 2015-2019', 'Median gross rent, 2015-2019', 'Building permits, 2019', 'Households, 2015-2019', 'Persons per household, 2015-2019', 'Living in same house 1 year ago, percent of persons age 1 year+, 2015-2019', 'Language other than English spoken at home, percent of persons age 5 years+, 2015-2019', 'Households with a computer, percent, 2015-2019', 'Households with a broadband Internet subscription, percent, 2015-2019', 'High school graduate or higher, percent of persons age 25 years+, 2015-2019', \"Bachelor's degree or higher, percent of persons age 25 years+, 2015-2019\", 'With a disability, under age 65 years, percent, 2015-2019', 'Persons  without health insurance, under age 65 years, percent', 'In civilian labor force, total, percent of population age 16 years+, 2015-2019', 'In civilian labor force, female, percent of population age 16 years+, 2015-2019', 'Total accommodation and food services sales, 2012 ($1,000)(c)', 'Total health care and social assistance receipts/revenue, 2012 ($1,000)(c)', 'Total manufacturers shipments, 2012 ($1,000)(c)', 'Total merchant wholesaler sales, 2012 ($1,000)(c)', 'Total retail sales, 2012 ($1,000)(c)', 'Total retail sales per capita, 2012(c)', 'Mean travel time to work (minutes), workers age 16 years+, 2015-2019', 'Median household income (in 2019 dollars), 2015-2019', 'Per capita income in past 12 months (in 2019 dollars), 2015-2019', 'Persons in poverty, percent', 'Total employer establishments, 2018', 'Total employment, 2018', 'Total annual payroll, 2018 ($1,000)', 'Total employment, percent change, 2017-2018', 'Total nonemployer establishments, 2018', 'All firms, 2012', 'Men-owned firms, 2012', 'Women-owned firms, 2012', 'Minority-owned firms, 2012', 'Nonminority-owned firms, 2012', 'Veteran-owned firms, 2012', 'Nonveteran-owned firms, 2012', 'Population per square mile, 2010', 'Land area in square miles, 2010', 'FIPS Code']\n",
      "['4,903,185', '4,903,185', '4,780,125', '2.6%', '4,779,736', '6.0%', '22.2%', '17.3%', '51.7%', '69.1%', '26.8%', '0.7%', '1.5%', '0.1%', '1.8%', '4.6%', '65.3%', '330,207', '3.5%', '2,284,847', '68.8%', '$142,700', '$1,186', '$363', '$792', '17,748', '1,867,893', '2.55', '86.3%', '5.3%', '85.5%', '76.4%', '86.2%', '25.5%', '11.6%', '11.7%', '57.1%', '52.3%', '7,576,462', '26,039,632', '124,809,759', '57,746,565', '58,564,965', '$12,145', '24.9', '$50,536', '$27,928', '15.5%', '100,267', '1,730,817', '76,223,039', '2.4%', '336,445', '374,153', '203,604', '137,630', '92,219', '272,651', '41,943', '316,984', '94.4', '50,645.33', '01']\n",
      "['Population estimates, July 1, 2019,  (V2019)', 'Population estimates, July 1, 2019,  (V2019)', 'Population estimates base, April 1, 2010,  (V2019)', 'Population, percent change - April 1, 2010 (estimates base) to July 1, 2019,  (V2019)', 'Population, Census, April 1, 2010', 'Persons under 5 years, percent', 'Persons under 18 years, percent', 'Persons 65 years and over, percent', 'Female persons, percent', 'White alone, percent', 'Black or African American alone, percent(a)', 'American Indian and Alaska Native alone, percent(a)', 'Asian alone, percent(a)', 'Native Hawaiian and Other Pacific Islander alone, percent(a)', 'Two or More Races, percent', 'Hispanic or Latino, percent(b)', 'White alone, not Hispanic or Latino, percent', 'Veterans, 2015-2019', 'Foreign born persons, percent, 2015-2019', 'Housing units,  July 1, 2019,  (V2019)', 'Owner-occupied housing unit rate, 2015-2019', 'Median value of owner-occupied housing units, 2015-2019', 'Median selected monthly owner costs -with a mortgage, 2015-2019', 'Median selected monthly owner costs -without a mortgage, 2015-2019', 'Median gross rent, 2015-2019', 'Building permits, 2019', 'Households, 2015-2019', 'Persons per household, 2015-2019', 'Living in same house 1 year ago, percent of persons age 1 year+, 2015-2019', 'Language other than English spoken at home, percent of persons age 5 years+, 2015-2019', 'Households with a computer, percent, 2015-2019', 'Households with a broadband Internet subscription, percent, 2015-2019', 'High school graduate or higher, percent of persons age 25 years+, 2015-2019', \"Bachelor's degree or higher, percent of persons age 25 years+, 2015-2019\", 'With a disability, under age 65 years, percent, 2015-2019', 'Persons  without health insurance, under age 65 years, percent', 'In civilian labor force, total, percent of population age 16 years+, 2015-2019', 'In civilian labor force, female, percent of population age 16 years+, 2015-2019', 'Total accommodation and food services sales, 2012 ($1,000)(c)', 'Total health care and social assistance receipts/revenue, 2012 ($1,000)(c)', 'Total manufacturers shipments, 2012 ($1,000)(c)', 'Total merchant wholesaler sales, 2012 ($1,000)(c)', 'Total retail sales, 2012 ($1,000)(c)', 'Total retail sales per capita, 2012(c)', 'Mean travel time to work (minutes), workers age 16 years+, 2015-2019', 'Median household income (in 2019 dollars), 2015-2019', 'Per capita income in past 12 months (in 2019 dollars), 2015-2019', 'Persons in poverty, percent', 'Total employer establishments, 2018', 'Total employment, 2018', 'Total annual payroll, 2018 ($1,000)', 'Total employment, percent change, 2017-2018', 'Total nonemployer establishments, 2018', 'All firms, 2012', 'Men-owned firms, 2012', 'Women-owned firms, 2012', 'Minority-owned firms, 2012', 'Nonminority-owned firms, 2012', 'Veteran-owned firms, 2012', 'Nonveteran-owned firms, 2012', 'Population per square mile, 2010', 'Land area in square miles, 2010', 'FIPS Code']\n",
      "['4,903,185', '4,903,185', '4,780,125', '2.6%', '4,779,736', '6.0%', '22.2%', '17.3%', '51.7%', '69.1%', '26.8%', '0.7%', '1.5%', '0.1%', '1.8%', '4.6%', '65.3%', '330,207', '3.5%', '2,284,847', '68.8%', '$142,700', '$1,186', '$363', '$792', '17,748', '1,867,893', '2.55', '86.3%', '5.3%', '85.5%', '76.4%', '86.2%', '25.5%', '11.6%', '11.7%', '57.1%', '52.3%', '7,576,462', '26,039,632', '124,809,759', '57,746,565', '58,564,965', '$12,145', '24.9', '$50,536', '$27,928', '15.5%', '100,267', '1,730,817', '76,223,039', '2.4%', '336,445', '374,153', '203,604', '137,630', '92,219', '272,651', '41,943', '316,984', '94.4', '50,645.33', '01']\n",
      "['Population estimates, July 1, 2019,  (V2019)', 'Population estimates, July 1, 2019,  (V2019)', 'Population estimates base, April 1, 2010,  (V2019)', 'Population, percent change - April 1, 2010 (estimates base) to July 1, 2019,  (V2019)', 'Population, Census, April 1, 2010', 'Persons under 5 years, percent', 'Persons under 18 years, percent', 'Persons 65 years and over, percent', 'Female persons, percent', 'White alone, percent', 'Black or African American alone, percent(a)', 'American Indian and Alaska Native alone, percent(a)', 'Asian alone, percent(a)', 'Native Hawaiian and Other Pacific Islander alone, percent(a)', 'Two or More Races, percent', 'Hispanic or Latino, percent(b)', 'White alone, not Hispanic or Latino, percent', 'Veterans, 2015-2019', 'Foreign born persons, percent, 2015-2019', 'Housing units,  July 1, 2019,  (V2019)', 'Owner-occupied housing unit rate, 2015-2019', 'Median value of owner-occupied housing units, 2015-2019', 'Median selected monthly owner costs -with a mortgage, 2015-2019', 'Median selected monthly owner costs -without a mortgage, 2015-2019', 'Median gross rent, 2015-2019', 'Building permits, 2019', 'Households, 2015-2019', 'Persons per household, 2015-2019', 'Living in same house 1 year ago, percent of persons age 1 year+, 2015-2019', 'Language other than English spoken at home, percent of persons age 5 years+, 2015-2019', 'Households with a computer, percent, 2015-2019', 'Households with a broadband Internet subscription, percent, 2015-2019', 'High school graduate or higher, percent of persons age 25 years+, 2015-2019', \"Bachelor's degree or higher, percent of persons age 25 years+, 2015-2019\", 'With a disability, under age 65 years, percent, 2015-2019', 'Persons  without health insurance, under age 65 years, percent', 'In civilian labor force, total, percent of population age 16 years+, 2015-2019', 'In civilian labor force, female, percent of population age 16 years+, 2015-2019', 'Total accommodation and food services sales, 2012 ($1,000)(c)', 'Total health care and social assistance receipts/revenue, 2012 ($1,000)(c)', 'Total manufacturers shipments, 2012 ($1,000)(c)', 'Total merchant wholesaler sales, 2012 ($1,000)(c)', 'Total retail sales, 2012 ($1,000)(c)', 'Total retail sales per capita, 2012(c)', 'Mean travel time to work (minutes), workers age 16 years+, 2015-2019', 'Median household income (in 2019 dollars), 2015-2019', 'Per capita income in past 12 months (in 2019 dollars), 2015-2019', 'Persons in poverty, percent', 'Total employer establishments, 2018', 'Total employment, 2018', 'Total annual payroll, 2018 ($1,000)', 'Total employment, percent change, 2017-2018', 'Total nonemployer establishments, 2018', 'All firms, 2012', 'Men-owned firms, 2012', 'Women-owned firms, 2012', 'Minority-owned firms, 2012', 'Nonminority-owned firms, 2012', 'Veteran-owned firms, 2012', 'Nonveteran-owned firms, 2012', 'Population per square mile, 2010', 'Land area in square miles, 2010', 'FIPS Code']\n"
     ]
    },
    {
     "name": "stdout",
     "output_type": "stream",
     "text": [
      "['4,903,185', '4,903,185', '4,780,125', '2.6%', '4,779,736', '6.0%', '22.2%', '17.3%', '51.7%', '69.1%', '26.8%', '0.7%', '1.5%', '0.1%', '1.8%', '4.6%', '65.3%', '330,207', '3.5%', '2,284,847', '68.8%', '$142,700', '$1,186', '$363', '$792', '17,748', '1,867,893', '2.55', '86.3%', '5.3%', '85.5%', '76.4%', '86.2%', '25.5%', '11.6%', '11.7%', '57.1%', '52.3%', '7,576,462', '26,039,632', '124,809,759', '57,746,565', '58,564,965', '$12,145', '24.9', '$50,536', '$27,928', '15.5%', '100,267', '1,730,817', '76,223,039', '2.4%', '336,445', '374,153', '203,604', '137,630', '92,219', '272,651', '41,943', '316,984', '94.4', '50,645.33', '01']\n",
      "['Population estimates, July 1, 2019,  (V2019)', 'Population estimates, July 1, 2019,  (V2019)', 'Population estimates base, April 1, 2010,  (V2019)', 'Population, percent change - April 1, 2010 (estimates base) to July 1, 2019,  (V2019)', 'Population, Census, April 1, 2010', 'Persons under 5 years, percent', 'Persons under 18 years, percent', 'Persons 65 years and over, percent', 'Female persons, percent', 'White alone, percent', 'Black or African American alone, percent(a)', 'American Indian and Alaska Native alone, percent(a)', 'Asian alone, percent(a)', 'Native Hawaiian and Other Pacific Islander alone, percent(a)', 'Two or More Races, percent', 'Hispanic or Latino, percent(b)', 'White alone, not Hispanic or Latino, percent', 'Veterans, 2015-2019', 'Foreign born persons, percent, 2015-2019', 'Housing units,  July 1, 2019,  (V2019)', 'Owner-occupied housing unit rate, 2015-2019', 'Median value of owner-occupied housing units, 2015-2019', 'Median selected monthly owner costs -with a mortgage, 2015-2019', 'Median selected monthly owner costs -without a mortgage, 2015-2019', 'Median gross rent, 2015-2019', 'Building permits, 2019', 'Households, 2015-2019', 'Persons per household, 2015-2019', 'Living in same house 1 year ago, percent of persons age 1 year+, 2015-2019', 'Language other than English spoken at home, percent of persons age 5 years+, 2015-2019', 'Households with a computer, percent, 2015-2019', 'Households with a broadband Internet subscription, percent, 2015-2019', 'High school graduate or higher, percent of persons age 25 years+, 2015-2019', \"Bachelor's degree or higher, percent of persons age 25 years+, 2015-2019\", 'With a disability, under age 65 years, percent, 2015-2019', 'Persons  without health insurance, under age 65 years, percent', 'In civilian labor force, total, percent of population age 16 years+, 2015-2019', 'In civilian labor force, female, percent of population age 16 years+, 2015-2019', 'Total accommodation and food services sales, 2012 ($1,000)(c)', 'Total health care and social assistance receipts/revenue, 2012 ($1,000)(c)', 'Total manufacturers shipments, 2012 ($1,000)(c)', 'Total merchant wholesaler sales, 2012 ($1,000)(c)', 'Total retail sales, 2012 ($1,000)(c)', 'Total retail sales per capita, 2012(c)', 'Mean travel time to work (minutes), workers age 16 years+, 2015-2019', 'Median household income (in 2019 dollars), 2015-2019', 'Per capita income in past 12 months (in 2019 dollars), 2015-2019', 'Persons in poverty, percent', 'Total employer establishments, 2018', 'Total employment, 2018', 'Total annual payroll, 2018 ($1,000)', 'Total employment, percent change, 2017-2018', 'Total nonemployer establishments, 2018', 'All firms, 2012', 'Men-owned firms, 2012', 'Women-owned firms, 2012', 'Minority-owned firms, 2012', 'Nonminority-owned firms, 2012', 'Veteran-owned firms, 2012', 'Nonveteran-owned firms, 2012', 'Population per square mile, 2010', 'Land area in square miles, 2010', 'FIPS Code']\n",
      "['4,903,185', '4,903,185', '4,780,125', '2.6%', '4,779,736', '6.0%', '22.2%', '17.3%', '51.7%', '69.1%', '26.8%', '0.7%', '1.5%', '0.1%', '1.8%', '4.6%', '65.3%', '330,207', '3.5%', '2,284,847', '68.8%', '$142,700', '$1,186', '$363', '$792', '17,748', '1,867,893', '2.55', '86.3%', '5.3%', '85.5%', '76.4%', '86.2%', '25.5%', '11.6%', '11.7%', '57.1%', '52.3%', '7,576,462', '26,039,632', '124,809,759', '57,746,565', '58,564,965', '$12,145', '24.9', '$50,536', '$27,928', '15.5%', '100,267', '1,730,817', '76,223,039', '2.4%', '336,445', '374,153', '203,604', '137,630', '92,219', '272,651', '41,943', '316,984', '94.4', '50,645.33', '01']\n",
      "['Population estimates, July 1, 2019,  (V2019)', 'Population estimates, July 1, 2019,  (V2019)', 'Population estimates base, April 1, 2010,  (V2019)', 'Population, percent change - April 1, 2010 (estimates base) to July 1, 2019,  (V2019)', 'Population, Census, April 1, 2010', 'Persons under 5 years, percent', 'Persons under 18 years, percent', 'Persons 65 years and over, percent', 'Female persons, percent', 'White alone, percent', 'Black or African American alone, percent(a)', 'American Indian and Alaska Native alone, percent(a)', 'Asian alone, percent(a)', 'Native Hawaiian and Other Pacific Islander alone, percent(a)', 'Two or More Races, percent', 'Hispanic or Latino, percent(b)', 'White alone, not Hispanic or Latino, percent', 'Veterans, 2015-2019', 'Foreign born persons, percent, 2015-2019', 'Housing units,  July 1, 2019,  (V2019)', 'Owner-occupied housing unit rate, 2015-2019', 'Median value of owner-occupied housing units, 2015-2019', 'Median selected monthly owner costs -with a mortgage, 2015-2019', 'Median selected monthly owner costs -without a mortgage, 2015-2019', 'Median gross rent, 2015-2019', 'Building permits, 2019', 'Households, 2015-2019', 'Persons per household, 2015-2019', 'Living in same house 1 year ago, percent of persons age 1 year+, 2015-2019', 'Language other than English spoken at home, percent of persons age 5 years+, 2015-2019', 'Households with a computer, percent, 2015-2019', 'Households with a broadband Internet subscription, percent, 2015-2019', 'High school graduate or higher, percent of persons age 25 years+, 2015-2019', \"Bachelor's degree or higher, percent of persons age 25 years+, 2015-2019\", 'With a disability, under age 65 years, percent, 2015-2019', 'Persons  without health insurance, under age 65 years, percent', 'In civilian labor force, total, percent of population age 16 years+, 2015-2019', 'In civilian labor force, female, percent of population age 16 years+, 2015-2019', 'Total accommodation and food services sales, 2012 ($1,000)(c)', 'Total health care and social assistance receipts/revenue, 2012 ($1,000)(c)', 'Total manufacturers shipments, 2012 ($1,000)(c)', 'Total merchant wholesaler sales, 2012 ($1,000)(c)', 'Total retail sales, 2012 ($1,000)(c)', 'Total retail sales per capita, 2012(c)', 'Mean travel time to work (minutes), workers age 16 years+, 2015-2019', 'Median household income (in 2019 dollars), 2015-2019', 'Per capita income in past 12 months (in 2019 dollars), 2015-2019', 'Persons in poverty, percent', 'Total employer establishments, 2018', 'Total employment, 2018', 'Total annual payroll, 2018 ($1,000)', 'Total employment, percent change, 2017-2018', 'Total nonemployer establishments, 2018', 'All firms, 2012', 'Men-owned firms, 2012', 'Women-owned firms, 2012', 'Minority-owned firms, 2012', 'Nonminority-owned firms, 2012', 'Veteran-owned firms, 2012', 'Nonveteran-owned firms, 2012', 'Population per square mile, 2010', 'Land area in square miles, 2010', 'FIPS Code']\n",
      "['4,903,185', '4,903,185', '4,780,125', '2.6%', '4,779,736', '6.0%', '22.2%', '17.3%', '51.7%', '69.1%', '26.8%', '0.7%', '1.5%', '0.1%', '1.8%', '4.6%', '65.3%', '330,207', '3.5%', '2,284,847', '68.8%', '$142,700', '$1,186', '$363', '$792', '17,748', '1,867,893', '2.55', '86.3%', '5.3%', '85.5%', '76.4%', '86.2%', '25.5%', '11.6%', '11.7%', '57.1%', '52.3%', '7,576,462', '26,039,632', '124,809,759', '57,746,565', '58,564,965', '$12,145', '24.9', '$50,536', '$27,928', '15.5%', '100,267', '1,730,817', '76,223,039', '2.4%', '336,445', '374,153', '203,604', '137,630', '92,219', '272,651', '41,943', '316,984', '94.4', '50,645.33', '01']\n",
      "['Population estimates, July 1, 2019,  (V2019)', 'Population estimates, July 1, 2019,  (V2019)', 'Population estimates base, April 1, 2010,  (V2019)', 'Population, percent change - April 1, 2010 (estimates base) to July 1, 2019,  (V2019)', 'Population, Census, April 1, 2010', 'Persons under 5 years, percent', 'Persons under 18 years, percent', 'Persons 65 years and over, percent', 'Female persons, percent', 'White alone, percent', 'Black or African American alone, percent(a)', 'American Indian and Alaska Native alone, percent(a)', 'Asian alone, percent(a)', 'Native Hawaiian and Other Pacific Islander alone, percent(a)', 'Two or More Races, percent', 'Hispanic or Latino, percent(b)', 'White alone, not Hispanic or Latino, percent', 'Veterans, 2015-2019', 'Foreign born persons, percent, 2015-2019', 'Housing units,  July 1, 2019,  (V2019)', 'Owner-occupied housing unit rate, 2015-2019', 'Median value of owner-occupied housing units, 2015-2019', 'Median selected monthly owner costs -with a mortgage, 2015-2019', 'Median selected monthly owner costs -without a mortgage, 2015-2019', 'Median gross rent, 2015-2019', 'Building permits, 2019', 'Households, 2015-2019', 'Persons per household, 2015-2019', 'Living in same house 1 year ago, percent of persons age 1 year+, 2015-2019', 'Language other than English spoken at home, percent of persons age 5 years+, 2015-2019', 'Households with a computer, percent, 2015-2019', 'Households with a broadband Internet subscription, percent, 2015-2019', 'High school graduate or higher, percent of persons age 25 years+, 2015-2019', \"Bachelor's degree or higher, percent of persons age 25 years+, 2015-2019\", 'With a disability, under age 65 years, percent, 2015-2019', 'Persons  without health insurance, under age 65 years, percent', 'In civilian labor force, total, percent of population age 16 years+, 2015-2019', 'In civilian labor force, female, percent of population age 16 years+, 2015-2019', 'Total accommodation and food services sales, 2012 ($1,000)(c)', 'Total health care and social assistance receipts/revenue, 2012 ($1,000)(c)', 'Total manufacturers shipments, 2012 ($1,000)(c)', 'Total merchant wholesaler sales, 2012 ($1,000)(c)', 'Total retail sales, 2012 ($1,000)(c)', 'Total retail sales per capita, 2012(c)', 'Mean travel time to work (minutes), workers age 16 years+, 2015-2019', 'Median household income (in 2019 dollars), 2015-2019', 'Per capita income in past 12 months (in 2019 dollars), 2015-2019', 'Persons in poverty, percent', 'Total employer establishments, 2018', 'Total employment, 2018', 'Total annual payroll, 2018 ($1,000)', 'Total employment, percent change, 2017-2018', 'Total nonemployer establishments, 2018', 'All firms, 2012', 'Men-owned firms, 2012', 'Women-owned firms, 2012', 'Minority-owned firms, 2012', 'Nonminority-owned firms, 2012', 'Veteran-owned firms, 2012', 'Nonveteran-owned firms, 2012', 'Population per square mile, 2010', 'Land area in square miles, 2010', 'FIPS Code']\n"
     ]
    },
    {
     "name": "stdout",
     "output_type": "stream",
     "text": [
      "['4,903,185', '4,903,185', '4,780,125', '2.6%', '4,779,736', '6.0%', '22.2%', '17.3%', '51.7%', '69.1%', '26.8%', '0.7%', '1.5%', '0.1%', '1.8%', '4.6%', '65.3%', '330,207', '3.5%', '2,284,847', '68.8%', '$142,700', '$1,186', '$363', '$792', '17,748', '1,867,893', '2.55', '86.3%', '5.3%', '85.5%', '76.4%', '86.2%', '25.5%', '11.6%', '11.7%', '57.1%', '52.3%', '7,576,462', '26,039,632', '124,809,759', '57,746,565', '58,564,965', '$12,145', '24.9', '$50,536', '$27,928', '15.5%', '100,267', '1,730,817', '76,223,039', '2.4%', '336,445', '374,153', '203,604', '137,630', '92,219', '272,651', '41,943', '316,984', '94.4', '50,645.33', '01']\n",
      "['Population estimates, July 1, 2019,  (V2019)', 'Population estimates, July 1, 2019,  (V2019)', 'Population estimates base, April 1, 2010,  (V2019)', 'Population, percent change - April 1, 2010 (estimates base) to July 1, 2019,  (V2019)', 'Population, Census, April 1, 2010', 'Persons under 5 years, percent', 'Persons under 18 years, percent', 'Persons 65 years and over, percent', 'Female persons, percent', 'White alone, percent', 'Black or African American alone, percent(a)', 'American Indian and Alaska Native alone, percent(a)', 'Asian alone, percent(a)', 'Native Hawaiian and Other Pacific Islander alone, percent(a)', 'Two or More Races, percent', 'Hispanic or Latino, percent(b)', 'White alone, not Hispanic or Latino, percent', 'Veterans, 2015-2019', 'Foreign born persons, percent, 2015-2019', 'Housing units,  July 1, 2019,  (V2019)', 'Owner-occupied housing unit rate, 2015-2019', 'Median value of owner-occupied housing units, 2015-2019', 'Median selected monthly owner costs -with a mortgage, 2015-2019', 'Median selected monthly owner costs -without a mortgage, 2015-2019', 'Median gross rent, 2015-2019', 'Building permits, 2019', 'Households, 2015-2019', 'Persons per household, 2015-2019', 'Living in same house 1 year ago, percent of persons age 1 year+, 2015-2019', 'Language other than English spoken at home, percent of persons age 5 years+, 2015-2019', 'Households with a computer, percent, 2015-2019', 'Households with a broadband Internet subscription, percent, 2015-2019', 'High school graduate or higher, percent of persons age 25 years+, 2015-2019', \"Bachelor's degree or higher, percent of persons age 25 years+, 2015-2019\", 'With a disability, under age 65 years, percent, 2015-2019', 'Persons  without health insurance, under age 65 years, percent', 'In civilian labor force, total, percent of population age 16 years+, 2015-2019', 'In civilian labor force, female, percent of population age 16 years+, 2015-2019', 'Total accommodation and food services sales, 2012 ($1,000)(c)', 'Total health care and social assistance receipts/revenue, 2012 ($1,000)(c)', 'Total manufacturers shipments, 2012 ($1,000)(c)', 'Total merchant wholesaler sales, 2012 ($1,000)(c)', 'Total retail sales, 2012 ($1,000)(c)', 'Total retail sales per capita, 2012(c)', 'Mean travel time to work (minutes), workers age 16 years+, 2015-2019', 'Median household income (in 2019 dollars), 2015-2019', 'Per capita income in past 12 months (in 2019 dollars), 2015-2019', 'Persons in poverty, percent', 'Total employer establishments, 2018', 'Total employment, 2018', 'Total annual payroll, 2018 ($1,000)', 'Total employment, percent change, 2017-2018', 'Total nonemployer establishments, 2018', 'All firms, 2012', 'Men-owned firms, 2012', 'Women-owned firms, 2012', 'Minority-owned firms, 2012', 'Nonminority-owned firms, 2012', 'Veteran-owned firms, 2012', 'Nonveteran-owned firms, 2012', 'Population per square mile, 2010', 'Land area in square miles, 2010', 'FIPS Code']\n",
      "['4,903,185', '4,903,185', '4,780,125', '2.6%', '4,779,736', '6.0%', '22.2%', '17.3%', '51.7%', '69.1%', '26.8%', '0.7%', '1.5%', '0.1%', '1.8%', '4.6%', '65.3%', '330,207', '3.5%', '2,284,847', '68.8%', '$142,700', '$1,186', '$363', '$792', '17,748', '1,867,893', '2.55', '86.3%', '5.3%', '85.5%', '76.4%', '86.2%', '25.5%', '11.6%', '11.7%', '57.1%', '52.3%', '7,576,462', '26,039,632', '124,809,759', '57,746,565', '58,564,965', '$12,145', '24.9', '$50,536', '$27,928', '15.5%', '100,267', '1,730,817', '76,223,039', '2.4%', '336,445', '374,153', '203,604', '137,630', '92,219', '272,651', '41,943', '316,984', '94.4', '50,645.33', '01']\n",
      "['Population estimates, July 1, 2019,  (V2019)', 'Population estimates, July 1, 2019,  (V2019)', 'Population estimates base, April 1, 2010,  (V2019)', 'Population, percent change - April 1, 2010 (estimates base) to July 1, 2019,  (V2019)', 'Population, Census, April 1, 2010', 'Persons under 5 years, percent', 'Persons under 18 years, percent', 'Persons 65 years and over, percent', 'Female persons, percent', 'White alone, percent', 'Black or African American alone, percent(a)', 'American Indian and Alaska Native alone, percent(a)', 'Asian alone, percent(a)', 'Native Hawaiian and Other Pacific Islander alone, percent(a)', 'Two or More Races, percent', 'Hispanic or Latino, percent(b)', 'White alone, not Hispanic or Latino, percent', 'Veterans, 2015-2019', 'Foreign born persons, percent, 2015-2019', 'Housing units,  July 1, 2019,  (V2019)', 'Owner-occupied housing unit rate, 2015-2019', 'Median value of owner-occupied housing units, 2015-2019', 'Median selected monthly owner costs -with a mortgage, 2015-2019', 'Median selected monthly owner costs -without a mortgage, 2015-2019', 'Median gross rent, 2015-2019', 'Building permits, 2019', 'Households, 2015-2019', 'Persons per household, 2015-2019', 'Living in same house 1 year ago, percent of persons age 1 year+, 2015-2019', 'Language other than English spoken at home, percent of persons age 5 years+, 2015-2019', 'Households with a computer, percent, 2015-2019', 'Households with a broadband Internet subscription, percent, 2015-2019', 'High school graduate or higher, percent of persons age 25 years+, 2015-2019', \"Bachelor's degree or higher, percent of persons age 25 years+, 2015-2019\", 'With a disability, under age 65 years, percent, 2015-2019', 'Persons  without health insurance, under age 65 years, percent', 'In civilian labor force, total, percent of population age 16 years+, 2015-2019', 'In civilian labor force, female, percent of population age 16 years+, 2015-2019', 'Total accommodation and food services sales, 2012 ($1,000)(c)', 'Total health care and social assistance receipts/revenue, 2012 ($1,000)(c)', 'Total manufacturers shipments, 2012 ($1,000)(c)', 'Total merchant wholesaler sales, 2012 ($1,000)(c)', 'Total retail sales, 2012 ($1,000)(c)', 'Total retail sales per capita, 2012(c)', 'Mean travel time to work (minutes), workers age 16 years+, 2015-2019', 'Median household income (in 2019 dollars), 2015-2019', 'Per capita income in past 12 months (in 2019 dollars), 2015-2019', 'Persons in poverty, percent', 'Total employer establishments, 2018', 'Total employment, 2018', 'Total annual payroll, 2018 ($1,000)', 'Total employment, percent change, 2017-2018', 'Total nonemployer establishments, 2018', 'All firms, 2012', 'Men-owned firms, 2012', 'Women-owned firms, 2012', 'Minority-owned firms, 2012', 'Nonminority-owned firms, 2012', 'Veteran-owned firms, 2012', 'Nonveteran-owned firms, 2012', 'Population per square mile, 2010', 'Land area in square miles, 2010', 'FIPS Code']\n",
      "['4,903,185', '4,903,185', '4,780,125', '2.6%', '4,779,736', '6.0%', '22.2%', '17.3%', '51.7%', '69.1%', '26.8%', '0.7%', '1.5%', '0.1%', '1.8%', '4.6%', '65.3%', '330,207', '3.5%', '2,284,847', '68.8%', '$142,700', '$1,186', '$363', '$792', '17,748', '1,867,893', '2.55', '86.3%', '5.3%', '85.5%', '76.4%', '86.2%', '25.5%', '11.6%', '11.7%', '57.1%', '52.3%', '7,576,462', '26,039,632', '124,809,759', '57,746,565', '58,564,965', '$12,145', '24.9', '$50,536', '$27,928', '15.5%', '100,267', '1,730,817', '76,223,039', '2.4%', '336,445', '374,153', '203,604', '137,630', '92,219', '272,651', '41,943', '316,984', '94.4', '50,645.33', '01']\n",
      "['Population estimates, July 1, 2019,  (V2019)', 'Population estimates, July 1, 2019,  (V2019)', 'Population estimates base, April 1, 2010,  (V2019)', 'Population, percent change - April 1, 2010 (estimates base) to July 1, 2019,  (V2019)', 'Population, Census, April 1, 2010', 'Persons under 5 years, percent', 'Persons under 18 years, percent', 'Persons 65 years and over, percent', 'Female persons, percent', 'White alone, percent', 'Black or African American alone, percent(a)', 'American Indian and Alaska Native alone, percent(a)', 'Asian alone, percent(a)', 'Native Hawaiian and Other Pacific Islander alone, percent(a)', 'Two or More Races, percent', 'Hispanic or Latino, percent(b)', 'White alone, not Hispanic or Latino, percent', 'Veterans, 2015-2019', 'Foreign born persons, percent, 2015-2019', 'Housing units,  July 1, 2019,  (V2019)', 'Owner-occupied housing unit rate, 2015-2019', 'Median value of owner-occupied housing units, 2015-2019', 'Median selected monthly owner costs -with a mortgage, 2015-2019', 'Median selected monthly owner costs -without a mortgage, 2015-2019', 'Median gross rent, 2015-2019', 'Building permits, 2019', 'Households, 2015-2019', 'Persons per household, 2015-2019', 'Living in same house 1 year ago, percent of persons age 1 year+, 2015-2019', 'Language other than English spoken at home, percent of persons age 5 years+, 2015-2019', 'Households with a computer, percent, 2015-2019', 'Households with a broadband Internet subscription, percent, 2015-2019', 'High school graduate or higher, percent of persons age 25 years+, 2015-2019', \"Bachelor's degree or higher, percent of persons age 25 years+, 2015-2019\", 'With a disability, under age 65 years, percent, 2015-2019', 'Persons  without health insurance, under age 65 years, percent', 'In civilian labor force, total, percent of population age 16 years+, 2015-2019', 'In civilian labor force, female, percent of population age 16 years+, 2015-2019', 'Total accommodation and food services sales, 2012 ($1,000)(c)', 'Total health care and social assistance receipts/revenue, 2012 ($1,000)(c)', 'Total manufacturers shipments, 2012 ($1,000)(c)', 'Total merchant wholesaler sales, 2012 ($1,000)(c)', 'Total retail sales, 2012 ($1,000)(c)', 'Total retail sales per capita, 2012(c)', 'Mean travel time to work (minutes), workers age 16 years+, 2015-2019', 'Median household income (in 2019 dollars), 2015-2019', 'Per capita income in past 12 months (in 2019 dollars), 2015-2019', 'Persons in poverty, percent', 'Total employer establishments, 2018', 'Total employment, 2018', 'Total annual payroll, 2018 ($1,000)', 'Total employment, percent change, 2017-2018', 'Total nonemployer establishments, 2018', 'All firms, 2012', 'Men-owned firms, 2012', 'Women-owned firms, 2012', 'Minority-owned firms, 2012', 'Nonminority-owned firms, 2012', 'Veteran-owned firms, 2012', 'Nonveteran-owned firms, 2012', 'Population per square mile, 2010', 'Land area in square miles, 2010', 'FIPS Code']\n"
     ]
    },
    {
     "name": "stdout",
     "output_type": "stream",
     "text": [
      "['4,903,185', '4,903,185', '4,780,125', '2.6%', '4,779,736', '6.0%', '22.2%', '17.3%', '51.7%', '69.1%', '26.8%', '0.7%', '1.5%', '0.1%', '1.8%', '4.6%', '65.3%', '330,207', '3.5%', '2,284,847', '68.8%', '$142,700', '$1,186', '$363', '$792', '17,748', '1,867,893', '2.55', '86.3%', '5.3%', '85.5%', '76.4%', '86.2%', '25.5%', '11.6%', '11.7%', '57.1%', '52.3%', '7,576,462', '26,039,632', '124,809,759', '57,746,565', '58,564,965', '$12,145', '24.9', '$50,536', '$27,928', '15.5%', '100,267', '1,730,817', '76,223,039', '2.4%', '336,445', '374,153', '203,604', '137,630', '92,219', '272,651', '41,943', '316,984', '94.4', '50,645.33', '01']\n",
      "['Population estimates, July 1, 2019,  (V2019)', 'Population estimates, July 1, 2019,  (V2019)', 'Population estimates base, April 1, 2010,  (V2019)', 'Population, percent change - April 1, 2010 (estimates base) to July 1, 2019,  (V2019)', 'Population, Census, April 1, 2010', 'Persons under 5 years, percent', 'Persons under 18 years, percent', 'Persons 65 years and over, percent', 'Female persons, percent', 'White alone, percent', 'Black or African American alone, percent(a)', 'American Indian and Alaska Native alone, percent(a)', 'Asian alone, percent(a)', 'Native Hawaiian and Other Pacific Islander alone, percent(a)', 'Two or More Races, percent', 'Hispanic or Latino, percent(b)', 'White alone, not Hispanic or Latino, percent', 'Veterans, 2015-2019', 'Foreign born persons, percent, 2015-2019', 'Housing units,  July 1, 2019,  (V2019)', 'Owner-occupied housing unit rate, 2015-2019', 'Median value of owner-occupied housing units, 2015-2019', 'Median selected monthly owner costs -with a mortgage, 2015-2019', 'Median selected monthly owner costs -without a mortgage, 2015-2019', 'Median gross rent, 2015-2019', 'Building permits, 2019', 'Households, 2015-2019', 'Persons per household, 2015-2019', 'Living in same house 1 year ago, percent of persons age 1 year+, 2015-2019', 'Language other than English spoken at home, percent of persons age 5 years+, 2015-2019', 'Households with a computer, percent, 2015-2019', 'Households with a broadband Internet subscription, percent, 2015-2019', 'High school graduate or higher, percent of persons age 25 years+, 2015-2019', \"Bachelor's degree or higher, percent of persons age 25 years+, 2015-2019\", 'With a disability, under age 65 years, percent, 2015-2019', 'Persons  without health insurance, under age 65 years, percent', 'In civilian labor force, total, percent of population age 16 years+, 2015-2019', 'In civilian labor force, female, percent of population age 16 years+, 2015-2019', 'Total accommodation and food services sales, 2012 ($1,000)(c)', 'Total health care and social assistance receipts/revenue, 2012 ($1,000)(c)', 'Total manufacturers shipments, 2012 ($1,000)(c)', 'Total merchant wholesaler sales, 2012 ($1,000)(c)', 'Total retail sales, 2012 ($1,000)(c)', 'Total retail sales per capita, 2012(c)', 'Mean travel time to work (minutes), workers age 16 years+, 2015-2019', 'Median household income (in 2019 dollars), 2015-2019', 'Per capita income in past 12 months (in 2019 dollars), 2015-2019', 'Persons in poverty, percent', 'Total employer establishments, 2018', 'Total employment, 2018', 'Total annual payroll, 2018 ($1,000)', 'Total employment, percent change, 2017-2018', 'Total nonemployer establishments, 2018', 'All firms, 2012', 'Men-owned firms, 2012', 'Women-owned firms, 2012', 'Minority-owned firms, 2012', 'Nonminority-owned firms, 2012', 'Veteran-owned firms, 2012', 'Nonveteran-owned firms, 2012', 'Population per square mile, 2010', 'Land area in square miles, 2010', 'FIPS Code']\n",
      "['4,903,185', '4,903,185', '4,780,125', '2.6%', '4,779,736', '6.0%', '22.2%', '17.3%', '51.7%', '69.1%', '26.8%', '0.7%', '1.5%', '0.1%', '1.8%', '4.6%', '65.3%', '330,207', '3.5%', '2,284,847', '68.8%', '$142,700', '$1,186', '$363', '$792', '17,748', '1,867,893', '2.55', '86.3%', '5.3%', '85.5%', '76.4%', '86.2%', '25.5%', '11.6%', '11.7%', '57.1%', '52.3%', '7,576,462', '26,039,632', '124,809,759', '57,746,565', '58,564,965', '$12,145', '24.9', '$50,536', '$27,928', '15.5%', '100,267', '1,730,817', '76,223,039', '2.4%', '336,445', '374,153', '203,604', '137,630', '92,219', '272,651', '41,943', '316,984', '94.4', '50,645.33', '01']\n",
      "['Population estimates, July 1, 2019,  (V2019)', 'Population estimates, July 1, 2019,  (V2019)', 'Population estimates base, April 1, 2010,  (V2019)', 'Population, percent change - April 1, 2010 (estimates base) to July 1, 2019,  (V2019)', 'Population, Census, April 1, 2010', 'Persons under 5 years, percent', 'Persons under 18 years, percent', 'Persons 65 years and over, percent', 'Female persons, percent', 'White alone, percent', 'Black or African American alone, percent(a)', 'American Indian and Alaska Native alone, percent(a)', 'Asian alone, percent(a)', 'Native Hawaiian and Other Pacific Islander alone, percent(a)', 'Two or More Races, percent', 'Hispanic or Latino, percent(b)', 'White alone, not Hispanic or Latino, percent', 'Veterans, 2015-2019', 'Foreign born persons, percent, 2015-2019', 'Housing units,  July 1, 2019,  (V2019)', 'Owner-occupied housing unit rate, 2015-2019', 'Median value of owner-occupied housing units, 2015-2019', 'Median selected monthly owner costs -with a mortgage, 2015-2019', 'Median selected monthly owner costs -without a mortgage, 2015-2019', 'Median gross rent, 2015-2019', 'Building permits, 2019', 'Households, 2015-2019', 'Persons per household, 2015-2019', 'Living in same house 1 year ago, percent of persons age 1 year+, 2015-2019', 'Language other than English spoken at home, percent of persons age 5 years+, 2015-2019', 'Households with a computer, percent, 2015-2019', 'Households with a broadband Internet subscription, percent, 2015-2019', 'High school graduate or higher, percent of persons age 25 years+, 2015-2019', \"Bachelor's degree or higher, percent of persons age 25 years+, 2015-2019\", 'With a disability, under age 65 years, percent, 2015-2019', 'Persons  without health insurance, under age 65 years, percent', 'In civilian labor force, total, percent of population age 16 years+, 2015-2019', 'In civilian labor force, female, percent of population age 16 years+, 2015-2019', 'Total accommodation and food services sales, 2012 ($1,000)(c)', 'Total health care and social assistance receipts/revenue, 2012 ($1,000)(c)', 'Total manufacturers shipments, 2012 ($1,000)(c)', 'Total merchant wholesaler sales, 2012 ($1,000)(c)', 'Total retail sales, 2012 ($1,000)(c)', 'Total retail sales per capita, 2012(c)', 'Mean travel time to work (minutes), workers age 16 years+, 2015-2019', 'Median household income (in 2019 dollars), 2015-2019', 'Per capita income in past 12 months (in 2019 dollars), 2015-2019', 'Persons in poverty, percent', 'Total employer establishments, 2018', 'Total employment, 2018', 'Total annual payroll, 2018 ($1,000)', 'Total employment, percent change, 2017-2018', 'Total nonemployer establishments, 2018', 'All firms, 2012', 'Men-owned firms, 2012', 'Women-owned firms, 2012', 'Minority-owned firms, 2012', 'Nonminority-owned firms, 2012', 'Veteran-owned firms, 2012', 'Nonveteran-owned firms, 2012', 'Population per square mile, 2010', 'Land area in square miles, 2010', 'FIPS Code']\n",
      "['4,903,185', '4,903,185', '4,780,125', '2.6%', '4,779,736', '6.0%', '22.2%', '17.3%', '51.7%', '69.1%', '26.8%', '0.7%', '1.5%', '0.1%', '1.8%', '4.6%', '65.3%', '330,207', '3.5%', '2,284,847', '68.8%', '$142,700', '$1,186', '$363', '$792', '17,748', '1,867,893', '2.55', '86.3%', '5.3%', '85.5%', '76.4%', '86.2%', '25.5%', '11.6%', '11.7%', '57.1%', '52.3%', '7,576,462', '26,039,632', '124,809,759', '57,746,565', '58,564,965', '$12,145', '24.9', '$50,536', '$27,928', '15.5%', '100,267', '1,730,817', '76,223,039', '2.4%', '336,445', '374,153', '203,604', '137,630', '92,219', '272,651', '41,943', '316,984', '94.4', '50,645.33', '01']\n",
      "['Population estimates, July 1, 2019,  (V2019)', 'Population estimates, July 1, 2019,  (V2019)', 'Population estimates base, April 1, 2010,  (V2019)', 'Population, percent change - April 1, 2010 (estimates base) to July 1, 2019,  (V2019)', 'Population, Census, April 1, 2010', 'Persons under 5 years, percent', 'Persons under 18 years, percent', 'Persons 65 years and over, percent', 'Female persons, percent', 'White alone, percent', 'Black or African American alone, percent(a)', 'American Indian and Alaska Native alone, percent(a)', 'Asian alone, percent(a)', 'Native Hawaiian and Other Pacific Islander alone, percent(a)', 'Two or More Races, percent', 'Hispanic or Latino, percent(b)', 'White alone, not Hispanic or Latino, percent', 'Veterans, 2015-2019', 'Foreign born persons, percent, 2015-2019', 'Housing units,  July 1, 2019,  (V2019)', 'Owner-occupied housing unit rate, 2015-2019', 'Median value of owner-occupied housing units, 2015-2019', 'Median selected monthly owner costs -with a mortgage, 2015-2019', 'Median selected monthly owner costs -without a mortgage, 2015-2019', 'Median gross rent, 2015-2019', 'Building permits, 2019', 'Households, 2015-2019', 'Persons per household, 2015-2019', 'Living in same house 1 year ago, percent of persons age 1 year+, 2015-2019', 'Language other than English spoken at home, percent of persons age 5 years+, 2015-2019', 'Households with a computer, percent, 2015-2019', 'Households with a broadband Internet subscription, percent, 2015-2019', 'High school graduate or higher, percent of persons age 25 years+, 2015-2019', \"Bachelor's degree or higher, percent of persons age 25 years+, 2015-2019\", 'With a disability, under age 65 years, percent, 2015-2019', 'Persons  without health insurance, under age 65 years, percent', 'In civilian labor force, total, percent of population age 16 years+, 2015-2019', 'In civilian labor force, female, percent of population age 16 years+, 2015-2019', 'Total accommodation and food services sales, 2012 ($1,000)(c)', 'Total health care and social assistance receipts/revenue, 2012 ($1,000)(c)', 'Total manufacturers shipments, 2012 ($1,000)(c)', 'Total merchant wholesaler sales, 2012 ($1,000)(c)', 'Total retail sales, 2012 ($1,000)(c)', 'Total retail sales per capita, 2012(c)', 'Mean travel time to work (minutes), workers age 16 years+, 2015-2019', 'Median household income (in 2019 dollars), 2015-2019', 'Per capita income in past 12 months (in 2019 dollars), 2015-2019', 'Persons in poverty, percent', 'Total employer establishments, 2018', 'Total employment, 2018', 'Total annual payroll, 2018 ($1,000)', 'Total employment, percent change, 2017-2018', 'Total nonemployer establishments, 2018', 'All firms, 2012', 'Men-owned firms, 2012', 'Women-owned firms, 2012', 'Minority-owned firms, 2012', 'Nonminority-owned firms, 2012', 'Veteran-owned firms, 2012', 'Nonveteran-owned firms, 2012', 'Population per square mile, 2010', 'Land area in square miles, 2010', 'FIPS Code']\n"
     ]
    },
    {
     "name": "stdout",
     "output_type": "stream",
     "text": [
      "['4,903,185', '4,903,185', '4,780,125', '2.6%', '4,779,736', '6.0%', '22.2%', '17.3%', '51.7%', '69.1%', '26.8%', '0.7%', '1.5%', '0.1%', '1.8%', '4.6%', '65.3%', '330,207', '3.5%', '2,284,847', '68.8%', '$142,700', '$1,186', '$363', '$792', '17,748', '1,867,893', '2.55', '86.3%', '5.3%', '85.5%', '76.4%', '86.2%', '25.5%', '11.6%', '11.7%', '57.1%', '52.3%', '7,576,462', '26,039,632', '124,809,759', '57,746,565', '58,564,965', '$12,145', '24.9', '$50,536', '$27,928', '15.5%', '100,267', '1,730,817', '76,223,039', '2.4%', '336,445', '374,153', '203,604', '137,630', '92,219', '272,651', '41,943', '316,984', '94.4', '50,645.33', '01']\n",
      "['Population estimates, July 1, 2019,  (V2019)', 'Population estimates, July 1, 2019,  (V2019)', 'Population estimates base, April 1, 2010,  (V2019)', 'Population, percent change - April 1, 2010 (estimates base) to July 1, 2019,  (V2019)', 'Population, Census, April 1, 2010', 'Persons under 5 years, percent', 'Persons under 18 years, percent', 'Persons 65 years and over, percent', 'Female persons, percent', 'White alone, percent', 'Black or African American alone, percent(a)', 'American Indian and Alaska Native alone, percent(a)', 'Asian alone, percent(a)', 'Native Hawaiian and Other Pacific Islander alone, percent(a)', 'Two or More Races, percent', 'Hispanic or Latino, percent(b)', 'White alone, not Hispanic or Latino, percent', 'Veterans, 2015-2019', 'Foreign born persons, percent, 2015-2019', 'Housing units,  July 1, 2019,  (V2019)', 'Owner-occupied housing unit rate, 2015-2019', 'Median value of owner-occupied housing units, 2015-2019', 'Median selected monthly owner costs -with a mortgage, 2015-2019', 'Median selected monthly owner costs -without a mortgage, 2015-2019', 'Median gross rent, 2015-2019', 'Building permits, 2019', 'Households, 2015-2019', 'Persons per household, 2015-2019', 'Living in same house 1 year ago, percent of persons age 1 year+, 2015-2019', 'Language other than English spoken at home, percent of persons age 5 years+, 2015-2019', 'Households with a computer, percent, 2015-2019', 'Households with a broadband Internet subscription, percent, 2015-2019', 'High school graduate or higher, percent of persons age 25 years+, 2015-2019', \"Bachelor's degree or higher, percent of persons age 25 years+, 2015-2019\", 'With a disability, under age 65 years, percent, 2015-2019', 'Persons  without health insurance, under age 65 years, percent', 'In civilian labor force, total, percent of population age 16 years+, 2015-2019', 'In civilian labor force, female, percent of population age 16 years+, 2015-2019', 'Total accommodation and food services sales, 2012 ($1,000)(c)', 'Total health care and social assistance receipts/revenue, 2012 ($1,000)(c)', 'Total manufacturers shipments, 2012 ($1,000)(c)', 'Total merchant wholesaler sales, 2012 ($1,000)(c)', 'Total retail sales, 2012 ($1,000)(c)', 'Total retail sales per capita, 2012(c)', 'Mean travel time to work (minutes), workers age 16 years+, 2015-2019', 'Median household income (in 2019 dollars), 2015-2019', 'Per capita income in past 12 months (in 2019 dollars), 2015-2019', 'Persons in poverty, percent', 'Total employer establishments, 2018', 'Total employment, 2018', 'Total annual payroll, 2018 ($1,000)', 'Total employment, percent change, 2017-2018', 'Total nonemployer establishments, 2018', 'All firms, 2012', 'Men-owned firms, 2012', 'Women-owned firms, 2012', 'Minority-owned firms, 2012', 'Nonminority-owned firms, 2012', 'Veteran-owned firms, 2012', 'Nonveteran-owned firms, 2012', 'Population per square mile, 2010', 'Land area in square miles, 2010', 'FIPS Code']\n",
      "['4,903,185', '4,903,185', '4,780,125', '2.6%', '4,779,736', '6.0%', '22.2%', '17.3%', '51.7%', '69.1%', '26.8%', '0.7%', '1.5%', '0.1%', '1.8%', '4.6%', '65.3%', '330,207', '3.5%', '2,284,847', '68.8%', '$142,700', '$1,186', '$363', '$792', '17,748', '1,867,893', '2.55', '86.3%', '5.3%', '85.5%', '76.4%', '86.2%', '25.5%', '11.6%', '11.7%', '57.1%', '52.3%', '7,576,462', '26,039,632', '124,809,759', '57,746,565', '58,564,965', '$12,145', '24.9', '$50,536', '$27,928', '15.5%', '100,267', '1,730,817', '76,223,039', '2.4%', '336,445', '374,153', '203,604', '137,630', '92,219', '272,651', '41,943', '316,984', '94.4', '50,645.33', '01']\n",
      "['Population estimates, July 1, 2019,  (V2019)', 'Population estimates, July 1, 2019,  (V2019)', 'Population estimates base, April 1, 2010,  (V2019)', 'Population, percent change - April 1, 2010 (estimates base) to July 1, 2019,  (V2019)', 'Population, Census, April 1, 2010', 'Persons under 5 years, percent', 'Persons under 18 years, percent', 'Persons 65 years and over, percent', 'Female persons, percent', 'White alone, percent', 'Black or African American alone, percent(a)', 'American Indian and Alaska Native alone, percent(a)', 'Asian alone, percent(a)', 'Native Hawaiian and Other Pacific Islander alone, percent(a)', 'Two or More Races, percent', 'Hispanic or Latino, percent(b)', 'White alone, not Hispanic or Latino, percent', 'Veterans, 2015-2019', 'Foreign born persons, percent, 2015-2019', 'Housing units,  July 1, 2019,  (V2019)', 'Owner-occupied housing unit rate, 2015-2019', 'Median value of owner-occupied housing units, 2015-2019', 'Median selected monthly owner costs -with a mortgage, 2015-2019', 'Median selected monthly owner costs -without a mortgage, 2015-2019', 'Median gross rent, 2015-2019', 'Building permits, 2019', 'Households, 2015-2019', 'Persons per household, 2015-2019', 'Living in same house 1 year ago, percent of persons age 1 year+, 2015-2019', 'Language other than English spoken at home, percent of persons age 5 years+, 2015-2019', 'Households with a computer, percent, 2015-2019', 'Households with a broadband Internet subscription, percent, 2015-2019', 'High school graduate or higher, percent of persons age 25 years+, 2015-2019', \"Bachelor's degree or higher, percent of persons age 25 years+, 2015-2019\", 'With a disability, under age 65 years, percent, 2015-2019', 'Persons  without health insurance, under age 65 years, percent', 'In civilian labor force, total, percent of population age 16 years+, 2015-2019', 'In civilian labor force, female, percent of population age 16 years+, 2015-2019', 'Total accommodation and food services sales, 2012 ($1,000)(c)', 'Total health care and social assistance receipts/revenue, 2012 ($1,000)(c)', 'Total manufacturers shipments, 2012 ($1,000)(c)', 'Total merchant wholesaler sales, 2012 ($1,000)(c)', 'Total retail sales, 2012 ($1,000)(c)', 'Total retail sales per capita, 2012(c)', 'Mean travel time to work (minutes), workers age 16 years+, 2015-2019', 'Median household income (in 2019 dollars), 2015-2019', 'Per capita income in past 12 months (in 2019 dollars), 2015-2019', 'Persons in poverty, percent', 'Total employer establishments, 2018', 'Total employment, 2018', 'Total annual payroll, 2018 ($1,000)', 'Total employment, percent change, 2017-2018', 'Total nonemployer establishments, 2018', 'All firms, 2012', 'Men-owned firms, 2012', 'Women-owned firms, 2012', 'Minority-owned firms, 2012', 'Nonminority-owned firms, 2012', 'Veteran-owned firms, 2012', 'Nonveteran-owned firms, 2012', 'Population per square mile, 2010', 'Land area in square miles, 2010', 'FIPS Code']\n",
      "['4,903,185', '4,903,185', '4,780,125', '2.6%', '4,779,736', '6.0%', '22.2%', '17.3%', '51.7%', '69.1%', '26.8%', '0.7%', '1.5%', '0.1%', '1.8%', '4.6%', '65.3%', '330,207', '3.5%', '2,284,847', '68.8%', '$142,700', '$1,186', '$363', '$792', '17,748', '1,867,893', '2.55', '86.3%', '5.3%', '85.5%', '76.4%', '86.2%', '25.5%', '11.6%', '11.7%', '57.1%', '52.3%', '7,576,462', '26,039,632', '124,809,759', '57,746,565', '58,564,965', '$12,145', '24.9', '$50,536', '$27,928', '15.5%', '100,267', '1,730,817', '76,223,039', '2.4%', '336,445', '374,153', '203,604', '137,630', '92,219', '272,651', '41,943', '316,984', '94.4', '50,645.33', '01']\n",
      "['Population estimates, July 1, 2019,  (V2019)', 'Population estimates, July 1, 2019,  (V2019)', 'Population estimates base, April 1, 2010,  (V2019)', 'Population, percent change - April 1, 2010 (estimates base) to July 1, 2019,  (V2019)', 'Population, Census, April 1, 2010', 'Persons under 5 years, percent', 'Persons under 18 years, percent', 'Persons 65 years and over, percent', 'Female persons, percent', 'White alone, percent', 'Black or African American alone, percent(a)', 'American Indian and Alaska Native alone, percent(a)', 'Asian alone, percent(a)', 'Native Hawaiian and Other Pacific Islander alone, percent(a)', 'Two or More Races, percent', 'Hispanic or Latino, percent(b)', 'White alone, not Hispanic or Latino, percent', 'Veterans, 2015-2019', 'Foreign born persons, percent, 2015-2019', 'Housing units,  July 1, 2019,  (V2019)', 'Owner-occupied housing unit rate, 2015-2019', 'Median value of owner-occupied housing units, 2015-2019', 'Median selected monthly owner costs -with a mortgage, 2015-2019', 'Median selected monthly owner costs -without a mortgage, 2015-2019', 'Median gross rent, 2015-2019', 'Building permits, 2019', 'Households, 2015-2019', 'Persons per household, 2015-2019', 'Living in same house 1 year ago, percent of persons age 1 year+, 2015-2019', 'Language other than English spoken at home, percent of persons age 5 years+, 2015-2019', 'Households with a computer, percent, 2015-2019', 'Households with a broadband Internet subscription, percent, 2015-2019', 'High school graduate or higher, percent of persons age 25 years+, 2015-2019', \"Bachelor's degree or higher, percent of persons age 25 years+, 2015-2019\", 'With a disability, under age 65 years, percent, 2015-2019', 'Persons  without health insurance, under age 65 years, percent', 'In civilian labor force, total, percent of population age 16 years+, 2015-2019', 'In civilian labor force, female, percent of population age 16 years+, 2015-2019', 'Total accommodation and food services sales, 2012 ($1,000)(c)', 'Total health care and social assistance receipts/revenue, 2012 ($1,000)(c)', 'Total manufacturers shipments, 2012 ($1,000)(c)', 'Total merchant wholesaler sales, 2012 ($1,000)(c)', 'Total retail sales, 2012 ($1,000)(c)', 'Total retail sales per capita, 2012(c)', 'Mean travel time to work (minutes), workers age 16 years+, 2015-2019', 'Median household income (in 2019 dollars), 2015-2019', 'Per capita income in past 12 months (in 2019 dollars), 2015-2019', 'Persons in poverty, percent', 'Total employer establishments, 2018', 'Total employment, 2018', 'Total annual payroll, 2018 ($1,000)', 'Total employment, percent change, 2017-2018', 'Total nonemployer establishments, 2018', 'All firms, 2012', 'Men-owned firms, 2012', 'Women-owned firms, 2012', 'Minority-owned firms, 2012', 'Nonminority-owned firms, 2012', 'Veteran-owned firms, 2012', 'Nonveteran-owned firms, 2012', 'Population per square mile, 2010', 'Land area in square miles, 2010', 'FIPS Code']\n"
     ]
    },
    {
     "name": "stdout",
     "output_type": "stream",
     "text": [
      "['4,903,185', '4,903,185', '4,780,125', '2.6%', '4,779,736', '6.0%', '22.2%', '17.3%', '51.7%', '69.1%', '26.8%', '0.7%', '1.5%', '0.1%', '1.8%', '4.6%', '65.3%', '330,207', '3.5%', '2,284,847', '68.8%', '$142,700', '$1,186', '$363', '$792', '17,748', '1,867,893', '2.55', '86.3%', '5.3%', '85.5%', '76.4%', '86.2%', '25.5%', '11.6%', '11.7%', '57.1%', '52.3%', '7,576,462', '26,039,632', '124,809,759', '57,746,565', '58,564,965', '$12,145', '24.9', '$50,536', '$27,928', '15.5%', '100,267', '1,730,817', '76,223,039', '2.4%', '336,445', '374,153', '203,604', '137,630', '92,219', '272,651', '41,943', '316,984', '94.4', '50,645.33', '01']\n",
      "['Population estimates, July 1, 2019,  (V2019)', 'Population estimates, July 1, 2019,  (V2019)', 'Population estimates base, April 1, 2010,  (V2019)', 'Population, percent change - April 1, 2010 (estimates base) to July 1, 2019,  (V2019)', 'Population, Census, April 1, 2010', 'Persons under 5 years, percent', 'Persons under 18 years, percent', 'Persons 65 years and over, percent', 'Female persons, percent', 'White alone, percent', 'Black or African American alone, percent(a)', 'American Indian and Alaska Native alone, percent(a)', 'Asian alone, percent(a)', 'Native Hawaiian and Other Pacific Islander alone, percent(a)', 'Two or More Races, percent', 'Hispanic or Latino, percent(b)', 'White alone, not Hispanic or Latino, percent', 'Veterans, 2015-2019', 'Foreign born persons, percent, 2015-2019', 'Housing units,  July 1, 2019,  (V2019)', 'Owner-occupied housing unit rate, 2015-2019', 'Median value of owner-occupied housing units, 2015-2019', 'Median selected monthly owner costs -with a mortgage, 2015-2019', 'Median selected monthly owner costs -without a mortgage, 2015-2019', 'Median gross rent, 2015-2019', 'Building permits, 2019', 'Households, 2015-2019', 'Persons per household, 2015-2019', 'Living in same house 1 year ago, percent of persons age 1 year+, 2015-2019', 'Language other than English spoken at home, percent of persons age 5 years+, 2015-2019', 'Households with a computer, percent, 2015-2019', 'Households with a broadband Internet subscription, percent, 2015-2019', 'High school graduate or higher, percent of persons age 25 years+, 2015-2019', \"Bachelor's degree or higher, percent of persons age 25 years+, 2015-2019\", 'With a disability, under age 65 years, percent, 2015-2019', 'Persons  without health insurance, under age 65 years, percent', 'In civilian labor force, total, percent of population age 16 years+, 2015-2019', 'In civilian labor force, female, percent of population age 16 years+, 2015-2019', 'Total accommodation and food services sales, 2012 ($1,000)(c)', 'Total health care and social assistance receipts/revenue, 2012 ($1,000)(c)', 'Total manufacturers shipments, 2012 ($1,000)(c)', 'Total merchant wholesaler sales, 2012 ($1,000)(c)', 'Total retail sales, 2012 ($1,000)(c)', 'Total retail sales per capita, 2012(c)', 'Mean travel time to work (minutes), workers age 16 years+, 2015-2019', 'Median household income (in 2019 dollars), 2015-2019', 'Per capita income in past 12 months (in 2019 dollars), 2015-2019', 'Persons in poverty, percent', 'Total employer establishments, 2018', 'Total employment, 2018', 'Total annual payroll, 2018 ($1,000)', 'Total employment, percent change, 2017-2018', 'Total nonemployer establishments, 2018', 'All firms, 2012', 'Men-owned firms, 2012', 'Women-owned firms, 2012', 'Minority-owned firms, 2012', 'Nonminority-owned firms, 2012', 'Veteran-owned firms, 2012', 'Nonveteran-owned firms, 2012', 'Population per square mile, 2010', 'Land area in square miles, 2010', 'FIPS Code']\n",
      "['4,903,185', '4,903,185', '4,780,125', '2.6%', '4,779,736', '6.0%', '22.2%', '17.3%', '51.7%', '69.1%', '26.8%', '0.7%', '1.5%', '0.1%', '1.8%', '4.6%', '65.3%', '330,207', '3.5%', '2,284,847', '68.8%', '$142,700', '$1,186', '$363', '$792', '17,748', '1,867,893', '2.55', '86.3%', '5.3%', '85.5%', '76.4%', '86.2%', '25.5%', '11.6%', '11.7%', '57.1%', '52.3%', '7,576,462', '26,039,632', '124,809,759', '57,746,565', '58,564,965', '$12,145', '24.9', '$50,536', '$27,928', '15.5%', '100,267', '1,730,817', '76,223,039', '2.4%', '336,445', '374,153', '203,604', '137,630', '92,219', '272,651', '41,943', '316,984', '94.4', '50,645.33', '01']\n",
      "['Population estimates, July 1, 2019,  (V2019)', 'Population estimates, July 1, 2019,  (V2019)', 'Population estimates base, April 1, 2010,  (V2019)', 'Population, percent change - April 1, 2010 (estimates base) to July 1, 2019,  (V2019)', 'Population, Census, April 1, 2010', 'Persons under 5 years, percent', 'Persons under 18 years, percent', 'Persons 65 years and over, percent', 'Female persons, percent', 'White alone, percent', 'Black or African American alone, percent(a)', 'American Indian and Alaska Native alone, percent(a)', 'Asian alone, percent(a)', 'Native Hawaiian and Other Pacific Islander alone, percent(a)', 'Two or More Races, percent', 'Hispanic or Latino, percent(b)', 'White alone, not Hispanic or Latino, percent', 'Veterans, 2015-2019', 'Foreign born persons, percent, 2015-2019', 'Housing units,  July 1, 2019,  (V2019)', 'Owner-occupied housing unit rate, 2015-2019', 'Median value of owner-occupied housing units, 2015-2019', 'Median selected monthly owner costs -with a mortgage, 2015-2019', 'Median selected monthly owner costs -without a mortgage, 2015-2019', 'Median gross rent, 2015-2019', 'Building permits, 2019', 'Households, 2015-2019', 'Persons per household, 2015-2019', 'Living in same house 1 year ago, percent of persons age 1 year+, 2015-2019', 'Language other than English spoken at home, percent of persons age 5 years+, 2015-2019', 'Households with a computer, percent, 2015-2019', 'Households with a broadband Internet subscription, percent, 2015-2019', 'High school graduate or higher, percent of persons age 25 years+, 2015-2019', \"Bachelor's degree or higher, percent of persons age 25 years+, 2015-2019\", 'With a disability, under age 65 years, percent, 2015-2019', 'Persons  without health insurance, under age 65 years, percent', 'In civilian labor force, total, percent of population age 16 years+, 2015-2019', 'In civilian labor force, female, percent of population age 16 years+, 2015-2019', 'Total accommodation and food services sales, 2012 ($1,000)(c)', 'Total health care and social assistance receipts/revenue, 2012 ($1,000)(c)', 'Total manufacturers shipments, 2012 ($1,000)(c)', 'Total merchant wholesaler sales, 2012 ($1,000)(c)', 'Total retail sales, 2012 ($1,000)(c)', 'Total retail sales per capita, 2012(c)', 'Mean travel time to work (minutes), workers age 16 years+, 2015-2019', 'Median household income (in 2019 dollars), 2015-2019', 'Per capita income in past 12 months (in 2019 dollars), 2015-2019', 'Persons in poverty, percent', 'Total employer establishments, 2018', 'Total employment, 2018', 'Total annual payroll, 2018 ($1,000)', 'Total employment, percent change, 2017-2018', 'Total nonemployer establishments, 2018', 'All firms, 2012', 'Men-owned firms, 2012', 'Women-owned firms, 2012', 'Minority-owned firms, 2012', 'Nonminority-owned firms, 2012', 'Veteran-owned firms, 2012', 'Nonveteran-owned firms, 2012', 'Population per square mile, 2010', 'Land area in square miles, 2010', 'FIPS Code']\n",
      "['4,903,185', '4,903,185', '4,780,125', '2.6%', '4,779,736', '6.0%', '22.2%', '17.3%', '51.7%', '69.1%', '26.8%', '0.7%', '1.5%', '0.1%', '1.8%', '4.6%', '65.3%', '330,207', '3.5%', '2,284,847', '68.8%', '$142,700', '$1,186', '$363', '$792', '17,748', '1,867,893', '2.55', '86.3%', '5.3%', '85.5%', '76.4%', '86.2%', '25.5%', '11.6%', '11.7%', '57.1%', '52.3%', '7,576,462', '26,039,632', '124,809,759', '57,746,565', '58,564,965', '$12,145', '24.9', '$50,536', '$27,928', '15.5%', '100,267', '1,730,817', '76,223,039', '2.4%', '336,445', '374,153', '203,604', '137,630', '92,219', '272,651', '41,943', '316,984', '94.4', '50,645.33', '01']\n",
      "['Population estimates, July 1, 2019,  (V2019)', 'Population estimates, July 1, 2019,  (V2019)', 'Population estimates base, April 1, 2010,  (V2019)', 'Population, percent change - April 1, 2010 (estimates base) to July 1, 2019,  (V2019)', 'Population, Census, April 1, 2010', 'Persons under 5 years, percent', 'Persons under 18 years, percent', 'Persons 65 years and over, percent', 'Female persons, percent', 'White alone, percent', 'Black or African American alone, percent(a)', 'American Indian and Alaska Native alone, percent(a)', 'Asian alone, percent(a)', 'Native Hawaiian and Other Pacific Islander alone, percent(a)', 'Two or More Races, percent', 'Hispanic or Latino, percent(b)', 'White alone, not Hispanic or Latino, percent', 'Veterans, 2015-2019', 'Foreign born persons, percent, 2015-2019', 'Housing units,  July 1, 2019,  (V2019)', 'Owner-occupied housing unit rate, 2015-2019', 'Median value of owner-occupied housing units, 2015-2019', 'Median selected monthly owner costs -with a mortgage, 2015-2019', 'Median selected monthly owner costs -without a mortgage, 2015-2019', 'Median gross rent, 2015-2019', 'Building permits, 2019', 'Households, 2015-2019', 'Persons per household, 2015-2019', 'Living in same house 1 year ago, percent of persons age 1 year+, 2015-2019', 'Language other than English spoken at home, percent of persons age 5 years+, 2015-2019', 'Households with a computer, percent, 2015-2019', 'Households with a broadband Internet subscription, percent, 2015-2019', 'High school graduate or higher, percent of persons age 25 years+, 2015-2019', \"Bachelor's degree or higher, percent of persons age 25 years+, 2015-2019\", 'With a disability, under age 65 years, percent, 2015-2019', 'Persons  without health insurance, under age 65 years, percent', 'In civilian labor force, total, percent of population age 16 years+, 2015-2019', 'In civilian labor force, female, percent of population age 16 years+, 2015-2019', 'Total accommodation and food services sales, 2012 ($1,000)(c)', 'Total health care and social assistance receipts/revenue, 2012 ($1,000)(c)', 'Total manufacturers shipments, 2012 ($1,000)(c)', 'Total merchant wholesaler sales, 2012 ($1,000)(c)', 'Total retail sales, 2012 ($1,000)(c)', 'Total retail sales per capita, 2012(c)', 'Mean travel time to work (minutes), workers age 16 years+, 2015-2019', 'Median household income (in 2019 dollars), 2015-2019', 'Per capita income in past 12 months (in 2019 dollars), 2015-2019', 'Persons in poverty, percent', 'Total employer establishments, 2018', 'Total employment, 2018', 'Total annual payroll, 2018 ($1,000)', 'Total employment, percent change, 2017-2018', 'Total nonemployer establishments, 2018', 'All firms, 2012', 'Men-owned firms, 2012', 'Women-owned firms, 2012', 'Minority-owned firms, 2012', 'Nonminority-owned firms, 2012', 'Veteran-owned firms, 2012', 'Nonveteran-owned firms, 2012', 'Population per square mile, 2010', 'Land area in square miles, 2010', 'FIPS Code']\n"
     ]
    },
    {
     "name": "stdout",
     "output_type": "stream",
     "text": [
      "['4,903,185', '4,903,185', '4,780,125', '2.6%', '4,779,736', '6.0%', '22.2%', '17.3%', '51.7%', '69.1%', '26.8%', '0.7%', '1.5%', '0.1%', '1.8%', '4.6%', '65.3%', '330,207', '3.5%', '2,284,847', '68.8%', '$142,700', '$1,186', '$363', '$792', '17,748', '1,867,893', '2.55', '86.3%', '5.3%', '85.5%', '76.4%', '86.2%', '25.5%', '11.6%', '11.7%', '57.1%', '52.3%', '7,576,462', '26,039,632', '124,809,759', '57,746,565', '58,564,965', '$12,145', '24.9', '$50,536', '$27,928', '15.5%', '100,267', '1,730,817', '76,223,039', '2.4%', '336,445', '374,153', '203,604', '137,630', '92,219', '272,651', '41,943', '316,984', '94.4', '50,645.33', '01']\n",
      "['Population estimates, July 1, 2019,  (V2019)', 'Population estimates, July 1, 2019,  (V2019)', 'Population estimates base, April 1, 2010,  (V2019)', 'Population, percent change - April 1, 2010 (estimates base) to July 1, 2019,  (V2019)', 'Population, Census, April 1, 2010', 'Persons under 5 years, percent', 'Persons under 18 years, percent', 'Persons 65 years and over, percent', 'Female persons, percent', 'White alone, percent', 'Black or African American alone, percent(a)', 'American Indian and Alaska Native alone, percent(a)', 'Asian alone, percent(a)', 'Native Hawaiian and Other Pacific Islander alone, percent(a)', 'Two or More Races, percent', 'Hispanic or Latino, percent(b)', 'White alone, not Hispanic or Latino, percent', 'Veterans, 2015-2019', 'Foreign born persons, percent, 2015-2019', 'Housing units,  July 1, 2019,  (V2019)', 'Owner-occupied housing unit rate, 2015-2019', 'Median value of owner-occupied housing units, 2015-2019', 'Median selected monthly owner costs -with a mortgage, 2015-2019', 'Median selected monthly owner costs -without a mortgage, 2015-2019', 'Median gross rent, 2015-2019', 'Building permits, 2019', 'Households, 2015-2019', 'Persons per household, 2015-2019', 'Living in same house 1 year ago, percent of persons age 1 year+, 2015-2019', 'Language other than English spoken at home, percent of persons age 5 years+, 2015-2019', 'Households with a computer, percent, 2015-2019', 'Households with a broadband Internet subscription, percent, 2015-2019', 'High school graduate or higher, percent of persons age 25 years+, 2015-2019', \"Bachelor's degree or higher, percent of persons age 25 years+, 2015-2019\", 'With a disability, under age 65 years, percent, 2015-2019', 'Persons  without health insurance, under age 65 years, percent', 'In civilian labor force, total, percent of population age 16 years+, 2015-2019', 'In civilian labor force, female, percent of population age 16 years+, 2015-2019', 'Total accommodation and food services sales, 2012 ($1,000)(c)', 'Total health care and social assistance receipts/revenue, 2012 ($1,000)(c)', 'Total manufacturers shipments, 2012 ($1,000)(c)', 'Total merchant wholesaler sales, 2012 ($1,000)(c)', 'Total retail sales, 2012 ($1,000)(c)', 'Total retail sales per capita, 2012(c)', 'Mean travel time to work (minutes), workers age 16 years+, 2015-2019', 'Median household income (in 2019 dollars), 2015-2019', 'Per capita income in past 12 months (in 2019 dollars), 2015-2019', 'Persons in poverty, percent', 'Total employer establishments, 2018', 'Total employment, 2018', 'Total annual payroll, 2018 ($1,000)', 'Total employment, percent change, 2017-2018', 'Total nonemployer establishments, 2018', 'All firms, 2012', 'Men-owned firms, 2012', 'Women-owned firms, 2012', 'Minority-owned firms, 2012', 'Nonminority-owned firms, 2012', 'Veteran-owned firms, 2012', 'Nonveteran-owned firms, 2012', 'Population per square mile, 2010', 'Land area in square miles, 2010', 'FIPS Code']\n",
      "['4,903,185', '4,903,185', '4,780,125', '2.6%', '4,779,736', '6.0%', '22.2%', '17.3%', '51.7%', '69.1%', '26.8%', '0.7%', '1.5%', '0.1%', '1.8%', '4.6%', '65.3%', '330,207', '3.5%', '2,284,847', '68.8%', '$142,700', '$1,186', '$363', '$792', '17,748', '1,867,893', '2.55', '86.3%', '5.3%', '85.5%', '76.4%', '86.2%', '25.5%', '11.6%', '11.7%', '57.1%', '52.3%', '7,576,462', '26,039,632', '124,809,759', '57,746,565', '58,564,965', '$12,145', '24.9', '$50,536', '$27,928', '15.5%', '100,267', '1,730,817', '76,223,039', '2.4%', '336,445', '374,153', '203,604', '137,630', '92,219', '272,651', '41,943', '316,984', '94.4', '50,645.33', '01']\n",
      "['Population estimates, July 1, 2019,  (V2019)', 'Population estimates, July 1, 2019,  (V2019)', 'Population estimates base, April 1, 2010,  (V2019)', 'Population, percent change - April 1, 2010 (estimates base) to July 1, 2019,  (V2019)', 'Population, Census, April 1, 2010', 'Persons under 5 years, percent', 'Persons under 18 years, percent', 'Persons 65 years and over, percent', 'Female persons, percent', 'White alone, percent', 'Black or African American alone, percent(a)', 'American Indian and Alaska Native alone, percent(a)', 'Asian alone, percent(a)', 'Native Hawaiian and Other Pacific Islander alone, percent(a)', 'Two or More Races, percent', 'Hispanic or Latino, percent(b)', 'White alone, not Hispanic or Latino, percent', 'Veterans, 2015-2019', 'Foreign born persons, percent, 2015-2019', 'Housing units,  July 1, 2019,  (V2019)', 'Owner-occupied housing unit rate, 2015-2019', 'Median value of owner-occupied housing units, 2015-2019', 'Median selected monthly owner costs -with a mortgage, 2015-2019', 'Median selected monthly owner costs -without a mortgage, 2015-2019', 'Median gross rent, 2015-2019', 'Building permits, 2019', 'Households, 2015-2019', 'Persons per household, 2015-2019', 'Living in same house 1 year ago, percent of persons age 1 year+, 2015-2019', 'Language other than English spoken at home, percent of persons age 5 years+, 2015-2019', 'Households with a computer, percent, 2015-2019', 'Households with a broadband Internet subscription, percent, 2015-2019', 'High school graduate or higher, percent of persons age 25 years+, 2015-2019', \"Bachelor's degree or higher, percent of persons age 25 years+, 2015-2019\", 'With a disability, under age 65 years, percent, 2015-2019', 'Persons  without health insurance, under age 65 years, percent', 'In civilian labor force, total, percent of population age 16 years+, 2015-2019', 'In civilian labor force, female, percent of population age 16 years+, 2015-2019', 'Total accommodation and food services sales, 2012 ($1,000)(c)', 'Total health care and social assistance receipts/revenue, 2012 ($1,000)(c)', 'Total manufacturers shipments, 2012 ($1,000)(c)', 'Total merchant wholesaler sales, 2012 ($1,000)(c)', 'Total retail sales, 2012 ($1,000)(c)', 'Total retail sales per capita, 2012(c)', 'Mean travel time to work (minutes), workers age 16 years+, 2015-2019', 'Median household income (in 2019 dollars), 2015-2019', 'Per capita income in past 12 months (in 2019 dollars), 2015-2019', 'Persons in poverty, percent', 'Total employer establishments, 2018', 'Total employment, 2018', 'Total annual payroll, 2018 ($1,000)', 'Total employment, percent change, 2017-2018', 'Total nonemployer establishments, 2018', 'All firms, 2012', 'Men-owned firms, 2012', 'Women-owned firms, 2012', 'Minority-owned firms, 2012', 'Nonminority-owned firms, 2012', 'Veteran-owned firms, 2012', 'Nonveteran-owned firms, 2012', 'Population per square mile, 2010', 'Land area in square miles, 2010', 'FIPS Code']\n",
      "['4,903,185', '4,903,185', '4,780,125', '2.6%', '4,779,736', '6.0%', '22.2%', '17.3%', '51.7%', '69.1%', '26.8%', '0.7%', '1.5%', '0.1%', '1.8%', '4.6%', '65.3%', '330,207', '3.5%', '2,284,847', '68.8%', '$142,700', '$1,186', '$363', '$792', '17,748', '1,867,893', '2.55', '86.3%', '5.3%', '85.5%', '76.4%', '86.2%', '25.5%', '11.6%', '11.7%', '57.1%', '52.3%', '7,576,462', '26,039,632', '124,809,759', '57,746,565', '58,564,965', '$12,145', '24.9', '$50,536', '$27,928', '15.5%', '100,267', '1,730,817', '76,223,039', '2.4%', '336,445', '374,153', '203,604', '137,630', '92,219', '272,651', '41,943', '316,984', '94.4', '50,645.33', '01']\n",
      "['Population estimates, July 1, 2019,  (V2019)', 'Population estimates, July 1, 2019,  (V2019)', 'Population estimates base, April 1, 2010,  (V2019)', 'Population, percent change - April 1, 2010 (estimates base) to July 1, 2019,  (V2019)', 'Population, Census, April 1, 2010', 'Persons under 5 years, percent', 'Persons under 18 years, percent', 'Persons 65 years and over, percent', 'Female persons, percent', 'White alone, percent', 'Black or African American alone, percent(a)', 'American Indian and Alaska Native alone, percent(a)', 'Asian alone, percent(a)', 'Native Hawaiian and Other Pacific Islander alone, percent(a)', 'Two or More Races, percent', 'Hispanic or Latino, percent(b)', 'White alone, not Hispanic or Latino, percent', 'Veterans, 2015-2019', 'Foreign born persons, percent, 2015-2019', 'Housing units,  July 1, 2019,  (V2019)', 'Owner-occupied housing unit rate, 2015-2019', 'Median value of owner-occupied housing units, 2015-2019', 'Median selected monthly owner costs -with a mortgage, 2015-2019', 'Median selected monthly owner costs -without a mortgage, 2015-2019', 'Median gross rent, 2015-2019', 'Building permits, 2019', 'Households, 2015-2019', 'Persons per household, 2015-2019', 'Living in same house 1 year ago, percent of persons age 1 year+, 2015-2019', 'Language other than English spoken at home, percent of persons age 5 years+, 2015-2019', 'Households with a computer, percent, 2015-2019', 'Households with a broadband Internet subscription, percent, 2015-2019', 'High school graduate or higher, percent of persons age 25 years+, 2015-2019', \"Bachelor's degree or higher, percent of persons age 25 years+, 2015-2019\", 'With a disability, under age 65 years, percent, 2015-2019', 'Persons  without health insurance, under age 65 years, percent', 'In civilian labor force, total, percent of population age 16 years+, 2015-2019', 'In civilian labor force, female, percent of population age 16 years+, 2015-2019', 'Total accommodation and food services sales, 2012 ($1,000)(c)', 'Total health care and social assistance receipts/revenue, 2012 ($1,000)(c)', 'Total manufacturers shipments, 2012 ($1,000)(c)', 'Total merchant wholesaler sales, 2012 ($1,000)(c)', 'Total retail sales, 2012 ($1,000)(c)', 'Total retail sales per capita, 2012(c)', 'Mean travel time to work (minutes), workers age 16 years+, 2015-2019', 'Median household income (in 2019 dollars), 2015-2019', 'Per capita income in past 12 months (in 2019 dollars), 2015-2019', 'Persons in poverty, percent', 'Total employer establishments, 2018', 'Total employment, 2018', 'Total annual payroll, 2018 ($1,000)', 'Total employment, percent change, 2017-2018', 'Total nonemployer establishments, 2018', 'All firms, 2012', 'Men-owned firms, 2012', 'Women-owned firms, 2012', 'Minority-owned firms, 2012', 'Nonminority-owned firms, 2012', 'Veteran-owned firms, 2012', 'Nonveteran-owned firms, 2012', 'Population per square mile, 2010', 'Land area in square miles, 2010', 'FIPS Code']\n"
     ]
    },
    {
     "name": "stdout",
     "output_type": "stream",
     "text": [
      "['4,903,185', '4,903,185', '4,780,125', '2.6%', '4,779,736', '6.0%', '22.2%', '17.3%', '51.7%', '69.1%', '26.8%', '0.7%', '1.5%', '0.1%', '1.8%', '4.6%', '65.3%', '330,207', '3.5%', '2,284,847', '68.8%', '$142,700', '$1,186', '$363', '$792', '17,748', '1,867,893', '2.55', '86.3%', '5.3%', '85.5%', '76.4%', '86.2%', '25.5%', '11.6%', '11.7%', '57.1%', '52.3%', '7,576,462', '26,039,632', '124,809,759', '57,746,565', '58,564,965', '$12,145', '24.9', '$50,536', '$27,928', '15.5%', '100,267', '1,730,817', '76,223,039', '2.4%', '336,445', '374,153', '203,604', '137,630', '92,219', '272,651', '41,943', '316,984', '94.4', '50,645.33', '01']\n",
      "['Population estimates, July 1, 2019,  (V2019)', 'Population estimates, July 1, 2019,  (V2019)', 'Population estimates base, April 1, 2010,  (V2019)', 'Population, percent change - April 1, 2010 (estimates base) to July 1, 2019,  (V2019)', 'Population, Census, April 1, 2010', 'Persons under 5 years, percent', 'Persons under 18 years, percent', 'Persons 65 years and over, percent', 'Female persons, percent', 'White alone, percent', 'Black or African American alone, percent(a)', 'American Indian and Alaska Native alone, percent(a)', 'Asian alone, percent(a)', 'Native Hawaiian and Other Pacific Islander alone, percent(a)', 'Two or More Races, percent', 'Hispanic or Latino, percent(b)', 'White alone, not Hispanic or Latino, percent', 'Veterans, 2015-2019', 'Foreign born persons, percent, 2015-2019', 'Housing units,  July 1, 2019,  (V2019)', 'Owner-occupied housing unit rate, 2015-2019', 'Median value of owner-occupied housing units, 2015-2019', 'Median selected monthly owner costs -with a mortgage, 2015-2019', 'Median selected monthly owner costs -without a mortgage, 2015-2019', 'Median gross rent, 2015-2019', 'Building permits, 2019', 'Households, 2015-2019', 'Persons per household, 2015-2019', 'Living in same house 1 year ago, percent of persons age 1 year+, 2015-2019', 'Language other than English spoken at home, percent of persons age 5 years+, 2015-2019', 'Households with a computer, percent, 2015-2019', 'Households with a broadband Internet subscription, percent, 2015-2019', 'High school graduate or higher, percent of persons age 25 years+, 2015-2019', \"Bachelor's degree or higher, percent of persons age 25 years+, 2015-2019\", 'With a disability, under age 65 years, percent, 2015-2019', 'Persons  without health insurance, under age 65 years, percent', 'In civilian labor force, total, percent of population age 16 years+, 2015-2019', 'In civilian labor force, female, percent of population age 16 years+, 2015-2019', 'Total accommodation and food services sales, 2012 ($1,000)(c)', 'Total health care and social assistance receipts/revenue, 2012 ($1,000)(c)', 'Total manufacturers shipments, 2012 ($1,000)(c)', 'Total merchant wholesaler sales, 2012 ($1,000)(c)', 'Total retail sales, 2012 ($1,000)(c)', 'Total retail sales per capita, 2012(c)', 'Mean travel time to work (minutes), workers age 16 years+, 2015-2019', 'Median household income (in 2019 dollars), 2015-2019', 'Per capita income in past 12 months (in 2019 dollars), 2015-2019', 'Persons in poverty, percent', 'Total employer establishments, 2018', 'Total employment, 2018', 'Total annual payroll, 2018 ($1,000)', 'Total employment, percent change, 2017-2018', 'Total nonemployer establishments, 2018', 'All firms, 2012', 'Men-owned firms, 2012', 'Women-owned firms, 2012', 'Minority-owned firms, 2012', 'Nonminority-owned firms, 2012', 'Veteran-owned firms, 2012', 'Nonveteran-owned firms, 2012', 'Population per square mile, 2010', 'Land area in square miles, 2010', 'FIPS Code']\n",
      "['4,903,185', '4,903,185', '4,780,125', '2.6%', '4,779,736', '6.0%', '22.2%', '17.3%', '51.7%', '69.1%', '26.8%', '0.7%', '1.5%', '0.1%', '1.8%', '4.6%', '65.3%', '330,207', '3.5%', '2,284,847', '68.8%', '$142,700', '$1,186', '$363', '$792', '17,748', '1,867,893', '2.55', '86.3%', '5.3%', '85.5%', '76.4%', '86.2%', '25.5%', '11.6%', '11.7%', '57.1%', '52.3%', '7,576,462', '26,039,632', '124,809,759', '57,746,565', '58,564,965', '$12,145', '24.9', '$50,536', '$27,928', '15.5%', '100,267', '1,730,817', '76,223,039', '2.4%', '336,445', '374,153', '203,604', '137,630', '92,219', '272,651', '41,943', '316,984', '94.4', '50,645.33', '01']\n",
      "['Population estimates, July 1, 2019,  (V2019)', 'Population estimates, July 1, 2019,  (V2019)', 'Population estimates base, April 1, 2010,  (V2019)', 'Population, percent change - April 1, 2010 (estimates base) to July 1, 2019,  (V2019)', 'Population, Census, April 1, 2010', 'Persons under 5 years, percent', 'Persons under 18 years, percent', 'Persons 65 years and over, percent', 'Female persons, percent', 'White alone, percent', 'Black or African American alone, percent(a)', 'American Indian and Alaska Native alone, percent(a)', 'Asian alone, percent(a)', 'Native Hawaiian and Other Pacific Islander alone, percent(a)', 'Two or More Races, percent', 'Hispanic or Latino, percent(b)', 'White alone, not Hispanic or Latino, percent', 'Veterans, 2015-2019', 'Foreign born persons, percent, 2015-2019', 'Housing units,  July 1, 2019,  (V2019)', 'Owner-occupied housing unit rate, 2015-2019', 'Median value of owner-occupied housing units, 2015-2019', 'Median selected monthly owner costs -with a mortgage, 2015-2019', 'Median selected monthly owner costs -without a mortgage, 2015-2019', 'Median gross rent, 2015-2019', 'Building permits, 2019', 'Households, 2015-2019', 'Persons per household, 2015-2019', 'Living in same house 1 year ago, percent of persons age 1 year+, 2015-2019', 'Language other than English spoken at home, percent of persons age 5 years+, 2015-2019', 'Households with a computer, percent, 2015-2019', 'Households with a broadband Internet subscription, percent, 2015-2019', 'High school graduate or higher, percent of persons age 25 years+, 2015-2019', \"Bachelor's degree or higher, percent of persons age 25 years+, 2015-2019\", 'With a disability, under age 65 years, percent, 2015-2019', 'Persons  without health insurance, under age 65 years, percent', 'In civilian labor force, total, percent of population age 16 years+, 2015-2019', 'In civilian labor force, female, percent of population age 16 years+, 2015-2019', 'Total accommodation and food services sales, 2012 ($1,000)(c)', 'Total health care and social assistance receipts/revenue, 2012 ($1,000)(c)', 'Total manufacturers shipments, 2012 ($1,000)(c)', 'Total merchant wholesaler sales, 2012 ($1,000)(c)', 'Total retail sales, 2012 ($1,000)(c)', 'Total retail sales per capita, 2012(c)', 'Mean travel time to work (minutes), workers age 16 years+, 2015-2019', 'Median household income (in 2019 dollars), 2015-2019', 'Per capita income in past 12 months (in 2019 dollars), 2015-2019', 'Persons in poverty, percent', 'Total employer establishments, 2018', 'Total employment, 2018', 'Total annual payroll, 2018 ($1,000)', 'Total employment, percent change, 2017-2018', 'Total nonemployer establishments, 2018', 'All firms, 2012', 'Men-owned firms, 2012', 'Women-owned firms, 2012', 'Minority-owned firms, 2012', 'Nonminority-owned firms, 2012', 'Veteran-owned firms, 2012', 'Nonveteran-owned firms, 2012', 'Population per square mile, 2010', 'Land area in square miles, 2010', 'FIPS Code']\n",
      "['4,903,185', '4,903,185', '4,780,125', '2.6%', '4,779,736', '6.0%', '22.2%', '17.3%', '51.7%', '69.1%', '26.8%', '0.7%', '1.5%', '0.1%', '1.8%', '4.6%', '65.3%', '330,207', '3.5%', '2,284,847', '68.8%', '$142,700', '$1,186', '$363', '$792', '17,748', '1,867,893', '2.55', '86.3%', '5.3%', '85.5%', '76.4%', '86.2%', '25.5%', '11.6%', '11.7%', '57.1%', '52.3%', '7,576,462', '26,039,632', '124,809,759', '57,746,565', '58,564,965', '$12,145', '24.9', '$50,536', '$27,928', '15.5%', '100,267', '1,730,817', '76,223,039', '2.4%', '336,445', '374,153', '203,604', '137,630', '92,219', '272,651', '41,943', '316,984', '94.4', '50,645.33', '01']\n",
      "['Population estimates, July 1, 2019,  (V2019)', 'Population estimates, July 1, 2019,  (V2019)', 'Population estimates base, April 1, 2010,  (V2019)', 'Population, percent change - April 1, 2010 (estimates base) to July 1, 2019,  (V2019)', 'Population, Census, April 1, 2010', 'Persons under 5 years, percent', 'Persons under 18 years, percent', 'Persons 65 years and over, percent', 'Female persons, percent', 'White alone, percent', 'Black or African American alone, percent(a)', 'American Indian and Alaska Native alone, percent(a)', 'Asian alone, percent(a)', 'Native Hawaiian and Other Pacific Islander alone, percent(a)', 'Two or More Races, percent', 'Hispanic or Latino, percent(b)', 'White alone, not Hispanic or Latino, percent', 'Veterans, 2015-2019', 'Foreign born persons, percent, 2015-2019', 'Housing units,  July 1, 2019,  (V2019)', 'Owner-occupied housing unit rate, 2015-2019', 'Median value of owner-occupied housing units, 2015-2019', 'Median selected monthly owner costs -with a mortgage, 2015-2019', 'Median selected monthly owner costs -without a mortgage, 2015-2019', 'Median gross rent, 2015-2019', 'Building permits, 2019', 'Households, 2015-2019', 'Persons per household, 2015-2019', 'Living in same house 1 year ago, percent of persons age 1 year+, 2015-2019', 'Language other than English spoken at home, percent of persons age 5 years+, 2015-2019', 'Households with a computer, percent, 2015-2019', 'Households with a broadband Internet subscription, percent, 2015-2019', 'High school graduate or higher, percent of persons age 25 years+, 2015-2019', \"Bachelor's degree or higher, percent of persons age 25 years+, 2015-2019\", 'With a disability, under age 65 years, percent, 2015-2019', 'Persons  without health insurance, under age 65 years, percent', 'In civilian labor force, total, percent of population age 16 years+, 2015-2019', 'In civilian labor force, female, percent of population age 16 years+, 2015-2019', 'Total accommodation and food services sales, 2012 ($1,000)(c)', 'Total health care and social assistance receipts/revenue, 2012 ($1,000)(c)', 'Total manufacturers shipments, 2012 ($1,000)(c)', 'Total merchant wholesaler sales, 2012 ($1,000)(c)', 'Total retail sales, 2012 ($1,000)(c)', 'Total retail sales per capita, 2012(c)', 'Mean travel time to work (minutes), workers age 16 years+, 2015-2019', 'Median household income (in 2019 dollars), 2015-2019', 'Per capita income in past 12 months (in 2019 dollars), 2015-2019', 'Persons in poverty, percent', 'Total employer establishments, 2018', 'Total employment, 2018', 'Total annual payroll, 2018 ($1,000)', 'Total employment, percent change, 2017-2018', 'Total nonemployer establishments, 2018', 'All firms, 2012', 'Men-owned firms, 2012', 'Women-owned firms, 2012', 'Minority-owned firms, 2012', 'Nonminority-owned firms, 2012', 'Veteran-owned firms, 2012', 'Nonveteran-owned firms, 2012', 'Population per square mile, 2010', 'Land area in square miles, 2010', 'FIPS Code']\n"
     ]
    },
    {
     "name": "stdout",
     "output_type": "stream",
     "text": [
      "['4,903,185', '4,903,185', '4,780,125', '2.6%', '4,779,736', '6.0%', '22.2%', '17.3%', '51.7%', '69.1%', '26.8%', '0.7%', '1.5%', '0.1%', '1.8%', '4.6%', '65.3%', '330,207', '3.5%', '2,284,847', '68.8%', '$142,700', '$1,186', '$363', '$792', '17,748', '1,867,893', '2.55', '86.3%', '5.3%', '85.5%', '76.4%', '86.2%', '25.5%', '11.6%', '11.7%', '57.1%', '52.3%', '7,576,462', '26,039,632', '124,809,759', '57,746,565', '58,564,965', '$12,145', '24.9', '$50,536', '$27,928', '15.5%', '100,267', '1,730,817', '76,223,039', '2.4%', '336,445', '374,153', '203,604', '137,630', '92,219', '272,651', '41,943', '316,984', '94.4', '50,645.33', '01']\n",
      "['Population estimates, July 1, 2019,  (V2019)', 'Population estimates, July 1, 2019,  (V2019)', 'Population estimates base, April 1, 2010,  (V2019)', 'Population, percent change - April 1, 2010 (estimates base) to July 1, 2019,  (V2019)', 'Population, Census, April 1, 2010', 'Persons under 5 years, percent', 'Persons under 18 years, percent', 'Persons 65 years and over, percent', 'Female persons, percent', 'White alone, percent', 'Black or African American alone, percent(a)', 'American Indian and Alaska Native alone, percent(a)', 'Asian alone, percent(a)', 'Native Hawaiian and Other Pacific Islander alone, percent(a)', 'Two or More Races, percent', 'Hispanic or Latino, percent(b)', 'White alone, not Hispanic or Latino, percent', 'Veterans, 2015-2019', 'Foreign born persons, percent, 2015-2019', 'Housing units,  July 1, 2019,  (V2019)', 'Owner-occupied housing unit rate, 2015-2019', 'Median value of owner-occupied housing units, 2015-2019', 'Median selected monthly owner costs -with a mortgage, 2015-2019', 'Median selected monthly owner costs -without a mortgage, 2015-2019', 'Median gross rent, 2015-2019', 'Building permits, 2019', 'Households, 2015-2019', 'Persons per household, 2015-2019', 'Living in same house 1 year ago, percent of persons age 1 year+, 2015-2019', 'Language other than English spoken at home, percent of persons age 5 years+, 2015-2019', 'Households with a computer, percent, 2015-2019', 'Households with a broadband Internet subscription, percent, 2015-2019', 'High school graduate or higher, percent of persons age 25 years+, 2015-2019', \"Bachelor's degree or higher, percent of persons age 25 years+, 2015-2019\", 'With a disability, under age 65 years, percent, 2015-2019', 'Persons  without health insurance, under age 65 years, percent', 'In civilian labor force, total, percent of population age 16 years+, 2015-2019', 'In civilian labor force, female, percent of population age 16 years+, 2015-2019', 'Total accommodation and food services sales, 2012 ($1,000)(c)', 'Total health care and social assistance receipts/revenue, 2012 ($1,000)(c)', 'Total manufacturers shipments, 2012 ($1,000)(c)', 'Total merchant wholesaler sales, 2012 ($1,000)(c)', 'Total retail sales, 2012 ($1,000)(c)', 'Total retail sales per capita, 2012(c)', 'Mean travel time to work (minutes), workers age 16 years+, 2015-2019', 'Median household income (in 2019 dollars), 2015-2019', 'Per capita income in past 12 months (in 2019 dollars), 2015-2019', 'Persons in poverty, percent', 'Total employer establishments, 2018', 'Total employment, 2018', 'Total annual payroll, 2018 ($1,000)', 'Total employment, percent change, 2017-2018', 'Total nonemployer establishments, 2018', 'All firms, 2012', 'Men-owned firms, 2012', 'Women-owned firms, 2012', 'Minority-owned firms, 2012', 'Nonminority-owned firms, 2012', 'Veteran-owned firms, 2012', 'Nonveteran-owned firms, 2012', 'Population per square mile, 2010', 'Land area in square miles, 2010', 'FIPS Code']\n",
      "['4,903,185', '4,903,185', '4,780,125', '2.6%', '4,779,736', '6.0%', '22.2%', '17.3%', '51.7%', '69.1%', '26.8%', '0.7%', '1.5%', '0.1%', '1.8%', '4.6%', '65.3%', '330,207', '3.5%', '2,284,847', '68.8%', '$142,700', '$1,186', '$363', '$792', '17,748', '1,867,893', '2.55', '86.3%', '5.3%', '85.5%', '76.4%', '86.2%', '25.5%', '11.6%', '11.7%', '57.1%', '52.3%', '7,576,462', '26,039,632', '124,809,759', '57,746,565', '58,564,965', '$12,145', '24.9', '$50,536', '$27,928', '15.5%', '100,267', '1,730,817', '76,223,039', '2.4%', '336,445', '374,153', '203,604', '137,630', '92,219', '272,651', '41,943', '316,984', '94.4', '50,645.33', '01']\n",
      "['Population estimates, July 1, 2019,  (V2019)', 'Population estimates, July 1, 2019,  (V2019)', 'Population estimates base, April 1, 2010,  (V2019)', 'Population, percent change - April 1, 2010 (estimates base) to July 1, 2019,  (V2019)', 'Population, Census, April 1, 2010', 'Persons under 5 years, percent', 'Persons under 18 years, percent', 'Persons 65 years and over, percent', 'Female persons, percent', 'White alone, percent', 'Black or African American alone, percent(a)', 'American Indian and Alaska Native alone, percent(a)', 'Asian alone, percent(a)', 'Native Hawaiian and Other Pacific Islander alone, percent(a)', 'Two or More Races, percent', 'Hispanic or Latino, percent(b)', 'White alone, not Hispanic or Latino, percent', 'Veterans, 2015-2019', 'Foreign born persons, percent, 2015-2019', 'Housing units,  July 1, 2019,  (V2019)', 'Owner-occupied housing unit rate, 2015-2019', 'Median value of owner-occupied housing units, 2015-2019', 'Median selected monthly owner costs -with a mortgage, 2015-2019', 'Median selected monthly owner costs -without a mortgage, 2015-2019', 'Median gross rent, 2015-2019', 'Building permits, 2019', 'Households, 2015-2019', 'Persons per household, 2015-2019', 'Living in same house 1 year ago, percent of persons age 1 year+, 2015-2019', 'Language other than English spoken at home, percent of persons age 5 years+, 2015-2019', 'Households with a computer, percent, 2015-2019', 'Households with a broadband Internet subscription, percent, 2015-2019', 'High school graduate or higher, percent of persons age 25 years+, 2015-2019', \"Bachelor's degree or higher, percent of persons age 25 years+, 2015-2019\", 'With a disability, under age 65 years, percent, 2015-2019', 'Persons  without health insurance, under age 65 years, percent', 'In civilian labor force, total, percent of population age 16 years+, 2015-2019', 'In civilian labor force, female, percent of population age 16 years+, 2015-2019', 'Total accommodation and food services sales, 2012 ($1,000)(c)', 'Total health care and social assistance receipts/revenue, 2012 ($1,000)(c)', 'Total manufacturers shipments, 2012 ($1,000)(c)', 'Total merchant wholesaler sales, 2012 ($1,000)(c)', 'Total retail sales, 2012 ($1,000)(c)', 'Total retail sales per capita, 2012(c)', 'Mean travel time to work (minutes), workers age 16 years+, 2015-2019', 'Median household income (in 2019 dollars), 2015-2019', 'Per capita income in past 12 months (in 2019 dollars), 2015-2019', 'Persons in poverty, percent', 'Total employer establishments, 2018', 'Total employment, 2018', 'Total annual payroll, 2018 ($1,000)', 'Total employment, percent change, 2017-2018', 'Total nonemployer establishments, 2018', 'All firms, 2012', 'Men-owned firms, 2012', 'Women-owned firms, 2012', 'Minority-owned firms, 2012', 'Nonminority-owned firms, 2012', 'Veteran-owned firms, 2012', 'Nonveteran-owned firms, 2012', 'Population per square mile, 2010', 'Land area in square miles, 2010', 'FIPS Code']\n",
      "['4,903,185', '4,903,185', '4,780,125', '2.6%', '4,779,736', '6.0%', '22.2%', '17.3%', '51.7%', '69.1%', '26.8%', '0.7%', '1.5%', '0.1%', '1.8%', '4.6%', '65.3%', '330,207', '3.5%', '2,284,847', '68.8%', '$142,700', '$1,186', '$363', '$792', '17,748', '1,867,893', '2.55', '86.3%', '5.3%', '85.5%', '76.4%', '86.2%', '25.5%', '11.6%', '11.7%', '57.1%', '52.3%', '7,576,462', '26,039,632', '124,809,759', '57,746,565', '58,564,965', '$12,145', '24.9', '$50,536', '$27,928', '15.5%', '100,267', '1,730,817', '76,223,039', '2.4%', '336,445', '374,153', '203,604', '137,630', '92,219', '272,651', '41,943', '316,984', '94.4', '50,645.33', '01']\n",
      "['Population estimates, July 1, 2019,  (V2019)', 'Population estimates, July 1, 2019,  (V2019)', 'Population estimates base, April 1, 2010,  (V2019)', 'Population, percent change - April 1, 2010 (estimates base) to July 1, 2019,  (V2019)', 'Population, Census, April 1, 2010', 'Persons under 5 years, percent', 'Persons under 18 years, percent', 'Persons 65 years and over, percent', 'Female persons, percent', 'White alone, percent', 'Black or African American alone, percent(a)', 'American Indian and Alaska Native alone, percent(a)', 'Asian alone, percent(a)', 'Native Hawaiian and Other Pacific Islander alone, percent(a)', 'Two or More Races, percent', 'Hispanic or Latino, percent(b)', 'White alone, not Hispanic or Latino, percent', 'Veterans, 2015-2019', 'Foreign born persons, percent, 2015-2019', 'Housing units,  July 1, 2019,  (V2019)', 'Owner-occupied housing unit rate, 2015-2019', 'Median value of owner-occupied housing units, 2015-2019', 'Median selected monthly owner costs -with a mortgage, 2015-2019', 'Median selected monthly owner costs -without a mortgage, 2015-2019', 'Median gross rent, 2015-2019', 'Building permits, 2019', 'Households, 2015-2019', 'Persons per household, 2015-2019', 'Living in same house 1 year ago, percent of persons age 1 year+, 2015-2019', 'Language other than English spoken at home, percent of persons age 5 years+, 2015-2019', 'Households with a computer, percent, 2015-2019', 'Households with a broadband Internet subscription, percent, 2015-2019', 'High school graduate or higher, percent of persons age 25 years+, 2015-2019', \"Bachelor's degree or higher, percent of persons age 25 years+, 2015-2019\", 'With a disability, under age 65 years, percent, 2015-2019', 'Persons  without health insurance, under age 65 years, percent', 'In civilian labor force, total, percent of population age 16 years+, 2015-2019', 'In civilian labor force, female, percent of population age 16 years+, 2015-2019', 'Total accommodation and food services sales, 2012 ($1,000)(c)', 'Total health care and social assistance receipts/revenue, 2012 ($1,000)(c)', 'Total manufacturers shipments, 2012 ($1,000)(c)', 'Total merchant wholesaler sales, 2012 ($1,000)(c)', 'Total retail sales, 2012 ($1,000)(c)', 'Total retail sales per capita, 2012(c)', 'Mean travel time to work (minutes), workers age 16 years+, 2015-2019', 'Median household income (in 2019 dollars), 2015-2019', 'Per capita income in past 12 months (in 2019 dollars), 2015-2019', 'Persons in poverty, percent', 'Total employer establishments, 2018', 'Total employment, 2018', 'Total annual payroll, 2018 ($1,000)', 'Total employment, percent change, 2017-2018', 'Total nonemployer establishments, 2018', 'All firms, 2012', 'Men-owned firms, 2012', 'Women-owned firms, 2012', 'Minority-owned firms, 2012', 'Nonminority-owned firms, 2012', 'Veteran-owned firms, 2012', 'Nonveteran-owned firms, 2012', 'Population per square mile, 2010', 'Land area in square miles, 2010', 'FIPS Code']\n"
     ]
    },
    {
     "name": "stdout",
     "output_type": "stream",
     "text": [
      "['4,903,185', '4,903,185', '4,780,125', '2.6%', '4,779,736', '6.0%', '22.2%', '17.3%', '51.7%', '69.1%', '26.8%', '0.7%', '1.5%', '0.1%', '1.8%', '4.6%', '65.3%', '330,207', '3.5%', '2,284,847', '68.8%', '$142,700', '$1,186', '$363', '$792', '17,748', '1,867,893', '2.55', '86.3%', '5.3%', '85.5%', '76.4%', '86.2%', '25.5%', '11.6%', '11.7%', '57.1%', '52.3%', '7,576,462', '26,039,632', '124,809,759', '57,746,565', '58,564,965', '$12,145', '24.9', '$50,536', '$27,928', '15.5%', '100,267', '1,730,817', '76,223,039', '2.4%', '336,445', '374,153', '203,604', '137,630', '92,219', '272,651', '41,943', '316,984', '94.4', '50,645.33', '01']\n",
      "['Population estimates, July 1, 2019,  (V2019)', 'Population estimates, July 1, 2019,  (V2019)', 'Population estimates base, April 1, 2010,  (V2019)', 'Population, percent change - April 1, 2010 (estimates base) to July 1, 2019,  (V2019)', 'Population, Census, April 1, 2010', 'Persons under 5 years, percent', 'Persons under 18 years, percent', 'Persons 65 years and over, percent', 'Female persons, percent', 'White alone, percent', 'Black or African American alone, percent(a)', 'American Indian and Alaska Native alone, percent(a)', 'Asian alone, percent(a)', 'Native Hawaiian and Other Pacific Islander alone, percent(a)', 'Two or More Races, percent', 'Hispanic or Latino, percent(b)', 'White alone, not Hispanic or Latino, percent', 'Veterans, 2015-2019', 'Foreign born persons, percent, 2015-2019', 'Housing units,  July 1, 2019,  (V2019)', 'Owner-occupied housing unit rate, 2015-2019', 'Median value of owner-occupied housing units, 2015-2019', 'Median selected monthly owner costs -with a mortgage, 2015-2019', 'Median selected monthly owner costs -without a mortgage, 2015-2019', 'Median gross rent, 2015-2019', 'Building permits, 2019', 'Households, 2015-2019', 'Persons per household, 2015-2019', 'Living in same house 1 year ago, percent of persons age 1 year+, 2015-2019', 'Language other than English spoken at home, percent of persons age 5 years+, 2015-2019', 'Households with a computer, percent, 2015-2019', 'Households with a broadband Internet subscription, percent, 2015-2019', 'High school graduate or higher, percent of persons age 25 years+, 2015-2019', \"Bachelor's degree or higher, percent of persons age 25 years+, 2015-2019\", 'With a disability, under age 65 years, percent, 2015-2019', 'Persons  without health insurance, under age 65 years, percent', 'In civilian labor force, total, percent of population age 16 years+, 2015-2019', 'In civilian labor force, female, percent of population age 16 years+, 2015-2019', 'Total accommodation and food services sales, 2012 ($1,000)(c)', 'Total health care and social assistance receipts/revenue, 2012 ($1,000)(c)', 'Total manufacturers shipments, 2012 ($1,000)(c)', 'Total merchant wholesaler sales, 2012 ($1,000)(c)', 'Total retail sales, 2012 ($1,000)(c)', 'Total retail sales per capita, 2012(c)', 'Mean travel time to work (minutes), workers age 16 years+, 2015-2019', 'Median household income (in 2019 dollars), 2015-2019', 'Per capita income in past 12 months (in 2019 dollars), 2015-2019', 'Persons in poverty, percent', 'Total employer establishments, 2018', 'Total employment, 2018', 'Total annual payroll, 2018 ($1,000)', 'Total employment, percent change, 2017-2018', 'Total nonemployer establishments, 2018', 'All firms, 2012', 'Men-owned firms, 2012', 'Women-owned firms, 2012', 'Minority-owned firms, 2012', 'Nonminority-owned firms, 2012', 'Veteran-owned firms, 2012', 'Nonveteran-owned firms, 2012', 'Population per square mile, 2010', 'Land area in square miles, 2010', 'FIPS Code']\n",
      "['4,903,185', '4,903,185', '4,780,125', '2.6%', '4,779,736', '6.0%', '22.2%', '17.3%', '51.7%', '69.1%', '26.8%', '0.7%', '1.5%', '0.1%', '1.8%', '4.6%', '65.3%', '330,207', '3.5%', '2,284,847', '68.8%', '$142,700', '$1,186', '$363', '$792', '17,748', '1,867,893', '2.55', '86.3%', '5.3%', '85.5%', '76.4%', '86.2%', '25.5%', '11.6%', '11.7%', '57.1%', '52.3%', '7,576,462', '26,039,632', '124,809,759', '57,746,565', '58,564,965', '$12,145', '24.9', '$50,536', '$27,928', '15.5%', '100,267', '1,730,817', '76,223,039', '2.4%', '336,445', '374,153', '203,604', '137,630', '92,219', '272,651', '41,943', '316,984', '94.4', '50,645.33', '01']\n",
      "['Population estimates, July 1, 2019,  (V2019)', 'Population estimates, July 1, 2019,  (V2019)', 'Population estimates base, April 1, 2010,  (V2019)', 'Population, percent change - April 1, 2010 (estimates base) to July 1, 2019,  (V2019)', 'Population, Census, April 1, 2010', 'Persons under 5 years, percent', 'Persons under 18 years, percent', 'Persons 65 years and over, percent', 'Female persons, percent', 'White alone, percent', 'Black or African American alone, percent(a)', 'American Indian and Alaska Native alone, percent(a)', 'Asian alone, percent(a)', 'Native Hawaiian and Other Pacific Islander alone, percent(a)', 'Two or More Races, percent', 'Hispanic or Latino, percent(b)', 'White alone, not Hispanic or Latino, percent', 'Veterans, 2015-2019', 'Foreign born persons, percent, 2015-2019', 'Housing units,  July 1, 2019,  (V2019)', 'Owner-occupied housing unit rate, 2015-2019', 'Median value of owner-occupied housing units, 2015-2019', 'Median selected monthly owner costs -with a mortgage, 2015-2019', 'Median selected monthly owner costs -without a mortgage, 2015-2019', 'Median gross rent, 2015-2019', 'Building permits, 2019', 'Households, 2015-2019', 'Persons per household, 2015-2019', 'Living in same house 1 year ago, percent of persons age 1 year+, 2015-2019', 'Language other than English spoken at home, percent of persons age 5 years+, 2015-2019', 'Households with a computer, percent, 2015-2019', 'Households with a broadband Internet subscription, percent, 2015-2019', 'High school graduate or higher, percent of persons age 25 years+, 2015-2019', \"Bachelor's degree or higher, percent of persons age 25 years+, 2015-2019\", 'With a disability, under age 65 years, percent, 2015-2019', 'Persons  without health insurance, under age 65 years, percent', 'In civilian labor force, total, percent of population age 16 years+, 2015-2019', 'In civilian labor force, female, percent of population age 16 years+, 2015-2019', 'Total accommodation and food services sales, 2012 ($1,000)(c)', 'Total health care and social assistance receipts/revenue, 2012 ($1,000)(c)', 'Total manufacturers shipments, 2012 ($1,000)(c)', 'Total merchant wholesaler sales, 2012 ($1,000)(c)', 'Total retail sales, 2012 ($1,000)(c)', 'Total retail sales per capita, 2012(c)', 'Mean travel time to work (minutes), workers age 16 years+, 2015-2019', 'Median household income (in 2019 dollars), 2015-2019', 'Per capita income in past 12 months (in 2019 dollars), 2015-2019', 'Persons in poverty, percent', 'Total employer establishments, 2018', 'Total employment, 2018', 'Total annual payroll, 2018 ($1,000)', 'Total employment, percent change, 2017-2018', 'Total nonemployer establishments, 2018', 'All firms, 2012', 'Men-owned firms, 2012', 'Women-owned firms, 2012', 'Minority-owned firms, 2012', 'Nonminority-owned firms, 2012', 'Veteran-owned firms, 2012', 'Nonveteran-owned firms, 2012', 'Population per square mile, 2010', 'Land area in square miles, 2010', 'FIPS Code']\n",
      "['4,903,185', '4,903,185', '4,780,125', '2.6%', '4,779,736', '6.0%', '22.2%', '17.3%', '51.7%', '69.1%', '26.8%', '0.7%', '1.5%', '0.1%', '1.8%', '4.6%', '65.3%', '330,207', '3.5%', '2,284,847', '68.8%', '$142,700', '$1,186', '$363', '$792', '17,748', '1,867,893', '2.55', '86.3%', '5.3%', '85.5%', '76.4%', '86.2%', '25.5%', '11.6%', '11.7%', '57.1%', '52.3%', '7,576,462', '26,039,632', '124,809,759', '57,746,565', '58,564,965', '$12,145', '24.9', '$50,536', '$27,928', '15.5%', '100,267', '1,730,817', '76,223,039', '2.4%', '336,445', '374,153', '203,604', '137,630', '92,219', '272,651', '41,943', '316,984', '94.4', '50,645.33', '01']\n",
      "['Population estimates, July 1, 2019,  (V2019)', 'Population estimates, July 1, 2019,  (V2019)', 'Population estimates base, April 1, 2010,  (V2019)', 'Population, percent change - April 1, 2010 (estimates base) to July 1, 2019,  (V2019)', 'Population, Census, April 1, 2010', 'Persons under 5 years, percent', 'Persons under 18 years, percent', 'Persons 65 years and over, percent', 'Female persons, percent', 'White alone, percent', 'Black or African American alone, percent(a)', 'American Indian and Alaska Native alone, percent(a)', 'Asian alone, percent(a)', 'Native Hawaiian and Other Pacific Islander alone, percent(a)', 'Two or More Races, percent', 'Hispanic or Latino, percent(b)', 'White alone, not Hispanic or Latino, percent', 'Veterans, 2015-2019', 'Foreign born persons, percent, 2015-2019', 'Housing units,  July 1, 2019,  (V2019)', 'Owner-occupied housing unit rate, 2015-2019', 'Median value of owner-occupied housing units, 2015-2019', 'Median selected monthly owner costs -with a mortgage, 2015-2019', 'Median selected monthly owner costs -without a mortgage, 2015-2019', 'Median gross rent, 2015-2019', 'Building permits, 2019', 'Households, 2015-2019', 'Persons per household, 2015-2019', 'Living in same house 1 year ago, percent of persons age 1 year+, 2015-2019', 'Language other than English spoken at home, percent of persons age 5 years+, 2015-2019', 'Households with a computer, percent, 2015-2019', 'Households with a broadband Internet subscription, percent, 2015-2019', 'High school graduate or higher, percent of persons age 25 years+, 2015-2019', \"Bachelor's degree or higher, percent of persons age 25 years+, 2015-2019\", 'With a disability, under age 65 years, percent, 2015-2019', 'Persons  without health insurance, under age 65 years, percent', 'In civilian labor force, total, percent of population age 16 years+, 2015-2019', 'In civilian labor force, female, percent of population age 16 years+, 2015-2019', 'Total accommodation and food services sales, 2012 ($1,000)(c)', 'Total health care and social assistance receipts/revenue, 2012 ($1,000)(c)', 'Total manufacturers shipments, 2012 ($1,000)(c)', 'Total merchant wholesaler sales, 2012 ($1,000)(c)', 'Total retail sales, 2012 ($1,000)(c)', 'Total retail sales per capita, 2012(c)', 'Mean travel time to work (minutes), workers age 16 years+, 2015-2019', 'Median household income (in 2019 dollars), 2015-2019', 'Per capita income in past 12 months (in 2019 dollars), 2015-2019', 'Persons in poverty, percent', 'Total employer establishments, 2018', 'Total employment, 2018', 'Total annual payroll, 2018 ($1,000)', 'Total employment, percent change, 2017-2018', 'Total nonemployer establishments, 2018', 'All firms, 2012', 'Men-owned firms, 2012', 'Women-owned firms, 2012', 'Minority-owned firms, 2012', 'Nonminority-owned firms, 2012', 'Veteran-owned firms, 2012', 'Nonveteran-owned firms, 2012', 'Population per square mile, 2010', 'Land area in square miles, 2010', 'FIPS Code']\n"
     ]
    }
   ],
   "source": [
    "# #Web scrapping script\n",
    "# import requests\n",
    "# from bs4 import BeautifulSoup\n",
    "# import pandas as pd\n",
    "# #get proxies list\n",
    "# state_str = 'AL,AK,AZ,AR,CA,CO,CT,DE,DC,FL,GA,HI,ID,IL,IN,IA,KS,KY,LA,ME,MD,MA,MI,MN,MS,MO,MT,NE,NV,NH,NJ,NM,NY,NC,ND,OH,OK,OR,PA,RI,SC,SD,TN,TX,UT,VT,VA,WA,WV,WI,WY'\n",
    "# state_list = state_str.split(',')\n",
    "# columns_name = []\n",
    "# state_data_list = []\n",
    "\n",
    "# for state in state_list:\n",
    "#     url = f\"https://www.census.gov/quickfacts/fact/table/{state}/PST045219\"\n",
    "#     response = requests.get(url)\n",
    "#     soup = BeautifulSoup(response.content, 'html.parser')\n",
    "#     #\"\"\"data = table data consist of header and relevant information for each state where data[even] = header, data[odd] = corresponding value\"\"\"\n",
    "#     data = soup.find_all('td')\n",
    "#     if state == 'AL':\n",
    "#         for i in range(0,len(data),2):\n",
    "#             columns_name.append(data[i].text.strip(\"\\n\"))\n",
    "#     state_data = []\n",
    "#     for i in range(0,len(data),2):\n",
    "#         state_data.append(data[i+1].text.strip(\"\\ue840\\ue83f\\n\"))\n",
    "#     state_data_list.append(state_data)\n",
    "#     print(state_data_list[0])\n",
    "#     print(columns_name)\n",
    "# data_dict = {k:v for k,v in zip(state_list,state_data_list)}\n",
    "\n",
    "# demo = pd.DataFrame(data_dict,index = columns_name)\n",
    "# demo.to_csv('statewise_data.csv')"
   ]
  },
  {
   "cell_type": "code",
   "execution_count": 93,
   "metadata": {},
   "outputs": [],
   "source": [
    "try:\n",
    "    add_data = pd.read_csv('statewise_data.csv')\n",
    "except:\n",
    "    print('Data were not downloaded!') "
   ]
  },
  {
   "cell_type": "code",
   "execution_count": 94,
   "metadata": {},
   "outputs": [],
   "source": [
    "use_cols = [        'Population estimates, July 1, 2019,  (V2019)',\n",
    "        'Population estimates, July 1, 2019,  (V2019)',\n",
    "        'Population estimates base, April 1, 2010,  (V2019)',\n",
    "        'Population, percent change - April 1, 2010 (estimates base) to July 1, 2019,  (V2019)',\n",
    "        'Population, Census, April 1, 2010',\n",
    "        'Persons under 5 years, percent',\n",
    "        'Persons under 18 years, percent',\n",
    "        'Persons 65 years and over, percent', 'Female persons, percent',\n",
    "        'White alone, percent',\n",
    "        'Black or African American alone, percent(a)',\n",
    "        'American Indian and Alaska Native alone, percent(a)',\n",
    "        'Asian alone, percent(a)',\n",
    "        'Native Hawaiian and Other Pacific Islander alone, percent(a)',\n",
    "        'Two or More Races, percent', 'Hispanic or Latino, percent(b)',\n",
    "        'White alone, not Hispanic or Latino, percent',\n",
    "        'Veterans, 2015-2019',\n",
    "        'Foreign born persons, percent, 2015-2019',\n",
    "        'Housing units,  July 1, 2019,  (V2019)',\n",
    "        'Owner-occupied housing unit rate, 2015-2019',\n",
    "        'Median value of owner-occupied housing units, 2015-2019',\n",
    "        'Median selected monthly owner costs -with a mortgage, 2015-2019',\n",
    "        'Median selected monthly owner costs -without a mortgage, 2015-2019',\n",
    "        'Median gross rent, 2015-2019', 'Building permits, 2019',\n",
    "        'Households, 2015-2019', 'Persons per household, 2015-2019',\n",
    "        'Living in same house 1 year ago, percent of persons age 1 year+, 2015-2019',\n",
    "        'Language other than English spoken at home, percent of persons age 5 years+, 2015-2019',\n",
    "        'Households with a computer, percent, 2015-2019',\n",
    "        'Households with a broadband Internet subscription, percent, 2015-2019',\n",
    "        'High school graduate or higher, percent of persons age 25 years+, 2015-2019',\n",
    "        \"Bachelor's degree or higher, percent of persons age 25 years+, 2015-2019\",\n",
    "        'With a disability, under age 65 years, percent, 2015-2019',\n",
    "        'Persons  without health insurance, under age 65 years, percent',\n",
    "        'In civilian labor force, total, percent of population age 16 years+, 2015-2019',\n",
    "        'In civilian labor force, female, percent of population age 16 years+, 2015-2019',\n",
    "        'Total accommodation and food services sales, 2012 ($1,000)(c)',\n",
    "        'Total health care and social assistance receipts/revenue, 2012 ($1,000)(c)',\n",
    "        'Total manufacturers shipments, 2012 ($1,000)(c)',\n",
    "        'Total merchant wholesaler sales, 2012 ($1,000)(c)',\n",
    "        'Total retail sales, 2012 ($1,000)(c)',\n",
    "        'Total retail sales per capita, 2012(c)',\n",
    "        'Mean travel time to work (minutes), workers age 16 years+, 2015-2019',\n",
    "        'Median household income (in 2019 dollars), 2015-2019',\n",
    "        'Per capita income in past 12 months (in 2019 dollars), 2015-2019',\n",
    "        'Persons in poverty, percent',\n",
    "        'Total employer establishments, 2018', 'Total employment, 2018',\n",
    "        'Total annual payroll, 2018 ($1,000)',\n",
    "        'Total employment, percent change, 2017-2018',\n",
    "        'Total nonemployer establishments, 2018', 'All firms, 2012',\n",
    "        'Men-owned firms, 2012', 'Women-owned firms, 2012',\n",
    "        'Minority-owned firms, 2012', 'Nonminority-owned firms, 2012',\n",
    "        'Veteran-owned firms, 2012', 'Nonveteran-owned firms, 2012',\n",
    "        'Population per square mile, 2010',\n",
    "        'Land area in square miles, 2010', 'FIPS Code']"
   ]
  },
  {
   "cell_type": "code",
   "execution_count": 95,
   "metadata": {},
   "outputs": [
    {
     "data": {
      "text/html": [
       "<div>\n",
       "<style scoped>\n",
       "    .dataframe tbody tr th:only-of-type {\n",
       "        vertical-align: middle;\n",
       "    }\n",
       "\n",
       "    .dataframe tbody tr th {\n",
       "        vertical-align: top;\n",
       "    }\n",
       "\n",
       "    .dataframe thead th {\n",
       "        text-align: right;\n",
       "    }\n",
       "</style>\n",
       "<table border=\"1\" class=\"dataframe\">\n",
       "  <thead>\n",
       "    <tr style=\"text-align: right;\">\n",
       "      <th></th>\n",
       "      <th>State/District</th>\n",
       "      <th>Postal Code</th>\n",
       "    </tr>\n",
       "  </thead>\n",
       "  <tbody>\n",
       "    <tr>\n",
       "      <th>0</th>\n",
       "      <td>Alabama</td>\n",
       "      <td>AL</td>\n",
       "    </tr>\n",
       "    <tr>\n",
       "      <th>1</th>\n",
       "      <td>Alaska</td>\n",
       "      <td>AK</td>\n",
       "    </tr>\n",
       "    <tr>\n",
       "      <th>2</th>\n",
       "      <td>Arizona</td>\n",
       "      <td>AZ</td>\n",
       "    </tr>\n",
       "    <tr>\n",
       "      <th>3</th>\n",
       "      <td>Arkansas</td>\n",
       "      <td>AR</td>\n",
       "    </tr>\n",
       "    <tr>\n",
       "      <th>4</th>\n",
       "      <td>California</td>\n",
       "      <td>CA</td>\n",
       "    </tr>\n",
       "  </tbody>\n",
       "</table>\n",
       "</div>"
      ],
      "text/plain": [
       "  State/District Postal Code\n",
       "0       Alabama           AL\n",
       "1        Alaska           AK\n",
       "2       Arizona           AZ\n",
       "3      Arkansas           AR\n",
       "4    California           CA"
      ]
     },
     "execution_count": 95,
     "metadata": {},
     "output_type": "execute_result"
    }
   ],
   "source": [
    "abb_list = pd.read_excel('../data/abb_list.xlsx')\n",
    "abb_list = abb_list.drop(columns='Abbreviation')\n",
    "abb_list.head()"
   ]
  },
  {
   "cell_type": "code",
   "execution_count": 96,
   "metadata": {},
   "outputs": [
    {
     "data": {
      "text/html": [
       "<div>\n",
       "<style scoped>\n",
       "    .dataframe tbody tr th:only-of-type {\n",
       "        vertical-align: middle;\n",
       "    }\n",
       "\n",
       "    .dataframe tbody tr th {\n",
       "        vertical-align: top;\n",
       "    }\n",
       "\n",
       "    .dataframe thead th {\n",
       "        text-align: right;\n",
       "    }\n",
       "</style>\n",
       "<table border=\"1\" class=\"dataframe\">\n",
       "  <thead>\n",
       "    <tr style=\"text-align: right;\">\n",
       "      <th></th>\n",
       "      <th>Name</th>\n",
       "      <th>Population estimates, July 1, 2019,  (V2019)</th>\n",
       "      <th>Population estimates, July 1, 2019,  (V2019)</th>\n",
       "      <th>Population estimates base, April 1, 2010,  (V2019)</th>\n",
       "      <th>Population, percent change - April 1, 2010 (estimates base) to July 1, 2019,  (V2019)</th>\n",
       "      <th>Population, Census, April 1, 2010</th>\n",
       "      <th>Persons under 5 years, percent</th>\n",
       "      <th>Persons under 18 years, percent</th>\n",
       "      <th>Persons 65 years and over, percent</th>\n",
       "      <th>Female persons, percent</th>\n",
       "      <th>...</th>\n",
       "      <th>Women-owned firms, 2012</th>\n",
       "      <th>Minority-owned firms, 2012</th>\n",
       "      <th>Nonminority-owned firms, 2012</th>\n",
       "      <th>Veteran-owned firms, 2012</th>\n",
       "      <th>Nonveteran-owned firms, 2012</th>\n",
       "      <th>Population per square mile, 2010</th>\n",
       "      <th>Land area in square miles, 2010</th>\n",
       "      <th>FIPS Code</th>\n",
       "      <th>State</th>\n",
       "      <th>Postal</th>\n",
       "    </tr>\n",
       "  </thead>\n",
       "  <tbody>\n",
       "    <tr>\n",
       "      <th>1</th>\n",
       "      <td>AL</td>\n",
       "      <td>4,903,185</td>\n",
       "      <td>4,903,185</td>\n",
       "      <td>4,780,125</td>\n",
       "      <td>2.6%</td>\n",
       "      <td>4,779,736</td>\n",
       "      <td>6.0%</td>\n",
       "      <td>22.2%</td>\n",
       "      <td>17.3%</td>\n",
       "      <td>51.7%</td>\n",
       "      <td>...</td>\n",
       "      <td>137,630</td>\n",
       "      <td>92,219</td>\n",
       "      <td>272,651</td>\n",
       "      <td>41,943</td>\n",
       "      <td>316,984</td>\n",
       "      <td>94.4</td>\n",
       "      <td>50,645.33</td>\n",
       "      <td>01</td>\n",
       "      <td>Alabama</td>\n",
       "      <td>AL</td>\n",
       "    </tr>\n",
       "    <tr>\n",
       "      <th>2</th>\n",
       "      <td>AK</td>\n",
       "      <td>731,545</td>\n",
       "      <td>731,545</td>\n",
       "      <td>710,249</td>\n",
       "      <td>3.0%</td>\n",
       "      <td>710,231</td>\n",
       "      <td>7.0%</td>\n",
       "      <td>24.6%</td>\n",
       "      <td>12.5%</td>\n",
       "      <td>47.9%</td>\n",
       "      <td>...</td>\n",
       "      <td>22,141</td>\n",
       "      <td>13,688</td>\n",
       "      <td>51,147</td>\n",
       "      <td>7,953</td>\n",
       "      <td>56,091</td>\n",
       "      <td>1.2</td>\n",
       "      <td>570,640.95</td>\n",
       "      <td>02</td>\n",
       "      <td>Alaska</td>\n",
       "      <td>AK</td>\n",
       "    </tr>\n",
       "    <tr>\n",
       "      <th>3</th>\n",
       "      <td>AZ</td>\n",
       "      <td>7,278,717</td>\n",
       "      <td>7,278,717</td>\n",
       "      <td>6,392,288</td>\n",
       "      <td>13.9%</td>\n",
       "      <td>6,392,017</td>\n",
       "      <td>5.9%</td>\n",
       "      <td>22.5%</td>\n",
       "      <td>18.0%</td>\n",
       "      <td>50.3%</td>\n",
       "      <td>...</td>\n",
       "      <td>182,425</td>\n",
       "      <td>135,313</td>\n",
       "      <td>344,981</td>\n",
       "      <td>46,780</td>\n",
       "      <td>427,582</td>\n",
       "      <td>56.3</td>\n",
       "      <td>113,594.08</td>\n",
       "      <td>04</td>\n",
       "      <td>Arizona</td>\n",
       "      <td>AZ</td>\n",
       "    </tr>\n",
       "    <tr>\n",
       "      <th>4</th>\n",
       "      <td>AR</td>\n",
       "      <td>3,017,804</td>\n",
       "      <td>3,017,804</td>\n",
       "      <td>2,916,031</td>\n",
       "      <td>3.5%</td>\n",
       "      <td>2,915,918</td>\n",
       "      <td>6.2%</td>\n",
       "      <td>23.2%</td>\n",
       "      <td>17.4%</td>\n",
       "      <td>50.9%</td>\n",
       "      <td>...</td>\n",
       "      <td>75,962</td>\n",
       "      <td>35,982</td>\n",
       "      <td>189,029</td>\n",
       "      <td>25,915</td>\n",
       "      <td>192,988</td>\n",
       "      <td>56.0</td>\n",
       "      <td>52,035.48</td>\n",
       "      <td>05</td>\n",
       "      <td>Arkansas</td>\n",
       "      <td>AR</td>\n",
       "    </tr>\n",
       "    <tr>\n",
       "      <th>5</th>\n",
       "      <td>CA</td>\n",
       "      <td>39,512,223</td>\n",
       "      <td>39,512,223</td>\n",
       "      <td>37,254,519</td>\n",
       "      <td>6.1%</td>\n",
       "      <td>37,253,956</td>\n",
       "      <td>6.0%</td>\n",
       "      <td>22.5%</td>\n",
       "      <td>14.8%</td>\n",
       "      <td>50.3%</td>\n",
       "      <td>...</td>\n",
       "      <td>1,320,085</td>\n",
       "      <td>1,619,857</td>\n",
       "      <td>1,819,107</td>\n",
       "      <td>252,377</td>\n",
       "      <td>3,176,341</td>\n",
       "      <td>239.1</td>\n",
       "      <td>155,779.22</td>\n",
       "      <td>06</td>\n",
       "      <td>California</td>\n",
       "      <td>CA</td>\n",
       "    </tr>\n",
       "  </tbody>\n",
       "</table>\n",
       "<p>5 rows × 66 columns</p>\n",
       "</div>"
      ],
      "text/plain": [
       "  Name Population estimates, July 1, 2019,  (V2019)  \\\n",
       "1   AL                                    4,903,185   \n",
       "2   AK                                      731,545   \n",
       "3   AZ                                    7,278,717   \n",
       "4   AR                                    3,017,804   \n",
       "5   CA                                   39,512,223   \n",
       "\n",
       "  Population estimates, July 1, 2019,  (V2019)  \\\n",
       "1                                    4,903,185   \n",
       "2                                      731,545   \n",
       "3                                    7,278,717   \n",
       "4                                    3,017,804   \n",
       "5                                   39,512,223   \n",
       "\n",
       "  Population estimates base, April 1, 2010,  (V2019)  \\\n",
       "1                                          4,780,125   \n",
       "2                                            710,249   \n",
       "3                                          6,392,288   \n",
       "4                                          2,916,031   \n",
       "5                                         37,254,519   \n",
       "\n",
       "  Population, percent change - April 1, 2010 (estimates base) to July 1, 2019,  (V2019)  \\\n",
       "1                                               2.6%                                      \n",
       "2                                               3.0%                                      \n",
       "3                                              13.9%                                      \n",
       "4                                               3.5%                                      \n",
       "5                                               6.1%                                      \n",
       "\n",
       "  Population, Census, April 1, 2010 Persons under 5 years, percent  \\\n",
       "1                         4,779,736                           6.0%   \n",
       "2                           710,231                           7.0%   \n",
       "3                         6,392,017                           5.9%   \n",
       "4                         2,915,918                           6.2%   \n",
       "5                        37,253,956                           6.0%   \n",
       "\n",
       "  Persons under 18 years, percent Persons 65 years and over, percent  \\\n",
       "1                           22.2%                              17.3%   \n",
       "2                           24.6%                              12.5%   \n",
       "3                           22.5%                              18.0%   \n",
       "4                           23.2%                              17.4%   \n",
       "5                           22.5%                              14.8%   \n",
       "\n",
       "  Female persons, percent  ... Women-owned firms, 2012  \\\n",
       "1                   51.7%  ...                 137,630   \n",
       "2                   47.9%  ...                  22,141   \n",
       "3                   50.3%  ...                 182,425   \n",
       "4                   50.9%  ...                  75,962   \n",
       "5                   50.3%  ...               1,320,085   \n",
       "\n",
       "  Minority-owned firms, 2012 Nonminority-owned firms, 2012  \\\n",
       "1                     92,219                       272,651   \n",
       "2                     13,688                        51,147   \n",
       "3                    135,313                       344,981   \n",
       "4                     35,982                       189,029   \n",
       "5                  1,619,857                     1,819,107   \n",
       "\n",
       "  Veteran-owned firms, 2012 Nonveteran-owned firms, 2012  \\\n",
       "1                    41,943                      316,984   \n",
       "2                     7,953                       56,091   \n",
       "3                    46,780                      427,582   \n",
       "4                    25,915                      192,988   \n",
       "5                   252,377                    3,176,341   \n",
       "\n",
       "  Population per square mile, 2010 Land area in square miles, 2010 FIPS Code  \\\n",
       "1                             94.4                       50,645.33        01   \n",
       "2                              1.2                      570,640.95        02   \n",
       "3                             56.3                      113,594.08        04   \n",
       "4                             56.0                       52,035.48        05   \n",
       "5                            239.1                      155,779.22        06   \n",
       "\n",
       "         State Postal  \n",
       "1     Alabama      AL  \n",
       "2      Alaska      AK  \n",
       "3     Arizona      AZ  \n",
       "4    Arkansas      AR  \n",
       "5  California      CA  \n",
       "\n",
       "[5 rows x 66 columns]"
      ]
     },
     "execution_count": 96,
     "metadata": {},
     "output_type": "execute_result"
    }
   ],
   "source": [
    "add_data = add_data.T.reset_index().merge(abb_list,left_on='index',right_on='Postal Code',how='outer')\n",
    "add_data.columns = add_data.columns = ['Name'] + use_cols + ['State','Postal'] \n",
    "add_data = add_data.iloc[1:,:]\n",
    "add_data.head()"
   ]
  },
  {
   "cell_type": "code",
   "execution_count": 120,
   "metadata": {},
   "outputs": [
    {
     "data": {
      "text/html": [
       "<div>\n",
       "<style scoped>\n",
       "    .dataframe tbody tr th:only-of-type {\n",
       "        vertical-align: middle;\n",
       "    }\n",
       "\n",
       "    .dataframe tbody tr th {\n",
       "        vertical-align: top;\n",
       "    }\n",
       "\n",
       "    .dataframe thead th {\n",
       "        text-align: right;\n",
       "    }\n",
       "</style>\n",
       "<table border=\"1\" class=\"dataframe\">\n",
       "  <thead>\n",
       "    <tr style=\"text-align: right;\">\n",
       "      <th></th>\n",
       "      <th>State</th>\n",
       "      <th>Population estimates, July 1, 2019,  (V2019)</th>\n",
       "      <th>Population estimates, July 1, 2019,  (V2019)</th>\n",
       "      <th>Persons under 18 years, percent</th>\n",
       "      <th>White alone, percent</th>\n",
       "      <th>Black or African American alone, percent(a)</th>\n",
       "      <th>American Indian and Alaska Native alone, percent(a)</th>\n",
       "      <th>Asian alone, percent(a)</th>\n",
       "      <th>Owner-occupied housing unit rate, 2015-2019</th>\n",
       "      <th>Persons per household, 2015-2019</th>\n",
       "      <th>Living in same house 1 year ago, percent of persons age 1 year+, 2015-2019</th>\n",
       "      <th>Households with a computer, percent, 2015-2019</th>\n",
       "      <th>Households with a broadband Internet subscription, percent, 2015-2019</th>\n",
       "      <th>Bachelor's degree or higher, percent of persons age 25 years+, 2015-2019</th>\n",
       "      <th>Mean travel time to work (minutes), workers age 16 years+, 2015-2019</th>\n",
       "      <th>Persons in poverty, percent</th>\n",
       "      <th>Total employment, percent change, 2017-2018</th>\n",
       "      <th>Population per square mile, 2010</th>\n",
       "    </tr>\n",
       "  </thead>\n",
       "  <tbody>\n",
       "    <tr>\n",
       "      <th>1</th>\n",
       "      <td>Alabama</td>\n",
       "      <td>4,903,185</td>\n",
       "      <td>4,903,185</td>\n",
       "      <td>22.2%</td>\n",
       "      <td>69.1%</td>\n",
       "      <td>26.8%</td>\n",
       "      <td>0.7%</td>\n",
       "      <td>1.5%</td>\n",
       "      <td>68.8%</td>\n",
       "      <td>2.55</td>\n",
       "      <td>86.3%</td>\n",
       "      <td>85.5%</td>\n",
       "      <td>76.4%</td>\n",
       "      <td>25.5%</td>\n",
       "      <td>24.9</td>\n",
       "      <td>15.5%</td>\n",
       "      <td>2.4%</td>\n",
       "      <td>94.4</td>\n",
       "    </tr>\n",
       "    <tr>\n",
       "      <th>2</th>\n",
       "      <td>Alaska</td>\n",
       "      <td>731,545</td>\n",
       "      <td>731,545</td>\n",
       "      <td>24.6%</td>\n",
       "      <td>65.3%</td>\n",
       "      <td>3.7%</td>\n",
       "      <td>15.6%</td>\n",
       "      <td>6.5%</td>\n",
       "      <td>64.3%</td>\n",
       "      <td>2.80</td>\n",
       "      <td>82.1%</td>\n",
       "      <td>94.1%</td>\n",
       "      <td>85.5%</td>\n",
       "      <td>29.6%</td>\n",
       "      <td>19.1</td>\n",
       "      <td>10.1%</td>\n",
       "      <td>-0.4%</td>\n",
       "      <td>1.2</td>\n",
       "    </tr>\n",
       "    <tr>\n",
       "      <th>3</th>\n",
       "      <td>Arizona</td>\n",
       "      <td>7,278,717</td>\n",
       "      <td>7,278,717</td>\n",
       "      <td>22.5%</td>\n",
       "      <td>82.6%</td>\n",
       "      <td>5.2%</td>\n",
       "      <td>5.3%</td>\n",
       "      <td>3.7%</td>\n",
       "      <td>64.4%</td>\n",
       "      <td>2.68</td>\n",
       "      <td>82.6%</td>\n",
       "      <td>91.7%</td>\n",
       "      <td>84.1%</td>\n",
       "      <td>29.5%</td>\n",
       "      <td>25.7</td>\n",
       "      <td>13.5%</td>\n",
       "      <td>4.1%</td>\n",
       "      <td>56.3</td>\n",
       "    </tr>\n",
       "    <tr>\n",
       "      <th>4</th>\n",
       "      <td>Arkansas</td>\n",
       "      <td>3,017,804</td>\n",
       "      <td>3,017,804</td>\n",
       "      <td>23.2%</td>\n",
       "      <td>79.0%</td>\n",
       "      <td>15.7%</td>\n",
       "      <td>1.0%</td>\n",
       "      <td>1.7%</td>\n",
       "      <td>65.6%</td>\n",
       "      <td>2.52</td>\n",
       "      <td>84.6%</td>\n",
       "      <td>86.2%</td>\n",
       "      <td>73.0%</td>\n",
       "      <td>23.0%</td>\n",
       "      <td>21.7</td>\n",
       "      <td>16.2%</td>\n",
       "      <td>1.2%</td>\n",
       "      <td>56.0</td>\n",
       "    </tr>\n",
       "    <tr>\n",
       "      <th>5</th>\n",
       "      <td>California</td>\n",
       "      <td>39,512,223</td>\n",
       "      <td>39,512,223</td>\n",
       "      <td>22.5%</td>\n",
       "      <td>71.9%</td>\n",
       "      <td>6.5%</td>\n",
       "      <td>1.6%</td>\n",
       "      <td>15.5%</td>\n",
       "      <td>54.8%</td>\n",
       "      <td>2.95</td>\n",
       "      <td>87.1%</td>\n",
       "      <td>93.0%</td>\n",
       "      <td>86.7%</td>\n",
       "      <td>33.9%</td>\n",
       "      <td>29.8</td>\n",
       "      <td>11.8%</td>\n",
       "      <td>2.2%</td>\n",
       "      <td>239.1</td>\n",
       "    </tr>\n",
       "  </tbody>\n",
       "</table>\n",
       "</div>"
      ],
      "text/plain": [
       "        State Population estimates, July 1, 2019,  (V2019)  \\\n",
       "1     Alabama                                    4,903,185   \n",
       "2      Alaska                                      731,545   \n",
       "3     Arizona                                    7,278,717   \n",
       "4    Arkansas                                    3,017,804   \n",
       "5  California                                   39,512,223   \n",
       "\n",
       "  Population estimates, July 1, 2019,  (V2019)  \\\n",
       "1                                    4,903,185   \n",
       "2                                      731,545   \n",
       "3                                    7,278,717   \n",
       "4                                    3,017,804   \n",
       "5                                   39,512,223   \n",
       "\n",
       "  Persons under 18 years, percent White alone, percent  \\\n",
       "1                           22.2%                69.1%   \n",
       "2                           24.6%                65.3%   \n",
       "3                           22.5%                82.6%   \n",
       "4                           23.2%                79.0%   \n",
       "5                           22.5%                71.9%   \n",
       "\n",
       "  Black or African American alone, percent(a)  \\\n",
       "1                                       26.8%   \n",
       "2                                        3.7%   \n",
       "3                                        5.2%   \n",
       "4                                       15.7%   \n",
       "5                                        6.5%   \n",
       "\n",
       "  American Indian and Alaska Native alone, percent(a) Asian alone, percent(a)  \\\n",
       "1                                               0.7%                     1.5%   \n",
       "2                                              15.6%                     6.5%   \n",
       "3                                               5.3%                     3.7%   \n",
       "4                                               1.0%                     1.7%   \n",
       "5                                               1.6%                    15.5%   \n",
       "\n",
       "  Owner-occupied housing unit rate, 2015-2019  \\\n",
       "1                                       68.8%   \n",
       "2                                       64.3%   \n",
       "3                                       64.4%   \n",
       "4                                       65.6%   \n",
       "5                                       54.8%   \n",
       "\n",
       "  Persons per household, 2015-2019  \\\n",
       "1                             2.55   \n",
       "2                             2.80   \n",
       "3                             2.68   \n",
       "4                             2.52   \n",
       "5                             2.95   \n",
       "\n",
       "  Living in same house 1 year ago, percent of persons age 1 year+, 2015-2019  \\\n",
       "1                                              86.3%                           \n",
       "2                                              82.1%                           \n",
       "3                                              82.6%                           \n",
       "4                                              84.6%                           \n",
       "5                                              87.1%                           \n",
       "\n",
       "  Households with a computer, percent, 2015-2019  \\\n",
       "1                                          85.5%   \n",
       "2                                          94.1%   \n",
       "3                                          91.7%   \n",
       "4                                          86.2%   \n",
       "5                                          93.0%   \n",
       "\n",
       "  Households with a broadband Internet subscription, percent, 2015-2019  \\\n",
       "1                                              76.4%                      \n",
       "2                                              85.5%                      \n",
       "3                                              84.1%                      \n",
       "4                                              73.0%                      \n",
       "5                                              86.7%                      \n",
       "\n",
       "  Bachelor's degree or higher, percent of persons age 25 years+, 2015-2019  \\\n",
       "1                                              25.5%                         \n",
       "2                                              29.6%                         \n",
       "3                                              29.5%                         \n",
       "4                                              23.0%                         \n",
       "5                                              33.9%                         \n",
       "\n",
       "  Mean travel time to work (minutes), workers age 16 years+, 2015-2019  \\\n",
       "1                                               24.9                     \n",
       "2                                               19.1                     \n",
       "3                                               25.7                     \n",
       "4                                               21.7                     \n",
       "5                                               29.8                     \n",
       "\n",
       "  Persons in poverty, percent Total employment, percent change, 2017-2018  \\\n",
       "1                       15.5%                                        2.4%   \n",
       "2                       10.1%                                       -0.4%   \n",
       "3                       13.5%                                        4.1%   \n",
       "4                       16.2%                                        1.2%   \n",
       "5                       11.8%                                        2.2%   \n",
       "\n",
       "  Population per square mile, 2010  \n",
       "1                             94.4  \n",
       "2                              1.2  \n",
       "3                             56.3  \n",
       "4                             56.0  \n",
       "5                            239.1  "
      ]
     },
     "execution_count": 120,
     "metadata": {},
     "output_type": "execute_result"
    }
   ],
   "source": [
    "use_cols = ['State',\n",
    "    'Population estimates, July 1, 2019,  (V2019)',\n",
    "    'Persons under 18 years, percent',\n",
    "    'White alone, percent',\n",
    "    'Black or African American alone, percent(a)',\n",
    "    'American Indian and Alaska Native alone, percent(a)',\n",
    "    'Asian alone, percent(a)',\n",
    "    'Owner-occupied housing unit rate, 2015-2019',\n",
    "    'Persons per household, 2015-2019',\n",
    "    'Living in same house 1 year ago, percent of persons age 1 year+, 2015-2019',\n",
    "    'Households with a computer, percent, 2015-2019',\n",
    "    'Households with a broadband Internet subscription, percent, 2015-2019',\n",
    "    \"Bachelor's degree or higher, percent of persons age 25 years+, 2015-2019\",\n",
    "    'Mean travel time to work (minutes), workers age 16 years+, 2015-2019',\n",
    "    'Persons in poverty, percent',\n",
    "    'Total employment, percent change, 2017-2018',\n",
    "    'Population per square mile, 2010',\n",
    "]\n",
    "add_data = add_data.loc[:,use_cols]\n",
    "add_data['State'] = add_data['State'].map(lambda x: x.strip('\\xa0'))\n",
    "add_data.head()"
   ]
  },
  {
   "cell_type": "code",
   "execution_count": 105,
   "metadata": {},
   "outputs": [
    {
     "data": {
      "text/html": [
       "<div>\n",
       "<style scoped>\n",
       "    .dataframe tbody tr th:only-of-type {\n",
       "        vertical-align: middle;\n",
       "    }\n",
       "\n",
       "    .dataframe tbody tr th {\n",
       "        vertical-align: top;\n",
       "    }\n",
       "\n",
       "    .dataframe thead th {\n",
       "        text-align: right;\n",
       "    }\n",
       "</style>\n",
       "<table border=\"1\" class=\"dataframe\">\n",
       "  <thead>\n",
       "    <tr style=\"text-align: right;\">\n",
       "      <th></th>\n",
       "      <th>state</th>\n",
       "      <th>2017</th>\n",
       "      <th>2018</th>\n",
       "      <th>2019</th>\n",
       "      <th>pct_change</th>\n",
       "      <th>income</th>\n",
       "    </tr>\n",
       "  </thead>\n",
       "  <tbody>\n",
       "    <tr>\n",
       "      <th>0</th>\n",
       "      <td>Alabama</td>\n",
       "      <td>0.05</td>\n",
       "      <td>0.06</td>\n",
       "      <td>0.07</td>\n",
       "      <td>40.000000</td>\n",
       "      <td>50536</td>\n",
       "    </tr>\n",
       "    <tr>\n",
       "      <th>1</th>\n",
       "      <td>Alaska</td>\n",
       "      <td>0.38</td>\n",
       "      <td>0.43</td>\n",
       "      <td>0.41</td>\n",
       "      <td>7.894737</td>\n",
       "      <td>77640</td>\n",
       "    </tr>\n",
       "    <tr>\n",
       "      <th>2</th>\n",
       "      <td>Arizona</td>\n",
       "      <td>0.30</td>\n",
       "      <td>0.29</td>\n",
       "      <td>0.31</td>\n",
       "      <td>3.333333</td>\n",
       "      <td>58945</td>\n",
       "    </tr>\n",
       "    <tr>\n",
       "      <th>3</th>\n",
       "      <td>Arkansas</td>\n",
       "      <td>0.03</td>\n",
       "      <td>0.05</td>\n",
       "      <td>0.06</td>\n",
       "      <td>100.000000</td>\n",
       "      <td>47597</td>\n",
       "    </tr>\n",
       "    <tr>\n",
       "      <th>4</th>\n",
       "      <td>California</td>\n",
       "      <td>0.53</td>\n",
       "      <td>0.60</td>\n",
       "      <td>0.63</td>\n",
       "      <td>18.867925</td>\n",
       "      <td>75235</td>\n",
       "    </tr>\n",
       "  </tbody>\n",
       "</table>\n",
       "</div>"
      ],
      "text/plain": [
       "        state  2017  2018  2019  pct_change  income\n",
       "0     Alabama  0.05  0.06  0.07   40.000000   50536\n",
       "1      Alaska  0.38  0.43  0.41    7.894737   77640\n",
       "2     Arizona  0.30  0.29  0.31    3.333333   58945\n",
       "3    Arkansas  0.03  0.05  0.06  100.000000   47597\n",
       "4  California  0.53  0.60  0.63   18.867925   75235"
      ]
     },
     "execution_count": 105,
     "metadata": {},
     "output_type": "execute_result"
    }
   ],
   "source": [
    "state_wise.head()"
   ]
  },
  {
   "cell_type": "code",
   "execution_count": 126,
   "metadata": {
    "scrolled": true
   },
   "outputs": [
    {
     "data": {
      "text/html": [
       "<div>\n",
       "<style scoped>\n",
       "    .dataframe tbody tr th:only-of-type {\n",
       "        vertical-align: middle;\n",
       "    }\n",
       "\n",
       "    .dataframe tbody tr th {\n",
       "        vertical-align: top;\n",
       "    }\n",
       "\n",
       "    .dataframe thead th {\n",
       "        text-align: right;\n",
       "    }\n",
       "</style>\n",
       "<table border=\"1\" class=\"dataframe\">\n",
       "  <thead>\n",
       "    <tr style=\"text-align: right;\">\n",
       "      <th></th>\n",
       "      <th>state</th>\n",
       "      <th>2017</th>\n",
       "      <th>2018</th>\n",
       "      <th>2019</th>\n",
       "      <th>pct_change</th>\n",
       "      <th>income</th>\n",
       "      <th>State</th>\n",
       "      <th>Population estimates, July 1, 2019,  (V2019)</th>\n",
       "      <th>Population estimates, July 1, 2019,  (V2019)</th>\n",
       "      <th>Persons under 18 years, percent</th>\n",
       "      <th>...</th>\n",
       "      <th>Owner-occupied housing unit rate, 2015-2019</th>\n",
       "      <th>Persons per household, 2015-2019</th>\n",
       "      <th>Living in same house 1 year ago, percent of persons age 1 year+, 2015-2019</th>\n",
       "      <th>Households with a computer, percent, 2015-2019</th>\n",
       "      <th>Households with a broadband Internet subscription, percent, 2015-2019</th>\n",
       "      <th>Bachelor's degree or higher, percent of persons age 25 years+, 2015-2019</th>\n",
       "      <th>Mean travel time to work (minutes), workers age 16 years+, 2015-2019</th>\n",
       "      <th>Persons in poverty, percent</th>\n",
       "      <th>Total employment, percent change, 2017-2018</th>\n",
       "      <th>Population per square mile, 2010</th>\n",
       "    </tr>\n",
       "  </thead>\n",
       "  <tbody>\n",
       "    <tr>\n",
       "      <th>0</th>\n",
       "      <td>Alabama</td>\n",
       "      <td>0.05</td>\n",
       "      <td>0.06</td>\n",
       "      <td>0.07</td>\n",
       "      <td>40.000000</td>\n",
       "      <td>50536</td>\n",
       "      <td>Alabama</td>\n",
       "      <td>4,903,185</td>\n",
       "      <td>4,903,185</td>\n",
       "      <td>22.2%</td>\n",
       "      <td>...</td>\n",
       "      <td>68.8%</td>\n",
       "      <td>2.55</td>\n",
       "      <td>86.3%</td>\n",
       "      <td>85.5%</td>\n",
       "      <td>76.4%</td>\n",
       "      <td>25.5%</td>\n",
       "      <td>24.9</td>\n",
       "      <td>15.5%</td>\n",
       "      <td>2.4%</td>\n",
       "      <td>94.4</td>\n",
       "    </tr>\n",
       "    <tr>\n",
       "      <th>1</th>\n",
       "      <td>Alaska</td>\n",
       "      <td>0.38</td>\n",
       "      <td>0.43</td>\n",
       "      <td>0.41</td>\n",
       "      <td>7.894737</td>\n",
       "      <td>77640</td>\n",
       "      <td>Alaska</td>\n",
       "      <td>731,545</td>\n",
       "      <td>731,545</td>\n",
       "      <td>24.6%</td>\n",
       "      <td>...</td>\n",
       "      <td>64.3%</td>\n",
       "      <td>2.80</td>\n",
       "      <td>82.1%</td>\n",
       "      <td>94.1%</td>\n",
       "      <td>85.5%</td>\n",
       "      <td>29.6%</td>\n",
       "      <td>19.1</td>\n",
       "      <td>10.1%</td>\n",
       "      <td>-0.4%</td>\n",
       "      <td>1.2</td>\n",
       "    </tr>\n",
       "    <tr>\n",
       "      <th>2</th>\n",
       "      <td>Arizona</td>\n",
       "      <td>0.30</td>\n",
       "      <td>0.29</td>\n",
       "      <td>0.31</td>\n",
       "      <td>3.333333</td>\n",
       "      <td>58945</td>\n",
       "      <td>Arizona</td>\n",
       "      <td>7,278,717</td>\n",
       "      <td>7,278,717</td>\n",
       "      <td>22.5%</td>\n",
       "      <td>...</td>\n",
       "      <td>64.4%</td>\n",
       "      <td>2.68</td>\n",
       "      <td>82.6%</td>\n",
       "      <td>91.7%</td>\n",
       "      <td>84.1%</td>\n",
       "      <td>29.5%</td>\n",
       "      <td>25.7</td>\n",
       "      <td>13.5%</td>\n",
       "      <td>4.1%</td>\n",
       "      <td>56.3</td>\n",
       "    </tr>\n",
       "    <tr>\n",
       "      <th>3</th>\n",
       "      <td>Arkansas</td>\n",
       "      <td>0.03</td>\n",
       "      <td>0.05</td>\n",
       "      <td>0.06</td>\n",
       "      <td>100.000000</td>\n",
       "      <td>47597</td>\n",
       "      <td>Arkansas</td>\n",
       "      <td>3,017,804</td>\n",
       "      <td>3,017,804</td>\n",
       "      <td>23.2%</td>\n",
       "      <td>...</td>\n",
       "      <td>65.6%</td>\n",
       "      <td>2.52</td>\n",
       "      <td>84.6%</td>\n",
       "      <td>86.2%</td>\n",
       "      <td>73.0%</td>\n",
       "      <td>23.0%</td>\n",
       "      <td>21.7</td>\n",
       "      <td>16.2%</td>\n",
       "      <td>1.2%</td>\n",
       "      <td>56.0</td>\n",
       "    </tr>\n",
       "    <tr>\n",
       "      <th>4</th>\n",
       "      <td>California</td>\n",
       "      <td>0.53</td>\n",
       "      <td>0.60</td>\n",
       "      <td>0.63</td>\n",
       "      <td>18.867925</td>\n",
       "      <td>75235</td>\n",
       "      <td>California</td>\n",
       "      <td>39,512,223</td>\n",
       "      <td>39,512,223</td>\n",
       "      <td>22.5%</td>\n",
       "      <td>...</td>\n",
       "      <td>54.8%</td>\n",
       "      <td>2.95</td>\n",
       "      <td>87.1%</td>\n",
       "      <td>93.0%</td>\n",
       "      <td>86.7%</td>\n",
       "      <td>33.9%</td>\n",
       "      <td>29.8</td>\n",
       "      <td>11.8%</td>\n",
       "      <td>2.2%</td>\n",
       "      <td>239.1</td>\n",
       "    </tr>\n",
       "  </tbody>\n",
       "</table>\n",
       "<p>5 rows × 24 columns</p>\n",
       "</div>"
      ],
      "text/plain": [
       "        state  2017  2018  2019  pct_change  income       State  \\\n",
       "0     Alabama  0.05  0.06  0.07   40.000000   50536     Alabama   \n",
       "1      Alaska  0.38  0.43  0.41    7.894737   77640      Alaska   \n",
       "2     Arizona  0.30  0.29  0.31    3.333333   58945     Arizona   \n",
       "3    Arkansas  0.03  0.05  0.06  100.000000   47597    Arkansas   \n",
       "4  California  0.53  0.60  0.63   18.867925   75235  California   \n",
       "\n",
       "  Population estimates, July 1, 2019,  (V2019)  \\\n",
       "0                                    4,903,185   \n",
       "1                                      731,545   \n",
       "2                                    7,278,717   \n",
       "3                                    3,017,804   \n",
       "4                                   39,512,223   \n",
       "\n",
       "  Population estimates, July 1, 2019,  (V2019)  \\\n",
       "0                                    4,903,185   \n",
       "1                                      731,545   \n",
       "2                                    7,278,717   \n",
       "3                                    3,017,804   \n",
       "4                                   39,512,223   \n",
       "\n",
       "  Persons under 18 years, percent  ...  \\\n",
       "0                           22.2%  ...   \n",
       "1                           24.6%  ...   \n",
       "2                           22.5%  ...   \n",
       "3                           23.2%  ...   \n",
       "4                           22.5%  ...   \n",
       "\n",
       "  Owner-occupied housing unit rate, 2015-2019  \\\n",
       "0                                       68.8%   \n",
       "1                                       64.3%   \n",
       "2                                       64.4%   \n",
       "3                                       65.6%   \n",
       "4                                       54.8%   \n",
       "\n",
       "  Persons per household, 2015-2019  \\\n",
       "0                             2.55   \n",
       "1                             2.80   \n",
       "2                             2.68   \n",
       "3                             2.52   \n",
       "4                             2.95   \n",
       "\n",
       "  Living in same house 1 year ago, percent of persons age 1 year+, 2015-2019  \\\n",
       "0                                              86.3%                           \n",
       "1                                              82.1%                           \n",
       "2                                              82.6%                           \n",
       "3                                              84.6%                           \n",
       "4                                              87.1%                           \n",
       "\n",
       "  Households with a computer, percent, 2015-2019  \\\n",
       "0                                          85.5%   \n",
       "1                                          94.1%   \n",
       "2                                          91.7%   \n",
       "3                                          86.2%   \n",
       "4                                          93.0%   \n",
       "\n",
       "  Households with a broadband Internet subscription, percent, 2015-2019  \\\n",
       "0                                              76.4%                      \n",
       "1                                              85.5%                      \n",
       "2                                              84.1%                      \n",
       "3                                              73.0%                      \n",
       "4                                              86.7%                      \n",
       "\n",
       "  Bachelor's degree or higher, percent of persons age 25 years+, 2015-2019  \\\n",
       "0                                              25.5%                         \n",
       "1                                              29.6%                         \n",
       "2                                              29.5%                         \n",
       "3                                              23.0%                         \n",
       "4                                              33.9%                         \n",
       "\n",
       "  Mean travel time to work (minutes), workers age 16 years+, 2015-2019  \\\n",
       "0                                               24.9                     \n",
       "1                                               19.1                     \n",
       "2                                               25.7                     \n",
       "3                                               21.7                     \n",
       "4                                               29.8                     \n",
       "\n",
       "  Persons in poverty, percent Total employment, percent change, 2017-2018  \\\n",
       "0                       15.5%                                        2.4%   \n",
       "1                       10.1%                                       -0.4%   \n",
       "2                       13.5%                                        4.1%   \n",
       "3                       16.2%                                        1.2%   \n",
       "4                       11.8%                                        2.2%   \n",
       "\n",
       "  Population per square mile, 2010  \n",
       "0                             94.4  \n",
       "1                              1.2  \n",
       "2                             56.3  \n",
       "3                             56.0  \n",
       "4                            239.1  \n",
       "\n",
       "[5 rows x 24 columns]"
      ]
     },
     "execution_count": 126,
     "metadata": {},
     "output_type": "execute_result"
    }
   ],
   "source": [
    "state_wise_data = pd.merge(state_wise,add_data,left_on='state',right_on='State')\n",
    "state_wise_data.head()"
   ]
  },
  {
   "cell_type": "code",
   "execution_count": null,
   "metadata": {},
   "outputs": [],
   "source": []
  },
  {
   "cell_type": "markdown",
   "metadata": {},
   "source": [
    "## Conclusions and Recommendations"
   ]
  },
  {
   "cell_type": "markdown",
   "metadata": {},
   "source": [
    "Based on your exploration of the data, what are you key takeaways and recommendations? Make sure to answer your question of interest or address your problem statement here."
   ]
  },
  {
   "cell_type": "markdown",
   "metadata": {},
   "source": [
    "**To-Do:** *Edit this cell with your conclusions and recommendations.*"
   ]
  },
  {
   "cell_type": "markdown",
   "metadata": {},
   "source": [
    "Don't forget to create your README!\n",
    "\n",
    "**To-Do:** *If you combine your problem statement, data dictionary, brief summary of your analysis, and conclusions/recommendations, you have an amazing README.md file that quickly aligns your audience to the contents of your project.* Don't forget to cite your data sources!"
   ]
  }
 ],
 "metadata": {
  "anaconda-cloud": {},
  "hide_input": false,
  "kernelspec": {
   "display_name": "Python 3",
   "language": "python",
   "name": "python3"
  },
  "language_info": {
   "codemirror_mode": {
    "name": "ipython",
    "version": 3
   },
   "file_extension": ".py",
   "mimetype": "text/x-python",
   "name": "python",
   "nbconvert_exporter": "python",
   "pygments_lexer": "ipython3",
   "version": "3.8.5"
  },
  "toc": {
   "base_numbering": 1,
   "nav_menu": {},
   "number_sections": false,
   "sideBar": true,
   "skip_h1_title": false,
   "title_cell": "Table of Contents",
   "title_sidebar": "Contents",
   "toc_cell": false,
   "toc_position": {
    "height": "calc(100% - 180px)",
    "left": "10px",
    "top": "150px",
    "width": "384px"
   },
   "toc_section_display": true,
   "toc_window_display": true
  },
  "varInspector": {
   "cols": {
    "lenName": 16,
    "lenType": 16,
    "lenVar": 40
   },
   "kernels_config": {
    "python": {
     "delete_cmd_postfix": "",
     "delete_cmd_prefix": "del ",
     "library": "var_list.py",
     "varRefreshCmd": "print(var_dic_list())"
    },
    "r": {
     "delete_cmd_postfix": ") ",
     "delete_cmd_prefix": "rm(",
     "library": "var_list.r",
     "varRefreshCmd": "cat(var_dic_list()) "
    }
   },
   "types_to_exclude": [
    "module",
    "function",
    "builtin_function_or_method",
    "instance",
    "_Feature"
   ],
   "window_display": false
  }
 },
 "nbformat": 4,
 "nbformat_minor": 4
}
